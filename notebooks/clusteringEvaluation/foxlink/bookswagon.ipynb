{
 "cells": [
  {
   "cell_type": "markdown",
   "metadata": {},
   "source": [
    "# Foxlink's clustering algorithm evaluation\n",
    "Evaluating Foxlink's clustering algorithm on bookdepository.com pages. The aim is to calculate precision and recall for \"book details\" cluster and the \"catalog\" cluster in blackwells.co.uk."
   ]
  },
  {
   "cell_type": "code",
   "execution_count": 1,
   "metadata": {},
   "outputs": [
    {
     "data": {
      "text/plain": [
       "'../../../datasets/bookswagon.csv'"
      ]
     },
     "execution_count": 1,
     "metadata": {},
     "output_type": "execute_result"
    }
   ],
   "source": [
    "%matplotlib inline\n",
    "# Importing libraries\n",
    "import matplotlib.pyplot as plt\n",
    "import pandas as pd\n",
    "\n",
    "FILEPATH = '../../../datasets/bookswagon.csv'\n",
    "FILEPATH"
   ]
  },
  {
   "cell_type": "code",
   "execution_count": 2,
   "metadata": {},
   "outputs": [],
   "source": [
    "df = pd.read_csv(FILEPATH)"
   ]
  },
  {
   "cell_type": "markdown",
   "metadata": {},
   "source": [
    "## Data analisys\n",
    "Some preliminary analisys of the dataset"
   ]
  },
  {
   "cell_type": "code",
   "execution_count": 3,
   "metadata": {},
   "outputs": [
    {
     "name": "stdout",
     "output_type": "stream",
     "text": [
      "First 5 rows\n",
      "------------\n"
     ]
    },
    {
     "data": {
      "text/html": [
       "<div>\n",
       "<style scoped>\n",
       "    .dataframe tbody tr th:only-of-type {\n",
       "        vertical-align: middle;\n",
       "    }\n",
       "\n",
       "    .dataframe tbody tr th {\n",
       "        vertical-align: top;\n",
       "    }\n",
       "\n",
       "    .dataframe thead th {\n",
       "        text-align: right;\n",
       "    }\n",
       "</style>\n",
       "<table border=\"1\" class=\"dataframe\">\n",
       "  <thead>\n",
       "    <tr style=\"text-align: right;\">\n",
       "      <th></th>\n",
       "      <th>url</th>\n",
       "      <th>referer_url</th>\n",
       "      <th>src</th>\n",
       "      <th>shingle_vector</th>\n",
       "      <th>label</th>\n",
       "    </tr>\n",
       "  </thead>\n",
       "  <tbody>\n",
       "    <tr>\n",
       "      <th>0</th>\n",
       "      <td>https://www.bookswagon.com/</td>\n",
       "      <td>https://www.bookswagon.com/</td>\n",
       "      <td>\\r\\n&lt;!DOCTYPE html PUBLIC \"-//W3C//DTD XHTML 1...</td>\n",
       "      <td>(0, 3, 6, 4, 0, 2, 10, 1)</td>\n",
       "      <td>NaN</td>\n",
       "    </tr>\n",
       "    <tr>\n",
       "      <th>1</th>\n",
       "      <td>https://www.bookswagon.com/view-books/0/new-ar...</td>\n",
       "      <td>https://www.bookswagon.com/</td>\n",
       "      <td>\\r\\n&lt;!DOCTYPE html PUBLIC \"-//W3C//DTD XHTML 1...</td>\n",
       "      <td>(1, 3, 6, 4, 0, 2, 5, 1)</td>\n",
       "      <td>list</td>\n",
       "    </tr>\n",
       "    <tr>\n",
       "      <th>2</th>\n",
       "      <td>https://www.bookswagon.com/travel-holiday-books</td>\n",
       "      <td>https://www.bookswagon.com/</td>\n",
       "      <td>\\r\\n&lt;!DOCTYPE html PUBLIC \"-//W3C//DTD XHTML 1...</td>\n",
       "      <td>(1, 3, 6, 4, 0, 2, 5, 1)</td>\n",
       "      <td>list</td>\n",
       "    </tr>\n",
       "    <tr>\n",
       "      <th>3</th>\n",
       "      <td>https://www.bookswagon.com/all-categories/1000-0</td>\n",
       "      <td>https://www.bookswagon.com/</td>\n",
       "      <td>\\r\\n&lt;!DOCTYPE html PUBLIC \"-//W3C//DTD XHTML 1...</td>\n",
       "      <td>(7, 3, 3, 4, 0, 2, 10, 1)</td>\n",
       "      <td>NaN</td>\n",
       "    </tr>\n",
       "    <tr>\n",
       "      <th>4</th>\n",
       "      <td>https://www.bookswagon.com/view-books/4/textbook</td>\n",
       "      <td>https://www.bookswagon.com/</td>\n",
       "      <td>\\r\\n&lt;!DOCTYPE html PUBLIC \"-//W3C//DTD XHTML 1...</td>\n",
       "      <td>(1, 3, 6, 4, 0, 2, 5, 1)</td>\n",
       "      <td>list</td>\n",
       "    </tr>\n",
       "  </tbody>\n",
       "</table>\n",
       "</div>"
      ],
      "text/plain": [
       "                                                 url  \\\n",
       "0                        https://www.bookswagon.com/   \n",
       "1  https://www.bookswagon.com/view-books/0/new-ar...   \n",
       "2    https://www.bookswagon.com/travel-holiday-books   \n",
       "3   https://www.bookswagon.com/all-categories/1000-0   \n",
       "4   https://www.bookswagon.com/view-books/4/textbook   \n",
       "\n",
       "                   referer_url  \\\n",
       "0  https://www.bookswagon.com/   \n",
       "1  https://www.bookswagon.com/   \n",
       "2  https://www.bookswagon.com/   \n",
       "3  https://www.bookswagon.com/   \n",
       "4  https://www.bookswagon.com/   \n",
       "\n",
       "                                                 src  \\\n",
       "0  \\r\\n<!DOCTYPE html PUBLIC \"-//W3C//DTD XHTML 1...   \n",
       "1  \\r\\n<!DOCTYPE html PUBLIC \"-//W3C//DTD XHTML 1...   \n",
       "2  \\r\\n<!DOCTYPE html PUBLIC \"-//W3C//DTD XHTML 1...   \n",
       "3  \\r\\n<!DOCTYPE html PUBLIC \"-//W3C//DTD XHTML 1...   \n",
       "4  \\r\\n<!DOCTYPE html PUBLIC \"-//W3C//DTD XHTML 1...   \n",
       "\n",
       "              shingle_vector label  \n",
       "0  (0, 3, 6, 4, 0, 2, 10, 1)   NaN  \n",
       "1   (1, 3, 6, 4, 0, 2, 5, 1)  list  \n",
       "2   (1, 3, 6, 4, 0, 2, 5, 1)  list  \n",
       "3  (7, 3, 3, 4, 0, 2, 10, 1)   NaN  \n",
       "4   (1, 3, 6, 4, 0, 2, 5, 1)  list  "
      ]
     },
     "execution_count": 3,
     "metadata": {},
     "output_type": "execute_result"
    }
   ],
   "source": [
    "print(\"First 5 rows\")\n",
    "print(\"------------\")\n",
    "df.head()"
   ]
  },
  {
   "cell_type": "code",
   "execution_count": 4,
   "metadata": {},
   "outputs": [
    {
     "name": "stdout",
     "output_type": "stream",
     "text": [
      "No. of rows and columns\n",
      "-----------------------\n"
     ]
    },
    {
     "data": {
      "text/plain": [
       "(4447, 5)"
      ]
     },
     "execution_count": 4,
     "metadata": {},
     "output_type": "execute_result"
    }
   ],
   "source": [
    "print(\"No. of rows and columns\")\n",
    "print(\"-----------------------\")\n",
    "df.shape"
   ]
  },
  {
   "cell_type": "code",
   "execution_count": 5,
   "metadata": {},
   "outputs": [
    {
     "name": "stdout",
     "output_type": "stream",
     "text": [
      "Check null values\n",
      "-----------------\n"
     ]
    },
    {
     "data": {
      "text/plain": [
       "True"
      ]
     },
     "execution_count": 5,
     "metadata": {},
     "output_type": "execute_result"
    }
   ],
   "source": [
    "print(\"Check null values\")\n",
    "print(\"-----------------\")\n",
    "df.isnull().any().any()"
   ]
  },
  {
   "cell_type": "code",
   "execution_count": 6,
   "metadata": {},
   "outputs": [
    {
     "name": "stdout",
     "output_type": "stream",
     "text": [
      "Check duplicate values\n",
      "----------------------\n"
     ]
    },
    {
     "data": {
      "text/plain": [
       "False"
      ]
     },
     "execution_count": 6,
     "metadata": {},
     "output_type": "execute_result"
    }
   ],
   "source": [
    "print(\"Check duplicate values\")\n",
    "print(\"----------------------\")\n",
    "len(df['url'].unique()) != df.shape[0]"
   ]
  },
  {
   "cell_type": "code",
   "execution_count": 7,
   "metadata": {},
   "outputs": [
    {
     "name": "stdout",
     "output_type": "stream",
     "text": [
      "DataFrame column types\n",
      "----------------------\n",
      "<class 'pandas.core.frame.DataFrame'>\n",
      "RangeIndex: 4447 entries, 0 to 4446\n",
      "Data columns (total 5 columns):\n",
      "url               4447 non-null object\n",
      "referer_url       4447 non-null object\n",
      "src               4447 non-null object\n",
      "shingle_vector    4447 non-null object\n",
      "label             2842 non-null object\n",
      "dtypes: object(5)\n",
      "memory usage: 173.8+ KB\n"
     ]
    }
   ],
   "source": [
    "print(\"DataFrame column types\")\n",
    "print(\"----------------------\")\n",
    "df.info()"
   ]
  },
  {
   "cell_type": "code",
   "execution_count": 8,
   "metadata": {},
   "outputs": [
    {
     "name": "stdout",
     "output_type": "stream",
     "text": [
      "Some stats\n",
      "----------------\n"
     ]
    },
    {
     "data": {
      "text/html": [
       "<div>\n",
       "<style scoped>\n",
       "    .dataframe tbody tr th:only-of-type {\n",
       "        vertical-align: middle;\n",
       "    }\n",
       "\n",
       "    .dataframe tbody tr th {\n",
       "        vertical-align: top;\n",
       "    }\n",
       "\n",
       "    .dataframe thead th {\n",
       "        text-align: right;\n",
       "    }\n",
       "</style>\n",
       "<table border=\"1\" class=\"dataframe\">\n",
       "  <thead>\n",
       "    <tr style=\"text-align: right;\">\n",
       "      <th></th>\n",
       "      <th>url</th>\n",
       "      <th>referer_url</th>\n",
       "      <th>src</th>\n",
       "      <th>shingle_vector</th>\n",
       "      <th>label</th>\n",
       "    </tr>\n",
       "  </thead>\n",
       "  <tbody>\n",
       "    <tr>\n",
       "      <th>count</th>\n",
       "      <td>4447</td>\n",
       "      <td>4447</td>\n",
       "      <td>4447</td>\n",
       "      <td>4447</td>\n",
       "      <td>2842</td>\n",
       "    </tr>\n",
       "    <tr>\n",
       "      <th>unique</th>\n",
       "      <td>4447</td>\n",
       "      <td>2192</td>\n",
       "      <td>4447</td>\n",
       "      <td>26</td>\n",
       "      <td>2</td>\n",
       "    </tr>\n",
       "    <tr>\n",
       "      <th>top</th>\n",
       "      <td>https://www.bookswagon.com/shoppingcart.aspx?&amp;...</td>\n",
       "      <td>https://www.bookswagon.com/</td>\n",
       "      <td>\\r\\n&lt;!DOCTYPE html PUBLIC \"-//W3C//DTD XHTML 1...</td>\n",
       "      <td>(0, 2, 5, 0, 0, 0, 6, 1)</td>\n",
       "      <td>product</td>\n",
       "    </tr>\n",
       "    <tr>\n",
       "      <th>freq</th>\n",
       "      <td>1</td>\n",
       "      <td>18</td>\n",
       "      <td>1</td>\n",
       "      <td>1762</td>\n",
       "      <td>2323</td>\n",
       "    </tr>\n",
       "  </tbody>\n",
       "</table>\n",
       "</div>"
      ],
      "text/plain": [
       "                                                      url  \\\n",
       "count                                                4447   \n",
       "unique                                               4447   \n",
       "top     https://www.bookswagon.com/shoppingcart.aspx?&...   \n",
       "freq                                                    1   \n",
       "\n",
       "                        referer_url  \\\n",
       "count                          4447   \n",
       "unique                         2192   \n",
       "top     https://www.bookswagon.com/   \n",
       "freq                             18   \n",
       "\n",
       "                                                      src  \\\n",
       "count                                                4447   \n",
       "unique                                               4447   \n",
       "top     \\r\\n<!DOCTYPE html PUBLIC \"-//W3C//DTD XHTML 1...   \n",
       "freq                                                    1   \n",
       "\n",
       "                  shingle_vector    label  \n",
       "count                       4447     2842  \n",
       "unique                        26        2  \n",
       "top     (0, 2, 5, 0, 0, 0, 6, 1)  product  \n",
       "freq                        1762     2323  "
      ]
     },
     "execution_count": 8,
     "metadata": {},
     "output_type": "execute_result"
    }
   ],
   "source": [
    "print(\"Some stats\")\n",
    "print(\"----------------\")\n",
    "df.describe()"
   ]
  },
  {
   "cell_type": "code",
   "execution_count": 9,
   "metadata": {},
   "outputs": [
    {
     "name": "stdout",
     "output_type": "stream",
     "text": [
      "There are 1605 row with no label\n",
      "There are 2323 row with product label\n",
      "There are 519 row with list label\n"
     ]
    }
   ],
   "source": [
    "fmt_string = 'There are {} row with {} label'\n",
    "print(fmt_string.format(len(df[df['label'].isnull()]),'no'))\n",
    "print(fmt_string.format(len(df[df['label']=='product']), 'product'))\n",
    "print(fmt_string.format(len(df[df['label']=='list']), 'list'))"
   ]
  },
  {
   "cell_type": "markdown",
   "metadata": {},
   "source": [
    "## Run Foxlink's clustering algorithm"
   ]
  },
  {
   "cell_type": "code",
   "execution_count": 10,
   "metadata": {},
   "outputs": [],
   "source": [
    "#add top level folder to sys.path\n",
    "import sys\n",
    "sys.path.append('../../../')"
   ]
  },
  {
   "cell_type": "code",
   "execution_count": 11,
   "metadata": {},
   "outputs": [],
   "source": [
    "from foxlink_clustering.clustering.structural_clustering import structural_clustering\n",
    "\n",
    "clusters = structural_clustering(df)"
   ]
  },
  {
   "cell_type": "code",
   "execution_count": 12,
   "metadata": {},
   "outputs": [
    {
     "data": {
      "text/plain": [
       "4"
      ]
     },
     "execution_count": 12,
     "metadata": {},
     "output_type": "execute_result"
    }
   ],
   "source": [
    "len(clusters)"
   ]
  },
  {
   "cell_type": "markdown",
   "metadata": {},
   "source": [
    "So Foxlink's clustering algorithm discovered 4 clusters. Let's see how many pages contains each cluster"
   ]
  },
  {
   "cell_type": "code",
   "execution_count": 13,
   "metadata": {
    "scrolled": true
   },
   "outputs": [
    {
     "name": "stdout",
     "output_type": "stream",
     "text": [
      "cluster n. 1 has 607 pages\n",
      "cluster n. 2 has 838 pages\n",
      "cluster n. 3 has 2323 pages\n",
      "cluster n. 4 has 662 pages\n",
      "\n",
      "4430 pages were clustered using Foxlink's clustering algorithm. 17 pages were discarded\n"
     ]
    }
   ],
   "source": [
    "cluster_fmt = 'cluster n. {} has {} pages'\n",
    "noOfPages = 0\n",
    "for index, cluster in enumerate(clusters):\n",
    "    clusterSize = len(cluster[1])\n",
    "    print(cluster_fmt.format(index +1 , clusterSize))\n",
    "    noOfPages += clusterSize\n",
    "print()\n",
    "print('{} pages were clustered using Foxlink\\'s clustering algorithm. {} pages were discarded'.format(noOfPages, len(df.index) - noOfPages))\n",
    "    "
   ]
  },
  {
   "cell_type": "code",
   "execution_count": 19,
   "metadata": {},
   "outputs": [
    {
     "name": "stdout",
     "output_type": "stream",
     "text": [
      "https://www.bookswagon.com/\n",
      "https://www.bookswagon.com/home\n",
      "https://www.bookswagon.com/publishers\n",
      "https://www.bookswagon.com/view-books/0/new-arrivals\n",
      "https://www.bookswagon.com/travel-holiday-books\n",
      "https://www.bookswagon.com/view-books/4/textbook\n",
      "https://www.bookswagon.com/view-books/3/coming-soon-pre-order-now\n",
      "https://www.bookswagon.com/sports-books\n",
      "https://www.bookswagon.com/view-books/5/award-winners\n",
      "https://www.bookswagon.com/self-help-personal-development-books\n",
      "https://www.bookswagon.com/science-mathematics-books\n",
      "https://www.bookswagon.com/view-books/1/top-selling-books\n",
      "https://www.bookswagon.com/technology-engineering-books\n",
      "https://www.bookswagon.com/personal-social-issues-books\n",
      "https://www.bookswagon.com/society-social-sciences-books\n"
     ]
    }
   ],
   "source": [
    "for i in range(15):\n",
    "    print(clusters[0][1][i])"
   ]
  },
  {
   "cell_type": "code",
   "execution_count": 15,
   "metadata": {},
   "outputs": [
    {
     "name": "stdout",
     "output_type": "stream",
     "text": [
      "https://www.bookswagon.com/shoppingcart.aspx?pid=26677150&vid=11&ptype=1\n",
      "https://www.bookswagon.com/shoppingcart.aspx?&pid=10341972&vid=51&ptype=1\n",
      "https://www.bookswagon.com/shoppingcart.aspx?&pid=12363363&vid=179&ptype=1\n",
      "https://www.bookswagon.com/shoppingcart.aspx?&pid=23020162&vid=63&ptype=1\n",
      "https://www.bookswagon.com/shoppingcart.aspx?ptype=1\n",
      "https://www.bookswagon.com/shoppingcart.aspx?&pid=143772&vid=10&ptype=1\n",
      "https://www.bookswagon.com/shoppingcart.aspx?pid=864509&vid=142&ptype=1\n",
      "https://www.bookswagon.com/shoppingcart.aspx?pid=2823305&vid=220&ptype=1\n",
      "https://www.bookswagon.com/shoppingcart.aspx?pid=2859520&vid=220&ptype=1\n",
      "https://www.bookswagon.com/shoppingcart.aspx?pid=3665910&vid=220&ptype=1\n"
     ]
    }
   ],
   "source": [
    "for i in range(10):\n",
    "    print(clusters[1][1][i])"
   ]
  },
  {
   "cell_type": "code",
   "execution_count": 16,
   "metadata": {},
   "outputs": [
    {
     "name": "stdout",
     "output_type": "stream",
     "text": [
      "https://www.bookswagon.com/book/rgive-design-henry-petroski/9780674065840\n",
      "https://www.bookswagon.com/book/cambodia-brian-fawcett/9780020321507\n",
      "https://www.bookswagon.com/book/rgive-design-henry-petroski/9780674416826\n",
      "https://www.bookswagon.com/book/rgive-design-henry-petroski/9781511399906\n",
      "https://www.bookswagon.com/book/success-through-failure-henry-petroski/9780691180991\n",
      "https://www.bookswagon.com/book/too-much-tv-bob-reese/9781617418150\n",
      "https://www.bookswagon.com/book/too-much-tv-gladys-moreta/9781627170642\n",
      "https://www.bookswagon.com/book/old-new-york-dodo-press/9781406573497\n",
      "https://www.bookswagon.com/book/success-through-failure-henry-petroski/9780691136424\n",
      "https://www.bookswagon.com/book/summer-dodo-press-edith-wharton/9781406566154\n"
     ]
    }
   ],
   "source": [
    "for i in range(10):\n",
    "    print(clusters[2][1][i])"
   ]
  },
  {
   "cell_type": "code",
   "execution_count": 17,
   "metadata": {},
   "outputs": [
    {
     "name": "stdout",
     "output_type": "stream",
     "text": [
      "https://www.bookswagon.com/review/too-much-tv-gladys-moreta/9781627170642\n",
      "https://www.bookswagon.com/review/afterward-dodo-press-edith-wharton/9781409915409\n",
      "https://www.bookswagon.com/review/summer-dodo-press-edith-wharton/9781406566154\n",
      "https://www.bookswagon.com/review/age-innocence-edith-wharton/9781791669669\n",
      "https://www.bookswagon.com/review/too-much-tv-gladys-moreta/9781612360195\n",
      "https://www.bookswagon.com/review/erenstain-bears-too-much-tv/9780812413892\n",
      "https://www.bookswagon.com/review/narrative-arthur-gordon-pym-nantucket/9781536929416\n",
      "https://www.bookswagon.com/review/erenstain-bears-too-much-birthday/9780394873329\n",
      "https://www.bookswagon.com/review/age-innocence-edith-wharton/9781973944355\n",
      "https://www.bookswagon.com/review/dirk-gentlys-holistic-detective-agency/9785512320303\n"
     ]
    }
   ],
   "source": [
    "for i in range(10):\n",
    "    print(clusters[3][1][i])"
   ]
  },
  {
   "cell_type": "markdown",
   "metadata": {},
   "source": [
    "It seems that the pages which belongs to the \"product\" template are contained in the third cluster while the first cluster contains pages which belongs to the \"list\" template"
   ]
  },
  {
   "cell_type": "markdown",
   "metadata": {},
   "source": [
    "## Calculate precision and recall\n",
    "Calculate precision and recall considering the entire dataset. We use the first cluster to evaluate precision and recall for the \"product\" cluster and the fourth cluster for the \"list\" template:"
   ]
  },
  {
   "cell_type": "code",
   "execution_count": 20,
   "metadata": {},
   "outputs": [],
   "source": [
    "def evaluate_precision_and_recall(dataFrame, cluster, label):\n",
    "    urlsFromCluster = cluster[1]\n",
    "    pages_retrieved_for_query = len(urlsFromCluster)\n",
    "    true_positive = 0\n",
    "    all_positives = len(dataFrame[dataFrame['label']==label])\n",
    "    for url in urlsFromCluster:\n",
    "        matchingRow  = dataFrame[dataFrame['url'] == url][['url','label']].iloc[0]\n",
    "        if matchingRow['label'] == label:\n",
    "            true_positive += 1\n",
    "        \n",
    "    recall = true_positive/all_positives\n",
    "    precision = true_positive/pages_retrieved_for_query\n",
    "    return (recall, precision)"
   ]
  },
  {
   "cell_type": "markdown",
   "metadata": {},
   "source": [
    "Calculating recall and precision for the \"product\" and the \"list\" template"
   ]
  },
  {
   "cell_type": "code",
   "execution_count": 21,
   "metadata": {},
   "outputs": [],
   "source": [
    "productRecall, productPrecision = evaluate_precision_and_recall(df, clusters[2], 'product')\n",
    "catalogRecall, catalogPrecision = evaluate_precision_and_recall(df, clusters[0], 'list')"
   ]
  },
  {
   "cell_type": "code",
   "execution_count": 22,
   "metadata": {},
   "outputs": [
    {
     "name": "stdout",
     "output_type": "stream",
     "text": [
      "+---------+--------+-----------+\n",
      "|    -    | Recall | Precision |\n",
      "+---------+--------+-----------+\n",
      "| Product |  1.0 |     1.0 |\n",
      "| List    |  0.998 |     0.853 |\n",
      "+---------+--------+-----------+\n"
     ]
    }
   ],
   "source": [
    "print(\"+---------+--------+-----------+\")\n",
    "print(\"|    -    | Recall | Precision |\")\n",
    "print(\"+---------+--------+-----------+\")\n",
    "print(\"| {} |  {} |     {} |\".format('Product', round(productRecall,3), round(productPrecision,3)))\n",
    "print(\"| {}    |  {} |     {} |\".format('List', round(catalogRecall,3), round(catalogPrecision,3)))\n",
    "print(\"+---------+--------+-----------+\")"
   ]
  }
 ],
 "metadata": {
  "kernelspec": {
   "display_name": "Python 3",
   "language": "python",
   "name": "python3"
  },
  "language_info": {
   "codemirror_mode": {
    "name": "ipython",
    "version": 3
   },
   "file_extension": ".py",
   "mimetype": "text/x-python",
   "name": "python",
   "nbconvert_exporter": "python",
   "pygments_lexer": "ipython3",
   "version": "3.7.3"
  }
 },
 "nbformat": 4,
 "nbformat_minor": 2
}
