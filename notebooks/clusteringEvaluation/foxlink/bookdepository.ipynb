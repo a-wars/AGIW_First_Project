{
 "cells": [
  {
   "cell_type": "markdown",
   "metadata": {},
   "source": [
    "# Foxlink's clustering algorithm evaluation\n",
    "Evaluating Foxlink's clustering algorithm on bookdepository.com pages. The aim is to calculate precision and recall for \"book details\" cluster in bookdepository.com."
   ]
  },
  {
   "cell_type": "code",
   "execution_count": 1,
   "metadata": {},
   "outputs": [
    {
     "data": {
      "text/plain": [
       "'../../../datasets/bookdepository.csv'"
      ]
     },
     "execution_count": 1,
     "metadata": {},
     "output_type": "execute_result"
    }
   ],
   "source": [
    "%matplotlib inline\n",
    "# Importing libraries\n",
    "import matplotlib.pyplot as plt\n",
    "import pandas as pd\n",
    "\n",
    "FILEPATH = '../../../datasets/bookdepository.csv'\n",
    "FILEPATH"
   ]
  },
  {
   "cell_type": "code",
   "execution_count": 2,
   "metadata": {},
   "outputs": [],
   "source": [
    "df = pd.read_csv(FILEPATH)"
   ]
  },
  {
   "cell_type": "markdown",
   "metadata": {},
   "source": [
    "## Data analisys\n",
    "Some preliminary analisys of the dataset"
   ]
  },
  {
   "cell_type": "code",
   "execution_count": 3,
   "metadata": {},
   "outputs": [
    {
     "name": "stdout",
     "output_type": "stream",
     "text": [
      "First 5 rows\n",
      "------------\n"
     ]
    },
    {
     "data": {
      "text/html": [
       "<div>\n",
       "<style scoped>\n",
       "    .dataframe tbody tr th:only-of-type {\n",
       "        vertical-align: middle;\n",
       "    }\n",
       "\n",
       "    .dataframe tbody tr th {\n",
       "        vertical-align: top;\n",
       "    }\n",
       "\n",
       "    .dataframe thead th {\n",
       "        text-align: right;\n",
       "    }\n",
       "</style>\n",
       "<table border=\"1\" class=\"dataframe\">\n",
       "  <thead>\n",
       "    <tr style=\"text-align: right;\">\n",
       "      <th></th>\n",
       "      <th>url</th>\n",
       "      <th>referer_url</th>\n",
       "      <th>src</th>\n",
       "      <th>label</th>\n",
       "      <th>shingle_vector</th>\n",
       "    </tr>\n",
       "  </thead>\n",
       "  <tbody>\n",
       "    <tr>\n",
       "      <th>0</th>\n",
       "      <td>https://www.bookdepository.com/</td>\n",
       "      <td>https://www.bookdepository.com/</td>\n",
       "      <td>&lt;!DOCTYPE html&gt;\\n&lt;html lang=\"en\"&gt;\\n&lt;head&gt;\\n\\n ...</td>\n",
       "      <td>NaN</td>\n",
       "      <td>(0, 3, 2, 0, 5, 1, 1, 1)</td>\n",
       "    </tr>\n",
       "    <tr>\n",
       "      <th>1</th>\n",
       "      <td>https://www.bookdepository.com/author/J-K-Rowling</td>\n",
       "      <td>https://www.bookdepository.com/</td>\n",
       "      <td>&lt;!DOCTYPE html&gt;\\n&lt;html lang=\"en\"&gt;\\n&lt;head&gt;\\n\\n ...</td>\n",
       "      <td>NaN</td>\n",
       "      <td>(0, 3, 2, 0, 7, 1, 2, 1)</td>\n",
       "    </tr>\n",
       "    <tr>\n",
       "      <th>2</th>\n",
       "      <td>https://www.bookdepository.com/category/3098/T...</td>\n",
       "      <td>https://www.bookdepository.com/</td>\n",
       "      <td>&lt;!DOCTYPE html&gt;\\n&lt;html lang=\"en\"&gt;\\n&lt;head&gt;\\n\\n ...</td>\n",
       "      <td>NaN</td>\n",
       "      <td>(0, 3, 1, 0, 7, 1, 1, 1)</td>\n",
       "    </tr>\n",
       "    <tr>\n",
       "      <th>3</th>\n",
       "      <td>https://www.bookdepository.com/category/3392/B...</td>\n",
       "      <td>https://www.bookdepository.com/</td>\n",
       "      <td>&lt;!DOCTYPE html&gt;\\n&lt;html lang=\"en\"&gt;\\n&lt;head&gt;\\n\\n ...</td>\n",
       "      <td>NaN</td>\n",
       "      <td>(0, 3, 1, 0, 5, 1, 1, 1)</td>\n",
       "    </tr>\n",
       "    <tr>\n",
       "      <th>4</th>\n",
       "      <td>https://www.bookdepository.com/category/2967/T...</td>\n",
       "      <td>https://www.bookdepository.com/</td>\n",
       "      <td>&lt;!DOCTYPE html&gt;\\n&lt;html lang=\"en\"&gt;\\n&lt;head&gt;\\n\\n ...</td>\n",
       "      <td>NaN</td>\n",
       "      <td>(0, 3, 2, 0, 7, 1, 1, 1)</td>\n",
       "    </tr>\n",
       "  </tbody>\n",
       "</table>\n",
       "</div>"
      ],
      "text/plain": [
       "                                                 url  \\\n",
       "0                    https://www.bookdepository.com/   \n",
       "1  https://www.bookdepository.com/author/J-K-Rowling   \n",
       "2  https://www.bookdepository.com/category/3098/T...   \n",
       "3  https://www.bookdepository.com/category/3392/B...   \n",
       "4  https://www.bookdepository.com/category/2967/T...   \n",
       "\n",
       "                       referer_url  \\\n",
       "0  https://www.bookdepository.com/   \n",
       "1  https://www.bookdepository.com/   \n",
       "2  https://www.bookdepository.com/   \n",
       "3  https://www.bookdepository.com/   \n",
       "4  https://www.bookdepository.com/   \n",
       "\n",
       "                                                 src label  \\\n",
       "0  <!DOCTYPE html>\\n<html lang=\"en\">\\n<head>\\n\\n ...   NaN   \n",
       "1  <!DOCTYPE html>\\n<html lang=\"en\">\\n<head>\\n\\n ...   NaN   \n",
       "2  <!DOCTYPE html>\\n<html lang=\"en\">\\n<head>\\n\\n ...   NaN   \n",
       "3  <!DOCTYPE html>\\n<html lang=\"en\">\\n<head>\\n\\n ...   NaN   \n",
       "4  <!DOCTYPE html>\\n<html lang=\"en\">\\n<head>\\n\\n ...   NaN   \n",
       "\n",
       "             shingle_vector  \n",
       "0  (0, 3, 2, 0, 5, 1, 1, 1)  \n",
       "1  (0, 3, 2, 0, 7, 1, 2, 1)  \n",
       "2  (0, 3, 1, 0, 7, 1, 1, 1)  \n",
       "3  (0, 3, 1, 0, 5, 1, 1, 1)  \n",
       "4  (0, 3, 2, 0, 7, 1, 1, 1)  "
      ]
     },
     "execution_count": 3,
     "metadata": {},
     "output_type": "execute_result"
    }
   ],
   "source": [
    "print(\"First 5 rows\")\n",
    "print(\"------------\")\n",
    "df.head()"
   ]
  },
  {
   "cell_type": "code",
   "execution_count": 4,
   "metadata": {},
   "outputs": [
    {
     "name": "stdout",
     "output_type": "stream",
     "text": [
      "No. of rows and columns\n",
      "-----------------------\n"
     ]
    },
    {
     "data": {
      "text/plain": [
       "(25549, 5)"
      ]
     },
     "execution_count": 4,
     "metadata": {},
     "output_type": "execute_result"
    }
   ],
   "source": [
    "print(\"No. of rows and columns\")\n",
    "print(\"-----------------------\")\n",
    "df.shape"
   ]
  },
  {
   "cell_type": "code",
   "execution_count": 5,
   "metadata": {},
   "outputs": [
    {
     "name": "stdout",
     "output_type": "stream",
     "text": [
      "Check null values\n",
      "-----------------\n"
     ]
    },
    {
     "data": {
      "text/plain": [
       "True"
      ]
     },
     "execution_count": 5,
     "metadata": {},
     "output_type": "execute_result"
    }
   ],
   "source": [
    "print(\"Check null values\")\n",
    "print(\"-----------------\")\n",
    "df.isnull().any().any()"
   ]
  },
  {
   "cell_type": "code",
   "execution_count": 6,
   "metadata": {},
   "outputs": [
    {
     "name": "stdout",
     "output_type": "stream",
     "text": [
      "Check duplicate values\n",
      "----------------------\n"
     ]
    },
    {
     "data": {
      "text/plain": [
       "False"
      ]
     },
     "execution_count": 6,
     "metadata": {},
     "output_type": "execute_result"
    }
   ],
   "source": [
    "print(\"Check duplicate values\")\n",
    "print(\"----------------------\")\n",
    "len(df['url'].unique()) != df.shape[0]"
   ]
  },
  {
   "cell_type": "code",
   "execution_count": 7,
   "metadata": {},
   "outputs": [
    {
     "name": "stdout",
     "output_type": "stream",
     "text": [
      "DataFrame column types\n",
      "----------------------\n",
      "<class 'pandas.core.frame.DataFrame'>\n",
      "RangeIndex: 25549 entries, 0 to 25548\n",
      "Data columns (total 5 columns):\n",
      "url               25549 non-null object\n",
      "referer_url       25549 non-null object\n",
      "src               25549 non-null object\n",
      "label             15807 non-null object\n",
      "shingle_vector    25549 non-null object\n",
      "dtypes: object(5)\n",
      "memory usage: 998.1+ KB\n"
     ]
    }
   ],
   "source": [
    "print(\"DataFrame column types\")\n",
    "print(\"----------------------\")\n",
    "df.info()"
   ]
  },
  {
   "cell_type": "code",
   "execution_count": 8,
   "metadata": {},
   "outputs": [
    {
     "name": "stdout",
     "output_type": "stream",
     "text": [
      "Some stats\n",
      "----------------\n"
     ]
    },
    {
     "data": {
      "text/html": [
       "<div>\n",
       "<style scoped>\n",
       "    .dataframe tbody tr th:only-of-type {\n",
       "        vertical-align: middle;\n",
       "    }\n",
       "\n",
       "    .dataframe tbody tr th {\n",
       "        vertical-align: top;\n",
       "    }\n",
       "\n",
       "    .dataframe thead th {\n",
       "        text-align: right;\n",
       "    }\n",
       "</style>\n",
       "<table border=\"1\" class=\"dataframe\">\n",
       "  <thead>\n",
       "    <tr style=\"text-align: right;\">\n",
       "      <th></th>\n",
       "      <th>url</th>\n",
       "      <th>referer_url</th>\n",
       "      <th>src</th>\n",
       "      <th>label</th>\n",
       "      <th>shingle_vector</th>\n",
       "    </tr>\n",
       "  </thead>\n",
       "  <tbody>\n",
       "    <tr>\n",
       "      <th>count</th>\n",
       "      <td>25549</td>\n",
       "      <td>25549</td>\n",
       "      <td>25549</td>\n",
       "      <td>15807</td>\n",
       "      <td>25549</td>\n",
       "    </tr>\n",
       "    <tr>\n",
       "      <th>unique</th>\n",
       "      <td>25549</td>\n",
       "      <td>10496</td>\n",
       "      <td>25549</td>\n",
       "      <td>1</td>\n",
       "      <td>23</td>\n",
       "    </tr>\n",
       "    <tr>\n",
       "      <th>top</th>\n",
       "      <td>https://www.bookdepository.com/Making-West-Con...</td>\n",
       "      <td>https://www.bookdepository.com/</td>\n",
       "      <td>&lt;!DOCTYPE html&gt;\\n&lt;html lang=\"en\"&gt;\\n&lt;head&gt;\\n\\n ...</td>\n",
       "      <td>product</td>\n",
       "      <td>(0, 1, 2, 3, 0, 1, 2, 1)</td>\n",
       "    </tr>\n",
       "    <tr>\n",
       "      <th>freq</th>\n",
       "      <td>1</td>\n",
       "      <td>27</td>\n",
       "      <td>1</td>\n",
       "      <td>15807</td>\n",
       "      <td>6941</td>\n",
       "    </tr>\n",
       "  </tbody>\n",
       "</table>\n",
       "</div>"
      ],
      "text/plain": [
       "                                                      url  \\\n",
       "count                                               25549   \n",
       "unique                                              25549   \n",
       "top     https://www.bookdepository.com/Making-West-Con...   \n",
       "freq                                                    1   \n",
       "\n",
       "                            referer_url  \\\n",
       "count                             25549   \n",
       "unique                            10496   \n",
       "top     https://www.bookdepository.com/   \n",
       "freq                                 27   \n",
       "\n",
       "                                                      src    label  \\\n",
       "count                                               25549    15807   \n",
       "unique                                              25549        1   \n",
       "top     <!DOCTYPE html>\\n<html lang=\"en\">\\n<head>\\n\\n ...  product   \n",
       "freq                                                    1    15807   \n",
       "\n",
       "                  shingle_vector  \n",
       "count                      25549  \n",
       "unique                        23  \n",
       "top     (0, 1, 2, 3, 0, 1, 2, 1)  \n",
       "freq                        6941  "
      ]
     },
     "execution_count": 8,
     "metadata": {},
     "output_type": "execute_result"
    }
   ],
   "source": [
    "print(\"Some stats\")\n",
    "print(\"----------------\")\n",
    "df.describe()"
   ]
  },
  {
   "cell_type": "code",
   "execution_count": 9,
   "metadata": {},
   "outputs": [
    {
     "name": "stdout",
     "output_type": "stream",
     "text": [
      "There are 9742 row with no label\n",
      "There are 15807 row with product label\n"
     ]
    }
   ],
   "source": [
    "fmt_string = 'There are {} row with {} label'\n",
    "print(fmt_string.format(len(df[df['label'].isnull()]),'no'))\n",
    "print(fmt_string.format(len(df[df['label']=='product']), 'product'))"
   ]
  },
  {
   "cell_type": "markdown",
   "metadata": {},
   "source": [
    "## Run Foxlink's clustering algorithm"
   ]
  },
  {
   "cell_type": "code",
   "execution_count": 10,
   "metadata": {},
   "outputs": [],
   "source": [
    "#add top level folder to sys.path\n",
    "import sys\n",
    "sys.path.append('../../../')"
   ]
  },
  {
   "cell_type": "code",
   "execution_count": 11,
   "metadata": {},
   "outputs": [],
   "source": [
    "from foxlink_clustering.clustering.structural_clustering import structural_clustering\n",
    "\n",
    "clusters = structural_clustering(df)"
   ]
  },
  {
   "cell_type": "code",
   "execution_count": 12,
   "metadata": {},
   "outputs": [
    {
     "data": {
      "text/plain": [
       "6"
      ]
     },
     "execution_count": 12,
     "metadata": {},
     "output_type": "execute_result"
    }
   ],
   "source": [
    "len(clusters)"
   ]
  },
  {
   "cell_type": "markdown",
   "metadata": {},
   "source": [
    "So Foxlink's clustering algorithm discovered 6 clusters. Let's see how many pages contains each cluster"
   ]
  },
  {
   "cell_type": "code",
   "execution_count": 18,
   "metadata": {
    "scrolled": true
   },
   "outputs": [
    {
     "name": "stdout",
     "output_type": "stream",
     "text": [
      "cluster n. 1 has 521 pages\n",
      "cluster n. 2 has 9077 pages\n",
      "cluster n. 3 has 649 pages\n",
      "cluster n. 4 has 4023 pages\n",
      "cluster n. 5 has 11201 pages\n",
      "cluster n. 6 has 56 pages\n"
     ]
    }
   ],
   "source": [
    "cluster_fmt = 'cluster n. {} has {} pages'\n",
    "for index, cluster in enumerate(clusters):\n",
    "    print(cluster_fmt.format(index +1 , len(cluster[1])))\n",
    "    "
   ]
  },
  {
   "cell_type": "markdown",
   "metadata": {},
   "source": [
    "Looking at each cluster it seems that cluster n.5 should be the one which groups pages that show books details. Let's check that"
   ]
  },
  {
   "cell_type": "code",
   "execution_count": 15,
   "metadata": {},
   "outputs": [
    {
     "data": {
      "text/plain": [
       "([0, 1, -1, 3, 0, 1, -1, 1],\n",
       " ['https://www.bookdepository.com/Look-Inside-Our-World-Emily-Bone/9781409563945?ref=grid-view',\n",
       "  'https://www.bookdepository.com/Look-Inside-Things-That-Go-Rob-Lloyd-Jones/9781409550259?ref=grid-view',\n",
       "  'https://www.bookdepository.com/Look-Inside-Space-Rob-Lloyd-Jones/9781409523383?ref=grid-view',\n",
       "  'https://www.bookdepository.com/Angel-Time-Professor-Anne-Rice/9781400078950',\n",
       "  'https://www.bookdepository.com/Art-Mass-Effect-Universe-Casey-Hudson/9781595827685?ref=grid-view',\n",
       "  'https://www.bookdepository.com/Talking-Heads-Fear-Music-Jonathan-Lethem/9781441121004?ref=grid-view',\n",
       "  'https://www.bookdepository.com/Time-Death-Susan-Ericksen/9781469205793?ref=grid-view',\n",
       "  'https://www.bookdepository.com/Holiday-Death-J-D-Robb/9781469233758',\n",
       "  'https://www.bookdepository.com/Holiday-Death-J-D-Robb/9781417711772',\n",
       "  'https://www.bookdepository.com/Meditations-Marcus-Aurelius/9780141018829?ref=grid-view',\n",
       "  'https://www.bookdepository.com/Communist-Manifesto-Friedrich-Engels/9780141018935?ref=bd_ser_1_1',\n",
       "  'https://www.bookdepository.com/Leviathan-Thomas-Hobbes/9781596980815?ref=bd_ser_1_1',\n",
       "  'https://www.bookdepository.com/Motorcycle-Man-Kristen-Ashley-Kate-Russell/9781478981855',\n",
       "  'https://www.bookdepository.com/Power-Play-Rachel-Kramer-Bussel/9781907761720',\n",
       "  'https://www.bookdepository.com/Six-Sacred-Stones-Matthew-Reilly/9781742011592',\n",
       "  'https://www.bookdepository.com/Hell-Island-Matthew-Reilly/9781742333229',\n",
       "  'https://www.bookdepository.com/Grinding-Honing-Polishing-Stan-Bray/9781854862525',\n",
       "  'https://www.bookdepository.com/Spring-Design-Manufacture-Tubal-Cain/9780852429259',\n",
       "  'https://www.bookdepository.com/Making-Clocks-Stan-Bray/9781854862143',\n",
       "  'https://www.bookdepository.com/British-Motor-Torpedo-Boat-1939-45-Angus-Konstam/9781841765006?ref=bd_ser_1_1',\n",
       "  'https://www.bookdepository.com/Persepolis-Marjane-Satrapi/9781417640416?ref=bd_ser_1_1',\n",
       "  'https://www.bookdepository.com/Garden-Eden-Ernest-Hemingway/9780684804521',\n",
       "  'https://www.bookdepository.com/Fifth-Column-Ernest-Hemingway/9780684839264?ref=bd_ser_1_1',\n",
       "  'https://www.bookdepository.com/Sara-Kate-Superkid-Susan-Beth-Pfeffer/9780805031478',\n",
       "  'https://www.bookdepository.com/Mengzi-Mengzi/9780872209138?ref=grid-view',\n",
       "  'https://www.bookdepository.com/Essay-Concerning-Human-Understanding-John-Locke/9780872202160?ref=bd_ser_1_1',\n",
       "  'https://www.bookdepository.com/Auburn-Arthur-Sommers/9780738559445',\n",
       "  'https://www.bookdepository.com/Railroads-Placer-County-Arthur-Sommers/9781467127646',\n",
       "  'https://www.bookdepository.com/Rails-Around-Durango-Co-Allan-C-Lewis/9780738548593?ref=bd_ser_1_1',\n",
       "  'https://www.bookdepository.com/Substantial-Similarity-Copyright-Law-Robert-C-Osterberg/9781402403415',\n",
       "  'https://www.bookdepository.com/Soderquist-on-Corporate-Law-Practice-Linda-O-Smiddy/9781402418358',\n",
       "  'https://www.bookdepository.com/Soderquist-on-Corporate-Law-Practice-Linda-O-Smiddy/9781402418358?ref=bd_ser_1_1',\n",
       "  'https://www.bookdepository.com/Soderquist-on-Corporate-Law-Practice-L-Cunningham/9781402408632',\n",
       "  'https://www.bookdepository.com/search/Soderquist-on-Corporate-Law-and-Practice-Linda-O-Smiddy/9781402418358',\n",
       "  'https://www.bookdepository.com/Working-with-Contracts-Charles-M-Fox/9781402410604?ref=bd_ser_1_1',\n",
       "  'https://www.bookdepository.com/Corporate-Whistleblowing-Sarbanes-Oxley-Dodd-Frank-Era-Michael-Delikat/9781402416590?ref=bd_ser_1_1',\n",
       "  'https://www.bookdepository.com/Oxford-Reading-Tree-Level-4-Decode-Develop-Stars-Roderick-Hunt/9780198484059',\n",
       "  'https://www.bookdepository.com/Oxford-Reading-Tree-Level-4-Decode-Develop-Grans-New-Glasses-Rod-Hunt/9780198484097',\n",
       "  'https://www.bookdepository.com/Oxford-Reading-Tree-Level-4-Decode-Develop-Floppy-Skateboard-Rod-Hunt/9780198484080',\n",
       "  'https://www.bookdepository.com/Mastering-Numbers-Andrew-Jeffrey/9781848992559?ref=grid-view',\n",
       "  'https://www.bookdepository.com/Uncanny-X-men-X-men-Disassembled-Marvel-Comics/9781302914868',\n",
       "  'https://www.bookdepository.com/X-men-Adventures-Marvel-Comics/9781302912116',\n",
       "  'https://www.bookdepository.com/X-men-Adventures-Marvel-Comics/9781302912116?ref=bd_ser_1_1',\n",
       "  'https://www.bookdepository.com/Iron-Man-4-Iron-Metropolitan-marvel-Now-Kieron-Gillen/9780785189435',\n",
       "  'https://www.bookdepository.com/Star-Wars-Rebels-Servants-Empire-Imperial-Justice-Jason-Fry/9781484716601',\n",
       "  'https://www.bookdepository.com/La-Psicologia-de-La-Transferencia-Carl-Gustav-Jung/9788475092409',\n",
       "  'https://www.bookdepository.com/La-Psicologia-de-La-Transferencia-Carl-Gustav-Jung/9788475092409?ref=bd_ser_1_1',\n",
       "  'https://www.bookdepository.com/Vergangene-Zukunft-Reinhart-Koselleck/9783518283578?ref=bd_ser_1_1',\n",
       "  'https://www.bookdepository.com/Book-Five-Rings-Miyamoto-Musashi/9781590302484',\n",
       "  'https://www.bookdepository.com/Alone-with-Others-Stephen-Batchelor/9780802151278',\n",
       "  'https://www.bookdepository.com/Essential-Pinter-Harold-Pinter/9780802142696?ref=bd_ser_1_1',\n",
       "  'https://www.bookdepository.com/Alone-with-Others-Stephen-Batchelor/9780802151278?ref=bd_ser_1_1',\n",
       "  'https://www.bookdepository.com/17-Day-Plan-Stop-Aging-Dr-Mike-Moreno/9781410454867',\n",
       "  'https://www.bookdepository.com/Sachsendreier-Werner-Wittig/9783937940625',\n",
       "  'https://www.bookdepository.com/Gemalte-Poesie-Eckhard-Hollmann/9783937940755?ref=bd_ser_1_1',\n",
       "  'https://www.bookdepository.com/Princess-Pea-Graphic-Novel-Hans-Christian-Andersen/9781434217431',\n",
       "  'https://www.bookdepository.com/Andersens-Fairy-Tales-Hans-Christian-Andersen/9789626340127?ref=grid-view',\n",
       "  'https://www.bookdepository.com/Rapunzel-Stephanie-Peters/9781434213921?ref=bd_ser_1_1',\n",
       "  'https://www.bookdepository.com/Andersens-Fairy-Tales-Hans-Christian-Andersen/9789626340127?ref=bd_ser_1_1',\n",
       "  'https://www.bookdepository.com/Project-X-Origins-Dark-Blue-Book-Band-Oxford-Level-16-Space-Mixed-Pack-5-James-Noble/9780198393986',\n",
       "  'https://www.bookdepository.com/Project-X-Origins-Grey-Book-Band-Oxford-Level-13-Shocking-Science-Mixed-Pack-5-Anthony-McGowan/9780198393900',\n",
       "  'https://www.bookdepository.com/Rumble-Roar-Lets-Build-Carles-Ballesteros/9781784937416',\n",
       "  'https://www.bookdepository.com/Nee-Nah-Nee-Nah-Rescue-Carles-Ballesteros/9781784937423',\n",
       "  'https://www.bookdepository.com/Thats-Not-My-Fairy-Fiona-Watt/9780746062609?ref=grid-view',\n",
       "  'https://www.bookdepository.com/Rumble-Roar-Lets-Build-Carles-Ballesteros/9781784937416?ref=bd_ser_1_1',\n",
       "  'https://www.bookdepository.com/Nee-Nah-Nee-Nah-Rescue-Carles-Ballesteros/9781784937423?ref=bd_ser_1_1',\n",
       "  'https://www.bookdepository.com/Animal-Rescue-Patrick-George/9781908473127?ref=grid-view',\n",
       "  'https://www.bookdepository.com/Maths-Quest-Escape-from-Hotel-Infinity-Kjartan-Poskitt/9781784938512',\n",
       "  'https://www.bookdepository.com/Maths-Quest-Attack-on-Circuit-City-Catherine-Casey/9781784938536?ref=bd_ser_1_1',\n",
       "  'https://www.bookdepository.com/Maths-Quest-Lost-Fourth-Dimension-Jonathan-Litton/9781784938543?ref=bd_ser_1_1',\n",
       "  'https://www.bookdepository.com/You-are-Special-Max-Lucado/9781859855904',\n",
       "  'https://www.bookdepository.com/Attack-on-Circuit-City-Statistics-Catherine-Casey/9781682971901',\n",
       "  'https://www.bookdepository.com/You-are-Special-Max-Lucado/9781859855904?ref=bd_ser_1_1',\n",
       "  'https://www.bookdepository.com/You-are-Special-Max-Lucado/9781859855454?ref=bd_ser_1_1',\n",
       "  'https://www.bookdepository.com/You-Are-Special-Max-Lucado/9781859855423?ref=bd_ser_1_1',\n",
       "  'https://www.bookdepository.com/Shadows-Dark-Crystal-1-J-M-Lee/9780399539794',\n",
       "  'https://www.bookdepository.com/Song-Dark-Crystal-2-J-M-Lee/9780399539817',\n",
       "  'https://www.bookdepository.com/Howard-Owl-Book-1-Marga-Stander/9781492354475',\n",
       "  'https://www.bookdepository.com/Home-for-Winter-Marga-Stander/9781507649701',\n",
       "  'https://www.bookdepository.com/Howard-Owl-Book-7-Marga-Stander/9781493588626',\n",
       "  'https://www.bookdepository.com/Howard-Owl-Book-4-Marga-Stander/9781492346791',\n",
       "  'https://www.bookdepository.com/Howard-Owl-Book-5-Marga-Stander/9781492877202?ref=bd_ser_1_1',\n",
       "  'https://www.bookdepository.com/Howard-Owl-Book-8-Marga-Stander/9781494206192?ref=bd_ser_1_1',\n",
       "  'https://www.bookdepository.com/Howard-Owl-Book-11-Marga-Stander/9781497308503?ref=bd_ser_1_1',\n",
       "  'https://www.bookdepository.com/Howard-Owl-Book-7-Marga-Stander/9781493588626?ref=bd_ser_1_1',\n",
       "  'https://www.bookdepository.com/Home-for-Winter-Marga-Stander/9781507649701?ref=bd_ser_1_1',\n",
       "  'https://www.bookdepository.com/Howard-Owl-Book-4-Marga-Stander/9781492346791?ref=bd_ser_1_1',\n",
       "  'https://www.bookdepository.com/Travel-Light-Marga-Stander/9781500893491?ref=bd_ser_1_1',\n",
       "  'https://www.bookdepository.com/Song-Dark-Crystal-2-J-M-Lee/9780399539824?ref=grid-view&qid=1557066986091&sr=1-6',\n",
       "  'https://www.bookdepository.com/Jim-Hensons-The-Dark-Crystal-Creation-Myths-v-2-Joshua-Dysart-Alex-Sheikman-Lizzy-John-Brian-Froud/9781936393800',\n",
       "  'https://www.bookdepository.com/Jim-Hensons-Dark-Crystal-Creation-Myths-v-2-Joshua-Dysart/9781936393800?ref=grid-view&qid=1557066986091&sr=1-16',\n",
       "  'https://www.bookdepository.com/Jim-Hensons-The-Dark-Crystal-Creation-Myths-Volume-1-Brian-Froud-Brian-Holguin-Alex-Sheikman-Lizzy-John/9781936393008',\n",
       "  'https://www.bookdepository.com/Rocket-Raccoon-Vol-2-Storytailer-Skottie-Young/9780785191674',\n",
       "  'https://www.bookdepository.com/If-You-Hopped-Like-Frog-David-M-Schwartz/9780590098571',\n",
       "  'https://www.bookdepository.com/Rook-Daniel-Omalley/9780316098809',\n",
       "  'https://www.bookdepository.com/Jolly-Phonics-Readers-Complete-Set-Level-1-Sara-Wernham/9781844140756',\n",
       "  'https://www.bookdepository.com/Exodus-1-15-Wolfgang-Oswald/9783170222229',\n",
       "  'https://www.bookdepository.com/Perspektiven-Des-Medizinrechts/9783832908126',\n",
       "  'https://www.bookdepository.com/Schutzw%C3%BCrdigkeit-menschlicher-Klone-Silke-Hetz/9783832912048?ref=bd_ser_1_1',\n",
       "  'https://www.bookdepository.com/Gegenwartsfragen-Des-Medizinstrafrechts-Wolfgang-Frisch/9783832918460?ref=bd_ser_1_1',\n",
       "  'https://www.bookdepository.com/Arzneimittelpr%C3%BCfung-am-Menschen/9783832907303?ref=bd_ser_1_1',\n",
       "  'https://www.bookdepository.com/Mastering-Portrait-Photography-Sarah-Plater/9781781450857?ref=bd_ser_1_1',\n",
       "  'https://www.bookdepository.com/Michelin-Spain-Andalucia-Map-578-Michelin/9782067175198?ref=grid-view&qid=1557067107508&sr=1-7',\n",
       "  'https://www.bookdepository.com/Von-einem-der-auszog-Marionettentheater-zu-spielen-Kurt-Dombrowsky/9783939888291',\n",
       "  'https://www.bookdepository.com/Michelin-USA-Mid-Atlantic-Allegheny-Highlands-Map-582-Michelin/9782067175228?ref=bd_ser_1_1',\n",
       "  'https://www.bookdepository.com/Northwest-Michelin/9782067175129?ref=bd_ser_1_1',\n",
       "  'https://www.bookdepository.com/Kirche-und-Landesherrschaft-Marek-Wejwoda/9783939888307?ref=bd_ser_1_1',\n",
       "  'https://www.bookdepository.com/Kirche-und-Landesherrschaft-Marek-Wejwoda/9783939888307',\n",
       "  'https://www.bookdepository.com/Dietrich-von-Bocksdorf-und-seine-B%C3%BCcher-Marek-Wejwoda/9783865837851',\n",
       "  'https://www.bookdepository.com/International-Yearbook-for-Research-Arts-Education-2016-No-4/9783830934301',\n",
       "  'https://www.bookdepository.com/International-Yearbook-for-Research-Arts-Education-2016-No-4-Aud-Berggraf-S%C3%A6b%C3%B8/9783830934301?ref=bd_ser_1_1',\n",
       "  'https://www.bookdepository.com/Amores-Bk-1-Ovid/9780906515457',\n",
       "  'https://www.bookdepository.com/Fasti-Bks-I-VI-Ovid/9780674992795',\n",
       "  'https://www.bookdepository.com/Women-Industrializing-Society-Penny-Rendall/9780631153030?ref=bd_ser_1_1',\n",
       "  'https://www.bookdepository.com/Checkbuch-f%C3%BCr-F%C3%BChrungskr%C3%A4fte-Reinhold-Haller/9783448093025',\n",
       "  'https://www.bookdepository.com/HBRs-10-Must-Reads-on-Managing-People-with-featured-article-Leadership-That-Gets-Results-by-Daniel-Goleman-Harvard-Business-Review/9781422158012?ref=grid-view',\n",
       "  'https://www.bookdepository.com/Marketing-for-Growth-Iain-Ellwood/9781610393973',\n",
       "  'https://www.bookdepository.com/Guide-Country-Risk-Mina-Toksoz/9781610394864?ref=bd_ser_1_1',\n",
       "  'https://www.bookdepository.com/HBRs-10-Must-Reads-2015-Harvard-Business-Review/9781633690219?ref=grid-view&qid=1557067173419&sr=1-29',\n",
       "  'https://www.bookdepository.com/Night-Is-Watching-Heather-Graham/9780778315063',\n",
       "  'https://www.bookdepository.com/Deadly-Fate-Heather-Graham/9780778319450?ref=bd_ser_1_1',\n",
       "  'https://www.bookdepository.com/Dark-Rites-Heather-Graham/9780778319924?ref=bd_ser_1_1',\n",
       "  'https://www.bookdepository.com/Haunted-Destiny-Heather-Graham/9780778318958?ref=bd_ser_1_1',\n",
       "  'https://www.bookdepository.com/Dark-Rites-Heather-Graham/9781538409947',\n",
       "  'https://www.bookdepository.com/Child-Health-Francoise-Van-Dorp/9780199215683',\n",
       "  'https://www.bookdepository.com/Naked-Civil-Servant-Quentin-Crisp/9780141180533',\n",
       "  'https://www.bookdepository.com/First-Colouring-Book-Trucks-Diggers/9781474945738',\n",
       "  'https://www.bookdepository.com/Defense-Socialism-Fidel-Castro/9780873485395',\n",
       "  'https://www.bookdepository.com/Oberschlesien-Sprache-und-Identit%C3%A4t-Jolanta-Tambor/9783487145372?ref=bd_ser_1_1',\n",
       "  'https://www.bookdepository.com/Sprachliche-Kategorien-und-die-slawische-Wortbildung-Alicja-Nagorko/9783487135090?ref=bd_ser_1_1',\n",
       "  'https://www.bookdepository.com/Lexikologie-des-Polnischen-Alicja-Nagorko/9783487134789?ref=bd_ser_1_1',\n",
       "  'https://www.bookdepository.com/Sprachliche-Kategorien-und-die-slawische-Wortbildung/9783487135090',\n",
       "  'https://www.bookdepository.com/Kadenz-und-Kontrapunkt-Zur-Kompositionslehre-der-klassischen-Vokalpolyphonie-Elisabeth-Schwind/9783487139838',\n",
       "  'https://www.bookdepository.com/Microbial-Pathogenesis-Immune-Response-Richard-F-Rest/9780897668965',\n",
       "  'https://www.bookdepository.com/Pharmaceutical-Science-Improve-Human-Condition-Editorial-staff-Annals-New-York-Academy-Sciences/9781573318587?ref=bd_ser_1_1',\n",
       "  'https://www.bookdepository.com/Biotechnology-R-D-Trends-George-T-Trotzos/9780897668194?ref=bd_ser_1_1',\n",
       "  'https://www.bookdepository.com/Biotechnology-R-D-Trends/9780897668194',\n",
       "  'https://www.bookdepository.com/Addiction-Reviews-George-R-Uhl/9781573318501',\n",
       "  'https://www.bookdepository.com/Sunrise-Lands-S-M-Stirling/9780451462251',\n",
       "  'https://www.bookdepository.com/Sunrise-Lands-S-M-Stirling/9780451462251?ref=bd_ser_1_1',\n",
       "  'https://www.bookdepository.com/Sky-Blue-Wolves-S-M-Stirling/9780451490681?ref=bd_ser_1_1',\n",
       "  'https://www.bookdepository.com/13-Original-Clan-Mothers-Jamie-Sams/9780062507563',\n",
       "  'https://www.bookdepository.com/National-Geographic-Photographs-Leah-Bendavid-Val/9781426202919',\n",
       "  'https://www.bookdepository.com/13-Original-Clan-Mothers-Jamie-Sams/9780062507563?ref=bd_ser_1_1',\n",
       "  'https://www.bookdepository.com/search/The-13-Original-Clan-Mothers-Jamie-Sams/9780062507563',\n",
       "  'https://www.bookdepository.com/Bioterror-Biowarfare-Malcolm-Dando/9781435851665',\n",
       "  'https://www.bookdepository.com/Poems-Heinrich-Heine/9781853993350',\n",
       "  'https://www.bookdepository.com/Poems-Heinrich-Heine/9781853993350?ref=bd_ser_1_1',\n",
       "  'https://www.bookdepository.com/El-Nino-Que-Pagaba-El-Pato-Sid-Fleischman/9781682921494',\n",
       "  'https://www.bookdepository.com/My-First-Joke-Book-Scoular-Anderson/9780552542784?ref=grid-view',\n",
       "  'https://www.bookdepository.com/Memoirs-Byzantine-Eunuch-Christopher-Harris/9781903517031',\n",
       "  'https://www.bookdepository.com/Teaching-Underground-Railroad-Through-Play-Partner-Chris-Harris/9781499490008',\n",
       "  'https://www.bookdepository.com/Teaching-Secondary-Science-Through-Play-Partner-Chris-Harris/9781499490060',\n",
       "  'https://www.bookdepository.com/Teaching-American-Revolution-Through-Play-Partner-Chris-Harris/9781499490046',\n",
       "  'https://www.bookdepository.com/Teaching-American-Revolution-Through-Play-Partner-Chris-Harris/9781499490046?ref=bd_ser_1_1',\n",
       "  'https://www.bookdepository.com/Teaching-Financial-Literacy-Through-Play-Partner-Chris-Harris/9781499490107?ref=bd_ser_1_1',\n",
       "  'https://www.bookdepository.com/Teaching-Programming-Concepts-Through-Play-Partner-Chris-Harris/9781499490121?ref=bd_ser_1_1',\n",
       "  'https://www.bookdepository.com/Teaching-Through-Games-Set-Partner-Chris-Harris/9781499490152',\n",
       "  'https://www.bookdepository.com/Teaching-Secondary-Science-Through-Play-Partner-Chris-Harris/9781499490060?ref=grid-view&qid=1557067380723&sr=1-6',\n",
       "  'https://www.bookdepository.com/Guys-Guide-Sexuality-Sexual-Identity-21st-Century-Joe-Craig/9781448855247',\n",
       "  'https://www.bookdepository.com/Sixth-Amendment-Therese-M-Shea/9781448812615',\n",
       "  'https://www.bookdepository.com/How-Fix-Almost-Everything-Chris-Williams/9780232529166',\n",
       "  'https://www.bookdepository.com/I-Cant-Be-Bothered-Doing-Anything-Chris-Williams/9780232529173',\n",
       "  'https://www.bookdepository.com/These-Poor-Hands-B-L-Coombes/9780708315637',\n",
       "  'https://www.bookdepository.com/Things-You-Do-That-Mess-You-Up-Chris-Williams/9780232529272',\n",
       "  'https://www.bookdepository.com/10-Things-You-Can-Do-Feel-Happier-Straight-Away-Chris-Williams/9780232529005?ref=bd_ser_1_1',\n",
       "  'https://www.bookdepository.com/Why-Do-I-Feel-So-Bad-Chris-Williams/9780232529289?ref=bd_ser_1_1',\n",
       "  'https://www.bookdepository.com/Fix-Your-Drinking-Problem-2-Days-Chris-Williams/9780232529265?ref=bd_ser_1_1',\n",
       "  'https://www.bookdepository.com/These-Poor-Hands-B-L-Coombes/9780708315637?ref=bd_ser_1_1',\n",
       "  'https://www.bookdepository.com/Enfolded-Love/9780232525502',\n",
       "  'https://www.bookdepository.com/Teaching-Learning-Public-Stephanie-Sisk-Hilton/9780807750100',\n",
       "  'https://www.bookdepository.com/Teaching-Learning-Public-Stephanie-Sisk-Hilton/9780807750117',\n",
       "  'https://www.bookdepository.com/Teaching-Learning-Public-Stephanie-Sisk-Hilton/9780807750117?ref=bd_ser_1_1',\n",
       "  'https://www.bookdepository.com/Learning-Edge-Alan-Bain/9780807752722?ref=grid-view&qid=1557067399647&sr=1-4',\n",
       "  'https://www.bookdepository.com/Holiday-Histories-Short-History-Valentines-Day-Sally-Lee/9781491461020',\n",
       "  'https://www.bookdepository.com/Martha-Washington-Sally-Ann-Lee/9781429656054',\n",
       "  'https://www.bookdepository.com/Eleanor-Roosevelt-Carl-Sferrazza-Anthony/9781429656030?ref=bd_ser_1_1',\n",
       "  'https://www.bookdepository.com/Martha-Washington-Carl-Sferrazza-Anthony/9781429656054?ref=bd_ser_1_1',\n",
       "  'https://www.bookdepository.com/La-famosa-invasione-degli-orsi-Sicilia-Dino-Buzzati/9788804598954',\n",
       "  'https://www.bookdepository.com/Grand-Illusion-Tony-Judt/9780814743584',\n",
       "  'https://www.bookdepository.com/Exploring-Old-Testament-3-Dr-Ernest-C-Lucas/9780830825431',\n",
       "  'https://www.bookdepository.com/Corporate-Governance-at-Crossroads-Donald-H-Chew/9780072957082',\n",
       "  'https://www.bookdepository.com/Under-Unpredictable-Plant-Eugene-H-Peterson/9780802808486?ref=grid-view',\n",
       "  'https://www.bookdepository.com/Family-Therapies-Mark-Yarhouse/9780830828548?ref=grid-view',\n",
       "  'https://www.bookdepository.com/Modern-Psychopathologies-Barrett-W-McRay/9780830828500?ref=bd_ser_1_1',\n",
       "  'https://www.bookdepository.com/Christianity-Psychoanalysis-Earl-D-Bland/9780830828562?ref=bd_ser_1_1',\n",
       "  'https://www.bookdepository.com/Listening-Sexual-Minorities-Mark-Yarhouse/9780830828623',\n",
       "  'https://www.bookdepository.com/Christianity-Psychoanalysis/9780830828562',\n",
       "  'https://www.bookdepository.com/Schwimmen-lernen-01-Wassergew%C3%B6hnung-Laminiert-Veronika-Aretz/9783944824147?ref=bd_ser_1_1',\n",
       "  'https://www.bookdepository.com/Schwimmen-lernen-05-Zahlenkartenspiele-laminiert-Veronika-Aretz/9783944824246?ref=bd_ser_1_1',\n",
       "  'https://www.bookdepository.com/Cuide-Sus-Nervios-de-Forma-Natural-Hans-Wagner/9788475560748',\n",
       "  'https://www.bookdepository.com/Oak-Park-Derek-Ross/9780738595382',\n",
       "  'https://www.bookdepository.com/Perlentiere-nat%C3%BCrlich-sch%C3%B6n-Torsten-Becker/9783772438783',\n",
       "  'https://www.bookdepository.com/Schminkhits-f%C3%BCr-Kids-Petra-Tronser/9783772440250?ref=bd_ser_1_1',\n",
       "  'https://www.bookdepository.com/Windows-XP-Hacks-Preston-Gralla/9780596009182',\n",
       "  'https://www.bookdepository.com/Galaxy-S4-Missing-Manual-Preston-Gralla/9781449316303',\n",
       "  'https://www.bookdepository.com/Motorola-Xoom-Missing-Manual-Preston-Gralla/9781449301750',\n",
       "  'https://www.bookdepository.com/NOOK-Tablet-Missing-Manual-Preston-Gralla/9781449317751',\n",
       "  'https://www.bookdepository.com/Kinect-Hacks-Jared-St-Jean/9781449315207?ref=bd_ser_1_1',\n",
       "  'https://www.bookdepository.com/Sams-Teach-Yourself-Gadgets-in-24-Hours-Derek-Torres/9780321437310',\n",
       "  'https://www.bookdepository.com/Sams-Teach-Yourself-Gadgets-24-Hours-Derek-Torres/9780321437310?ref=bd_ser_1_1',\n",
       "  'https://www.bookdepository.com/Sams-Teach-Yourself-Service-Oriented-Architecture-SOA-in-24-Hours-Atul-Apte/9780672329944',\n",
       "  'https://www.bookdepository.com/Windows-8-Missing-Manual-David-Pogue/9781449314033?ref=grid-view',\n",
       "  'https://www.bookdepository.com/Windows-10-Easy-Steps-Nick-Vandome/9781840786439?ref=bd_ser_1_1',\n",
       "  'https://www.bookdepository.com/Illustrated-Childrens-Bible-Barnes-Noble-Collectible-Classics-Omnibus-Edition-Henry-Sherman/9781435141919',\n",
       "  'https://www.bookdepository.com/Greek-Myths-Nathaniel-Hawthorne/9781435158146?ref=bd_ser_1_1',\n",
       "  'https://www.bookdepository.com/Agile-Web-Development-with-Rails-Revised-Sam-Ruby/9781937785567?ref=grid-view',\n",
       "  'https://www.bookdepository.com/1-2-3-John-John-D-Hannah/9781781917718',\n",
       "  'https://www.bookdepository.com/Charts-Reformation-Enlightenment-Church-History-John-D-Hannah/9780310233176',\n",
       "  'https://www.bookdepository.com/Charts-Ancient-Medieval-Church-History-John-D-Hannah/9780310233169',\n",
       "  'https://www.bookdepository.com/Kregel-Pictorial-Guide-Church-History-John-D-Hannah/9780825427855',\n",
       "  'https://www.bookdepository.com/Chronological-Background-Charts-Old-Testament-John-H-Walton/9780310481614?ref=grid-view&qid=1557067609668&sr=1-1',\n",
       "  'https://www.bookdepository.com/Charts-Reformation-Enlightenment-Church-History-John-D-Hannah/9780310233176?ref=grid-view&qid=1557067609668&sr=1-20',\n",
       "  'https://www.bookdepository.com/Charts-of-Modern-and-Postmodern-Church-History-John-D-Hannah/9780310235309',\n",
       "  'https://www.bookdepository.com/Charts-Modern-Postmodern-Church-History-John-D-Hannah/9780310235309?ref=grid-view&qid=1557067609668&sr=1-19',\n",
       "  'https://www.bookdepository.com/Charts-of-Reformation-and-Enlightenment-Church-History-John-D-Hannah/9780310233176',\n",
       "  'https://www.bookdepository.com/Comentario-de-Efesios-MR-Klyne-R-Snodgrass/9780829753844',\n",
       "  'https://www.bookdepository.com/Bellas-Boat-Surprise-Christianne-C-Jones/9781434216175',\n",
       "  'https://www.bookdepository.com/Dump-Truck-Day-Cari-Meister/9781434216212?ref=bd_ser_1_1',\n",
       "  'https://www.bookdepository.com/Recounting-Deviance-J%C3%B6rg-Rogge/9783837635881?ref=bd_ser_1_1',\n",
       "  'https://www.bookdepository.com/Memory-Boxes-Heta-Aali/9783837627862?ref=bd_ser_1_1',\n",
       "  'https://www.bookdepository.com/Musicians-Mobilities-Music-Migrations-Early-Modern-Europe-Berthold-Over/9783837635041?ref=bd_ser_1_1',\n",
       "  'https://www.bookdepository.com/Ern%C3%A4hrungslehre-und-Di%C3%A4tetik-Horst-Spegg/9783769247916',\n",
       "  'https://www.bookdepository.com/La-moda-e-la-ragione-Un-persorso-di-duecento-anni-di-moda-e-stile-Fashion-exposition-Nino-Casalino/9788883911583',\n",
       "  'https://www.bookdepository.com/Forme-del-tempo-Viaggio-nei-quarantanni-di-Assopiastrelle/9788883911040?ref=bd_ser_1_1',\n",
       "  'https://www.bookdepository.com/Internet-Security-Nelson-Yomtov/9780531219140',\n",
       "  'https://www.bookdepository.com/Ultimate-Spotlight-Dinosaurs-Sandra-Laboucarie/9791027604289',\n",
       "  'https://www.bookdepository.com/Wolfger-von-Erla-Bischof-von-Passau-1191-1204-und-Patriarch-von-Aquileja-1204-1218-als-Kirchenf%C3%BCrst-und-Literaturm%C3%A4zen/9783825302023',\n",
       "  'https://www.bookdepository.com/Der-Zauberlehrling-Johann-Wolfgang-von-Goethe/9783934029255',\n",
       "  'https://www.bookdepository.com/Historisches-und-fiktionales-Erz%C3%A4hlen-im-Mittelalter/9783428106882',\n",
       "  'https://www.bookdepository.com/Die-Kraniche-des-Ibykus-Friedrich-von-Schiller/9783934029590?ref=bd_ser_1_1',\n",
       "  'https://www.bookdepository.com/John-Maynard-Theodor-Fontane/9783934029316?ref=bd_ser_1_1',\n",
       "  'https://www.bookdepository.com/Kidaye-Saunanci-Fuskoki-Adadai-Daya-Har-Zuwa-Goma-Michael-Richard-Craig/9781482041354',\n",
       "  'https://www.bookdepository.com/Modeen-Rogue-Frank-H-Jordan/9781539717386',\n",
       "  'https://www.bookdepository.com/Modeen-Transformation-Frank-H-Jordan/9781502863614?ref=bd_ser_1_1',\n",
       "  'https://www.bookdepository.com/Modeen-Convergence-Frank-H-Jordan/9781523353552?ref=bd_ser_1_1',\n",
       "  'https://www.bookdepository.com/Modeen-Frank-H-Jordan/9781507799352?ref=bd_ser_1_1',\n",
       "  'https://www.bookdepository.com/Santa-Claus-Lecturer-English-Juliette-Atkinson/9789888240913',\n",
       "  'https://www.bookdepository.com/Beautiful-Landscapes-Diane-Wright/9781600580116',\n",
       "  'https://www.bookdepository.com/Big-Four-Agatha-Christie/9781611732054?ref=bd_ser_1_1',\n",
       "  'https://www.bookdepository.com/Pongwiffy-Spellovision-Song-Contest-Kaye-Umansky/9781489365606',\n",
       "  'https://www.bookdepository.com/Pongwiffy-Spellovision-Song-Contest-Kaye-Umansky/9781489365606?ref=bd_ser_1_1',\n",
       "  'https://www.bookdepository.com/Low-Income-Economically-Vulnerable-Consumers/9781631171093',\n",
       "  'https://www.bookdepository.com/Low-Income-Economically-Vulnerable-Consumers-Benjamin-Dowling/9781631171093?ref=bd_ser_1_1',\n",
       "  'https://www.bookdepository.com/Humic-Acids-from-Raw-Materials-Czech-Republic/9781616689650',\n",
       "  'https://www.bookdepository.com/Obstructive-Central-Sleep-Apnea/9781634833356',\n",
       "  'https://www.bookdepository.com/Writing-Our-Lives/9780937354711',\n",
       "  'https://www.bookdepository.com/Foreign-Language-Instruction-United-States-Nancy-C-Rhodes/9781887744430?ref=grid-view&qid=1557067800709&sr=1-12',\n",
       "  'https://www.bookdepository.com/Foreign-Language-Instruction-in-the-United-States-Nancy-C-Rhodes-Lucinda-E-Branaman/9781887744430',\n",
       "  'https://www.bookdepository.com/Learning-About-Writing-Pam-Czerniewska-Michael-Stubbs/9780631169628',\n",
       "  'https://www.bookdepository.com/Teaching-Grammar-R--Hudson/9780631166252',\n",
       "  'https://www.bookdepository.com/American-Bilingual-Tradition-Heinz-Kloss/9781887744027',\n",
       "  'https://www.bookdepository.com/Macmillan-Books-for-Teachers-Discover-English-Rod-Bolitho/9783190125838',\n",
       "  'https://www.bookdepository.com/Calvin-i-Hobbes-Tom-2-Cos-sie-slini-pod-lozkiem-Bill-Watterson/9788323747703?ref=bd_ser_1_1',\n",
       "  'https://www.bookdepository.com/Martian-Tales-Edgar-Rice-Burroughs/9780345331380',\n",
       "  'https://www.bookdepository.com/Saudi-Arabia-Robert-Harper/9780791069356',\n",
       "  'https://www.bookdepository.com/Saudi-Arabia-Robert-Harper/9780791071762',\n",
       "  'https://www.bookdepository.com/Landmark-Hip-Hop-Hits-Carol-Ellis/9781422221211',\n",
       "  'https://www.bookdepository.com/Buddy-Does-Seattle-Peter-Bagge/9781560976233?ref=grid-view',\n",
       "  'https://www.bookdepository.com/Buddy-Buys-Dump-Peter-Bagge/9781606997451?ref=bd_ser_1_1',\n",
       "  'https://www.bookdepository.com/Buddy-Does-Seattle-Peter-Bagge/9781560976233?ref=bd_ser_1_1',\n",
       "  'https://www.bookdepository.com/Un-anno-Walnut-Tree-Roger-Deakin/9788860405067',\n",
       "  'https://www.bookdepository.com/Encyclopedia-Apocalypticism-Apocalypticism-Modern-Period-Contemporary-Age-v-3/9780826412553',\n",
       "  'https://www.bookdepository.com/Encyclopedia-Apocalypticism-Apocalypticism-Modern-Period-Contemporary-Age-v-3-Bernard-McGinn/9780826412553?ref=grid-view&qid=1557067887962&sr=1-3',\n",
       "  'https://www.bookdepository.com/Encyclopedia-Apocalypticism-Origins-Apocalypticism-Judaism-Christianity-v-1-Bernard-McGinn/9780826412539?ref=grid-view&qid=1557067887962&sr=1-1',\n",
       "  'https://www.bookdepository.com/Internationalisierung-der-LehrerInnenbildung/9783830932352',\n",
       "  'https://www.bookdepository.com/Reflexionsmethoden-Der-Praktikumsbegleitung/9783830927792',\n",
       "  'https://www.bookdepository.com/Il-crimine-organizzato-Napoli-Felia-Allum/9788883252532',\n",
       "  'https://www.bookdepository.com/PARIS-REVISITED-ORIENT-EXPRESS-Alison-Culliford/9781862055179',\n",
       "  'https://www.bookdepository.com/Luisa-Hurra-es-geht-zum-Ponyhof-Doch-leider-find-ich-Ponys-doof-Janne-Nilsson/9783505135040',\n",
       "  'https://www.bookdepository.com/Hot-Wheels-Field-Guide-Michael-Zarnock/9781440232091?ref=grid-view',\n",
       "  'https://www.bookdepository.com/Hot-Wheels-Field-Guide-Michael-Zarnock/9781440232091?ref=bd_ser_1_1',\n",
       "  'https://www.bookdepository.com/Eagle-Rome-Dan-Metcalf/9781512481877',\n",
       "  'https://www.bookdepository.com/Hot-Wheels-Field-Guide-Dan-Stearns/9780873496223?ref=grid-view&qid=1557068017589&sr=1-2',\n",
       "  'https://www.bookdepository.com/Vollkorn-Backen-Peter-Gradwohl/9783708805641',\n",
       "  'https://www.bookdepository.com/Once-Upon-Potty-Boy-Alona-Frankel/9781770854048',\n",
       "  'https://www.bookdepository.com/Tempest-for-Kids-Lois-Burdett/9781552093269',\n",
       "  'https://www.bookdepository.com/Once-Upon-Potty-Girl-Alona-Frankel/9781770854055',\n",
       "  'https://www.bookdepository.com/Much-Ado-About-Nothing-for-Kids-Lois-Burdett/9781552094136?ref=bd_ser_1_1',\n",
       "  'https://www.bookdepository.com/Childs-Portrait-Shakespeare-Lois-Burdett/9780887532610?ref=bd_ser_1_1',\n",
       "  'https://www.bookdepository.com/Barbarian-Chicks-Demons-v-3-Hartmann/9781561635962?ref=grid-view',\n",
       "  'https://www.bookdepository.com/Air-Pilots-Manual-Aeroplane-Technical-Principles-Flight-Aircraft-General-Flight-Planning-Performance-4-Dorothy-Saul-Pooley/9781843362166?ref=grid-view',\n",
       "  'https://www.bookdepository.com/Air-Pilots-Manual-Flying-Training-1-Dorothy-Saul-Pooley/9781843362159?ref=grid-view',\n",
       "  'https://www.bookdepository.com/Essentials-Physical-Geography-Daniel-Wise/9780030985638',\n",
       "  'https://www.bookdepository.com/MARCO-POLO-Reisef%C3%BChrer-USA-S%C3%BCdstaaten-Michael-Schwelien/9783829726450',\n",
       "  'https://www.bookdepository.com/MARCO-POLO-Reisef%C3%BChrer-USA-Karl-Teuschl/9783829726429',\n",
       "  'https://www.bookdepository.com/Sustainability-at-Work-Bruce-Perrott/9780734608062',\n",
       "  'https://www.bookdepository.com/Dead-Men-Dont-Ski-Patricia-Moyes/9781631941276',\n",
       "  'https://www.bookdepository.com/Das-Recht-der-angestellten-Rechtsanw%C3%A4lte-Julian-Nebel/9783824011858',\n",
       "  'https://www.bookdepository.com/Handbuch-WEG-Michael-Baumgart/9783824013043?ref=bd_ser_1_1',\n",
       "  'https://www.bookdepository.com/Bibliographie-des-Anwaltsrechts-2000-2010/9783824012091',\n",
       "  'https://www.bookdepository.com/Rechtsanw%C3%A4lte-als-Spezialisten-und-Generalisten-Matthias-Kilian/9783824054183',\n",
       "  'https://www.bookdepository.com/Cigars-Pharaoh-First-Last/9780867199055',\n",
       "  'https://www.bookdepository.com/Blue-Lotus-Herge/9780867199062?ref=bd_ser_1_1',\n",
       "  'https://www.bookdepository.com/Cloud-Unknowing-Image-William-Johnston/9780385030977?ref=grid-view',\n",
       "  'https://www.bookdepository.com/Interior-Castle-Avila-Saint-Teresa/9780385036436?ref=bd_ser_1_1',\n",
       "  'https://www.bookdepository.com/Confessions-St-Augustine-Edmund-Augustine/9780385029551?ref=grid-view&qid=1557068184688&sr=1-5',\n",
       "  'https://www.bookdepository.com/Dora-Sigmund-Freud/9780684829463',\n",
       "  'https://www.bookdepository.com/Advent-Christmas-with-Saints-Anthony-Chiffolo/9780764809934?ref=bd_ser_1_1',\n",
       "  'https://www.bookdepository.com/Secret-Holy-War-Santiago-de-Chile-Marco-Antonio-De-La-Parra/9781566561273',\n",
       "  'https://www.bookdepository.com/Nostalgia-de-la-Sombra-Eduardo-Antonio-Parra/9789682708701',\n",
       "  'https://www.bookdepository.com/Sunburst-Phyllis-Gotlieb/9781895837940',\n",
       "  'https://www.bookdepository.com/Knights-Lunch-Table-1-Frank-Cammuso/9780606105712?ref=bd_ser_1_1',\n",
       "  'https://www.bookdepository.com/Dragon-Players-Frank-Cammuso/9780606106269?ref=bd_ser_1_1',\n",
       "  'https://www.bookdepository.com/Knights-of-the-Lunch-Table-3-Frank-Cammuso/9780606229975',\n",
       "  'https://www.bookdepository.com/Knights-Lunch-Table-3-Frank-Cammuso/9780606229975?ref=grid-view&qid=1557068247275&sr=1-6',\n",
       "  'https://www.bookdepository.com/Naturwissenschaften-Biologie-Chemie-Physik-Sch%C3%BClerbuch-Vom-Experimetieren-und-dem-Entstehen-der-Naturwissenschaften-Hans-Joachim-Wilke/9783464851609',\n",
       "  'https://www.bookdepository.com/Naturwissenschaften-Biologie-Chemie-Physik-G%C3%BCnter-Zahradnik/9783464851661?ref=bd_ser_1_1',\n",
       "  'https://www.bookdepository.com/Paleo-Food-List-Jane-Burton/9781500136277',\n",
       "  'https://www.bookdepository.com/Letters-156-210-Roland-Augustine/9781565482005',\n",
       "  'https://www.bookdepository.com/On-Genesis-Saint-Augustine/9781565481756?ref=bd_ser_1_1',\n",
       "  'https://www.bookdepository.com/Expositions-Psalms-73-98-4-Part-18-Edmund-Augustine/9781565481664',\n",
       "  'https://www.bookdepository.com/Expositions-Psalms-1-32-1-Part-15-Edmund-Augustine/9781565481404',\n",
       "  'https://www.bookdepository.com/Augustine-Day-by-Day/9781937913489',\n",
       "  'https://www.bookdepository.com/Teaching-Christianity-Edmund-Augustine/9781565480490',\n",
       "  'https://www.bookdepository.com/Expositions-Psalms-1-32-1-Part-15-Edmund-Augustine/9781565481404?ref=bd_ser_1_1',\n",
       "  'https://www.bookdepository.com/Landschaften-der-Seele-oder-Wie-wir-Mann-und-Frau-werden-Eugen-Drewermann/9783843606196',\n",
       "  'https://www.bookdepository.com/Landschaften-der-Seele-oder-Wie-uns-die-Liebe-verzaubert-Eugen-Drewermann/9783843606172?ref=bd_ser_1_1',\n",
       "  'https://www.bookdepository.com/Un-Learning-Disability-Annmarie-D-Baines/9780807755365?ref=bd_ser_1_1',\n",
       "  'https://www.bookdepository.com/Seher-Briefe-Lettres-du-Voyant-Arthur-Rimbaud/9783871620225',\n",
       "  'https://www.bookdepository.com/Un-Learning-Disability-Annmarie-D-Baines/9780807755761',\n",
       "  'https://www.bookdepository.com/Un-Learning-Disability-Annmarie-D-Baines/9780807755365',\n",
       "  'https://www.bookdepository.com/Greek-Prose-Course-Forensic-Oratory-Unit-1-Lysias/9781853995378?ref=grid-view&qid=1557068328755&sr=1-30',\n",
       "  'https://www.bookdepository.com/Bungo-Stray-Dogs-Vol-3-Kafka-Asagiri/9780316468152',\n",
       "  'https://www.bookdepository.com/Bungo-Stray-Dogs-Vol-2-Kafka-Asagiri/9780316468145',\n",
       "  'https://www.bookdepository.com/Der-Wanderfalk-Wolfgang-Fischer/9783894324544',\n",
       "  'https://www.bookdepository.com/Urkundenbuch-Des-Hochstifts-Halberstadt-Und-Seiner-Bischofe-Ralf-Lusiardi/9783412222826?ref=bd_ser_1_1',\n",
       "  'https://www.bookdepository.com/Konzeptionelle-Uberlegungen-Zur-Edition-Von-Rechnungen-Und-Amtsbuchern-Des-Spaten-Mittelalters/9783847106777',\n",
       "  'https://www.bookdepository.com/200-Jahre-Code-Civil/9783412351052',\n",
       "  'https://www.bookdepository.com/Zwischen-Formstrenge-Und-Billigkeit/9783412203245',\n",
       "  'https://www.bookdepository.com/Deutsche-Diktatorische-Rechtsgeschichten/9783161566950',\n",
       "  'https://www.bookdepository.com/Lessing-Yearbook/9780814339022',\n",
       "  'https://www.bookdepository.com/Soziale-Dimensionen-Visueller-Kommunikation-Hoch-Und-Spatmittelalterlichen-Frauenkommunitaten-Katharina-Ulrike-Mersch/9783899719307?ref=bd_ser_1_1',\n",
       "  'https://www.bookdepository.com/Das-Reichskammergericht-Und-Seine-Richter-Sigrid-Jahns/9783412064037?ref=bd_ser_1_1',\n",
       "  'https://www.bookdepository.com/Mit-Freundschaft-Oder-Mit-Recht-Anja-Amend-Traut/9783412224028?ref=bd_ser_1_1',\n",
       "  'https://www.bookdepository.com/Ein-Zivilprozess-am-Reichskammergericht-Peter-Oestmann/9783412202460?ref=bd_ser_1_1',\n",
       "  'https://www.bookdepository.com/Die-Richterschaft-Des-Oberlandesgerichts-Frankfurt-Am-Main-Der-Zeit-Des-Nationalsozialismus-Arthur-von-Gruenewaldt/9783161538438?ref=bd_ser_1_1',\n",
       "  'https://www.bookdepository.com/Weimarer-Zivilrechtswissenschaft-Martin-L%C3%B6hnig/9783161533259?ref=bd_ser_1_1',\n",
       "  'https://www.bookdepository.com/Die-Diatenfrage-Nikolaus-Urban/9783161479861?ref=bd_ser_1_1',\n",
       "  'https://www.bookdepository.com/Recht-Und-Elektrizitat-Jan-H%C3%B6vermann/9783161552298?ref=bd_ser_1_1',\n",
       "  'https://www.bookdepository.com/Mit-Freundschaft-Oder-Mit-Recht/9783412224028',\n",
       "  'https://www.bookdepository.com/Die-Junge-Rechtsgeschichte-Johannes-Liebrecht/9783161565465',\n",
       "  'https://www.bookdepository.com/Wechselverbindlichkeiten-VOR-Dem-Reichskammergericht-Anja-Amend-Traut/9783412201272',\n",
       "  'https://www.bookdepository.com/Das-Reichskammergericht-Und-Seine-Richter-Sigrid-Jahns/9783412064037',\n",
       "  'https://www.bookdepository.com/Die-Richterschaft-Des-Oberlandesgerichts-Frankfurt-Am-Main-Der-Zeit-Des-Nationalsozialismus-Arthur-von-Gruenewaldt/9783161538438',\n",
       "  'https://www.bookdepository.com/Das-Gesetzliche-Mittreuhanderische-Schuldverhaltnis-Kraft-Gemeinsamer-Elternschaft-Mareike-Preisner/9783161528675',\n",
       "  'https://www.bookdepository.com/Weimarer-Zivilrechtswissenschaft-Martin-L%C3%B6hnig/9783161533259',\n",
       "  'https://www.bookdepository.com/Besitzschutz-Europa-Therese-M%C3%BCller/9783161502200?ref=bd_ser_1_1',\n",
       "  'https://www.bookdepository.com/Zentralitat-Und-Raumgefuege-Der-Groastadte-Im-20-Jahrhundert-Clemens-Zimmermann/9783515088985',\n",
       "  'https://www.bookdepository.com/Das-Finanztransfergeschaft-ALS-Zahlungsdienst-Christopher-Danwerth/9783161548956?ref=grid-view&qid=1557068388211&sr=1-5',\n",
       "  'https://www.bookdepository.com/Buergerschaftliche-Reprasentanz-Und-Kommunale-Daseinsvorsorge-Wolfgang-Hofmann/9783515101202?ref=bd_ser_1_1',\n",
       "  'https://www.bookdepository.com/Schade-Dass-Beton-Nicht-Brennt-Sebastian-Haumann/9783515098892?ref=bd_ser_1_1',\n",
       "  'https://www.bookdepository.com/Das-Finanztransfergeschaft-ALS-Zahlungsdienst-Christopher-Danwerth/9783161548956',\n",
       "  'https://www.bookdepository.com/Schade-Dass-Beton-Nicht-Brennt-Sebastian-Haumann/9783515098892',\n",
       "  'https://www.bookdepository.com/Selling-Berlin-Marc-Schalenberg/9783515089524',\n",
       "  'https://www.bookdepository.com/Humboldt-Auf-Reisen-Marc-Schalenberg/9783796519307',\n",
       "  'https://www.bookdepository.com/Katholisch-und-emanzipiert-Anna-Maria-Schmidt/9783861106739',\n",
       "  'https://www.bookdepository.com/Translation-von-Fachsprache-literarischen-Texten-Ursula-Wienen/9783861106296',\n",
       "  'https://www.bookdepository.com/Tucholskys-Berlin/9783861102960',\n",
       "  'https://www.bookdepository.com/Examen-Titel-Promotionen-Rainer-Ch-Schwinges/9783796521553?ref=bd_ser_1_1',\n",
       "  'https://www.bookdepository.com/Bildungswege-Lebenswege-Beat-Immenhauser/9783796522864?ref=bd_ser_1_1',\n",
       "  'https://www.bookdepository.com/Nat%C3%BCrlich-sind-es-Bruchst%C3%BCcke-Sabine-G%C3%B6ttel/9783861101253?ref=bd_ser_1_1',\n",
       "  'https://www.bookdepository.com/Mit-der-Schreibmaschine-gegen-die-Katastrophe-Literarische-Publizistik-wider-den-Nationalsozialismus-Friedhelm-Greis/9783861104803?ref=bd_ser_1_1',\n",
       "  'https://www.bookdepository.com/Der-Erste-Weltkrieg-im-Geschichtsunterricht-B%C3%A4rbel-Kuhn/9783861105589?ref=bd_ser_1_1',\n",
       "  'https://www.bookdepository.com/Hermeneutics-Reflection-Friedrich-Wilhelm-von-Herrmann/9781442640092',\n",
       "  'https://www.bookdepository.com/Bildungswege-Lebenswege-Beat-Immenhauser/9783796522864',\n",
       "  'https://www.bookdepository.com/Netzr%C3%BCckwirkungen-Walter-Hormann/9783800730889?ref=bd_ser_1_1',\n",
       "  'https://www.bookdepository.com/Transformatoren-Bd-5-Rudolf-Janus/9783800729210?ref=bd_ser_1_1',\n",
       "  'https://www.bookdepository.com/Anlagentechnik-f%C3%BCr-elektrische-Verteilungsnetze-Transformatoren-Hermann-Nagel/9783802208140?ref=bd_ser_1_1',\n",
       "  'https://www.bookdepository.com/Karl-Amadeus-Hartmann-Andrew-D-McCredie/9783795902971',\n",
       "  'https://www.bookdepository.com/Der-singende-Klavierton-oder-das-Wie-des-Pedals-Waldemar-Maysenh%C3%B6lder/9783795908157',\n",
       "  'https://www.bookdepository.com/Anlagentechnik-f%C3%BCr-elektrische-Verteilungsnetze-Transformatoren-Hermann-Nagel/9783802208140',\n",
       "  'https://www.bookdepository.com/Transformatoren-Bd-5-Rudolf-Janus/9783800729210',\n",
       "  'https://www.bookdepository.com/Netzstationen-Illo-Frank-Primus/9783800731534',\n",
       "  'https://www.bookdepository.com/Systematische-Netzplanung-Hermann-Nagel/9783800730872',\n",
       "  'https://www.bookdepository.com/Netzstationen-Illo-Frank-Primus/9783800736058',\n",
       "  'https://www.bookdepository.com/Was-ist-Musik-Taschenb%C3%BCcher-zur-Musikwissenschaft-Carl-Dahlhaus/9783795904654?ref=bd_ser_1_1',\n",
       "  'https://www.bookdepository.com/Die-Musik-der-Araber-Habib-Touma/9783795901820?ref=bd_ser_1_1',\n",
       "  'https://www.bookdepository.com/Gods-Technology-Richard-Rojcewicz/9780791466421',\n",
       "  'https://www.bookdepository.com/Bruno-Walter-Bruno-Walter/9780486492179',\n",
       "  'https://www.bookdepository.com/Instation%C3%A4re-gekoppelte-energetische-und-w%C3%A4rmephysiologische-Bewertung-von-Regelungsstrategien-f%C3%BCr-HLK-Systeme-Seifert/9783800743001',\n",
       "  'https://www.bookdepository.com/Bruno-Walter-Bruno-Walter/9780486492179?ref=bd_ser_1_1',\n",
       "  'https://www.bookdepository.com/Die-Aktualit%C3%A4t-des-Deutschen-Idealismus-Robert-B-Pippin/9783518297841',\n",
       "  'https://www.bookdepository.com/Reflexology-way-Better-Health-Nicola-M-Hall/9788170215912',\n",
       "  'https://www.bookdepository.com/Philosophy-Commentators-200-600-AD-Sourcebook-Richard-Sorabji/9780801489891',\n",
       "  'https://www.bookdepository.com/Cosedadire-Giuseppe-Bertolucci/9788845267888',\n",
       "  'https://www.bookdepository.com/Roma-enigmistica-Dagli-antichi-Romani-ai-sommi-pontefici-dallurbe-ai-giorni-nostri-Quando-il-fascino-del-gioco-di-parole-svela-le-verit%C3%A0-nascoste-della-storia-Federico-Mussano/9788873540663',\n",
       "  'https://www.bookdepository.com/Educare-con-il-lavoro-Raniero-Regni/9788883588679',\n",
       "  'https://www.bookdepository.com/Autismo-Anna-M-Arpinati-Daniela-Mariani-Cerati-Daniele-Tasso/9788860815910',\n",
       "  'https://www.bookdepository.com/Memorie-di-Goro-Luoghi-personaggi-e-mestieri-di-una-comunit%C3%A0-profondamente-radicata-nel-delta-del-Po-Galileo-Maestri/9788873540649?ref=bd_ser_1_1',\n",
       "  'https://www.bookdepository.com/La-fine-della-pubblicit%C3%A0-Le-nuove-tecniche-e-le-strategie-pubblicitarie-Armin-Brott/9788883585531?ref=bd_ser_1_1',\n",
       "  'https://www.bookdepository.com/Autismo-Anna-M-Arpinati/9788860815910',\n",
       "  'https://www.bookdepository.com/Tisca-Test-di-ingresso-alla-scuola-per-allievi-con-autismo-Anna-M-Arpinati/9788860815958',\n",
       "  'https://www.bookdepository.com/Water-Cycle-at-Work-Rebecca-Olien/9781474712255',\n",
       "  'https://www.bookdepository.com/Cleaning-Water-Rebecca-Olien/9781474712279?ref=bd_ser_1_1',\n",
       "  'https://www.bookdepository.com/Exploring-Moon-Rebecca-Olien/9781404234666',\n",
       "  'https://www.bookdepository.com/Exploring-Planets-Our-Solar-System-Rebecca-Olien/9781404234673?ref=bd_ser_1_1',\n",
       "  'https://www.bookdepository.com/Exploring-Comets-Jennifer-Way/9781404234697',\n",
       "  'https://www.bookdepository.com/Exploring-the-Moon-Rebecca-Olien/9781404234666',\n",
       "  'https://www.bookdepository.com/Exploring-Moon-Rebecca-Olien/9781404234666?ref=grid-view&qid=1557068490537&sr=1-7',\n",
       "  'https://www.bookdepository.com/Organ-Transplantation-Ann-Fullick/9780431124919',\n",
       "  'https://www.bookdepository.com/Minibeast-Senses-Charlotte-Guillain/9780431194912',\n",
       "  'https://www.bookdepository.com/Pomeranians-Susan-Heinrichs-Gray/9781489650191',\n",
       "  'https://www.bookdepository.com/Dachshunds-Susan-Heinrichs-Gray/9781489650177',\n",
       "  'https://www.bookdepository.com/Barn-Owls-Rebecca-Rissman/9781406282818',\n",
       "  'https://www.bookdepository.com/Basset-Hounds-Susan-H-Gray/9781489645791?ref=bd_ser_1_1',\n",
       "  'https://www.bookdepository.com/Pugs-Susan-H-Gray/9781489645951?ref=bd_ser_1_1',\n",
       "  'https://www.bookdepository.com/Beagles-Susan-Heinrichs-Gray/9781489645814?ref=bd_ser_1_1',\n",
       "  'https://www.bookdepository.com/Barn-Owls-Rebecca-Rissman/9781406282818?ref=bd_ser_1_1',\n",
       "  'https://www.bookdepository.com/Mice-Rebecca-Rissman/9781484603116?ref=bd_ser_1_1',\n",
       "  'https://www.bookdepository.com/Red-Foxes-Rebecca-Rissman/9781484603123?ref=bd_ser_1_1',\n",
       "  'https://www.bookdepository.com/Barn-Owls-Rebecca-Rissman/9781484603109?ref=bd_ser_1_1',\n",
       "  'https://www.bookdepository.com/Mice-Rebecca-Rissman/9781406282825?ref=bd_ser_1_1',\n",
       "  'https://www.bookdepository.com/Badgers-Rebecca-Rissman/9781406282856?ref=bd_ser_1_1',\n",
       "  'https://www.bookdepository.com/Mice-Rebecca-Rissman/9781406282894',\n",
       "  'https://www.bookdepository.com/Mice-Rebecca-Rissman/9781406282825',\n",
       "  'https://www.bookdepository.com/Red-Foxes-Rebecca-Rissman/9781406282832',\n",
       "  'https://www.bookdepository.com/Wedding-Bible-Sarah-Haywood/9780954712907',\n",
       "  'https://www.bookdepository.com/ITIL-continual-service-improvement-Great-Britain-Cabinet-Office/9780113313082',\n",
       "  'https://www.bookdepository.com/Largo-Dia-De-Colera-Leopoldo-Marechal/9789505816880',\n",
       "  'https://www.bookdepository.com/Practice-International-Commercial-Arbitration-Anselmo-Reyes/9781138202283',\n",
       "  'https://www.bookdepository.com/Statutory-Instruments-Bound-Volumes-Part-I/9780118404754',\n",
       "  'https://www.bookdepository.com/Statutory-Instruments-Bound-Volumes-Part-I-Stationery-Office/9780118404754?ref=bd_ser_1_1',\n",
       "  'https://www.bookdepository.com/Day-Dead-Colouring-Book/9780753730980',\n",
       "  'https://www.bookdepository.com/Maritime-Fraud-Paul-Todd/9781843112549',\n",
       "  'https://www.bookdepository.com/Supergod-v-1-Warren-Ellis/9781592910991',\n",
       "  'https://www.bookdepository.com/Nextwave-Agents-H-t-e-Complete-Collection-new-Printing-Warren-Ellis/9780785198390',\n",
       "  'https://www.bookdepository.com/Supergod-v-1-Warren-Ellis/9781592910991?ref=bd_ser_1_1',\n",
       "  'https://www.bookdepository.com/Nextwave-Agents-H-t-e-Complete-Collection-new-Printing-Warren-Ellis/9780785198390?ref=bd_ser_1_1',\n",
       "  'https://www.bookdepository.com/Wolfskin-v-1-Warren-Ellis/9781592910779',\n",
       "  'https://www.bookdepository.com/Batman-Adam-Schlagman/9781401231439',\n",
       "  'https://www.bookdepository.com/Sturmzeit-Wilde-Lupinen-Charlotte-Link/9783734106019?ref=grid-view&qid=1557068588935&sr=1-6',\n",
       "  'https://www.bookdepository.com/Last-Battle-Garth-Ennis/9781592911042',\n",
       "  'https://www.bookdepository.com/Freakangels-Vol-6-Warren-Ellis/9781592911349',\n",
       "  'https://www.bookdepository.com/Thousand-Sons-Graham-McNeill/9781849708203',\n",
       "  'https://www.bookdepository.com/Eye-Terra-Laurie-Goulding/9781784963736?ref=bd_ser_1_1',\n",
       "  'https://www.bookdepository.com/Sorella-Rosamund-Lupton/9788862511025',\n",
       "  'https://www.bookdepository.com/Die-Flecken-im-Fell-des-Leoparden-Helge-Sobik/9783854527589',\n",
       "  'https://www.bookdepository.com/Mord-Serie-31-Life-Unlimited-Marion-Musiol/9783945757789',\n",
       "  'https://www.bookdepository.com/Lesereise-Barcelona-Markus-Jakob/9783854529743?ref=bd_ser_1_1',\n",
       "  'https://www.bookdepository.com/Bakuman-Vol-7-Tsugumi-Ohba/9781421538884',\n",
       "  'https://www.bookdepository.com/Altertumswissenschaften-Im-Dialog/9783934628410',\n",
       "  'https://www.bookdepository.com/Wien-Christian-Eder/9783834213648',\n",
       "  'https://www.bookdepository.com/Internet-Explorer-5-Microsoft-Guia-Practica-Juan-Antonio-Valero-Lopez/9788441508491',\n",
       "  'https://www.bookdepository.com/Facturaplus-2008-Sandra-De-Prado-Morante/9788441524125?ref=bd_ser_1_1',\n",
       "  'https://www.bookdepository.com/Nominaplus-2008-Sandra-De-Prado-Morante/9788441524118',\n",
       "  'https://www.bookdepository.com/Oscurato-Testo-tedesco-fronte-Paul-Celan/9788806200152',\n",
       "  'https://www.bookdepository.com/Sintaxis-Historica-de-La-Lengua-Espanola-Tercera-Parte-Concepcion-Company-Company/9786071620439',\n",
       "  'https://www.bookdepository.com/La-Lengua-Espanola-en-Mexico-Jose-G-Moreno-De-Alba/9789681670825?ref=bd_ser_1_1',\n",
       "  'https://www.bookdepository.com/Fundamentos-del-Lenguaje-Professor-Philosophy-Ray-Jackendoff/9786071605306?ref=bd_ser_1_1',\n",
       "  'https://www.bookdepository.com/Fundamentos-del-Lenguaje-Professor-Philosophy-Ray-Jackendoff/9786071605306?ref=grid-view&qid=1557068661734&sr=1-2',\n",
       "  'https://www.bookdepository.com/De-Finezas-y-Libertad-Alberto-Perez-Amador-Adam/9786071606358?ref=grid-view&qid=1557068661734&sr=1-15',\n",
       "  'https://www.bookdepository.com/Noah-Hugo-Loetscher/9780857420466',\n",
       "  'https://www.bookdepository.com/Mr-Adamson-Urs-Widmer/9780857422323?ref=bd_ser_1_1',\n",
       "  'https://www.bookdepository.com/Il-senso-della-nascita-Luigi-Giussani/9788817063104',\n",
       "  'https://www.bookdepository.com/Sognando-la-Rivoluzione-Danilo-Breschi/9788856400236',\n",
       "  'https://www.bookdepository.com/Flora-Analitica-Della-Toscana-Virgilio-Arrigoni-Pier/9788859617396',\n",
       "  'https://www.bookdepository.com/Flora-Analitica-Della-Toscana-Virgilio-Arrigoni-Pier/9788859617396?ref=bd_ser_1_1',\n",
       "  'https://www.bookdepository.com/Case-Di-Poeti-Anna-De-Simone/9788856401790?ref=bd_ser_1_1',\n",
       "  'https://www.bookdepository.com/search/Flora-Analitica-Della-Toscana-Virgilio-Arrigoni-Pier/9788859617396',\n",
       "  'https://www.bookdepository.com/Carlo-Guarienti-Vittorio-Sgarbi/9788845025815',\n",
       "  'https://www.bookdepository.com/Carlo-Guarienti-Vittorio-Sgarbi/9788845025815?ref=bd_ser_1_1',\n",
       "  'https://www.bookdepository.com/Il-wagneriano-perfetto-George-Bernard-Shaw/9788870630152',\n",
       "  'https://www.bookdepository.com/Passaggi-Irving-Penn--Zeri/9788835501442',\n",
       "  'https://www.bookdepository.com/Remo-Brindisi-Dal-realismo-alla-nuova-figurazione-Enzo-Fabiani/9788885638068?ref=grid-view&qid=1557068710925&sr=1-22',\n",
       "  'https://www.bookdepository.com/Passaggi-Irving-Penn/9788835501442?ref=grid-view&qid=1557068710925&sr=1-21',\n",
       "  'https://www.bookdepository.com/Remo-Brindisi-Dal-realismo-alla-nuova-figurazione-Enzo-Fabiani-M-Sapunzachi/9788885638068',\n",
       "  'https://www.bookdepository.com/Duchamp-Marcel-Arturo-Schwarz/9788845013485',\n",
       "  'https://www.bookdepository.com/Il-genio-di-Jacopo-Bellini-Colin-Eisler/9788835500582',\n",
       "  'https://www.bookdepository.com/Mozza-at-Home-Nancy-Silverton/9780385354325?ref=bd_ser_1_1',\n",
       "  'https://www.bookdepository.com/Tectonic-Evolution-Southeast-Asia/9781897799529',\n",
       "  'https://www.bookdepository.com/Be-with-You-Takuji-Ichikawa/9781421513867',\n",
       "  'https://www.bookdepository.com/Radon-Health-Natural-Hazards/9781786203083',\n",
       "  'https://www.bookdepository.com/Gyo-2-1-Deluxe-Edition-Junji-Ito/9781421579153',\n",
       "  'https://www.bookdepository.com/Katanagatari-1-Nisioisin/9781947194328',\n",
       "  'https://www.bookdepository.com/Hablame-De-TI-Fernando-G-Delgado/9788420481128',\n",
       "  'https://www.bookdepository.com/Hermana-Muerte-Hermana-Muerte-Navarro/9788420480718?ref=bd_ser_1_1',\n",
       "  'https://www.bookdepository.com/Las-Amigas-Imperfectas-Luis-del-Val/9788484333395',\n",
       "  'https://www.bookdepository.com/Saboreando-el-Cielo-Ibtisam-Barakat/9788483430705',\n",
       "  'https://www.bookdepository.com/Saboreando-el-Cielo-Ibtisam-Barakat/9788483430705?ref=bd_ser_1_1',\n",
       "  'https://www.bookdepository.com/Otra-Vuelta-de-Tuerca-Turn-Screw-Henry-James/9788491050827',\n",
       "  'https://www.bookdepository.com/Canola/9780981893655',\n",
       "  'https://www.bookdepository.com/Richard-III-William-Shakespeare/9780141013039',\n",
       "  'https://www.bookdepository.com/Basotho-Gary-Van-Wyk/9780823920051',\n",
       "  'https://www.bookdepository.com/Shona-Gary-Van-Wyk/9780823920112?ref=bd_ser_1_1',\n",
       "  'https://www.bookdepository.com/Fulani-Pat-I-Ndukwe/9780823919826',\n",
       "  'https://www.bookdepository.com/Playback-Raymond-Chandler/9781483017198',\n",
       "  'https://www.bookdepository.com/Walter-D-Edmonds-Storyteller-Lionel-D-Wyld/9780815601807',\n",
       "  'https://www.bookdepository.com/Naval-War-College-Lionel-D-Wyld/9780738502908',\n",
       "  'https://www.bookdepository.com/Old-Time-Music-Makers-New-York-State-Simon-J-Bronner/9780815602163?ref=bd_ser_1_1',\n",
       "  'https://www.bookdepository.com/Three-Eyes-on-Past-Louis-Clark-Jones/9780815601791?ref=bd_ser_1_1',\n",
       "  'https://www.bookdepository.com/Gentle-Hugs-for-Grieving-Hearts-Julie-Allyson-Ieron/9781593177904',\n",
       "  'https://www.bookdepository.com/Gentle-Hugs-for-Grieving-Hearts-Julie-Allyson-Ieron/9781593177904?ref=bd_ser_1_1',\n",
       "  'https://www.bookdepository.com/Military-Drones-Matt-Chandler/9781474733229',\n",
       "  'https://www.bookdepository.com/Experimental-Drones-Amie-Jane-Leavitt/9781474733175?ref=bd_ser_1_1',\n",
       "  'https://www.bookdepository.com/Recreational-Drones-Matt-Chandler/9781474733151?ref=bd_ser_1_1',\n",
       "  'https://www.bookdepository.com/Military-Drones-Matt-Chandler/9781474733182?ref=bd_ser_1_1',\n",
       "  'https://www.bookdepository.com/Agricultural-Drones-Simon-Rose/9781474733168?ref=bd_ser_1_1',\n",
       "  'https://www.bookdepository.com/Drones-Pack-of-4-Simon-Rose-Amie-Jane-Leavitt-Matt-Chandler/9781474733281',\n",
       "  'https://www.bookdepository.com/Experimental-Drones-Amie-Jane-Leavitt/9781474733212',\n",
       "  'https://www.bookdepository.com/Drones-Pack-4-Simon-Rose/9781474733281?ref=grid-view&qid=1557068891618&sr=1-10',\n",
       "  'https://www.bookdepository.com/Bill-Rights-Amie-Jane-Leavitt/9781584159476',\n",
       "  'https://www.bookdepository.com/Navy-Seals-Simon-Rose/9781621274599',\n",
       "  'https://www.bookdepository.com/Poetic-Lives-Byron-Sarah-Gristwood/9781843913078',\n",
       "  'https://www.bookdepository.com/Poetic-Lives-Donne-Nicholas-Robins/9781843913030?ref=bd_ser_1_1',\n",
       "  'https://www.bookdepository.com/Poetic-Lives-Keats-Robert-Mighall/9781843913023?ref=bd_ser_1_1',\n",
       "  'https://www.bookdepository.com/16-Simple-Concepts-Improve-Your-Full-Court-Offense-Against-Pressing-Defenses-Kevin-Sivils/9781500805425',\n",
       "  'https://www.bookdepository.com/Lets-Visit-Bahrain-Susan-Hassall/9780222010933',\n",
       "  'https://www.bookdepository.com/Health-is-Wealth/9783897396197',\n",
       "  'https://www.bookdepository.com/Muhammad-Ali-Jack-Rummel/9780791083307',\n",
       "  'https://www.bookdepository.com/Health-is-Wealth-Felix-Unger/9783897396197?ref=bd_ser_1_1',\n",
       "  'https://www.bookdepository.com/Subtile-Differenzen-Nora-Schmidt/9783865963161',\n",
       "  'https://www.bookdepository.com/Flanerie-der-tschechischen-Literatur-Nora-Schmidt/9783826061219',\n",
       "  'https://www.bookdepository.com/Denkraum-Spatantike-Nora-Schmidt/9783447105996',\n",
       "  'https://www.bookdepository.com/M%C3%A9moires-und-Mon-Histoire-Alina-Chernova/9783865961211?ref=bd_ser_1_1',\n",
       "  'https://www.bookdepository.com/Subtile-Differenzen-Nora-Schmidt/9783865963161?ref=grid-view&qid=1557068948824&sr=1-4',\n",
       "  'https://www.bookdepository.com/Subtile-Differenzen-Nora-Schmidt-Ute-Raloff/9783865963161',\n",
       "  'https://www.bookdepository.com/Handbuch-des-Russischen-Deutschland-Kai-Witzlack-Makarevich/9783732902279?ref=grid-view&qid=1557068948824&sr=1-3',\n",
       "  'https://www.bookdepository.com/Painting-by-Modern-Masters-Thomas-M-Messer/9780892070640',\n",
       "  'https://www.bookdepository.com/Painting-Since-World-War-II-Thomas-M-Messer/9780892070664?ref=bd_ser_1_1',\n",
       "  'https://www.bookdepository.com/Painting-by-Modern-Masters-Thomas-M-Messer/9780892070640?ref=bd_ser_1_1',\n",
       "  'https://www.bookdepository.com/Ill-be-Devil-Leo-Butler/9781408101490',\n",
       "  'https://www.bookdepository.com/Girl-Who-Takes-Eye-for-Eye-David-Lagercrantz/9780857057648?ref=bd_ser_1_1',\n",
       "  'https://www.bookdepository.com/Irans-Constitutional-Revolution/9781848854154',\n",
       "  'https://www.bookdepository.com/Vienna-insolita-e-segreta-Michaela-Lindinger/9782361952129',\n",
       "  'https://www.bookdepository.com/Forbidden-Places-Vol-3-Sylvain-Margaine/9782361951313?ref=bd_ser_1_1',\n",
       "  'https://www.bookdepository.com/Grundlagen-der-Unternehemensorganisation-Christiana-Nicolai/9783830530954',\n",
       "  'https://www.bookdepository.com/After-i-History-Sexuality-i/9780857453730',\n",
       "  'https://www.bookdepository.com/Comenius-im-Blick-Katerina-solcov%C3%A1/9783883098449',\n",
       "  'https://www.bookdepository.com/Findlinge-Armin-Wildermuth/9783883099446',\n",
       "  'https://www.bookdepository.com/Geschichte-der-Absatzwirtschaft-vom-Altertum-bis-zur-Fr%C3%BChen-Neuzeit/9783879887705',\n",
       "  'https://www.bookdepository.com/Die-Bedeutung-privater-Bankh%C3%A4user-f%C3%BCr-die-Entwicklung-des-bargeldlosen-Zahlungsverkehrs-im-19-Jahrhundert-Christopher-Zerres/9783866180161',\n",
       "  'https://www.bookdepository.com/Bild-Hans-Rainer-Sepp/9783826049415',\n",
       "  'https://www.bookdepository.com/Polis-und-Kosmos/9783826034985',\n",
       "  'https://www.bookdepository.com/Ordnungsfragen-zweiseitiger-M%C3%A4rkte-im-professionellen-Fu%C3%9Fballsport-Nina-Saldsieder/9783957100627?ref=bd_ser_1_1',\n",
       "  'https://www.bookdepository.com/Europ%C3%A4isches-Wirtschaftsrecht-Thomas-Zerres/9783957100399?ref=bd_ser_1_1',\n",
       "  'https://www.bookdepository.com/Form-und-Wert-G%C3%BCnter-Fr%C3%B6hlich/9783826045639?ref=bd_ser_1_1',\n",
       "  'https://www.bookdepository.com/Mundanisierung-und-Individuation-bei-Edmund-Husserl-und-Eugen-Fink-Guy-van-Kerckhoven/9783826025518?ref=bd_ser_1_1',\n",
       "  'https://www.bookdepository.com/Hinaus-Alexander-Schnell/9783826045325?ref=bd_ser_1_1',\n",
       "  'https://www.bookdepository.com/Ordnungsfragen-zweiseitiger-M%C3%A4rkte-im-professionellen-Fu%C3%9Fballsport-Nina-Saldsieder/9783957100627',\n",
       "  'https://www.bookdepository.com/Interne-Markenf%C3%BChrung-Martha-Jagoda/9783957100252',\n",
       "  'https://www.bookdepository.com/Twenty-Change-Steve-Dipasquale/9781926724737',\n",
       "  'https://www.bookdepository.com/Twenty-Change-Steve-Dipasquale/9781926724737?ref=bd_ser_1_1',\n",
       "  'https://www.bookdepository.com/Subcultural-Sounds-Mark-Slobin/9780819562616?ref=grid-view&qid=1557069031719&sr=1-2',\n",
       "  'https://www.bookdepository.com/The-City-of-Musical-Memory-Lise--Waxer/9780819564412',\n",
       "  'https://www.bookdepository.com/Brownian-Motion/9781612095370',\n",
       "  'https://www.bookdepository.com/Group-Theory-Charles-W-Danellis/9781608761753?ref=bd_ser_1_1',\n",
       "  'https://www.bookdepository.com/Grace-Course-Participants-Guide-Steve-Goss/9780857213235',\n",
       "  'https://www.bookdepository.com/Freedom-Christ-Leaders-Guide-Neil-T-Anderson/9781854249395',\n",
       "  'https://www.bookdepository.com/Break-Free-Stay-Free-Steve-Goss/9781854248596',\n",
       "  'https://www.bookdepository.com/Disciple-DVD-Steve-Goss/9780857216984?ref=bd_ser_1_1',\n",
       "  'https://www.bookdepository.com/Grace-Course-Leaders-Guide-Steve-Goss/9780857213242?ref=bd_ser_1_1',\n",
       "  'https://www.bookdepository.com/Macmillan-Caribbean-Writers-Fear-Stones-Other-Stories-Kei-Miller/9781405066372',\n",
       "  'https://www.bookdepository.com/Macmillan-Caribbean-Writers-Bellas-Gate-Boy-CD-Pack-Trevor-D-Rhone/9780230030121',\n",
       "  'https://www.bookdepository.com/War-Its-Shadow-Helen-Graham/9781845195113',\n",
       "  'https://www.bookdepository.com/Curious-Incident-Dog-Night-Time-SparkNotes-Literature-Guide-Sparknotes/9781411471009?ref=grid-view',\n",
       "  'https://www.bookdepository.com/Crucible-SparkNotes-Literature-Guide-Sparknotes/9781411469501?ref=grid-view',\n",
       "  'https://www.bookdepository.com/War-Its-Shadow-Helen-Graham/9781845195106?ref=bd_ser_1_1',\n",
       "  'https://www.bookdepository.com/Change-Wars/9781934009314',\n",
       "  'https://www.bookdepository.com/Ley-de-enjuiciamiento-criminal-y-legislacion-complementaria-Criminal-Procedure-Act-Additional-Legislation-Javier-Vecina-Cifuentes/9788430940394',\n",
       "  'https://www.bookdepository.com/Leaders-on-Leadership-George-Barna/9780801017384?ref=bd_ser_1_1',\n",
       "  'https://www.bookdepository.com/On-Common-Ground-Rick-Stiggins/9781932127423?ref=bd_ser_1_1',\n",
       "  'https://www.bookdepository.com/Una-filosofia-del-derecho-en-modelos-historicos-Philosophy-law-historical-model-Alfonso-Ruiz-Miguel/9788481645705?ref=bd_ser_1_1',\n",
       "  'https://www.bookdepository.com/Ley-del-gobierno-y-ley-de-organizacion-y-funcionamiento-de-la-administracion-general-del-estado-Government-Law-Law-Organization-Operation-General-Administration-State/9788430931750?ref=bd_ser_1_1',\n",
       "  'https://www.bookdepository.com/Sin-destino-Fateless-Imre-Kertesz/9788496489431',\n",
       "  'https://www.bookdepository.com/Ida-Lous-Story-Susan-Kirby/9780689809729?ref=bd_ser_1_1',\n",
       "  'https://www.bookdepository.com/Jesus-Loves-Me-Debby-Anderson/9780781430753',\n",
       "  'https://www.bookdepository.com/Jesus-is-with-Me/9780781430760',\n",
       "  'https://www.bookdepository.com/My-Friend-Noah-Debby-Anderson/9781555136659',\n",
       "  'https://www.bookdepository.com/Black-Beauty-Anna-Sewell/9781908533203',\n",
       "  'https://www.bookdepository.com/Adventures-Huckleberry-Finn-Mark-Twain/9781908533128',\n",
       "  'https://www.bookdepository.com/Call-Wild-Jack-London/9781908533708',\n",
       "  'https://www.bookdepository.com/Doctor-Faustus-Christopher-Marlowe/9780872207301',\n",
       "  'https://www.bookdepository.com/Medic-Brian-Finkelstein/9780997289985',\n",
       "  'https://www.bookdepository.com/KGI-01-Dunkle-Stunde-Maya-Banks/9783802586743',\n",
       "  'https://www.bookdepository.com/KGI-Jenseits-des-Sturms-Maya-Banks/9783736303300?ref=bd_ser_1_1',\n",
       "  'https://www.bookdepository.com/Girl-with-Long-Green-Heart-Lawrence-Block/9780786218127',\n",
       "  'https://www.bookdepository.com/Matter-Fear-Seymour-Shubin/9780786243105',\n",
       "  'https://www.bookdepository.com/Pathways-Literacy-Trevor-H-Cairney/9780304327218',\n",
       "  'https://www.bookdepository.com/Pathways-Literacy-Trevor-H-Cairney/9780304327232?ref=bd_ser_1_1',\n",
       "  'https://www.bookdepository.com/Madah-Sartre-Alek-Baylee-Toumi/9780803211155',\n",
       "  'https://www.bookdepository.com/Making-Voyageur-World-Carolyn-Podruchny/9780803287907?ref=bd_ser_1_1',\n",
       "  'https://www.bookdepository.com/Kurze-Geschichte-n-der-franz%C3%B6sischen-Literatur-f%C3%BCr-Deutsche-Fritz-Nies/9783643115041',\n",
       "  'https://www.bookdepository.com/Kurze-Geschichte-n-der-franz%C3%B6sischen-Literatur-f%C3%BCr-Deutsche-Fritz-Nies/9783643115041?ref=bd_ser_1_1',\n",
       "  'https://www.bookdepository.com/Textlinguistik-Eugenio-Coseriu/9783823362463',\n",
       "  'https://www.bookdepository.com/search/Kurze-Geschichten-der-franzosischen-Literatur---fur-Deutsche-Fritz-Nies/9783643115041',\n",
       "  'https://www.bookdepository.com/Representations-Processes-Language-Production-Ralf-Klabunde/9783824443482?ref=bd_ser_1_1',\n",
       "  'https://www.bookdepository.com/Argumentellipse-Ursula-Krevs-Birk/9783823362142?ref=bd_ser_1_1',\n",
       "  'https://www.bookdepository.com/%C3%9Cbersetzung-und-Linguistik-J%C3%B6rn-Albrecht/9783823367932?ref=bd_ser_1_1',\n",
       "  'https://www.bookdepository.com/Empirie-Linguistik-und-Sprachlehrforschung-Ruth-Albert/9783823349853',\n",
       "  'https://www.bookdepository.com/Plays-75-Caroline-Molina-y-Vedia/9780826407375',\n",
       "  'https://www.bookdepository.com/Lexikalische-Probleme-der-lernersprachlichen-Produktion-Astrid-Reich/9783860579268',\n",
       "  'https://www.bookdepository.com/Reflections-upon-Genre/9783823368175',\n",
       "  'https://www.bookdepository.com/%C3%9Cbersetzen-als-interlinguales-und-interkulturelles-Sprachhandeln-Gisela-Thome/9783865963529',\n",
       "  'https://www.bookdepository.com/%C3%9Cbersetzer-als-Entdecker-Ihr-Leben-und-Werk-Andreas-F-Kelletat/9783732900602?ref=bd_ser_1_1',\n",
       "  'https://www.bookdepository.com/Comics-%C3%9Cbersetzungen-und-Adaptionen-Nathalie-M%C3%A4lzer/9783732901319?ref=bd_ser_1_1',\n",
       "  'https://www.bookdepository.com/En-Las-Vertientes-de-La-Traducci-N-E-Interpretaci-N-del-Al-Alem-N-Silvia-Roiss/9783865963260?ref=bd_ser_1_1',\n",
       "  'https://www.bookdepository.com/Alles-Hangt-Mit-Allem-Zusammen-Anne-Kathrin-D-Ende/9783865965042?ref=bd_ser_1_1',\n",
       "  'https://www.bookdepository.com/Jahrbuch-Deutsch-als-Fremdsprache-32-2006/9783891291689',\n",
       "  'https://www.bookdepository.com/Das-WIE-des-%C3%9Cbersetzens/9783732905362',\n",
       "  'https://www.bookdepository.com/Jahrbuch-Deutsch-als-Fremdsprache-Andrea-Bogner/9783891298398?ref=bd_ser_1_1',\n",
       "  'https://www.bookdepository.com/Portugal-China-Macau-Negotiations-1986-1999-Carmen-Amado-Mendes/9789888139002',\n",
       "  'https://www.bookdepository.com/den-Grenzen-der-Sprache-Stefan-Schneider/9783865961976?ref=bd_ser_1_1',\n",
       "  'https://www.bookdepository.com/den-Grenzen-der-Sprache-Stefan-Schneider/9783865961976',\n",
       "  'https://www.bookdepository.com/Sens-Capability-Approach-Institutions-Shankaran-Nambiar/9781616685089',\n",
       "  'https://www.bookdepository.com/Grundpfandrechte-Zwischen-Flexibilitat-Und-Schutz-Caroline-S-Rupp/9783161541896',\n",
       "  'https://www.bookdepository.com/Open-Distance-Learning-ODL-South-Africa-Moeketsi-Letseka/9781634638906?ref=bd_ser_1_1',\n",
       "  'https://www.bookdepository.com/Heimat-ALS-Rechtsbegriff-Michael-Kr%C3%A4nzle/9783161532764?ref=bd_ser_1_1',\n",
       "  'https://www.bookdepository.com/Student-Loans-Crystal-Rollins/9781633212671?ref=bd_ser_1_1',\n",
       "  'https://www.bookdepository.com/Student-Loans/9781633212671',\n",
       "  'https://www.bookdepository.com/Rechtsrealismus-multikulturelle-Gesellschaft-und-Handelsrecht/9783428080861',\n",
       "  'https://www.bookdepository.com/Politische-Schriften-Eugen-Ehrlich/9783428124084?ref=bd_ser_1_1',\n",
       "  'https://www.bookdepository.com/Abseits-von-Silicon-Valley/9783956010507',\n",
       "  'https://www.bookdepository.com/Four-Views-on-Christian-Spirituality-Bruce-Demarest/9780310329282',\n",
       "  'https://www.bookdepository.com/Show-Them-No-Mercy-C-S-Cowles/9780310245681?ref=bd_ser_1_1',\n",
       "  'https://www.bookdepository.com/Messy-Easter-Jane-Leadbetter/9780830841400',\n",
       "  'https://www.bookdepository.com/1-Corinthians-Thomas-R-Schreiner/9780830842971',\n",
       "  'https://www.bookdepository.com/Companion-Specialist-Surgical-Practice-Breast-Endocrine-Surgery-v-5-John-R-Farndon/9780702021442?ref=grid-view&qid=1557069292153&sr=1-30',\n",
       "  'https://www.bookdepository.com/Companion-Specialist-Surgical-Practice-Breast-and-Endocrine-Surgery-v-5-John-R-Farndon/9780702021442',\n",
       "  'https://www.bookdepository.com/Endocrine-Surgery-John-R-Farndon/9780702025945',\n",
       "  'https://www.bookdepository.com/1-Peter-Wayne-Grudem/9781844743636?ref=bd_ser_1_1',\n",
       "  'https://www.bookdepository.com/Galatians-R-Alan-Cole/9780830842391?ref=bd_ser_1_1',\n",
       "  'https://www.bookdepository.com/Hebrews-Dr-Donald-Guthrie/9780830842452?ref=bd_ser_1_1',\n",
       "  'https://www.bookdepository.com/2-Peter-Jude-Michael-Green/9781844743643?ref=bd_ser_1_1',\n",
       "  'https://www.bookdepository.com/Galatians-R-Alan-Cole/9781844742950?ref=bd_ser_1_1',\n",
       "  'https://www.bookdepository.com/7-Principles-Highly-Accountable-Men-Mark-R-Laaser/9780834127425',\n",
       "  'https://www.bookdepository.com/Becoming-Man-Valor-Mark-R-Laaser/9780834127401?ref=bd_ser_1_1',\n",
       "  'https://www.bookdepository.com/100-Ideas-for-Supporting-Pupils-with-Dyspraxia-DCD-Andrew-Kirby/9780826494405',\n",
       "  'https://www.bookdepository.com/Neutral-Milk-Hotel-Aeroplane-Over-Sea-Kim-Cooper/9780826416902',\n",
       "  'https://www.bookdepository.com/100-Ideas-for-Supporting-Pupils-with-Dyspraxia-DCD-Andrew-Kirby/9780826494405?ref=bd_ser_1_1',\n",
       "  'https://www.bookdepository.com/100-Ideas-for-Supporting-Pupils-on-Autistic-Spectrum-Francine-Brower/9780826494214?ref=bd_ser_1_1',\n",
       "  'https://www.bookdepository.com/Benedict-XVI-Tracey-Rowland/9780567034366',\n",
       "  'https://www.bookdepository.com/100-Ideas-for-Supporting-Pupils-on-Autistic-Spectrum-Francine-Brower/9780826494214',\n",
       "  'https://www.bookdepository.com/Historical-Critical-Method-David-R-Law/9780567400123?ref=bd_ser_1_1',\n",
       "  'https://www.bookdepository.com/Inspiration-David-R-Law/9780826451835',\n",
       "  'https://www.bookdepository.com/Holiness-Steven-Barton/9780567088239?ref=bd_ser_1_1',\n",
       "  'https://www.bookdepository.com/Lonely-Planet-Lo-Mejor-de-Francia-Lonely-Planet/9788408140115',\n",
       "  'https://www.bookdepository.com/Lonely-Planet-Indonesia-Lonely-Planet/9788408152378',\n",
       "  'https://www.bookdepository.com/Anglo-Saxon-Books-Their-Readers/9781580441384',\n",
       "  'https://www.bookdepository.com/Hobbit-Natasha-Hughes/9780007578450',\n",
       "  'https://www.bookdepository.com/V-VA-Travel-Guide-Ecuador-Galapagos-Islands/9780979126420',\n",
       "  'https://www.bookdepository.com/Brick-Animals-Warren-Elsmore/9781438008806',\n",
       "  'https://www.bookdepository.com/Brick-Animals-Warren-Elsmore/9781438008806?ref=bd_ser_1_1',\n",
       "  'https://www.bookdepository.com/Brick-Cars-Trucks-Warren-Elsmore/9781438008813?ref=bd_ser_1_1',\n",
       "  'https://www.bookdepository.com/Como-hacer-entrevistas-How-Interview-Lorenza-Clifford/9789583027574',\n",
       "  'https://www.bookdepository.com/10-Reasons-Love-Whale-Catherine-Barr/9781786030146?ref=bd_ser_1_1',\n",
       "  'https://www.bookdepository.com/Sobreviva-la-intimidacion-en-su-trabajo-Survive-intimidation-your-Job-Lorenza-Clifford/9789583027604?ref=bd_ser_1_1',\n",
       "  'https://www.bookdepository.com/Captain-America-Omnibus-Vol-1-new-Printing-Stan-Lee/9781302901615',\n",
       "  'https://www.bookdepository.com/Sobreviva-la-intimidacion-en-su-trabajo-Survive-intimidation-your-Job-Lorenza-Clifford/9789583027604?ref=grid-view&qid=1557069350574&sr=1-1',\n",
       "  'https://www.bookdepository.com/Administre-su-carrera-Manage-your-Career-C-Black-Publishers/9789583027598?ref=grid-view&qid=1557069350574&sr=1-2',\n",
       "  'https://www.bookdepository.com/Captain-America-Omnibus-Vol-1-new-Printing-Stan-Lee/9781302901615?ref=bd_ser_1_1',\n",
       "  'https://www.bookdepository.com/search/Captain-America-Omnibus-Vol-1-new-Printing-Stan-Lee-Jack-Kirby-Jim-Steranko/9781302901615',\n",
       "  'https://www.bookdepository.com/Kirby100-John-Morrow/9781605490786',\n",
       "  'https://www.bookdepository.com/Kirby100-John-Morrow/9781605490786?ref=bd_ser_1_1',\n",
       "  'https://www.bookdepository.com/Three-Stooges-1-St-John-Publishing-Co/9781530373734',\n",
       "  'https://www.bookdepository.com/Three-Stooges-1-S-Check/9781945205064',\n",
       "  'https://www.bookdepository.com/Pink-Panther-1-S-L-Gallant/9781945205040',\n",
       "  'https://www.bookdepository.com/Pink-Panther-1-S-L-Gallant/9781945205040?ref=bd_ser_1_1',\n",
       "  'https://www.bookdepository.com/CAMPFIRE-COOKING-Bear-Grylls/9781783423019',\n",
       "  'https://www.bookdepository.com/CAMPFIRE-COOKING-Bear-Grylls/9781783423019?ref=grid-view&qid=1557069388012&sr=1-5',\n",
       "  'https://www.bookdepository.com/Bear-Grylls-Survival-Skills-Handbook-Maps-Navigation-Bear-Grylls/9781783423002?ref=grid-view&qid=1557069388012&sr=1-2',\n",
       "  'https://www.bookdepository.com/Justice-Society-America-Geoff-Johns/9781840235722',\n",
       "  'https://www.bookdepository.com/Spider-man-Brand-New-Day-Vol-2/9780785128465',\n",
       "  'https://www.bookdepository.com/Spider-man-American-Son/9780785140832',\n",
       "  'https://www.bookdepository.com/Spider-man-Brand-New-Day-Vol-1/9780785128458',\n",
       "  'https://www.bookdepository.com/Invisibles-Phil-Jimenez/9781563894442',\n",
       "  'https://www.bookdepository.com/Invisibles-Grant-Morrison/9781563894893',\n",
       "  'https://www.bookdepository.com/Neue-Schals-M%C3%BCtzen-Co-Tanja-Steinbach/9783772466625',\n",
       "  'https://www.bookdepository.com/Flash-John-Broome/9781401213725',\n",
       "  'https://www.bookdepository.com/N%C3%A4hideen-f%C3%BCr-Gl%C3%BCckspilze-Heike-Roland/9783772466892',\n",
       "  'https://www.bookdepository.com/Aliens-Vampirella-Corinna-Sara-Bechko/9781606909911',\n",
       "  'https://www.bookdepository.com/Doctor-Strange-By-Donny-Cates-Vol-2-City-Sin-Donny-Cates/9781302910655',\n",
       "  'https://www.bookdepository.com/Doctor-Strange-By-Donny-Cates-Vol-2-City-Sin-Donny-Cates/9781302910655?ref=bd_ser_1_1',\n",
       "  'https://www.bookdepository.com/Fantastic-Four-Heroes-Return-Complete-Collection-Vol-1-Scott-Lobdell/9781302916237',\n",
       "  'https://www.bookdepository.com/search/Doctor-Strange-By-Donny-Cates-Vol-2-City-Of-Sin-Donny-Cates-Niko-Henrichon/9781302910655',\n",
       "  'https://www.bookdepository.com/Grimm-Fairy-Tales-Myths-Legends-4-Troy-Brownfield/9781937068646?ref=bd_ser_1_1',\n",
       "  'https://www.bookdepository.com/Run-for-Your-Life-Jonny-Zucker/9781849264907',\n",
       "  'https://www.bookdepository.com/Galactic-Games-Sci-Fi-Spy-Guy-Roger-Hurn/9781849264747?ref=bd_ser_1_1',\n",
       "  'https://www.bookdepository.com/Das-Gedicht-6-Oktober-1998-Anton-G-Leitner/9783929433562?ref=bd_ser_1_1',\n",
       "  'https://www.bookdepository.com/Aircraft-Systems-Allan-Seabridge/9780470770931',\n",
       "  'https://www.bookdepository.com/Inside-Gemini-David-M-Harland/9781499466973',\n",
       "  'https://www.bookdepository.com/Inside-Gemini-David-M-Harland/9781499466973?ref=bd_ser_1_1',\n",
       "  'https://www.bookdepository.com/Future-Human-Space-Exploration-Giovanni-Bignami/9781349707461',\n",
       "  'https://www.bookdepository.com/Maschenmode-f%C3%BCr-kleine-K%C3%B6pfe-Helga-Spitz/9783772466649',\n",
       "  'https://www.bookdepository.com/Baby-Sch%C3%BChchen-stricken-Helga-Spitz/9783772466588',\n",
       "  'https://www.bookdepository.com/Stulpen-stricken-Helga-Spitz/9783772469275',\n",
       "  'https://www.bookdepository.com/Kreative-Ketten-stricken-Friederike-Pfund/9783772466724',\n",
       "  'https://www.bookdepository.com/Music-Therapy-Leisure-for-Persons-with-Disabilities-Alicia-L-Barksdale/9781571675118',\n",
       "  'https://www.bookdepository.com/Music-Therapy-Leisure-for-Persons-with-Disabilities-Alicia-L-Barksdale/9781571675118?ref=bd_ser_1_1',\n",
       "  'https://www.bookdepository.com/Including-Youth-with-Disabilities-in-Outdoor-Programs-Steve-Brannan/9781571675002',\n",
       "  'https://www.bookdepository.com/Including-Youth-with-Disabilities-Outdoor-Programs-Steve-Brannan/9781571675002?ref=grid-view&qid=1557069463207&sr=1-2',\n",
       "  'https://www.bookdepository.com/Including-Youth-with-Disabilities-Outdoor-Programs-Steve-Brannan/9781571675002',\n",
       "  'https://www.bookdepository.com/First-Picture-Book-Museums/9781474941914',\n",
       "  'https://www.bookdepository.com/Bible-Stories-That-End-with-Hug-Stephen-Elkins/9781414375434',\n",
       "  'https://www.bookdepository.com/Historias-B-blicas-Para-Compartir-Un-Abrazo-Stephen-Elkins/9781414383590',\n",
       "  'https://www.bookdepository.com/Caravan-Motorhome-Clubs-Touring-Europe-2019-caravan-motorhome-or-tent-Caravan-Club/9781999323608',\n",
       "  'https://www.bookdepository.com/Caravan-Motorhome-Clubs-Touring-Europe-2019-caravan-motorhome-or-tent-Caravan-Club/9781999323608?ref=bd_ser_1_1',\n",
       "  'https://www.bookdepository.com/Touring-Spain-Portugal-2016-Caravan-Club/9780993278129',\n",
       "  'https://www.bookdepository.com/Caravan-Europe-Guide-Sites-Touring-Spain-Portugal-2012-2013-2012-2013-Caravan-Club/9780956951014',\n",
       "  'https://www.bookdepository.com/Caravan-Europe-Guide-Sites-Touring-Austria-Benelux-Central-Europe-Germany-Greece-Italy-Scandinavia-Switzerland-2012-2013-2012-2013-Caravan-Club/9780956951021',\n",
       "  'https://www.bookdepository.com/Southern-Highlands-Nick-Williams/9780954421700',\n",
       "  'https://www.bookdepository.com/Welsh-Marches-Ben-Giles/9781907025181?ref=bd_ser_1_1',\n",
       "  'https://www.bookdepository.com/Infinite-Bloom-500-Piece-Puzzle-Sarah-McMenemy/9780735357846',\n",
       "  'https://www.bookdepository.com/Infinite-Bloom-500-Piece-Puzzle-Sarah-McMenemy/9780735357846?ref=bd_ser_1_1',\n",
       "  'https://www.bookdepository.com/Interpreters-Early-Medieval-Britain-Professor-Michael-Lapidge/9780197262771?ref=bd_ser_1_1',\n",
       "  'https://www.bookdepository.com/Century-British-Medieval-Studies-Alan-Deyermond/9780197263952?ref=bd_ser_1_1',\n",
       "  'https://www.bookdepository.com/House-Nire-Morio-Kita/9780870118593',\n",
       "  'https://www.bookdepository.com/Camino-Portugues-Maps-Mapas-Mappe-Karten-John-Brierley/9781844097159',\n",
       "  'https://www.bookdepository.com/Horizons-Cancer-Research/9781634854634',\n",
       "  'https://www.bookdepository.com/New-Developments-Bone-Cancer-Research-C-E-ONeill/9781594543371?ref=bd_ser_1_1',\n",
       "  'https://www.bookdepository.com/Horizons-Cancer-Research-Hiroto-S-Watanabe/9781634822299?ref=bd_ser_1_1',\n",
       "  'https://www.bookdepository.com/Horizons-Cancer-Research-Hiroto-S-Watanabe/9781631172465?ref=bd_ser_1_1',\n",
       "  'https://www.bookdepository.com/Local-Methods-Nonlinear-Differential-Equations-Alexander-D-Bruno/9783540189268',\n",
       "  'https://www.bookdepository.com/Geometries-Groups-Viacheslav-V-Nikulin/9783540152811?ref=bd_ser_1_1',\n",
       "  'https://www.bookdepository.com/Horse-Anatomy-Workbook-Maggie-Raynor/9780851319056?ref=grid-view',\n",
       "  'https://www.bookdepository.com/List-Matthew-K-Manning/9781496531100',\n",
       "  'https://www.bookdepository.com/Go-Slow-Matthew-K-Manning/9781496531094',\n",
       "  'https://www.bookdepository.com/Two-Sides-Matthew-K-Manning/9781496531070',\n",
       "  'https://www.bookdepository.com/Mist-Matthew-K-Manning/9781496531087?ref=bd_ser_1_1',\n",
       "  'https://www.bookdepository.com/Mist-Matthew-K-Manning/9781496531087',\n",
       "  'https://www.bookdepository.com/Mars-for-Humanity-Brandon-Terrell/9781496505033',\n",
       "  'https://www.bookdepository.com/Dragons-Riders-Berk-V02-Simon-Furman/9780606356060',\n",
       "  'https://www.bookdepository.com/Dragons-Defenders-Berk-Simon-Furman/9781782762157?ref=bd_ser_1_1',\n",
       "  'https://www.bookdepository.com/Ghosts-Central-Jersey-Gordon-Thomas-Ward/9781596294684',\n",
       "  'https://www.bookdepository.com/Haunted-Natchez-Alan-Brown/9781596299283?ref=bd_ser_1_1',\n",
       "  'https://www.bookdepository.com/Stumptown-Vol-2-Greg-Rucka/9781620104804',\n",
       "  'https://www.bookdepository.com/Stumptown-One-Greg-Rucka/9781620104408',\n",
       "  'https://www.bookdepository.com/Stumptown-Vol-2-Greg-Rucka/9781620104804?ref=bd_ser_1_1',\n",
       "  'https://www.bookdepository.com/Il-ghigno-di-Arlecchino-Adriano-Barone/9788895313139',\n",
       "  'https://www.bookdepository.com/Hitler-Jugend-na-Dolnym-Slasku-1933-1945-CD-Szymon-Wrzesinski/9788373391413',\n",
       "  'https://www.bookdepository.com/Petla-Zdrady-Jacek-Wilamowski/9788386245727?ref=bd_ser_1_1',\n",
       "  'https://www.bookdepository.com/Klamstwo-stulecia-W-cieniu-Katynia-Jacek-Wilamowski/9788373390058?ref=bd_ser_1_1',\n",
       "  'https://www.bookdepository.com/Tajne-bronie-Hitlera-Boguslaw-Wrobel/9788373390911?ref=bd_ser_1_1',\n",
       "  'https://www.bookdepository.com/Die-Sonne-Olivier-Py/9783875362978',\n",
       "  'https://www.bookdepository.com/Die-Sonne-Olivier-Py/9783875362978?ref=bd_ser_1_1',\n",
       "  'https://www.bookdepository.com/Oi-Schauspiel-John-von-D%C3%BCffel/9783926112507?ref=bd_ser_1_1',\n",
       "  'https://www.bookdepository.com/How-Draw-Manga-Manga-Figuren-entwickeln-Hikaru-Hayashi/9783551752444',\n",
       "  'https://www.bookdepository.com/How-Draw-Manga-Oberfl%C3%A4chen-und-Strukturen-im-Manga-Hikaru-Hayashi/9783551752482',\n",
       "  'https://www.bookdepository.com/15-Minute-Mandarin-Chinese-DK/9781465415783',\n",
       "  'https://www.bookdepository.com/Complete-Indonesian-Christopher-Byrnes/9781471800726',\n",
       "  'https://www.bookdepository.com/Reise-Know-How-Praxis-Hinduismus-erleben-Rainer-Krack/9783831720811',\n",
       "  'https://www.bookdepository.com/Inspecting-Grain-United-States/9781622572526',\n",
       "  'https://www.bookdepository.com/High-flying-Birds-Jerome-M-Mileur/9780826271785',\n",
       "  'https://www.bookdepository.com/Rethinking-Structural-Reform-Turkish-Agriculture-Baris-Karapina/9781608767182?ref=bd_ser_1_1',\n",
       "  'https://www.bookdepository.com/Der-Geruch-von-Heu-Giorgio-Bassani/9783803126139',\n",
       "  'https://www.bookdepository.com/Agriculture-Disaster-Crop-Insurance-Angela-M-Gil/9781617615597?ref=grid-view&qid=1557069695200&sr=1-1',\n",
       "  'https://www.bookdepository.com/Rethinking-Structural-Reform-Turkish-Agriculture/9781608767182',\n",
       "  'https://www.bookdepository.com/Plant-Genetic-Resources-Food-Security-Marlena-Diaz/9781617617324?ref=grid-view&qid=1557069696675&sr=1-132',\n",
       "  'https://www.bookdepository.com/Soybeans-Jason-E-Maxwell/9781617617621?ref=grid-view&qid=1557069696675&sr=1-147',\n",
       "  'https://www.bookdepository.com/U-S-Dairy-Farming-Demand-Keith-Lennon/9781619421240?ref=grid-view&qid=1557069696675&sr=1-150',\n",
       "  'https://www.bookdepository.com/Colorado-Potato-Beetle-Investigations-South-Urals-Galina-V-Benkovskaya/9781617289514?ref=grid-view&qid=1557069696675&sr=1-149',\n",
       "  'https://www.bookdepository.com/Grazing-Ecology/9781621004363',\n",
       "  'https://www.bookdepository.com/Plant-Genetic-Resources-Food-Security/9781617617324',\n",
       "  'https://www.bookdepository.com/Benzin-im-Blut-Horst-Ihling/9783866806795',\n",
       "  'https://www.bookdepository.com/Deprivation-Liberty-Safeguards-TSO/9780113228157?ref=grid-view',\n",
       "  'https://www.bookdepository.com/Complete-Idiots-Guide-Dairy-Free-Eating-Scott-H-Sicherer/9781592579136',\n",
       "  'https://www.bookdepository.com/Monte-Carlo-Principles-Neutron-Transport-Problems-Jerome-Spanier/9780486462936',\n",
       "  'https://www.bookdepository.com/Integrated-Chinese-Tao-Cheng-Yao/9780887274596',\n",
       "  'https://www.bookdepository.com/New-Chinese-300-Faculty-Peking-Language-Inst/9780887270017?ref=bd_ser_1_1',\n",
       "  'https://www.bookdepository.com/English-Chinese-Glossary-of-American-Criminal-Law-and-Criminal-Procedure-Law-Yi-Seng-Kiang/9780887271113',\n",
       "  'https://www.bookdepository.com/Spiritualitat-Wolfgang-Lienemann/9783525871621',\n",
       "  'https://www.bookdepository.com/Reich-Gottes-Wolfram-Wei%C3%9Fe/9783525871720?ref=bd_ser_1_1',\n",
       "  'https://www.bookdepository.com/Mira-Schendel/9781849760904',\n",
       "  'https://www.bookdepository.com/Branching-Out-Nandini-Sundar/9780195656527',\n",
       "  'https://www.bookdepository.com/Maxwellians-Bruce-J-Hunt/9780801426414',\n",
       "  'https://www.bookdepository.com/Misery-Stephen-King/9781444720716?ref=grid-view',\n",
       "  'https://www.bookdepository.com/Stand-Stephen-King/9780307743688?ref=grid-view',\n",
       "  'https://www.bookdepository.com/Pet-Sematary-Stephen-King/9781444708134?ref=grid-view',\n",
       "  'https://www.bookdepository.com/House-Leaves-Mark-Z-Danielewski/9780375703768?ref=grid-view',\n",
       "  'https://www.bookdepository.com/Pet-Sematary-Stephen-King/9781529378313?ref=grid-view',\n",
       "  'https://www.bookdepository.com/Tower-Swallow-Andrzej-Sapkowski/9781473211575?ref=grid-view',\n",
       "  'https://www.bookdepository.com/Baptism-Fire-Andrzej-Sapkowski/9780575090972?ref=grid-view',\n",
       "  'https://www.bookdepository.com/Harry-Potter-Goblet-Fire-J-K-Rowling/9781408855683?ref=grid-view',\n",
       "  'https://www.bookdepository.com/Time-Contempt-Andrzej-Sapkowski/9780575090941?ref=grid-view',\n",
       "  'https://www.bookdepository.com/Bee-Book-DK/9780241217429?ref=grid-view',\n",
       "  'https://www.bookdepository.com/We-Should-All-Be-Feminists-Chimamanda-Ngozi-Adichie/9780008115272?ref=grid-view',\n",
       "  'https://www.bookdepository.com/America-Before-Key-Earths-Lost-Civilization-Graham-Hancock/9781473660571?ref=grid-view',\n",
       "  'https://www.bookdepository.com/House-Leaves-Mark-Z-Danielewski/9781417709045',\n",
       "  'https://www.bookdepository.com/Fifty-Year-Sword-Mark-Z-Danielewski/9780307907721',\n",
       "  'https://www.bookdepository.com/House-Leaves-Mark-Z-Danielewski/9780385603102',\n",
       "  'https://www.bookdepository.com/La-Casa-de-Hojas-Mark-Z-Danielewski/9788492837465',\n",
       "  'https://www.bookdepository.com/Intelligent-Data-Analysis/9783642077074',\n",
       "  'https://www.bookdepository.com/LEGO-R-Ninjago-Character-Encyclopedia-Updated-Expanded-DK/9780241232484',\n",
       "  'https://www.bookdepository.com/Sobre-LA-Fotografia-Susan-Sontag/9788483467794',\n",
       "  'https://www.bookdepository.com/Marvel-Spider-Man-Into-Spider-Verse-Official-Guide-Shari-Last/9780241347843',\n",
       "  'https://www.bookdepository.com/Lark-Ascending/9780193528208',\n",
       "  'https://www.bookdepository.com/For-Remembrance/9780193520813',\n",
       "  'https://www.bookdepository.com/Writers-Life-Julia-Cameron/9781585421039',\n",
       "  'https://www.bookdepository.com/Right-Write-Julia-Cameron/9781781809815',\n",
       "  'https://www.bookdepository.com/Inspirations-Julia-Cameron/9781585421022',\n",
       "  'https://www.bookdepository.com/Old-Hundredth-Psalm-Tune/9780193535084',\n",
       "  'https://www.bookdepository.com/Egypte-Depuis-La-Conquete-Des-Arabes-Jusque-La-Domination-Francaise-Jean-Joseph-Marcel/9780274392056',\n",
       "  'https://www.bookdepository.com/Medical-Medium-Liver-Rescue-Anthony-William/9781401954406?ref=grid-view',\n",
       "  'https://www.bookdepository.com/Complete-Book-Essential-Oils-Aromatherapy-Revised-Expanded-Valerie-Ann-Worwood/9781577311393?ref=grid-view',\n",
       "  'https://www.bookdepository.com/Charlie-Cooks-Favorite-Book-Julia-Donaldson/9780142411384',\n",
       "  'https://www.bookdepository.com/Hold-On-Your-Dreams-Tim-Lawrence/9780822344858?ref=grid-view',\n",
       "  'https://www.bookdepository.com/VHDL-for-Logic-Synthesis-Andrew-Rushton/9781119995852',\n",
       "  'https://www.bookdepository.com/Rules-Civility-Amor-Towles/9780143121169',\n",
       "  'https://www.bookdepository.com/Rabbit-Listened-Cori-Doerrfeld/9780735229358',\n",
       "  'https://www.bookdepository.com/Wild-Creative-Tami-Lynn-Kent/9781582703558',\n",
       "  'https://www.bookdepository.com/Morning-Evening-Meditations-Louise-Hay/9781401901400?ref=grid-view',\n",
       "  'https://www.bookdepository.com/Reluctant-Widow-Georgette-Heyer/9781491573549?ref=grid-view',\n",
       "  'https://www.bookdepository.com/Parenting-from-Inside-out-M-D-Daniel-J-Siegel/9781491512272',\n",
       "  'https://www.bookdepository.com/Lady-Quality-Georgette-Heyer/9781491573051?ref=grid-view',\n",
       "  'https://www.bookdepository.com/Reluctant-Widow-Georgette-Heyer/9780099468073',\n",
       "  'https://www.bookdepository.com/Im-Traveling-Alone-Samuel-Bjork/9780143108627',\n",
       "  'https://www.bookdepository.com/Aesthetics-Method-Epistemology-Michel-Foucault/9780140259568',\n",
       "  'https://www.bookdepository.com/Foucault-Reader-Michel-Foucault/9780394713403',\n",
       "  'https://www.bookdepository.com/Owl-Always-Hunts-at-Night-Samuel-Bjork/9780143110408',\n",
       "  'https://www.bookdepository.com/Come-Sundown-Nora-Roberts/9780349410890?ref=grid-view',\n",
       "  'https://www.bookdepository.com/Ship-Brides-Jojo-Moyes/9780340960387?ref=grid-view',\n",
       "  'https://www.bookdepository.com/Encyclopedia-Prehistorica-Dinosaurs-Matthew-Reinhart/9780744586909?ref=grid-view',\n",
       "  'https://www.bookdepository.com/Guide-Good-Life-William-B-Irvine/9780195374612?ref=grid-view',\n",
       "  'https://www.bookdepository.com/Divided-Loyalties-Diary-Basketball-Father-Bob-Hurley/9780821743911',\n",
       "  'https://www.bookdepository.com/Riot-Grrrl-Collection/9781558618220',\n",
       "  'https://www.bookdepository.com/Fuinneog-ar-Domhan-Safari-Gare-Thompson/9781844501250',\n",
       "  'https://www.bookdepository.com/Human-Molecular-Genetics-Tom-Strachan/9780815341499',\n",
       "  'https://www.bookdepository.com/Molecular-Genetics-Early-Human-Development-Tom-Strachan/9780122204425',\n",
       "  'https://www.bookdepository.com/Delta-Venus-Anais-Nin/9780156029032?ref=grid-view',\n",
       "  'https://www.bookdepository.com/Hebrew-Daily-Prayer-Book-Jonathan-Sacks/9780007200917?ref=grid-view',\n",
       "  'https://www.bookdepository.com/Debt-David-Graeber/9781612194196?ref=grid-view',\n",
       "  'https://www.bookdepository.com/Capital-Twenty-First-Century-Thomas-Piketty/9780674979857?ref=grid-view',\n",
       "  'https://www.bookdepository.com/Wealth-Nations-Adam-Smith/9780553585971?ref=grid-view',\n",
       "  'https://www.bookdepository.com/JPS-TANAKH-Holy-Scriptures-blue/9780827603660',\n",
       "  'https://www.bookdepository.com/JPS-Hebrew-English-TANAKH-Student-Edition/9780827606975',\n",
       "  'https://www.bookdepository.com/JPS-Bible-Pocket-Edition-military/9780827608788',\n",
       "  'https://www.bookdepository.com/JPS-Bible-Pocket-Edition-military/9780827608795',\n",
       "  'https://www.bookdepository.com/Sirens-Other-Daemon-Lovers-Kristin-Kalbli/9781511319690?ref=grid-view',\n",
       "  'https://www.bookdepository.com/Carthage-Joyce-Carol-Oates/9780007485758',\n",
       "  'https://www.bookdepository.com/Accursed-Professor-Humanities-Joyce-Carol-Oates/9780062231703',\n",
       "  'https://www.bookdepository.com/Troll-Mountain-Sean-Mangan/9781486225149?ref=grid-view',\n",
       "  'https://www.bookdepository.com/Elijahs-Violin-Other-Jewish-Fairy-Tales-Howard-Schwartz/9780195092004',\n",
       "  'https://www.bookdepository.com/Gabriels-Palace/9780195093889',\n",
       "  'https://www.bookdepository.com/Box-Delights-John-Masefield/9781405275521',\n",
       "  'https://www.bookdepository.com/Great-Zoo-China-Matthew-Reilly/9781486240593',\n",
       "  'https://www.bookdepository.com/Hover-Car-Racer-Matthew-Reilly/9781742013503',\n",
       "  'https://www.bookdepository.com/Everlasting-Mercy-John-Masefield/9780343651541',\n",
       "  'https://www.bookdepository.com/Contest-Matthew-Reilly/9780330513425',\n",
       "  'https://www.bookdepository.com/Diary-Young-Girl-Anne-Frank/9780241952436?ref=grid-view',\n",
       "  'https://www.bookdepository.com/Diary-Young-Girl-Anne-Frank/9780670919796',\n",
       "  'https://www.bookdepository.com/Poems-North-Yorkshire-Dialect-John-Castillo/9781378672389',\n",
       "  'https://www.bookdepository.com/That-Very-Mab-Andrew-Lang/9781358525797',\n",
       "  'https://www.bookdepository.com/such-Is-Life-May-Kendall/9781248356340',\n",
       "  'https://www.bookdepository.com/Cut-Out-Girl-Bart-Van-Es/9780241978726?ref=grid-view',\n",
       "  'https://www.bookdepository.com/Empress-Dowager-Cixi-Jung-Chang/9780099532392?ref=grid-view',\n",
       "  'https://www.bookdepository.com/World-Trade-Law-after-Neoliberalism-Andrew-Lang/9780199674398',\n",
       "  'https://www.bookdepository.com/World-Trade-Law-after-Neoliberalism-Andrew-Lang/9780199592647',\n",
       "  'https://www.bookdepository.com/Classical-Dictionary-Vulgar-Tongue-Francis-Grose/9781760574024',\n",
       "  'https://www.bookdepository.com/Western-Hemisphere-Idea-Arthur-P-Whitaker/9780649732371',\n",
       "  'https://www.bookdepository.com/Napoleon-Great-Andrew-Roberts/9780141032016?ref=grid-view',\n",
       "  'https://www.bookdepository.com/Antiquities-England-Wales-2-Francis-Grose/9781359687692',\n",
       "  'https://www.bookdepository.com/Putting-FACES-on-Data-Lyn-D-Sharratt/9781452202587',\n",
       "  'https://www.bookdepository.com/After-Quake-Haruki-Murakami/9780099448563',\n",
       "  'https://www.bookdepository.com/Elephant-Vanishes-Haruki-Murakami/9780099448754',\n",
       "  'https://www.bookdepository.com/Picnic-At-Hanging-Rock-Joan-Lindsay/9780099577140',\n",
       "  'https://www.bookdepository.com/Picnic-At-Hanging-Rock-Joan-Lindsay/9781489413833',\n",
       "  'https://www.bookdepository.com/Former-People-Douglas-Smith/9780330520294?ref=grid-view',\n",
       "  'https://www.bookdepository.com/Thats-Why-We-Dont-Eat-Animal-Ruby-Roth/9781556437854?ref=grid-view',\n",
       "  'https://www.bookdepository.com/Ernest-Hemingway-on-Writing-Ernest-Hemingway/9780684854298',\n",
       "  'https://www.bookdepository.com/Weit-vom-Stamm-Andrew-Solomon/9783596197248',\n",
       "  'https://www.bookdepository.com/Farewell-Arms-Ernest-Hemingway/9781857151497',\n",
       "  'https://www.bookdepository.com/My-Face-Is-Black-Is-True-Geraldine-R-Segal-Professor-American-Social-Thought-Professor-History-Mary-Frances-Berry/9781400040032',\n",
       "  'https://www.bookdepository.com/Awkward-Age-Francesca-Segal/9780735216679',\n",
       "  'https://www.bookdepository.com/Innocents-Francesca-Segal/9781401341893',\n",
       "  'https://www.bookdepository.com/Whiteshift-Eric-Kaufmann/9780241317105?ref=grid-view',\n",
       "  'https://www.bookdepository.com/Transition-Advanced-Mathematics-Douglas-Smith/9781285463261',\n",
       "  'https://www.bookdepository.com/Rasputin-Douglas-Smith/9781250141262',\n",
       "  'https://www.bookdepository.com/Japanese-Kanji-for-Beginners-Timothy-G-Stout/9784805310496?ref=grid-view',\n",
       "  'https://www.bookdepository.com/Whiteshift-Populism-Immigration-Future-White-Majorities-Eric-Kaufmann/9781468316971',\n",
       "  'https://www.bookdepository.com/Keeping-Faith-Christian-College-Douglas-K-Smith-Jr/9781499519709',\n",
       "  'https://www.bookdepository.com/Whiteshift-Eric-Kaufmann/9780241317129',\n",
       "  'https://www.bookdepository.com/Political-Demography/9781594519482',\n",
       "  'https://www.bookdepository.com/Mental-Game-Writing-James-Scott-Bell/9780910355339',\n",
       "  'https://www.bookdepository.com/How-Write-Short-Stories-Use-Them-Further-Your-Writing-Career-James-Scott-Bell/9780910355346',\n",
       "  'https://www.bookdepository.com/Super-Structure-James-Scott-Bell/9780910355193',\n",
       "  'https://www.bookdepository.com/Just-Write-James-Scott-Bell/9781599639703',\n",
       "  'https://www.bookdepository.com/Survival-Soul-Lisa-Williams/9781848502185?ref=grid-view',\n",
       "  'https://www.bookdepository.com/Todesschuss-Karen-Rose/9783785749777',\n",
       "  'https://www.bookdepository.com/Nag-Hammadi-Scriptures-Marvin-W-Meyer/9780061626005?ref=grid-view',\n",
       "  'https://www.bookdepository.com/Ecm-Experiencias-Cercanas-la-Muerte-Dr-Penny-Sartori/9788499884721',\n",
       "  'https://www.bookdepository.com/Encountering-China-Michael-J-Sandel/9780674976146?ref=grid-view',\n",
       "  'https://www.bookdepository.com/Iliad-Bk-1-Homer/9780472067923',\n",
       "  'https://www.bookdepository.com/Life-Among-Dead-Lisa-Williams/9781848500877',\n",
       "  'https://www.bookdepository.com/Survival-Soul-Lisa-Williams/9781848502185',\n",
       "  'https://www.bookdepository.com/Case-Against-Perfection-Michael-J-Sandel/9781974956302',\n",
       "  'https://www.bookdepository.com/Case-Against-Perfection-Michael-J-Sandel/9781974956265',\n",
       "  'https://www.bookdepository.com/Le-Roman-Francais-Au-19-Siecle-Avant-Balzac/9781372043994',\n",
       "  'https://www.bookdepository.com/Balzac-LHomme-Et-LOeuvre/9781360507842',\n",
       "  'https://www.bookdepository.com/Historical-Discourse-Delivered-at-Celebration-One-Hundred-Fiftieth-Anniversary-First-Reformed-Dutch-Church-New-Brunswick-N-J-October-1-1867/9780343361167',\n",
       "  'https://www.bookdepository.com/Creature-Teacher-Cards-Scott-Alexander-King/9780738742502',\n",
       "  'https://www.bookdepository.com/Segunda-oportunidad-M-Leighton/9788415433972',\n",
       "  'https://www.bookdepository.com/Gerechtigkeit-Michael-J-Sandel/9783550080098',\n",
       "  'https://www.bookdepository.com/Monadology-Freiherr-Von-Gottfried-Wilhelm-Leibniz/9780822954491',\n",
       "  'https://www.bookdepository.com/Philosophical-Works-Leibnitz/9781363524112',\n",
       "  'https://www.bookdepository.com/Case-Against-Perfection-Michael-J-Sandel/9781974956265?ref=grid-view',\n",
       "  'https://www.bookdepository.com/Herding-Hemingways-Cats-Kat-Arney/9781522642329?ref=grid-view',\n",
       "  'https://www.bookdepository.com/Spirit-Catches-You-You-Fall-Down-Pamela-Xiong/9781511394949?ref=grid-view',\n",
       "  'https://www.bookdepository.com/Leibnizens-Gesammelte-Werke-Aus-Den-Handschriften-Der-Koeniglichen-Bibliothek-Zu-Hannover-Dritte-Folge-Dritter-Band-Gottfried-Wilhelm-Leibniz/9780270389418',\n",
       "  'https://www.bookdepository.com/Scarlet-Katie-Watson/9780190624859',\n",
       "  'https://www.bookdepository.com/When-Dreams-Tremble-Radclyffe/9781522673712',\n",
       "  'https://www.bookdepository.com/Strong-Fathers-Strong-Daughters-Meg-Meeker/9781978604889',\n",
       "  'https://www.bookdepository.com/Management-Tongue-Laurent-Bordelon/9781376567335',\n",
       "  'https://www.bookdepository.com/American-Independence-Interest-Glory-Great-Britain-Professor-John-Cartwright/9781377130101',\n",
       "  'https://www.bookdepository.com/Opium-John-Halpern/9781549181917?ref=grid-view',\n",
       "  'https://www.bookdepository.com/Berichte-Der-Naturforschenden-Gesellschaft-Zu-Freiburg-I-Br-4-August-Gruber/9781286707050',\n",
       "  'https://www.bookdepository.com/American-Independence-Interest-Glory-Great-Britain-Professor-John-Cartwright/9781340461669',\n",
       "  'https://www.bookdepository.com/Leibniz/9780353340725',\n",
       "  'https://www.bookdepository.com/Leibniz/9780353340732',\n",
       "  'https://www.bookdepository.com/Filosof%C3%ADa-para-princesas-Freiherr-von-Gottfried-Wilhelm-Freiherr-von-Leibniz/9788491815211',\n",
       "  'https://www.bookdepository.com/Can-You-Die-Broken-Heart-Kate-Blakk/9781978624344?ref=grid-view',\n",
       "  'https://www.bookdepository.com/Oxford-Beginners-Japanese-Dictionary-Oxford-Dictionaries/9780199298525?ref=grid-view',\n",
       "  'https://www.bookdepository.com/Can-You-Die-Broken-Heart-Nikki-Stamp/9781760634254',\n",
       "  'https://www.bookdepository.com/Fierce-Faith-Alli-Worthington/9781543638455',\n",
       "  'https://www.bookdepository.com/Java-Sumatra-Other-Islands-Dutch-East-Indies-Miall-Bernard-1876/9781377074108',\n",
       "  'https://www.bookdepository.com/Immortal-Life-Henrietta-Lacks-Rebecca-Skloot/9780330533447?ref=grid-view',\n",
       "  'https://www.bookdepository.com/All-Creatures-Great-Small-James-Herriot/9781447225997?ref=grid-view',\n",
       "  'https://www.bookdepository.com/Immortal-Life-Henrietta-Lacks-Rebecca-Skloot/9780451486318',\n",
       "  'https://www.bookdepository.com/Basic-Personal-Counselling-Training-Manual-for-Counsellors-with-Onlin-e-Study-Tools-12-months-David-Geldard/9780170364362',\n",
       "  'https://www.bookdepository.com/Communications-Toolkit-Jane-Grellier/9780170243612',\n",
       "  'https://www.bookdepository.com/Histoire-de-Provence-1-Augustin-Fabre/9780341076001',\n",
       "  'https://www.bookdepository.com/Donner-Summit-Arthur-Sommers/9781531649289',\n",
       "  'https://www.bookdepository.com/Long-Beach-Fire-Department-Glen-Goodrich/9781531616229',\n",
       "  'https://www.bookdepository.com/Working-with-Children-Teenagers-Using-Solution-Focused-Approaches-Judith-Milner/9781849050821?ref=grid-view',\n",
       "  'https://www.bookdepository.com/Child-Protection-essential-guide-Freda-Briggs/9780987144874?ref=grid-view',\n",
       "  'https://www.bookdepository.com/Victim-Romance-Real-Jefferson-Davis-Thomas-1864-1946-Dixon/9781374275645',\n",
       "  'https://www.bookdepository.com/Best-Interests-Child-Eileen-McPartland/9780717147793',\n",
       "  'https://www.bookdepository.com/Supervision-Leadership-Childcare-Eileen-McPartland/9780717153428',\n",
       "  'https://www.bookdepository.com/Victim-Romance-Real-Jefferson-Davis-Thomas-1864-1946-Dixon/9781374275638',\n",
       "  'https://www.bookdepository.com/Conversation-Train-Joel-Shaul/9781849059862',\n",
       "  'https://www.bookdepository.com/Embedding-Formative-Assessment-Dylan-Wiliam/9781941112298?ref=grid-view',\n",
       "  'https://www.bookdepository.com/Conversation-Train-Joel-Shaul/9781849059862?ref=grid-view',\n",
       "  'https://www.bookdepository.com/All-My-Stripes-Shaina-Rudolph/9781433819162',\n",
       "  'https://www.bookdepository.com/My-Social-Stories-Book-Carol-Gray/9781853029509?ref=grid-view',\n",
       "  'https://www.bookdepository.com/Surviving-Parental-Alienation-Amy-J-L-Baker/9781538106945?ref=grid-view',\n",
       "  'https://www.bookdepository.com/Contracts-Real-World-Lawrence-Cunningham/9781107020078',\n",
       "  'https://www.bookdepository.com/Pijana-wojna-Kamil-Janicki/9788362329557',\n",
       "  'https://www.bookdepository.com/Niepokorne-damy-Kobiety-ktore-wywalczyly-niepodlegla-Polske-Kamil-Janicki/9788324054763',\n",
       "  'https://www.bookdepository.com/Epoka-hipokryzji-Seks-i-erotyka-w-przedwojennej-Polsce-Kamil-Janicki/9788324030576',\n",
       "  'https://www.bookdepository.com/Mental-Health-Case-Management-Shaun-M-Eack/9781452235264',\n",
       "  'https://www.bookdepository.com/Polskie-piekno-Karolina-%C5%BBebrowska/9788324054879',\n",
       "  'https://www.bookdepository.com/Hranic%C3%ADm-navzdory-Grzegorz-Majewski/9788087912607',\n",
       "  'https://www.bookdepository.com/Languages-Nature-Ludmilla-Jordanova/9780813511948',\n",
       "  'https://www.bookdepository.com/Decorating-Cupcakes-Cookies-Frances-McNaughton/9781844489398',\n",
       "  'https://www.bookdepository.com/Flores-de-az%C3%BAcar-Lisa-Slatter/9788425520945',\n",
       "  'https://www.bookdepository.com/Galletas-decoradas-Lisa-Slatter/9788425520914',\n",
       "  'https://www.bookdepository.com/Cupcakes-Cookies-Frances-McNaughton/9781844486632',\n",
       "  'https://www.bookdepository.com/Who-are-Refugees-Migrants-What-Makes-People-Leave-their-Homes-Other-Big-Questions-Michael-Rosen/9780750299862',\n",
       "  'https://www.bookdepository.com/All-About-Cake-Christina-Tosi/9780451499523?ref=grid-view',\n",
       "  'https://www.bookdepository.com/Kinfolk-Home-Nathan-Williams/9781579656652?ref=grid-view',\n",
       "  'https://www.bookdepository.com/Three-Birds-Renovations-Bonnie-Hindmarsh/9781760634407?ref=grid-view',\n",
       "  'https://www.bookdepository.com/Mirage-Mario-Codognato/9780714837796',\n",
       "  'https://www.bookdepository.com/Three-Birds-Renovations-Bonnie-Hindmarsh/9781760631932',\n",
       "  'https://www.bookdepository.com/Beams-Sofia-Coppola/9780847848874',\n",
       "  'https://www.bookdepository.com/How-Master-Nursing-Calculations-Chris-John-Tyreman/9780749467531',\n",
       "  'https://www.bookdepository.com/Die-neue-Nat%C3%BCrlichkeit-Emily-Henson/9783512040412',\n",
       "  'https://www.bookdepository.com/Tiny-Houses-Mimi-Zeiger/9780847832033?ref=grid-view',\n",
       "  'https://www.bookdepository.com/Willkommen-Weihnachten/9783963060106',\n",
       "  'https://www.bookdepository.com/Flohmarkt-Flair-zuhause-Emily-Chalmers/9783836926782',\n",
       "  'https://www.bookdepository.com/Rockett-St-George-Extraordinary-Interiors-Colour-Lucy-St-George/9781788791557',\n",
       "  'https://www.bookdepository.com/Rockett-St-George-Extraordinary-Interiors-Jane-Rockett/9781849758697',\n",
       "  'https://www.bookdepository.com/Bill-Plymptons-Tune-Bill-Plympton/9780767064996',\n",
       "  'https://www.bookdepository.com/Fresh-India-Meera-Sodha/9780241200421?ref=grid-view',\n",
       "  'https://www.bookdepository.com/Beginners-Guide-Sewing-with-Knitted-Fabrics-Wendy-Ward/9781782494683',\n",
       "  'https://www.bookdepository.com/Ferment-For-Good-Sharon-Flynn/9781743792094?ref=grid-view',\n",
       "  'https://www.bookdepository.com/2012-Disney-Cars-2-Grid-Calendar/9783832748807',\n",
       "  'https://www.bookdepository.com/Besserwisser-Plus-Der-Igel-Maren-von-Klitzing/9783821233260',\n",
       "  'https://www.bookdepository.com/Weeds-Richard-Mabey/9781846680762',\n",
       "  'https://www.bookdepository.com/HIGHGROVE-Clarence-House-Birkhall-Prinz-von-Wales-Charles/9783512033063',\n",
       "  'https://www.bookdepository.com/Wie-Was-Wo-aufbewahren-Caroline-Clifton-Mogg/9783421037084',\n",
       "  'https://www.bookdepository.com/Were-Going-On-Bar-Hunt-Emlyn-Rees/9781472109798?ref=grid-view',\n",
       "  'https://www.bookdepository.com/Very-Hungover-Caterpillar-Emlyn-Rees/9781472117106?ref=grid-view',\n",
       "  'https://www.bookdepository.com/2012-Art-Nouveau-Deluxe-Diary/9783832750374',\n",
       "  'https://www.bookdepository.com/Looking-For-Alaska-John-Green/9780007523160',\n",
       "  'https://www.bookdepository.com/How-Catch-Star-Oliver-Jeffers/9780007150342',\n",
       "  'https://www.bookdepository.com/Lost-Found-Oliver-Jeffers/9780007150366',\n",
       "  'https://www.bookdepository.com/Breakdown-Katherine-Amt-Hanna/9781469213323',\n",
       "  'https://www.bookdepository.com/Skok-w-bok-Josie-Lloyd/9788374954983',\n",
       "  'https://www.bookdepository.com/76-Edward-Conway-Jones/9780469116658',\n",
       "  'https://www.bookdepository.com/G%C3%A4rten-und-Parks-2017/9783840774720',\n",
       "  'https://www.bookdepository.com/Dieta-5-2-dr-Mosleya-Mosley-Michael/9788377583807',\n",
       "  'https://www.bookdepository.com/Pochlaniacz-Katarzyna-Bonda/9788328707030',\n",
       "  'https://www.bookdepository.com/Lampiony-Katarzyna-Bonda/9788328703834',\n",
       "  'https://www.bookdepository.com/Midnight-Palace-Carlos-Ruiz-Zafon/9780316044745',\n",
       "  'https://www.bookdepository.com/El-Palacio-De-La-Medianoche-Carlos-Ruiz-Zafon/9788408072799',\n",
       "  'https://www.bookdepository.com/Rose-Under-Fire-Elizabeth-Wein/9781743169520',\n",
       "  'https://www.bookdepository.com/Pearl-Thief-Elizabeth-Wein/9781489392817',\n",
       "  'https://www.bookdepository.com/House-Secrets-Chris-Columbus/9780007465835',\n",
       "  'https://www.bookdepository.com/Its-Kind-Funny-Story-Ned-Vizzini/9781423141914',\n",
       "  'https://www.bookdepository.com/El-palacio-de-la-medianoche-Carlos-Ruiz-Zafon/9788408187370',\n",
       "  'https://www.bookdepository.com/Pearl-Thief-Elizabeth-Wein/9781489392824',\n",
       "  'https://www.bookdepository.com/Cazadores-de-sombras-2-ciudad-de-ceniza-Cassandra-Clare/9788408087533',\n",
       "  'https://www.bookdepository.com/Invention-Hugo-Cabret-Brian-Selznick/9780545003636?ref=grid-view',\n",
       "  'https://www.bookdepository.com/Extra-Time-Morris-Gleitzman/9781486204281?ref=grid-view',\n",
       "  'https://www.bookdepository.com/Fatally-Flaky-Diane-Mott-Davidson/9780062314444',\n",
       "  'https://www.bookdepository.com/Elvis-Presley-Joel-Williamson/9781522660095',\n",
       "  'https://www.bookdepository.com/Lankhmar-II-Fafhrd-y-el-Ratonero-Gris-Fritz-Leiber/9788416035021',\n",
       "  'https://www.bookdepository.com/Big-Typescript-Ludwig-Wittgenstein/9781118346334',\n",
       "  'https://www.bookdepository.com/Choque-de-reyes/9788496208506',\n",
       "  'https://www.bookdepository.com/Danza-de-dragones-George-R-R-Martin/9788496208582',\n",
       "  'https://www.bookdepository.com/Jung-Obra-Completa-Tomo-4-Freud-y-El-Psicoan-Carl-Gustav-Jung/9788481643947',\n",
       "  ...])"
      ]
     },
     "execution_count": 15,
     "metadata": {},
     "output_type": "execute_result"
    }
   ],
   "source": [
    "clusters[4]"
   ]
  },
  {
   "cell_type": "markdown",
   "metadata": {},
   "source": [
    "However, as said previously there are 15807 pages which show book details. So there are 4606 pages displaying book details which are (probably ?) distributed across the remaining 5 clusters. Therefore it seems that Foxlink's clustering algorithm should have a high precision (possibly 1) and a lower value of recall."
   ]
  },
  {
   "cell_type": "markdown",
   "metadata": {},
   "source": [
    "## Calculate precision and recall\n",
    "Calculate precision and recall considering the entire dataset."
   ]
  },
  {
   "cell_type": "code",
   "execution_count": 32,
   "metadata": {},
   "outputs": [],
   "source": [
    "bookCluster = clusters[4]\n",
    "urlsFromBookCluster = bookCluster[1]"
   ]
  },
  {
   "cell_type": "code",
   "execution_count": 39,
   "metadata": {},
   "outputs": [],
   "source": [
    "pages_retrieved_for_book_query = len(urlsFromBookCluster)\n",
    "\n",
    "true_positive = 0\n",
    "\n",
    "all_positives = len(df[df['label']=='product'])\n",
    "\n",
    "for url in urlsFromBookCluster:\n",
    "    matchingRow  = df[df['url'] == url][['url','label']].iloc[0]\n",
    "    if matchingRow['label'] == 'product':\n",
    "        true_positive += 1"
   ]
  },
  {
   "cell_type": "code",
   "execution_count": 50,
   "metadata": {},
   "outputs": [
    {
     "name": "stdout",
     "output_type": "stream",
     "text": [
      "Recall: 0.7048143227683937\n",
      "Precision: 0.9946433354164806\n"
     ]
    }
   ],
   "source": [
    "recall = true_positive/all_positives\n",
    "precision = true_positive/pages_retrieved_for_book_query\n",
    "eval_fmt = '{}: {}'\n",
    "print(eval_fmt.format('Recall', recall))\n",
    "print(eval_fmt.format('Precision', precision))"
   ]
  },
  {
   "cell_type": "markdown",
   "metadata": {},
   "source": [
    "Let's find out how much precision and recall are dependent from the dataset size. Let's consider a dataset of 100, 500, 1000 and 5000 pages."
   ]
  },
  {
   "cell_type": "markdown",
   "metadata": {},
   "source": [
    "### Evaluate recall and precision using a dataset of 100 pages"
   ]
  },
  {
   "cell_type": "code",
   "execution_count": 42,
   "metadata": {},
   "outputs": [
    {
     "data": {
      "text/html": [
       "<div>\n",
       "<style scoped>\n",
       "    .dataframe tbody tr th:only-of-type {\n",
       "        vertical-align: middle;\n",
       "    }\n",
       "\n",
       "    .dataframe tbody tr th {\n",
       "        vertical-align: top;\n",
       "    }\n",
       "\n",
       "    .dataframe thead th {\n",
       "        text-align: right;\n",
       "    }\n",
       "</style>\n",
       "<table border=\"1\" class=\"dataframe\">\n",
       "  <thead>\n",
       "    <tr style=\"text-align: right;\">\n",
       "      <th></th>\n",
       "      <th>url</th>\n",
       "      <th>referer_url</th>\n",
       "      <th>src</th>\n",
       "      <th>label</th>\n",
       "      <th>shingle_vector</th>\n",
       "      <th>predicted_label</th>\n",
       "    </tr>\n",
       "  </thead>\n",
       "  <tbody>\n",
       "    <tr>\n",
       "      <th>count</th>\n",
       "      <td>100</td>\n",
       "      <td>100</td>\n",
       "      <td>100</td>\n",
       "      <td>67</td>\n",
       "      <td>100</td>\n",
       "      <td>0.0</td>\n",
       "    </tr>\n",
       "    <tr>\n",
       "      <th>unique</th>\n",
       "      <td>100</td>\n",
       "      <td>98</td>\n",
       "      <td>100</td>\n",
       "      <td>1</td>\n",
       "      <td>12</td>\n",
       "      <td>0.0</td>\n",
       "    </tr>\n",
       "    <tr>\n",
       "      <th>top</th>\n",
       "      <td>https://www.bookdepository.com/Line-Fire/97814...</td>\n",
       "      <td>https://www.bookdepository.com/author/Louise-R...</td>\n",
       "      <td>&lt;!DOCTYPE html&gt;\\n&lt;html lang=\"en\"&gt;\\n&lt;head&gt;\\n\\n ...</td>\n",
       "      <td>product</td>\n",
       "      <td>(0, 1, 2, 3, 0, 1, 2, 1)</td>\n",
       "      <td>NaN</td>\n",
       "    </tr>\n",
       "    <tr>\n",
       "      <th>freq</th>\n",
       "      <td>1</td>\n",
       "      <td>2</td>\n",
       "      <td>1</td>\n",
       "      <td>67</td>\n",
       "      <td>29</td>\n",
       "      <td>NaN</td>\n",
       "    </tr>\n",
       "  </tbody>\n",
       "</table>\n",
       "</div>"
      ],
      "text/plain": [
       "                                                      url  \\\n",
       "count                                                 100   \n",
       "unique                                                100   \n",
       "top     https://www.bookdepository.com/Line-Fire/97814...   \n",
       "freq                                                    1   \n",
       "\n",
       "                                              referer_url  \\\n",
       "count                                                 100   \n",
       "unique                                                 98   \n",
       "top     https://www.bookdepository.com/author/Louise-R...   \n",
       "freq                                                    2   \n",
       "\n",
       "                                                      src    label  \\\n",
       "count                                                 100       67   \n",
       "unique                                                100        1   \n",
       "top     <!DOCTYPE html>\\n<html lang=\"en\">\\n<head>\\n\\n ...  product   \n",
       "freq                                                    1       67   \n",
       "\n",
       "                  shingle_vector  predicted_label  \n",
       "count                        100              0.0  \n",
       "unique                        12              0.0  \n",
       "top     (0, 1, 2, 3, 0, 1, 2, 1)              NaN  \n",
       "freq                          29              NaN  "
      ]
     },
     "execution_count": 42,
     "metadata": {},
     "output_type": "execute_result"
    }
   ],
   "source": [
    "sample100 = df.sample(100)\n",
    "sample100.describe()"
   ]
  },
  {
   "cell_type": "code",
   "execution_count": 44,
   "metadata": {},
   "outputs": [
    {
     "name": "stdout",
     "output_type": "stream",
     "text": [
      "There are 33 row with no label\n",
      "There are 67 row with product label\n"
     ]
    }
   ],
   "source": [
    "print(fmt_string.format(len(sample100[sample100['label'].isnull()]),'no'))\n",
    "print(fmt_string.format(len(sample100[sample100['label']=='product']), 'product'))"
   ]
  },
  {
   "cell_type": "code",
   "execution_count": 45,
   "metadata": {},
   "outputs": [
    {
     "name": "stdout",
     "output_type": "stream",
     "text": [
      "There are 2 clusters\n"
     ]
    }
   ],
   "source": [
    "clusters = structural_clustering(sample100)\n",
    "print(\"There are {} clusters\".format(len(clusters)))"
   ]
  },
  {
   "cell_type": "code",
   "execution_count": 46,
   "metadata": {},
   "outputs": [
    {
     "name": "stdout",
     "output_type": "stream",
     "text": [
      "cluster n. 1 has 48 pages\n",
      "cluster n. 2 has 31 pages\n"
     ]
    }
   ],
   "source": [
    "for index, cluster in enumerate(clusters):\n",
    "    print(cluster_fmt.format(index +1 , len(cluster[1])))"
   ]
  },
  {
   "cell_type": "markdown",
   "metadata": {},
   "source": [
    "Note that during Foxlink's clustering algorithm some pages are discarded. \n",
    "Printing out each cluster data points"
   ]
  },
  {
   "cell_type": "code",
   "execution_count": 59,
   "metadata": {},
   "outputs": [
    {
     "name": "stdout",
     "output_type": "stream",
     "text": [
      "https://www.bookdepository.com/Line-Fire/9781435915374\n",
      "https://www.bookdepository.com/The-Collected-Works-of-Newton-P-Stallknecht-Vol-7-David--White-Marilyn-C-Bisch-Donald-L-Jennermann/9780773482258\n",
      "https://www.bookdepository.com/London-Library-City-Chris-Burton/9781873667026\n",
      "https://www.bookdepository.com/Kant-en-het-rode-jurkje-Lamia-Berrada-Berca/9789044538267\n",
      "https://www.bookdepository.com/Second-Language-Acquisition-Research/9781847180513\n",
      "https://www.bookdepository.com/Low-Bridge-Lionel-D-Wyld/9781258191238\n",
      "https://www.bookdepository.com/BRAIN-AT-WORK/9783928383295\n",
      "https://www.bookdepository.com/Complete-Guide-Growing-Berries-Grapes-Louise-Riotte/9780878338252\n",
      "https://www.bookdepository.com/Collected-Works-Newton-P-Stallknecht-Studies-Philosophy-Creation-With-Especial-Reference-Bergson-Whitehead-v-3-Newton-P-Stallknecht/9780773482203\n",
      "https://www.bookdepository.com/Making-Most-Shade-Larry-Hodgson/9781579549664\n"
     ]
    }
   ],
   "source": [
    "for i in range(10):\n",
    "    print(clusters[0][1][i])"
   ]
  },
  {
   "cell_type": "code",
   "execution_count": 60,
   "metadata": {},
   "outputs": [
    {
     "name": "stdout",
     "output_type": "stream",
     "text": [
      "https://www.bookdepository.com/author/Joan-Laporta-I-Estruch\n",
      "https://www.bookdepository.com/author/Stanley-Richard-Challand\n",
      "https://www.bookdepository.com/author/Marvelene-C-Moore\n",
      "https://www.bookdepository.com/author/Ingrid-Whitton\n",
      "https://www.bookdepository.com/author/Diana-Sharon-Saunders-Curtin\n",
      "https://www.bookdepository.com/publishers/Xing-Ren-Chu-Ban-She\n",
      "https://www.bookdepository.com/author/Kathleen-J-Hanna\n",
      "https://www.bookdepository.com/author/Michael-Zarnock\n",
      "https://www.bookdepository.com/author/Francesca-Segal\n",
      "https://www.bookdepository.com/publishers/Jessica-Kingsley-Publishers-Ltd\n"
     ]
    }
   ],
   "source": [
    "for i in range(10):\n",
    "    print(clusters[1][1][i])"
   ]
  },
  {
   "cell_type": "markdown",
   "metadata": {},
   "source": [
    "So it seems that the first cluster contains pages from the 'product' template. Let's calculate now precision and recall for that cluster."
   ]
  },
  {
   "cell_type": "code",
   "execution_count": 55,
   "metadata": {},
   "outputs": [],
   "source": [
    "bookCluster = clusters[0]\n",
    "urlsFromBookCluster = bookCluster[1]"
   ]
  },
  {
   "cell_type": "code",
   "execution_count": 56,
   "metadata": {},
   "outputs": [],
   "source": [
    "pages_retrieved_for_book_query = len(urlsFromBookCluster)\n",
    "\n",
    "true_positive = 0\n",
    "\n",
    "all_positives = len(sample100[sample100['label']=='product'])\n",
    "\n",
    "for url in urlsFromBookCluster:\n",
    "    matchingRow  = sample100[sample100['url'] == url][['url','label']].iloc[0]\n",
    "    if matchingRow['label'] == 'product':\n",
    "        true_positive += 1"
   ]
  },
  {
   "cell_type": "code",
   "execution_count": 57,
   "metadata": {},
   "outputs": [
    {
     "name": "stdout",
     "output_type": "stream",
     "text": [
      "Recall: 0.7164179104477612\n",
      "Precision: 1.0\n"
     ]
    }
   ],
   "source": [
    "recall = true_positive/all_positives\n",
    "precision = true_positive/pages_retrieved_for_book_query\n",
    "eval_fmt = '{}: {}'\n",
    "print(eval_fmt.format('Recall', recall))\n",
    "print(eval_fmt.format('Precision', precision))"
   ]
  },
  {
   "cell_type": "markdown",
   "metadata": {},
   "source": [
    "Finally let's calculate again precision and recall considering 1000 pages and 5000 pages"
   ]
  },
  {
   "cell_type": "markdown",
   "metadata": {},
   "source": [
    "### Evaluate recall and precision using a dataset of 1000 pages"
   ]
  },
  {
   "cell_type": "code",
   "execution_count": 115,
   "metadata": {},
   "outputs": [
    {
     "data": {
      "text/html": [
       "<div>\n",
       "<style scoped>\n",
       "    .dataframe tbody tr th:only-of-type {\n",
       "        vertical-align: middle;\n",
       "    }\n",
       "\n",
       "    .dataframe tbody tr th {\n",
       "        vertical-align: top;\n",
       "    }\n",
       "\n",
       "    .dataframe thead th {\n",
       "        text-align: right;\n",
       "    }\n",
       "</style>\n",
       "<table border=\"1\" class=\"dataframe\">\n",
       "  <thead>\n",
       "    <tr style=\"text-align: right;\">\n",
       "      <th></th>\n",
       "      <th>url</th>\n",
       "      <th>referer_url</th>\n",
       "      <th>src</th>\n",
       "      <th>label</th>\n",
       "      <th>shingle_vector</th>\n",
       "      <th>predicted_label</th>\n",
       "    </tr>\n",
       "  </thead>\n",
       "  <tbody>\n",
       "    <tr>\n",
       "      <th>count</th>\n",
       "      <td>1000</td>\n",
       "      <td>1000</td>\n",
       "      <td>1000</td>\n",
       "      <td>601</td>\n",
       "      <td>1000</td>\n",
       "      <td>0.0</td>\n",
       "    </tr>\n",
       "    <tr>\n",
       "      <th>unique</th>\n",
       "      <td>1000</td>\n",
       "      <td>942</td>\n",
       "      <td>1000</td>\n",
       "      <td>1</td>\n",
       "      <td>15</td>\n",
       "      <td>0.0</td>\n",
       "    </tr>\n",
       "    <tr>\n",
       "      <th>top</th>\n",
       "      <td>https://www.bookdepository.com/author/Jeremey-...</td>\n",
       "      <td>https://www.bookdepository.com/author/Frank-Fr...</td>\n",
       "      <td>&lt;!DOCTYPE html&gt;\\n&lt;html lang=\"en\"&gt;\\n&lt;head&gt;\\n\\n ...</td>\n",
       "      <td>product</td>\n",
       "      <td>(0, 3, 2, 0, 7, 1, 2, 1)</td>\n",
       "      <td>NaN</td>\n",
       "    </tr>\n",
       "    <tr>\n",
       "      <th>freq</th>\n",
       "      <td>1</td>\n",
       "      <td>3</td>\n",
       "      <td>1</td>\n",
       "      <td>601</td>\n",
       "      <td>249</td>\n",
       "      <td>NaN</td>\n",
       "    </tr>\n",
       "  </tbody>\n",
       "</table>\n",
       "</div>"
      ],
      "text/plain": [
       "                                                      url  \\\n",
       "count                                                1000   \n",
       "unique                                               1000   \n",
       "top     https://www.bookdepository.com/author/Jeremey-...   \n",
       "freq                                                    1   \n",
       "\n",
       "                                              referer_url  \\\n",
       "count                                                1000   \n",
       "unique                                                942   \n",
       "top     https://www.bookdepository.com/author/Frank-Fr...   \n",
       "freq                                                    3   \n",
       "\n",
       "                                                      src    label  \\\n",
       "count                                                1000      601   \n",
       "unique                                               1000        1   \n",
       "top     <!DOCTYPE html>\\n<html lang=\"en\">\\n<head>\\n\\n ...  product   \n",
       "freq                                                    1      601   \n",
       "\n",
       "                  shingle_vector  predicted_label  \n",
       "count                       1000              0.0  \n",
       "unique                        15              0.0  \n",
       "top     (0, 3, 2, 0, 7, 1, 2, 1)              NaN  \n",
       "freq                         249              NaN  "
      ]
     },
     "execution_count": 115,
     "metadata": {},
     "output_type": "execute_result"
    }
   ],
   "source": [
    "sample1000 = df.sample(1000)\n",
    "sample1000.describe()"
   ]
  },
  {
   "cell_type": "code",
   "execution_count": 116,
   "metadata": {},
   "outputs": [
    {
     "name": "stdout",
     "output_type": "stream",
     "text": [
      "There are 399 row with no label\n",
      "There are 601 row with product label\n"
     ]
    }
   ],
   "source": [
    "print(fmt_string.format(len(sample1000[sample1000['label'].isnull()]),'no'))\n",
    "print(fmt_string.format(len(sample1000[sample1000['label']=='product']), 'product'))"
   ]
  },
  {
   "cell_type": "code",
   "execution_count": 117,
   "metadata": {},
   "outputs": [
    {
     "name": "stdout",
     "output_type": "stream",
     "text": [
      "There are 5 clusters\n"
     ]
    }
   ],
   "source": [
    "clusters = structural_clustering(sample1000)\n",
    "print(\"There are {} clusters\".format(len(clusters)))"
   ]
  },
  {
   "cell_type": "code",
   "execution_count": 118,
   "metadata": {},
   "outputs": [
    {
     "name": "stdout",
     "output_type": "stream",
     "text": [
      "cluster n. 1 has 424 pages\n",
      "cluster n. 2 has 371 pages\n",
      "cluster n. 3 has 158 pages\n",
      "cluster n. 4 has 23 pages\n",
      "cluster n. 5 has 22 pages\n"
     ]
    }
   ],
   "source": [
    "for index, cluster in enumerate(clusters):\n",
    "    print(cluster_fmt.format(index +1 , len(cluster[1])))"
   ]
  },
  {
   "cell_type": "markdown",
   "metadata": {},
   "source": [
    "Printing each cluster's data points"
   ]
  },
  {
   "cell_type": "code",
   "execution_count": 119,
   "metadata": {},
   "outputs": [
    {
     "name": "stdout",
     "output_type": "stream",
     "text": [
      "https://www.bookdepository.com/het-bos-Thereza-Rowe/9789045321370\n",
      "https://www.bookdepository.com/Chemistry-Hat-Manufacturing-Watson-Smith/9780656123988\n",
      "https://www.bookdepository.com/Ramsays-beste-menus-druk-1-Gordon-Ramsay/9789021539904\n",
      "https://www.bookdepository.com/American-Literature/9781245891127\n",
      "https://www.bookdepository.com/My-Pregnancy-2011-Kate-Street/9781905410675\n",
      "https://www.bookdepository.com/Introduction-Usability-Patrick-W-Jordan/9780748407620?ref=grid-view\n",
      "https://www.bookdepository.com/Female-Thing-Laura-Kipnis/9781852429812\n",
      "https://www.bookdepository.com/Mein-Lernposter-Erste-W%C3%B6rter/9783845505473\n",
      "https://www.bookdepository.com/Alphabet-Alliteration-Bilingual-Navajo-English-Adele-Marie-Crouch/9781484825631\n",
      "https://www.bookdepository.com/Biopsia-endomiocardica-Testo-atlante-Giorgio-Baroldi/9788829912490\n"
     ]
    }
   ],
   "source": [
    "for i in range(10):\n",
    "    print(clusters[0][1][i])"
   ]
  },
  {
   "cell_type": "code",
   "execution_count": 120,
   "metadata": {},
   "outputs": [
    {
     "name": "stdout",
     "output_type": "stream",
     "text": [
      "https://www.bookdepository.com/author/Sergey-Kapitza\n",
      "https://www.bookdepository.com/author/David-Marquez\n",
      "https://www.bookdepository.com/author/Anna-Maria-Horner\n",
      "https://www.bookdepository.com/author/Tamdin-Sither-Bradley\n",
      "https://www.bookdepository.com/author/Dr-April-Pudsey\n",
      "https://www.bookdepository.com/author/Ingrid-Whitton\n",
      "https://www.bookdepository.com/author/Rudolf-Feik\n",
      "https://www.bookdepository.com/author/Ana-Maria-B-Vazquez\n",
      "https://www.bookdepository.com/author/Stephen-K-Barton\n",
      "https://www.bookdepository.com/author/Angelika-Keller-Und-Hans-Ulrich-Keller\n"
     ]
    }
   ],
   "source": [
    "for i in range(10):\n",
    "    print(clusters[1][1][i])"
   ]
  },
  {
   "cell_type": "code",
   "execution_count": 121,
   "metadata": {},
   "outputs": [
    {
     "name": "stdout",
     "output_type": "stream",
     "text": [
      "https://www.bookdepository.com/Dem-Winde-versprochen-Florencia-Bonelli/9783596182114\n",
      "https://www.bookdepository.com/Brief-Gestalt-Therapy-Gaie-Houston/9780761973485?ref=bd_ser_1_1\n",
      "https://www.bookdepository.com/Patient-Violence-Clinician/9780880484541\n",
      "https://www.bookdepository.com/Psychology-Self-Regulation-Joseph-P-Forgas/9781848728424?ref=bd_ser_1_1\n",
      "https://www.bookdepository.com/Old-New-Terrorism-Peter-Neumann/9780745643755?ref=bd_ser_1_1\n",
      "https://www.bookdepository.com/Matters-Spirit-F-Scott-Scribner/9780271036212\n",
      "https://www.bookdepository.com/Alices-Adventures-Wonderland-Lewis-Carroll/9780147515872\n",
      "https://www.bookdepository.com/Ruby-Redfort-Take-Your-Last-Breath-Lauren-Child/9781536200485?ref=bd_ser_1_1\n",
      "https://www.bookdepository.com/Top-10-Moscow-Dk-Travel/9781409326694?ref=bd_ser_1_1\n",
      "https://www.bookdepository.com/Becoming-Your-Own-Emotional-Support-System-Linda-L-Simmons/9780789032225\n"
     ]
    }
   ],
   "source": [
    "for i in range(10):\n",
    "    print(clusters[2][1][i])"
   ]
  },
  {
   "cell_type": "code",
   "execution_count": 122,
   "metadata": {},
   "outputs": [
    {
     "name": "stdout",
     "output_type": "stream",
     "text": [
      "https://www.bookdepository.com/Faire-LAventure-Fabienne-Kanor/9782709643634\n",
      "https://www.bookdepository.com/Das-entschwundene-Land-1-Cassette-Astrid-Lindgren/9783829106917\n",
      "https://www.bookdepository.com/Oxford-Guide-Metaphors-CBT-Richard-Stott/9780191015656\n",
      "https://www.bookdepository.com/Gewerbestatistik-Preussens-VOR-1850/9783922661566\n",
      "https://www.bookdepository.com/Besser-essen-Rudi-Anschober/9783990247631\n",
      "https://www.bookdepository.com/Foreign-Language-Teaching-U-S-Schools-Nancy-C-Rhodes/9780872810068\n",
      "https://www.bookdepository.com/Quand-on-Aime-Il-Ne-Fait-Jamais-Nuit-Mgr-Jacques-Gaillot/9782918414490\n",
      "https://www.bookdepository.com/Grenzg%C3%A4ngerinnen/9783590180420\n",
      "https://www.bookdepository.com/Pochoir/9783896023278\n",
      "https://www.bookdepository.com/Rousseaus-Critique-Inequality-Professor-Philosophy-Viola-Manderfeld-Professor-German-Frederick-Neuhouser/9781316004845\n"
     ]
    }
   ],
   "source": [
    "for i in range(10):\n",
    "    print(clusters[3][1][i])"
   ]
  },
  {
   "cell_type": "code",
   "execution_count": 123,
   "metadata": {},
   "outputs": [
    {
     "name": "stdout",
     "output_type": "stream",
     "text": [
      "https://www.bookdepository.com/category/351/vid/3389/Classic-Horror-Audio-Books\n",
      "https://www.bookdepository.com/category/2921/Home-Renovation-Extension\n",
      "https://www.bookdepository.com/category/3294/vid/3389/Sacred-Religious-Music-Audio-Books\n",
      "https://www.bookdepository.com/category/232/vid/3389/Diaries-Letters-Journals-Audio-Books\n",
      "https://www.bookdepository.com/category/273/vid/3389/Language-Teaching-Learning-Material-Coursework-Audio-Books\n",
      "https://www.bookdepository.com/category/1785/Power-Generation-Distribution\n",
      "https://www.bookdepository.com/category/1100/Systems-Law\n",
      "https://www.bookdepository.com/category/3314/Musical-Scores-Lyrics-Libretti\n",
      "https://www.bookdepository.com/category/359/Adult-Contemporary-Romance?page=4\n",
      "https://www.bookdepository.com/category/2842/Psychic-Powers-Psychic-Phenomena\n"
     ]
    }
   ],
   "source": [
    "for i in range(10):\n",
    "    print(clusters[4][1][i])"
   ]
  },
  {
   "cell_type": "markdown",
   "metadata": {},
   "source": [
    "although it is not clear, there are three clusters (first, third and fourth) of pages that match the book (or product) template. In this case it won't be necessary to calculate precision and recall since they should be really low values."
   ]
  },
  {
   "cell_type": "markdown",
   "metadata": {},
   "source": [
    "### Evaluate recall and precision using a dataset of 5000 pages"
   ]
  },
  {
   "cell_type": "code",
   "execution_count": 124,
   "metadata": {},
   "outputs": [
    {
     "data": {
      "text/html": [
       "<div>\n",
       "<style scoped>\n",
       "    .dataframe tbody tr th:only-of-type {\n",
       "        vertical-align: middle;\n",
       "    }\n",
       "\n",
       "    .dataframe tbody tr th {\n",
       "        vertical-align: top;\n",
       "    }\n",
       "\n",
       "    .dataframe thead th {\n",
       "        text-align: right;\n",
       "    }\n",
       "</style>\n",
       "<table border=\"1\" class=\"dataframe\">\n",
       "  <thead>\n",
       "    <tr style=\"text-align: right;\">\n",
       "      <th></th>\n",
       "      <th>url</th>\n",
       "      <th>referer_url</th>\n",
       "      <th>src</th>\n",
       "      <th>label</th>\n",
       "      <th>shingle_vector</th>\n",
       "      <th>predicted_label</th>\n",
       "    </tr>\n",
       "  </thead>\n",
       "  <tbody>\n",
       "    <tr>\n",
       "      <th>count</th>\n",
       "      <td>5000</td>\n",
       "      <td>5000</td>\n",
       "      <td>5000</td>\n",
       "      <td>3057</td>\n",
       "      <td>5000</td>\n",
       "      <td>0.0</td>\n",
       "    </tr>\n",
       "    <tr>\n",
       "      <th>unique</th>\n",
       "      <td>5000</td>\n",
       "      <td>3878</td>\n",
       "      <td>5000</td>\n",
       "      <td>1</td>\n",
       "      <td>18</td>\n",
       "      <td>0.0</td>\n",
       "    </tr>\n",
       "    <tr>\n",
       "      <th>top</th>\n",
       "      <td>https://www.bookdepository.com/author/Carlos-A...</td>\n",
       "      <td>https://www.bookdepository.com/publishers/Aver...</td>\n",
       "      <td>&lt;!DOCTYPE html&gt;\\n&lt;html lang=\"en\"&gt;\\n&lt;head&gt;\\n\\n ...</td>\n",
       "      <td>product</td>\n",
       "      <td>(0, 1, 2, 3, 0, 1, 2, 1)</td>\n",
       "      <td>NaN</td>\n",
       "    </tr>\n",
       "    <tr>\n",
       "      <th>freq</th>\n",
       "      <td>1</td>\n",
       "      <td>8</td>\n",
       "      <td>1</td>\n",
       "      <td>3057</td>\n",
       "      <td>1339</td>\n",
       "      <td>NaN</td>\n",
       "    </tr>\n",
       "  </tbody>\n",
       "</table>\n",
       "</div>"
      ],
      "text/plain": [
       "                                                      url  \\\n",
       "count                                                5000   \n",
       "unique                                               5000   \n",
       "top     https://www.bookdepository.com/author/Carlos-A...   \n",
       "freq                                                    1   \n",
       "\n",
       "                                              referer_url  \\\n",
       "count                                                5000   \n",
       "unique                                               3878   \n",
       "top     https://www.bookdepository.com/publishers/Aver...   \n",
       "freq                                                    8   \n",
       "\n",
       "                                                      src    label  \\\n",
       "count                                                5000     3057   \n",
       "unique                                               5000        1   \n",
       "top     <!DOCTYPE html>\\n<html lang=\"en\">\\n<head>\\n\\n ...  product   \n",
       "freq                                                    1     3057   \n",
       "\n",
       "                  shingle_vector  predicted_label  \n",
       "count                       5000              0.0  \n",
       "unique                        18              0.0  \n",
       "top     (0, 1, 2, 3, 0, 1, 2, 1)              NaN  \n",
       "freq                        1339              NaN  "
      ]
     },
     "execution_count": 124,
     "metadata": {},
     "output_type": "execute_result"
    }
   ],
   "source": [
    "sample5000 = df.sample(5000)\n",
    "sample5000.describe()"
   ]
  },
  {
   "cell_type": "code",
   "execution_count": 125,
   "metadata": {},
   "outputs": [
    {
     "name": "stdout",
     "output_type": "stream",
     "text": [
      "There are 1943 row with no label\n",
      "There are 3057 row with product label\n"
     ]
    }
   ],
   "source": [
    "print(fmt_string.format(len(sample5000[sample5000['label'].isnull()]),'no'))\n",
    "print(fmt_string.format(len(sample5000[sample5000['label']=='product']), 'product'))"
   ]
  },
  {
   "cell_type": "code",
   "execution_count": 126,
   "metadata": {},
   "outputs": [
    {
     "name": "stdout",
     "output_type": "stream",
     "text": [
      "There are 5 clusters\n"
     ]
    }
   ],
   "source": [
    "clusters = structural_clustering(sample5000)\n",
    "print(\"There are {} clusters\".format(len(clusters)))"
   ]
  },
  {
   "cell_type": "code",
   "execution_count": 127,
   "metadata": {},
   "outputs": [
    {
     "name": "stdout",
     "output_type": "stream",
     "text": [
      "cluster n. 1 has 2215 pages\n",
      "cluster n. 2 has 1806 pages\n",
      "cluster n. 3 has 144 pages\n",
      "cluster n. 4 has 714 pages\n",
      "cluster n. 5 has 104 pages\n"
     ]
    }
   ],
   "source": [
    "for index, cluster in enumerate(clusters):\n",
    "    print(cluster_fmt.format(index +1 , len(cluster[1])))"
   ]
  },
  {
   "cell_type": "markdown",
   "metadata": {},
   "source": [
    "Printing each cluster's data points"
   ]
  },
  {
   "cell_type": "code",
   "execution_count": 129,
   "metadata": {},
   "outputs": [
    {
     "name": "stdout",
     "output_type": "stream",
     "text": [
      "https://www.bookdepository.com/When-God-Speaks-David-Shultz/9781593177102\n",
      "https://www.bookdepository.com/Schwimmen-lernen-03-Pool-Nudel-Co-Laminiert-Veronika-Aretz/9783944824161\n",
      "https://www.bookdepository.com/Round-Horne-Complete-Series-3-Barry-Took/9781785292101?ref=grid-view\n",
      "https://www.bookdepository.com/search/Hacia-una-poetica-del-humanismo-Cristobal-Gabarron-Towards-Poetry-of-Humanism-Cristobal-Gabarron-Mari-Carmen-Sanchez-Rojas-Antonio-Parra/9788483717387\n",
      "https://www.bookdepository.com/Runaway-Loaf-Penny-Dolan/9780008185749?ref=grid-view&qid=1557066978493&sr=1-29\n",
      "https://www.bookdepository.com/Pattern-Language-Christopher-Alexander/9780195019193\n",
      "https://www.bookdepository.com/Red-Sonja-She-Devil-With-Sword-4-Mike-Avon-Oeming/9781933305646\n",
      "https://www.bookdepository.com/Das-Kopfkissenbuch-der-Dame-Sei-Shonagon-Sei-Shonagon/9783458089988?ref=bd_ser_1_1\n",
      "https://www.bookdepository.com/Complete-Icelandic-Beginner-Intermediate-Book-Audio-Course-Hildur-Jonsdottir/9781444105377?ref=bd_ser_1_1\n",
      "https://www.bookdepository.com/JSA-Golden-Age-James-Robinson/9781401278434?ref=bd_ser_1_1\n"
     ]
    }
   ],
   "source": [
    "for i in range(10):\n",
    "    print(clusters[0][1][i])"
   ]
  },
  {
   "cell_type": "code",
   "execution_count": 130,
   "metadata": {},
   "outputs": [
    {
     "name": "stdout",
     "output_type": "stream",
     "text": [
      "https://www.bookdepository.com/author/Christopher-Pierce\n",
      "https://www.bookdepository.com/author/Mosley-Michael\n",
      "https://www.bookdepository.com/author/A-Mantovani\n",
      "https://www.bookdepository.com/author/Anna-Mari\n",
      "https://www.bookdepository.com/author/Benjamin-Dittrich\n",
      "https://www.bookdepository.com/author/Mark-Owen\n",
      "https://www.bookdepository.com/publishers/Klever-Verlag\n",
      "https://www.bookdepository.com/publishers/Oxbow-Books\n",
      "https://www.bookdepository.com/author/Annie-Auerbach\n",
      "https://www.bookdepository.com/author/Bridget-D-Samuels\n"
     ]
    }
   ],
   "source": [
    "for i in range(10):\n",
    "    print(clusters[1][1][i])"
   ]
  },
  {
   "cell_type": "code",
   "execution_count": 131,
   "metadata": {},
   "outputs": [
    {
     "name": "stdout",
     "output_type": "stream",
     "text": [
      "https://www.bookdepository.com/Man-on-Donkey-H-F-M-Prescott/9780140029635\n",
      "https://www.bookdepository.com/Nouveaux-Secrets-Sur-La-Relation-Homme-Cheval-Christelle-Perrin/9791090213531\n",
      "https://www.bookdepository.com/Evolution-Social-Mind/9780203837788\n",
      "https://www.bookdepository.com/Handle-selbst-und-lebe-jetzt-Alexander-S-Kaufmann/9783869018720\n",
      "https://www.bookdepository.com/de-La-Emergencia-la-Estrategia-Jose-Luis-Coraggio/9789508021809\n",
      "https://www.bookdepository.com/Ce-Livre-Cache-Un-Tr%C3%AF%C2%BF%C2%BDs-Grand-Secret/9782745943842\n",
      "https://www.bookdepository.com/Atlas-Obscura-Joshua-Foer/9782501117340\n",
      "https://www.bookdepository.com/%CE%9C%CE%B5-%CF%84%CE%BF%CF%85-%CF%86%CE%B1%CE%BD%CE%B1%CF%81%CE%B9%CE%BF%CF%8D-%CF%84%CE%BF-%CF%86%CF%89%CF%82-Weatherill-Cat/9789604129133\n",
      "https://www.bookdepository.com/Karfreitag-predigen-Steffen-Bauer/9783927718906\n",
      "https://www.bookdepository.com/Chewing-on-Tinfoil-Joe-Ollmann/9781897415924\n"
     ]
    }
   ],
   "source": [
    "for i in range(10):\n",
    "    print(clusters[2][1][i])"
   ]
  },
  {
   "cell_type": "code",
   "execution_count": 132,
   "metadata": {},
   "outputs": [
    {
     "name": "stdout",
     "output_type": "stream",
     "text": [
      "https://www.bookdepository.com/How-Pass-Higher-Computing-Science-Second-Edition-Greg-Reid/9781510452435?ref=bd_ser_1_1\n",
      "https://www.bookdepository.com/Just-Above-My-Head-James-Baldwin/9780140187991\n",
      "https://www.bookdepository.com/Allein-unter-Studenten-Juliet-Hastings/9783404154999\n",
      "https://www.bookdepository.com/Varieties-Capitalism-History-Transition-Emergence-Martha-Prevezer/9780415735407\n",
      "https://www.bookdepository.com/Folk-Voiceworks-Peter-Hunt/9780193355736?ref=grid-view&qid=1557069509277&sr=1-25\n",
      "https://www.bookdepository.com/White-Collar-Crime-Michael-L-Seigel/9780735596511\n",
      "https://www.bookdepository.com/Keeper-Lost-Cities-Caitlin-Kelly/9781721378746?ref=grid-view&qid=1557069131591&sr=1-1\n",
      "https://www.bookdepository.com/Colloquial-Breton-Ian-Press/9780415224536\n",
      "https://www.bookdepository.com/Color-Atlas-Pathophysiology-Stefan-Silbernagl/9783131165534\n",
      "https://www.bookdepository.com/Beginning-Arduino-Programming-Brian-Evans/9781430237778\n"
     ]
    }
   ],
   "source": [
    "for i in range(10):\n",
    "    print(clusters[3][1][i])"
   ]
  },
  {
   "cell_type": "code",
   "execution_count": 133,
   "metadata": {},
   "outputs": [
    {
     "name": "stdout",
     "output_type": "stream",
     "text": [
      "https://www.bookdepository.com/category/241/vid/3389/Language-Reference-General-Audio-Books\n",
      "https://www.bookdepository.com/category/2657/Early-Modern-History-C-1450-1500-C-1700\n",
      "https://www.bookdepository.com/category/1865/Ordnance-Weapons-Technology\n",
      "https://www.bookdepository.com/category/1124/Law-Sea\n",
      "https://www.bookdepository.com/category/273/vid/3389/Language-Teaching-Learning-Material-Coursework-Audio-Books\n",
      "https://www.bookdepository.com/category/3217/Theology\n",
      "https://www.bookdepository.com/category/2075/Human-computer-Interaction\n",
      "https://www.bookdepository.com/category/1677/Economic-Geography\n",
      "https://www.bookdepository.com/category/2625/vid/3389/Classic-Horror-Audio-Books\n",
      "https://www.bookdepository.com/category/358/vid/3389/Romance-Audio-Books\n"
     ]
    }
   ],
   "source": [
    "for i in range(10):\n",
    "    print(clusters[4][1][i])"
   ]
  },
  {
   "cell_type": "markdown",
   "metadata": {},
   "source": [
    "So it seems that the first cluster contains pages matching with the book template. Let's calculate precision and recall again"
   ]
  },
  {
   "cell_type": "code",
   "execution_count": 134,
   "metadata": {},
   "outputs": [],
   "source": [
    "bookCluster = clusters[0]\n",
    "urlsFromBookCluster = bookCluster[1]"
   ]
  },
  {
   "cell_type": "code",
   "execution_count": 135,
   "metadata": {},
   "outputs": [],
   "source": [
    "pages_retrieved_for_book_query = len(urlsFromBookCluster)\n",
    "\n",
    "true_positive = 0\n",
    "\n",
    "all_positives = len(sample5000[sample5000['label']=='product'])\n",
    "\n",
    "for url in urlsFromBookCluster:\n",
    "    matchingRow  = sample5000[sample5000['url'] == url][['url','label']].iloc[0]\n",
    "    if matchingRow['label'] == 'product':\n",
    "        true_positive += 1"
   ]
  },
  {
   "cell_type": "code",
   "execution_count": 136,
   "metadata": {},
   "outputs": [
    {
     "name": "stdout",
     "output_type": "stream",
     "text": [
      "Recall: 0.7196597971867844\n",
      "Precision: 0.9932279909706546\n"
     ]
    }
   ],
   "source": [
    "recall = true_positive/all_positives\n",
    "precision = true_positive/pages_retrieved_for_book_query\n",
    "eval_fmt = '{}: {}'\n",
    "print(eval_fmt.format('Recall', recall))\n",
    "print(eval_fmt.format('Precision', precision))"
   ]
  }
 ],
 "metadata": {
  "kernelspec": {
   "display_name": "Python 3",
   "language": "python",
   "name": "python3"
  },
  "language_info": {
   "codemirror_mode": {
    "name": "ipython",
    "version": 3
   },
   "file_extension": ".py",
   "mimetype": "text/x-python",
   "name": "python",
   "nbconvert_exporter": "python",
   "pygments_lexer": "ipython3",
   "version": "3.7.1"
  }
 },
 "nbformat": 4,
 "nbformat_minor": 2
}
