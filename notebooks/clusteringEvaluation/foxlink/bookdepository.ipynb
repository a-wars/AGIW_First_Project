{
 "cells": [
  {
   "cell_type": "markdown",
   "metadata": {},
   "source": [
    "# Foxlink's clustering algorithm evaluation\n",
    "Evaluating Foxlink's clustering algorithm on bookdepository.com pages. The aim is to calculate precision and recall for \"book details\" cluster in bookdepository.com."
   ]
  },
  {
   "cell_type": "code",
   "execution_count": 1,
   "metadata": {},
   "outputs": [
    {
     "data": {
      "text/plain": [
       "'../../../datasets/bookdepository.csv'"
      ]
     },
     "execution_count": 1,
     "metadata": {},
     "output_type": "execute_result"
    }
   ],
   "source": [
    "%matplotlib inline\n",
    "# Importing libraries\n",
    "import matplotlib.pyplot as plt\n",
    "import pandas as pd\n",
    "\n",
    "FILEPATH = '../../../datasets/bookdepository.csv'\n",
    "FILEPATH"
   ]
  },
  {
   "cell_type": "code",
   "execution_count": 2,
   "metadata": {},
   "outputs": [],
   "source": [
    "df = pd.read_csv(FILEPATH)"
   ]
  },
  {
   "cell_type": "markdown",
   "metadata": {},
   "source": [
    "## Data analisys\n",
    "Some preliminary analisys of the dataset"
   ]
  },
  {
   "cell_type": "code",
   "execution_count": 3,
   "metadata": {},
   "outputs": [
    {
     "name": "stdout",
     "output_type": "stream",
     "text": [
      "First 5 rows\n",
      "------------\n"
     ]
    },
    {
     "data": {
      "text/html": [
       "<div>\n",
       "<style scoped>\n",
       "    .dataframe tbody tr th:only-of-type {\n",
       "        vertical-align: middle;\n",
       "    }\n",
       "\n",
       "    .dataframe tbody tr th {\n",
       "        vertical-align: top;\n",
       "    }\n",
       "\n",
       "    .dataframe thead th {\n",
       "        text-align: right;\n",
       "    }\n",
       "</style>\n",
       "<table border=\"1\" class=\"dataframe\">\n",
       "  <thead>\n",
       "    <tr style=\"text-align: right;\">\n",
       "      <th></th>\n",
       "      <th>url</th>\n",
       "      <th>referer_url</th>\n",
       "      <th>src</th>\n",
       "      <th>label</th>\n",
       "      <th>shingle_vector</th>\n",
       "    </tr>\n",
       "  </thead>\n",
       "  <tbody>\n",
       "    <tr>\n",
       "      <th>0</th>\n",
       "      <td>https://www.bookdepository.com/</td>\n",
       "      <td>https://www.bookdepository.com/</td>\n",
       "      <td>&lt;!DOCTYPE html&gt;\\n&lt;html lang=\"en\"&gt;\\n&lt;head&gt;\\n\\n ...</td>\n",
       "      <td>NaN</td>\n",
       "      <td>(0, 3, 2, 0, 5, 1, 1, 1)</td>\n",
       "    </tr>\n",
       "    <tr>\n",
       "      <th>1</th>\n",
       "      <td>https://www.bookdepository.com/author/J-K-Rowling</td>\n",
       "      <td>https://www.bookdepository.com/</td>\n",
       "      <td>&lt;!DOCTYPE html&gt;\\n&lt;html lang=\"en\"&gt;\\n&lt;head&gt;\\n\\n ...</td>\n",
       "      <td>NaN</td>\n",
       "      <td>(0, 3, 2, 0, 7, 1, 2, 1)</td>\n",
       "    </tr>\n",
       "    <tr>\n",
       "      <th>2</th>\n",
       "      <td>https://www.bookdepository.com/category/3098/T...</td>\n",
       "      <td>https://www.bookdepository.com/</td>\n",
       "      <td>&lt;!DOCTYPE html&gt;\\n&lt;html lang=\"en\"&gt;\\n&lt;head&gt;\\n\\n ...</td>\n",
       "      <td>NaN</td>\n",
       "      <td>(0, 3, 1, 0, 7, 1, 1, 1)</td>\n",
       "    </tr>\n",
       "    <tr>\n",
       "      <th>3</th>\n",
       "      <td>https://www.bookdepository.com/category/3392/B...</td>\n",
       "      <td>https://www.bookdepository.com/</td>\n",
       "      <td>&lt;!DOCTYPE html&gt;\\n&lt;html lang=\"en\"&gt;\\n&lt;head&gt;\\n\\n ...</td>\n",
       "      <td>NaN</td>\n",
       "      <td>(0, 3, 1, 0, 5, 1, 1, 1)</td>\n",
       "    </tr>\n",
       "    <tr>\n",
       "      <th>4</th>\n",
       "      <td>https://www.bookdepository.com/category/2967/T...</td>\n",
       "      <td>https://www.bookdepository.com/</td>\n",
       "      <td>&lt;!DOCTYPE html&gt;\\n&lt;html lang=\"en\"&gt;\\n&lt;head&gt;\\n\\n ...</td>\n",
       "      <td>NaN</td>\n",
       "      <td>(0, 3, 2, 0, 7, 1, 1, 1)</td>\n",
       "    </tr>\n",
       "  </tbody>\n",
       "</table>\n",
       "</div>"
      ],
      "text/plain": [
       "                                                 url  \\\n",
       "0                    https://www.bookdepository.com/   \n",
       "1  https://www.bookdepository.com/author/J-K-Rowling   \n",
       "2  https://www.bookdepository.com/category/3098/T...   \n",
       "3  https://www.bookdepository.com/category/3392/B...   \n",
       "4  https://www.bookdepository.com/category/2967/T...   \n",
       "\n",
       "                       referer_url  \\\n",
       "0  https://www.bookdepository.com/   \n",
       "1  https://www.bookdepository.com/   \n",
       "2  https://www.bookdepository.com/   \n",
       "3  https://www.bookdepository.com/   \n",
       "4  https://www.bookdepository.com/   \n",
       "\n",
       "                                                 src label  \\\n",
       "0  <!DOCTYPE html>\\n<html lang=\"en\">\\n<head>\\n\\n ...   NaN   \n",
       "1  <!DOCTYPE html>\\n<html lang=\"en\">\\n<head>\\n\\n ...   NaN   \n",
       "2  <!DOCTYPE html>\\n<html lang=\"en\">\\n<head>\\n\\n ...   NaN   \n",
       "3  <!DOCTYPE html>\\n<html lang=\"en\">\\n<head>\\n\\n ...   NaN   \n",
       "4  <!DOCTYPE html>\\n<html lang=\"en\">\\n<head>\\n\\n ...   NaN   \n",
       "\n",
       "             shingle_vector  \n",
       "0  (0, 3, 2, 0, 5, 1, 1, 1)  \n",
       "1  (0, 3, 2, 0, 7, 1, 2, 1)  \n",
       "2  (0, 3, 1, 0, 7, 1, 1, 1)  \n",
       "3  (0, 3, 1, 0, 5, 1, 1, 1)  \n",
       "4  (0, 3, 2, 0, 7, 1, 1, 1)  "
      ]
     },
     "execution_count": 3,
     "metadata": {},
     "output_type": "execute_result"
    }
   ],
   "source": [
    "print(\"First 5 rows\")\n",
    "print(\"------------\")\n",
    "df.head()"
   ]
  },
  {
   "cell_type": "code",
   "execution_count": 4,
   "metadata": {},
   "outputs": [
    {
     "name": "stdout",
     "output_type": "stream",
     "text": [
      "No. of rows and columns\n",
      "-----------------------\n"
     ]
    },
    {
     "data": {
      "text/plain": [
       "(25549, 5)"
      ]
     },
     "execution_count": 4,
     "metadata": {},
     "output_type": "execute_result"
    }
   ],
   "source": [
    "print(\"No. of rows and columns\")\n",
    "print(\"-----------------------\")\n",
    "df.shape"
   ]
  },
  {
   "cell_type": "code",
   "execution_count": 5,
   "metadata": {},
   "outputs": [
    {
     "name": "stdout",
     "output_type": "stream",
     "text": [
      "Check null values\n",
      "-----------------\n"
     ]
    },
    {
     "data": {
      "text/plain": [
       "True"
      ]
     },
     "execution_count": 5,
     "metadata": {},
     "output_type": "execute_result"
    }
   ],
   "source": [
    "print(\"Check null values\")\n",
    "print(\"-----------------\")\n",
    "df.isnull().any().any()"
   ]
  },
  {
   "cell_type": "code",
   "execution_count": 6,
   "metadata": {},
   "outputs": [
    {
     "name": "stdout",
     "output_type": "stream",
     "text": [
      "Check duplicate values\n",
      "----------------------\n"
     ]
    },
    {
     "data": {
      "text/plain": [
       "False"
      ]
     },
     "execution_count": 6,
     "metadata": {},
     "output_type": "execute_result"
    }
   ],
   "source": [
    "print(\"Check duplicate values\")\n",
    "print(\"----------------------\")\n",
    "len(df['url'].unique()) != df.shape[0]"
   ]
  },
  {
   "cell_type": "code",
   "execution_count": 7,
   "metadata": {},
   "outputs": [
    {
     "name": "stdout",
     "output_type": "stream",
     "text": [
      "DataFrame column types\n",
      "----------------------\n",
      "<class 'pandas.core.frame.DataFrame'>\n",
      "RangeIndex: 25549 entries, 0 to 25548\n",
      "Data columns (total 5 columns):\n",
      "url               25549 non-null object\n",
      "referer_url       25549 non-null object\n",
      "src               25549 non-null object\n",
      "label             15807 non-null object\n",
      "shingle_vector    25549 non-null object\n",
      "dtypes: object(5)\n",
      "memory usage: 998.1+ KB\n"
     ]
    }
   ],
   "source": [
    "print(\"DataFrame column types\")\n",
    "print(\"----------------------\")\n",
    "df.info()"
   ]
  },
  {
   "cell_type": "code",
   "execution_count": 8,
   "metadata": {},
   "outputs": [
    {
     "name": "stdout",
     "output_type": "stream",
     "text": [
      "Some stats\n",
      "----------------\n"
     ]
    },
    {
     "data": {
      "text/html": [
       "<div>\n",
       "<style scoped>\n",
       "    .dataframe tbody tr th:only-of-type {\n",
       "        vertical-align: middle;\n",
       "    }\n",
       "\n",
       "    .dataframe tbody tr th {\n",
       "        vertical-align: top;\n",
       "    }\n",
       "\n",
       "    .dataframe thead th {\n",
       "        text-align: right;\n",
       "    }\n",
       "</style>\n",
       "<table border=\"1\" class=\"dataframe\">\n",
       "  <thead>\n",
       "    <tr style=\"text-align: right;\">\n",
       "      <th></th>\n",
       "      <th>url</th>\n",
       "      <th>referer_url</th>\n",
       "      <th>src</th>\n",
       "      <th>label</th>\n",
       "      <th>shingle_vector</th>\n",
       "    </tr>\n",
       "  </thead>\n",
       "  <tbody>\n",
       "    <tr>\n",
       "      <th>count</th>\n",
       "      <td>25549</td>\n",
       "      <td>25549</td>\n",
       "      <td>25549</td>\n",
       "      <td>15807</td>\n",
       "      <td>25549</td>\n",
       "    </tr>\n",
       "    <tr>\n",
       "      <th>unique</th>\n",
       "      <td>25549</td>\n",
       "      <td>10496</td>\n",
       "      <td>25549</td>\n",
       "      <td>1</td>\n",
       "      <td>23</td>\n",
       "    </tr>\n",
       "    <tr>\n",
       "      <th>top</th>\n",
       "      <td>https://www.bookdepository.com/author/Robert-B...</td>\n",
       "      <td>https://www.bookdepository.com/</td>\n",
       "      <td>&lt;!DOCTYPE html&gt;\\n&lt;html lang=\"en\"&gt;\\n&lt;head&gt;\\n\\n ...</td>\n",
       "      <td>product</td>\n",
       "      <td>(0, 1, 2, 3, 0, 1, 2, 1)</td>\n",
       "    </tr>\n",
       "    <tr>\n",
       "      <th>freq</th>\n",
       "      <td>1</td>\n",
       "      <td>27</td>\n",
       "      <td>1</td>\n",
       "      <td>15807</td>\n",
       "      <td>6941</td>\n",
       "    </tr>\n",
       "  </tbody>\n",
       "</table>\n",
       "</div>"
      ],
      "text/plain": [
       "                                                      url  \\\n",
       "count                                               25549   \n",
       "unique                                              25549   \n",
       "top     https://www.bookdepository.com/author/Robert-B...   \n",
       "freq                                                    1   \n",
       "\n",
       "                            referer_url  \\\n",
       "count                             25549   \n",
       "unique                            10496   \n",
       "top     https://www.bookdepository.com/   \n",
       "freq                                 27   \n",
       "\n",
       "                                                      src    label  \\\n",
       "count                                               25549    15807   \n",
       "unique                                              25549        1   \n",
       "top     <!DOCTYPE html>\\n<html lang=\"en\">\\n<head>\\n\\n ...  product   \n",
       "freq                                                    1    15807   \n",
       "\n",
       "                  shingle_vector  \n",
       "count                      25549  \n",
       "unique                        23  \n",
       "top     (0, 1, 2, 3, 0, 1, 2, 1)  \n",
       "freq                        6941  "
      ]
     },
     "execution_count": 8,
     "metadata": {},
     "output_type": "execute_result"
    }
   ],
   "source": [
    "print(\"Some stats\")\n",
    "print(\"----------------\")\n",
    "df.describe()"
   ]
  },
  {
   "cell_type": "code",
   "execution_count": 9,
   "metadata": {},
   "outputs": [
    {
     "name": "stdout",
     "output_type": "stream",
     "text": [
      "There are 9742 row with no label\n",
      "There are 15807 row with product label\n"
     ]
    }
   ],
   "source": [
    "fmt_string = 'There are {} row with {} label'\n",
    "print(fmt_string.format(len(df[df['label'].isnull()]),'no'))\n",
    "print(fmt_string.format(len(df[df['label']=='product']), 'product'))"
   ]
  },
  {
   "cell_type": "markdown",
   "metadata": {},
   "source": [
    "## Run Foxlink's clustering algorithm"
   ]
  },
  {
   "cell_type": "code",
   "execution_count": 10,
   "metadata": {},
   "outputs": [],
   "source": [
    "#add top level folder to sys.path\n",
    "import sys\n",
    "sys.path.append('../../../')"
   ]
  },
  {
   "cell_type": "code",
   "execution_count": 11,
   "metadata": {},
   "outputs": [],
   "source": [
    "from foxlink_clustering.clustering.structural_clustering import structural_clustering\n",
    "\n",
    "clusters = structural_clustering(df)"
   ]
  },
  {
   "cell_type": "code",
   "execution_count": 12,
   "metadata": {},
   "outputs": [
    {
     "data": {
      "text/plain": [
       "6"
      ]
     },
     "execution_count": 12,
     "metadata": {},
     "output_type": "execute_result"
    }
   ],
   "source": [
    "len(clusters)"
   ]
  },
  {
   "cell_type": "markdown",
   "metadata": {},
   "source": [
    "So Foxlink's clustering algorithm discovered 6 clusters. Let's see how many pages contains each cluster"
   ]
  },
  {
   "cell_type": "code",
   "execution_count": 15,
   "metadata": {
    "scrolled": true
   },
   "outputs": [
    {
     "name": "stdout",
     "output_type": "stream",
     "text": [
      "cluster n. 1 has 521 pages\n",
      "cluster n. 2 has 9077 pages\n",
      "cluster n. 3 has 649 pages\n",
      "cluster n. 4 has 4023 pages\n",
      "cluster n. 5 has 11201 pages\n",
      "cluster n. 6 has 56 pages\n",
      "\n",
      "25527 pages were clustered using Foxlink's clustering algorithm. 22 pages were discarded\n"
     ]
    }
   ],
   "source": [
    "cluster_fmt = 'cluster n. {} has {} pages'\n",
    "noOfPages = 0\n",
    "for index, cluster in enumerate(clusters):\n",
    "    clusterSize = len(cluster[1])\n",
    "    print(cluster_fmt.format(index +1 , clusterSize))\n",
    "    noOfPages += clusterSize\n",
    "print()\n",
    "print('{} pages were clustered using Foxlink\\'s clustering algorithm. {} pages were discarded'.format(noOfPages, len(df.index) - noOfPages))\n",
    "    "
   ]
  },
  {
   "cell_type": "markdown",
   "metadata": {},
   "source": [
    "Looking at each cluster it seems that cluster n.5 should be the one which groups pages that show books details. Let's check that"
   ]
  },
  {
   "cell_type": "code",
   "execution_count": 19,
   "metadata": {},
   "outputs": [
    {
     "name": "stdout",
     "output_type": "stream",
     "text": [
      "https://www.bookdepository.com/Look-Inside-Our-World-Emily-Bone/9781409563945?ref=grid-view\n",
      "https://www.bookdepository.com/Look-Inside-Things-That-Go-Rob-Lloyd-Jones/9781409550259?ref=grid-view\n",
      "https://www.bookdepository.com/Look-Inside-Space-Rob-Lloyd-Jones/9781409523383?ref=grid-view\n",
      "https://www.bookdepository.com/Angel-Time-Professor-Anne-Rice/9781400078950\n",
      "https://www.bookdepository.com/Art-Mass-Effect-Universe-Casey-Hudson/9781595827685?ref=grid-view\n",
      "https://www.bookdepository.com/Talking-Heads-Fear-Music-Jonathan-Lethem/9781441121004?ref=grid-view\n",
      "https://www.bookdepository.com/Time-Death-Susan-Ericksen/9781469205793?ref=grid-view\n",
      "https://www.bookdepository.com/Holiday-Death-J-D-Robb/9781469233758\n",
      "https://www.bookdepository.com/Holiday-Death-J-D-Robb/9781417711772\n",
      "https://www.bookdepository.com/Meditations-Marcus-Aurelius/9780141018829?ref=grid-view\n"
     ]
    }
   ],
   "source": [
    "for i in range(10):\n",
    "    print(clusters[4][1][i])"
   ]
  },
  {
   "cell_type": "markdown",
   "metadata": {},
   "source": [
    "However, as said previously there are 15807 pages which show book details. So there are 4606 pages displaying book details which are (probably ?) distributed across the remaining 5 clusters or discarded. Therefore it seems that Foxlink's clustering algorithm should have a high precision (possibly 1) and a lower value of recall."
   ]
  },
  {
   "cell_type": "markdown",
   "metadata": {},
   "source": [
    "## Calculate precision and recall\n",
    "Calculate precision and recall considering the entire dataset."
   ]
  },
  {
   "cell_type": "code",
   "execution_count": 20,
   "metadata": {},
   "outputs": [],
   "source": [
    "bookCluster = clusters[4]\n",
    "urlsFromBookCluster = bookCluster[1]"
   ]
  },
  {
   "cell_type": "code",
   "execution_count": 21,
   "metadata": {},
   "outputs": [],
   "source": [
    "pages_retrieved_for_book_query = len(urlsFromBookCluster)\n",
    "\n",
    "true_positive = 0\n",
    "\n",
    "all_positives = len(df[df['label']=='product'])\n",
    "\n",
    "for url in urlsFromBookCluster:\n",
    "    matchingRow  = df[df['url'] == url][['url','label']].iloc[0]\n",
    "    if matchingRow['label'] == 'product':\n",
    "        true_positive += 1"
   ]
  },
  {
   "cell_type": "code",
   "execution_count": 22,
   "metadata": {},
   "outputs": [
    {
     "name": "stdout",
     "output_type": "stream",
     "text": [
      "Recall: 0.7048143227683937\n",
      "Precision: 0.9946433354164806\n"
     ]
    }
   ],
   "source": [
    "recall = true_positive/all_positives\n",
    "precision = true_positive/pages_retrieved_for_book_query\n",
    "eval_fmt = '{}: {}'\n",
    "print(eval_fmt.format('Recall', recall))\n",
    "print(eval_fmt.format('Precision', precision))"
   ]
  },
  {
   "cell_type": "markdown",
   "metadata": {},
   "source": [
    "Let's find out how much precision and recall are dependent from the dataset size. Let's consider a dataset of 100, 500, 1000 and 5000 pages."
   ]
  },
  {
   "cell_type": "markdown",
   "metadata": {},
   "source": [
    "### Evaluate recall and precision using a dataset of 100 pages"
   ]
  },
  {
   "cell_type": "code",
   "execution_count": 23,
   "metadata": {},
   "outputs": [
    {
     "data": {
      "text/html": [
       "<div>\n",
       "<style scoped>\n",
       "    .dataframe tbody tr th:only-of-type {\n",
       "        vertical-align: middle;\n",
       "    }\n",
       "\n",
       "    .dataframe tbody tr th {\n",
       "        vertical-align: top;\n",
       "    }\n",
       "\n",
       "    .dataframe thead th {\n",
       "        text-align: right;\n",
       "    }\n",
       "</style>\n",
       "<table border=\"1\" class=\"dataframe\">\n",
       "  <thead>\n",
       "    <tr style=\"text-align: right;\">\n",
       "      <th></th>\n",
       "      <th>url</th>\n",
       "      <th>referer_url</th>\n",
       "      <th>src</th>\n",
       "      <th>label</th>\n",
       "      <th>shingle_vector</th>\n",
       "    </tr>\n",
       "  </thead>\n",
       "  <tbody>\n",
       "    <tr>\n",
       "      <th>count</th>\n",
       "      <td>100</td>\n",
       "      <td>100</td>\n",
       "      <td>100</td>\n",
       "      <td>59</td>\n",
       "      <td>100</td>\n",
       "    </tr>\n",
       "    <tr>\n",
       "      <th>unique</th>\n",
       "      <td>100</td>\n",
       "      <td>99</td>\n",
       "      <td>100</td>\n",
       "      <td>1</td>\n",
       "      <td>11</td>\n",
       "    </tr>\n",
       "    <tr>\n",
       "      <th>top</th>\n",
       "      <td>https://www.bookdepository.com/Il-figlio-di-Ba...</td>\n",
       "      <td>https://www.bookdepository.com/author/Eric-Gol...</td>\n",
       "      <td>&lt;!DOCTYPE html&gt;\\n&lt;html lang=\"en\"&gt;\\n&lt;head&gt;\\n\\n ...</td>\n",
       "      <td>product</td>\n",
       "      <td>(0, 3, 2, 0, 7, 1, 2, 1)</td>\n",
       "    </tr>\n",
       "    <tr>\n",
       "      <th>freq</th>\n",
       "      <td>1</td>\n",
       "      <td>2</td>\n",
       "      <td>1</td>\n",
       "      <td>59</td>\n",
       "      <td>29</td>\n",
       "    </tr>\n",
       "  </tbody>\n",
       "</table>\n",
       "</div>"
      ],
      "text/plain": [
       "                                                      url  \\\n",
       "count                                                 100   \n",
       "unique                                                100   \n",
       "top     https://www.bookdepository.com/Il-figlio-di-Ba...   \n",
       "freq                                                    1   \n",
       "\n",
       "                                              referer_url  \\\n",
       "count                                                 100   \n",
       "unique                                                 99   \n",
       "top     https://www.bookdepository.com/author/Eric-Gol...   \n",
       "freq                                                    2   \n",
       "\n",
       "                                                      src    label  \\\n",
       "count                                                 100       59   \n",
       "unique                                                100        1   \n",
       "top     <!DOCTYPE html>\\n<html lang=\"en\">\\n<head>\\n\\n ...  product   \n",
       "freq                                                    1       59   \n",
       "\n",
       "                  shingle_vector  \n",
       "count                        100  \n",
       "unique                        11  \n",
       "top     (0, 3, 2, 0, 7, 1, 2, 1)  \n",
       "freq                          29  "
      ]
     },
     "execution_count": 23,
     "metadata": {},
     "output_type": "execute_result"
    }
   ],
   "source": [
    "sample100 = df.sample(100)\n",
    "sample100.describe()"
   ]
  },
  {
   "cell_type": "code",
   "execution_count": 24,
   "metadata": {},
   "outputs": [
    {
     "name": "stdout",
     "output_type": "stream",
     "text": [
      "There are 41 row with no label\n",
      "There are 59 row with product label\n"
     ]
    }
   ],
   "source": [
    "print(fmt_string.format(len(sample100[sample100['label'].isnull()]),'no'))\n",
    "print(fmt_string.format(len(sample100[sample100['label']=='product']), 'product'))"
   ]
  },
  {
   "cell_type": "code",
   "execution_count": 25,
   "metadata": {},
   "outputs": [
    {
     "name": "stdout",
     "output_type": "stream",
     "text": [
      "There are 2 clusters\n"
     ]
    }
   ],
   "source": [
    "clusters = structural_clustering(sample100)\n",
    "print(\"There are {} clusters\".format(len(clusters)))"
   ]
  },
  {
   "cell_type": "code",
   "execution_count": 28,
   "metadata": {},
   "outputs": [
    {
     "name": "stdout",
     "output_type": "stream",
     "text": [
      "cluster n. 1 has 39 pages\n",
      "cluster n. 2 has 40 pages\n",
      "\n",
      "79 pages were clustered using Foxlink's clustering algorithm. 21 pages were discarded\n"
     ]
    }
   ],
   "source": [
    "noOfPages = 0\n",
    "for index, cluster in enumerate(clusters):\n",
    "    clusterSize = len(cluster[1])\n",
    "    print(cluster_fmt.format(index +1 , clusterSize))\n",
    "    noOfPages += clusterSize\n",
    "print()\n",
    "print('{} pages were clustered using Foxlink\\'s clustering algorithm. {} pages were discarded'.format(noOfPages, len(sample100.index) - noOfPages))"
   ]
  },
  {
   "cell_type": "markdown",
   "metadata": {},
   "source": [
    "Note that during Foxlink's clustering algorithm some pages are discarded. \n",
    "Printing out each cluster data points"
   ]
  },
  {
   "cell_type": "code",
   "execution_count": 29,
   "metadata": {},
   "outputs": [
    {
     "name": "stdout",
     "output_type": "stream",
     "text": [
      "https://www.bookdepository.com/author/Robert-Walser?page=2\n",
      "https://www.bookdepository.com/author/Colin-Lee\n",
      "https://www.bookdepository.com/author/Deirdre-Purcell\n",
      "https://www.bookdepository.com/publishers/Ancora\n",
      "https://www.bookdepository.com/author/M-DIncalci\n",
      "https://www.bookdepository.com/publishers/Olms-Georg-AG\n",
      "https://www.bookdepository.com/author/Eric-Goldberg\n",
      "https://www.bookdepository.com/author/Freeman-Of-Dublin\n",
      "https://www.bookdepository.com/author/Jeffrey-Kennedy\n",
      "https://www.bookdepository.com/author/Yvonne-Markus\n"
     ]
    }
   ],
   "source": [
    "for i in range(10):\n",
    "    print(clusters[0][1][i])"
   ]
  },
  {
   "cell_type": "code",
   "execution_count": 30,
   "metadata": {},
   "outputs": [
    {
     "name": "stdout",
     "output_type": "stream",
     "text": [
      "https://www.bookdepository.com/Idylle-en-exil/9782867467448\n",
      "https://www.bookdepository.com/Account-Memorial-Presented-His-Majesty-by-Captain-Pedro-Fernandez-de-Quir-Concerning-Population-Discovery-Fourth-Part-Pedro-Fernandes-De-Queirs/9781149746653\n",
      "https://www.bookdepository.com/Dont-Marry-Me-Plowman-Patricia-Jeffery/9780813319940\n",
      "https://www.bookdepository.com/Political-System-United-States-John-D-Lees/9780571048786\n",
      "https://www.bookdepository.com/Tom-Peters-Business-School-Eric-Goldberg/9780517170014\n",
      "https://www.bookdepository.com/CSM-VCE-Specialist-Mathematics-Units-3-4-Michael-Evans/9781107587434\n",
      "https://www.bookdepository.com/Donne-e-guerra-Jean-B-Elshtain/9788815031457\n",
      "https://www.bookdepository.com/Between-Two-Rivers/9780891200154\n",
      "https://www.bookdepository.com/Water-Cycle-at-Work-Olien-Rebecca/9781474712293\n",
      "https://www.bookdepository.com/Soil-Slope-Instability-Stablisation/9789061917304\n"
     ]
    }
   ],
   "source": [
    "for i in range(10):\n",
    "    print(clusters[1][1][i])"
   ]
  },
  {
   "cell_type": "markdown",
   "metadata": {},
   "source": [
    "So it seems that the second cluster contains pages from the 'product' template. Let's calculate now precision and recall for that cluster."
   ]
  },
  {
   "cell_type": "code",
   "execution_count": 31,
   "metadata": {},
   "outputs": [],
   "source": [
    "bookCluster = clusters[1]\n",
    "urlsFromBookCluster = bookCluster[1]"
   ]
  },
  {
   "cell_type": "code",
   "execution_count": 32,
   "metadata": {},
   "outputs": [],
   "source": [
    "pages_retrieved_for_book_query = len(urlsFromBookCluster)\n",
    "\n",
    "true_positive = 0\n",
    "\n",
    "all_positives = len(sample100[sample100['label']=='product'])\n",
    "\n",
    "for url in urlsFromBookCluster:\n",
    "    matchingRow  = sample100[sample100['url'] == url][['url','label']].iloc[0]\n",
    "    if matchingRow['label'] == 'product':\n",
    "        true_positive += 1"
   ]
  },
  {
   "cell_type": "code",
   "execution_count": 33,
   "metadata": {},
   "outputs": [
    {
     "name": "stdout",
     "output_type": "stream",
     "text": [
      "Recall: 0.6779661016949152\n",
      "Precision: 1.0\n"
     ]
    }
   ],
   "source": [
    "recall = true_positive/all_positives\n",
    "precision = true_positive/pages_retrieved_for_book_query\n",
    "eval_fmt = '{}: {}'\n",
    "print(eval_fmt.format('Recall', recall))\n",
    "print(eval_fmt.format('Precision', precision))"
   ]
  },
  {
   "cell_type": "markdown",
   "metadata": {},
   "source": [
    "Finally let's calculate again precision and recall considering 1000 pages and 5000 pages"
   ]
  },
  {
   "cell_type": "markdown",
   "metadata": {},
   "source": [
    "### Evaluate recall and precision using a dataset of 1000 pages"
   ]
  },
  {
   "cell_type": "code",
   "execution_count": 42,
   "metadata": {},
   "outputs": [
    {
     "data": {
      "text/html": [
       "<div>\n",
       "<style scoped>\n",
       "    .dataframe tbody tr th:only-of-type {\n",
       "        vertical-align: middle;\n",
       "    }\n",
       "\n",
       "    .dataframe tbody tr th {\n",
       "        vertical-align: top;\n",
       "    }\n",
       "\n",
       "    .dataframe thead th {\n",
       "        text-align: right;\n",
       "    }\n",
       "</style>\n",
       "<table border=\"1\" class=\"dataframe\">\n",
       "  <thead>\n",
       "    <tr style=\"text-align: right;\">\n",
       "      <th></th>\n",
       "      <th>url</th>\n",
       "      <th>referer_url</th>\n",
       "      <th>src</th>\n",
       "      <th>label</th>\n",
       "      <th>shingle_vector</th>\n",
       "    </tr>\n",
       "  </thead>\n",
       "  <tbody>\n",
       "    <tr>\n",
       "      <th>count</th>\n",
       "      <td>1000</td>\n",
       "      <td>1000</td>\n",
       "      <td>1000</td>\n",
       "      <td>629</td>\n",
       "      <td>1000</td>\n",
       "    </tr>\n",
       "    <tr>\n",
       "      <th>unique</th>\n",
       "      <td>1000</td>\n",
       "      <td>927</td>\n",
       "      <td>1000</td>\n",
       "      <td>1</td>\n",
       "      <td>16</td>\n",
       "    </tr>\n",
       "    <tr>\n",
       "      <th>top</th>\n",
       "      <td>https://www.bookdepository.com/Dinosaur-Pirate...</td>\n",
       "      <td>https://www.bookdepository.com/author/Daniel-R...</td>\n",
       "      <td>&lt;!DOCTYPE html&gt;\\n&lt;html lang=\"en\"&gt;\\n&lt;head&gt;\\n\\n ...</td>\n",
       "      <td>product</td>\n",
       "      <td>(0, 1, 2, 3, 0, 1, 2, 1)</td>\n",
       "    </tr>\n",
       "    <tr>\n",
       "      <th>freq</th>\n",
       "      <td>1</td>\n",
       "      <td>3</td>\n",
       "      <td>1</td>\n",
       "      <td>629</td>\n",
       "      <td>257</td>\n",
       "    </tr>\n",
       "  </tbody>\n",
       "</table>\n",
       "</div>"
      ],
      "text/plain": [
       "                                                      url  \\\n",
       "count                                                1000   \n",
       "unique                                               1000   \n",
       "top     https://www.bookdepository.com/Dinosaur-Pirate...   \n",
       "freq                                                    1   \n",
       "\n",
       "                                              referer_url  \\\n",
       "count                                                1000   \n",
       "unique                                                927   \n",
       "top     https://www.bookdepository.com/author/Daniel-R...   \n",
       "freq                                                    3   \n",
       "\n",
       "                                                      src    label  \\\n",
       "count                                                1000      629   \n",
       "unique                                               1000        1   \n",
       "top     <!DOCTYPE html>\\n<html lang=\"en\">\\n<head>\\n\\n ...  product   \n",
       "freq                                                    1      629   \n",
       "\n",
       "                  shingle_vector  \n",
       "count                       1000  \n",
       "unique                        16  \n",
       "top     (0, 1, 2, 3, 0, 1, 2, 1)  \n",
       "freq                         257  "
      ]
     },
     "execution_count": 42,
     "metadata": {},
     "output_type": "execute_result"
    }
   ],
   "source": [
    "sample1000 = df.sample(1000)\n",
    "sample1000.describe()"
   ]
  },
  {
   "cell_type": "code",
   "execution_count": 43,
   "metadata": {},
   "outputs": [
    {
     "name": "stdout",
     "output_type": "stream",
     "text": [
      "There are 371 row with no label\n",
      "There are 629 row with product label\n"
     ]
    }
   ],
   "source": [
    "print(fmt_string.format(len(sample1000[sample1000['label'].isnull()]),'no'))\n",
    "print(fmt_string.format(len(sample1000[sample1000['label']=='product']), 'product'))"
   ]
  },
  {
   "cell_type": "code",
   "execution_count": 44,
   "metadata": {},
   "outputs": [
    {
     "name": "stdout",
     "output_type": "stream",
     "text": [
      "There are 5 clusters\n"
     ]
    }
   ],
   "source": [
    "clusters = structural_clustering(sample1000)\n",
    "print(\"There are {} clusters\".format(len(clusters)))"
   ]
  },
  {
   "cell_type": "code",
   "execution_count": 45,
   "metadata": {},
   "outputs": [
    {
     "name": "stdout",
     "output_type": "stream",
     "text": [
      "cluster n. 1 has 429 pages\n",
      "cluster n. 2 has 345 pages\n",
      "cluster n. 3 has 177 pages\n",
      "cluster n. 4 has 25 pages\n",
      "cluster n. 5 has 21 pages\n",
      "\n",
      "997 pages were clustered using Foxlink's clustering algorithm. 3 pages were discarded\n"
     ]
    }
   ],
   "source": [
    "noOfPages = 0\n",
    "for index, cluster in enumerate(clusters):\n",
    "    clusterSize = len(cluster[1])\n",
    "    print(cluster_fmt.format(index +1 , clusterSize))\n",
    "    noOfPages += clusterSize\n",
    "print()\n",
    "print('{} pages were clustered using Foxlink\\'s clustering algorithm. {} pages were discarded'.format(noOfPages, len(sample1000.index) - noOfPages))"
   ]
  },
  {
   "cell_type": "markdown",
   "metadata": {},
   "source": [
    "Printing each cluster's data points"
   ]
  },
  {
   "cell_type": "code",
   "execution_count": 46,
   "metadata": {},
   "outputs": [
    {
     "name": "stdout",
     "output_type": "stream",
     "text": [
      "https://www.bookdepository.com/Data-Structures-Using-C-Aaron-M-Tenenbaum/9780132004114\n",
      "https://www.bookdepository.com/Mercury-Mining-Empire-Human-Ecological-Cost-Colonial-Silver-Mining-Andes-Nicholas-Robins/9781283235914\n",
      "https://www.bookdepository.com/Draft-Constitution-for-Mercia-Jeff-Kent/9780952915249\n",
      "https://www.bookdepository.com/Hornbill-Strs-Girl-Sparkling-Eyes-Colin-Swatridge-Editor/9780333566817\n",
      "https://www.bookdepository.com/Bleak-House-Charles-Dickens/9780140430639\n",
      "https://www.bookdepository.com/Etudes-Sur-Les-Animaux-Domestiques-Guy-De-Charnace/9781246206647\n",
      "https://www.bookdepository.com/Modern-Mountain-Hideaways/9782875500458\n",
      "https://www.bookdepository.com/Wacky-Things-about-Animals-2-Tricia-Martineau-Wagner/9781942875703\n",
      "https://www.bookdepository.com/Hist%C3%B2ria-dOsona-Joaquim-Albareda/9788460034346\n",
      "https://www.bookdepository.com/Anlatsam-Gecer-Mi-Sila-Gencoglu/9786050946581\n"
     ]
    }
   ],
   "source": [
    "for i in range(10):\n",
    "    print(clusters[0][1][i])"
   ]
  },
  {
   "cell_type": "code",
   "execution_count": 47,
   "metadata": {},
   "outputs": [
    {
     "name": "stdout",
     "output_type": "stream",
     "text": [
      "https://www.bookdepository.com/author/Staiano-Oriana\n",
      "https://www.bookdepository.com/author/Johannes-Liebrecht\n",
      "https://www.bookdepository.com/author/Christian-Campbell\n",
      "https://www.bookdepository.com/author/Luvvie-Ajayi\n",
      "https://www.bookdepository.com/author/Llu%C3%ADs-Delgado-Pico\n",
      "https://www.bookdepository.com/author/Joe-Perry\n",
      "https://www.bookdepository.com/author/Patricia-Burch\n",
      "https://www.bookdepository.com/author/V-Durr\n",
      "https://www.bookdepository.com/author/H-C-Henry-Charles-1859-19-Beeching\n",
      "https://www.bookdepository.com/author/Mark-S-Reed\n"
     ]
    }
   ],
   "source": [
    "for i in range(10):\n",
    "    print(clusters[1][1][i])"
   ]
  },
  {
   "cell_type": "code",
   "execution_count": 48,
   "metadata": {},
   "outputs": [
    {
     "name": "stdout",
     "output_type": "stream",
     "text": [
      "https://www.bookdepository.com/500-White-Wines-Natasha-Hughes/9781416207719?ref=grid-view&qid=1557069335042&sr=1-30\n",
      "https://www.bookdepository.com/500-White-Wines-Natasha-Hughes-Patricia-Langton/9781416207719\n",
      "https://www.bookdepository.com/W-Is-for-Wind-Pat-Michaels/9781585362370\n",
      "https://www.bookdepository.com/Power-Broker-Robert-Caro/9780394720241\n",
      "https://www.bookdepository.com/Storia-dItalia-C-Vivanti/9788806427627?ref=bd_ser_1_1\n",
      "https://www.bookdepository.com/Mulan-Verliebt-Shanghai-Susanne-Hornfeck/9783423650229?ref=bd_ser_1_1\n",
      "https://www.bookdepository.com/Star-Wars-Use-Force-Michael-Siglain/9781484704646\n",
      "https://www.bookdepository.com/Cuba-Ana-Maria-B-Vazquez/9780516027586\n",
      "https://www.bookdepository.com/Modern-European-Philosophy-Carl-Schmitts-Critique-Liberalism-Against-Politics-Technology-John-P-McCormick/9780521664578?ref=grid-view&qid=1557068418743&sr=1-3\n",
      "https://www.bookdepository.com/Dinosaur-Rocket-Ms-Penny-Dale/9780857633828?ref=bd_ser_1_1\n"
     ]
    }
   ],
   "source": [
    "for i in range(10):\n",
    "    print(clusters[2][1][i])"
   ]
  },
  {
   "cell_type": "code",
   "execution_count": 49,
   "metadata": {},
   "outputs": [
    {
     "name": "stdout",
     "output_type": "stream",
     "text": [
      "https://www.bookdepository.com/Software-Projektmanagement-Georg-E-Thaller/9783935042284\n",
      "https://www.bookdepository.com/Kaffee-1-Audio-CD/9783981025675\n",
      "https://www.bookdepository.com/Keywords-Professor-Raymond-Williams/9780856642890\n",
      "https://www.bookdepository.com/Consonancia-de-Sentencia-y-Acusacion-Luis-Emilio-Duran-G/9789586481915\n",
      "https://www.bookdepository.com/Denn-Ich-Will-Aus-Mir-Machen-Das-Feinste-Hannelore-Cyrus/9783926768001\n",
      "https://www.bookdepository.com/Alcoletge-Daniel-Rubio-Ruiz/9788497911740\n",
      "https://www.bookdepository.com/Cambridge-Field-Guide-Old-World-Archaeology-Assaf-Yasur-Landau/9780521719933\n",
      "https://www.bookdepository.com/Stability-Economics/9780985587956\n",
      "https://www.bookdepository.com/Unkraut-vergeht-nicht-Klaus-Arlt/9783897573574\n",
      "https://www.bookdepository.com/Konstruktivistische-Didaktik-m-CD-ROM-Kersten-Reich/9783407254108\n"
     ]
    }
   ],
   "source": [
    "for i in range(10):\n",
    "    print(clusters[3][1][i])"
   ]
  },
  {
   "cell_type": "code",
   "execution_count": 50,
   "metadata": {},
   "outputs": [
    {
     "name": "stdout",
     "output_type": "stream",
     "text": [
      "https://www.bookdepository.com/category/134/vid/3389/Film-Theory-Criticism-Audio-Books\n",
      "https://www.bookdepository.com/category/2671/National-Liberation-Independence-Post-colonialism\n",
      "https://www.bookdepository.com/category/1389/Forensic-Medicine\n",
      "https://www.bookdepository.com/category/88/Special-Kinds-Photography\n",
      "https://www.bookdepository.com/category/294/Literary-Theory\n",
      "https://www.bookdepository.com/category/106/Textile-Design-Theory\n",
      "https://www.bookdepository.com/category/2722/vid/3389/Philosophy-Audio-Books?page=4\n",
      "https://www.bookdepository.com/category/3171/Christian-Counselling?page=5\n",
      "https://www.bookdepository.com/category/3008/vid/3389/Trees-Wildflowers-Plants-Audio-Books\n",
      "https://www.bookdepository.com/category/1013/Public-Relations\n"
     ]
    }
   ],
   "source": [
    "for i in range(10):\n",
    "    print(clusters[4][1][i])"
   ]
  },
  {
   "cell_type": "markdown",
   "metadata": {},
   "source": [
    "although it is not clear, there are three clusters (first, third and fourth) of pages that match the book (or product) template. In this case it won't be necessary to calculate precision and recall since they should be really low values."
   ]
  },
  {
   "cell_type": "markdown",
   "metadata": {},
   "source": [
    "### Evaluate recall and precision using a dataset of 5000 pages"
   ]
  },
  {
   "cell_type": "code",
   "execution_count": 51,
   "metadata": {},
   "outputs": [
    {
     "data": {
      "text/html": [
       "<div>\n",
       "<style scoped>\n",
       "    .dataframe tbody tr th:only-of-type {\n",
       "        vertical-align: middle;\n",
       "    }\n",
       "\n",
       "    .dataframe tbody tr th {\n",
       "        vertical-align: top;\n",
       "    }\n",
       "\n",
       "    .dataframe thead th {\n",
       "        text-align: right;\n",
       "    }\n",
       "</style>\n",
       "<table border=\"1\" class=\"dataframe\">\n",
       "  <thead>\n",
       "    <tr style=\"text-align: right;\">\n",
       "      <th></th>\n",
       "      <th>url</th>\n",
       "      <th>referer_url</th>\n",
       "      <th>src</th>\n",
       "      <th>label</th>\n",
       "      <th>shingle_vector</th>\n",
       "    </tr>\n",
       "  </thead>\n",
       "  <tbody>\n",
       "    <tr>\n",
       "      <th>count</th>\n",
       "      <td>5000</td>\n",
       "      <td>5000</td>\n",
       "      <td>5000</td>\n",
       "      <td>3080</td>\n",
       "      <td>5000</td>\n",
       "    </tr>\n",
       "    <tr>\n",
       "      <th>unique</th>\n",
       "      <td>5000</td>\n",
       "      <td>3891</td>\n",
       "      <td>5000</td>\n",
       "      <td>1</td>\n",
       "      <td>18</td>\n",
       "    </tr>\n",
       "    <tr>\n",
       "      <th>top</th>\n",
       "      <td>https://www.bookdepository.com/author/Patch-Ad...</td>\n",
       "      <td>https://www.bookdepository.com/publishers/Egmo...</td>\n",
       "      <td>&lt;!DOCTYPE html&gt;\\n&lt;html lang=\"en\"&gt;\\n&lt;head&gt;\\n\\n ...</td>\n",
       "      <td>product</td>\n",
       "      <td>(0, 1, 2, 3, 0, 1, 2, 1)</td>\n",
       "    </tr>\n",
       "    <tr>\n",
       "      <th>freq</th>\n",
       "      <td>1</td>\n",
       "      <td>8</td>\n",
       "      <td>1</td>\n",
       "      <td>3080</td>\n",
       "      <td>1351</td>\n",
       "    </tr>\n",
       "  </tbody>\n",
       "</table>\n",
       "</div>"
      ],
      "text/plain": [
       "                                                      url  \\\n",
       "count                                                5000   \n",
       "unique                                               5000   \n",
       "top     https://www.bookdepository.com/author/Patch-Ad...   \n",
       "freq                                                    1   \n",
       "\n",
       "                                              referer_url  \\\n",
       "count                                                5000   \n",
       "unique                                               3891   \n",
       "top     https://www.bookdepository.com/publishers/Egmo...   \n",
       "freq                                                    8   \n",
       "\n",
       "                                                      src    label  \\\n",
       "count                                                5000     3080   \n",
       "unique                                               5000        1   \n",
       "top     <!DOCTYPE html>\\n<html lang=\"en\">\\n<head>\\n\\n ...  product   \n",
       "freq                                                    1     3080   \n",
       "\n",
       "                  shingle_vector  \n",
       "count                       5000  \n",
       "unique                        18  \n",
       "top     (0, 1, 2, 3, 0, 1, 2, 1)  \n",
       "freq                        1351  "
      ]
     },
     "execution_count": 51,
     "metadata": {},
     "output_type": "execute_result"
    }
   ],
   "source": [
    "sample5000 = df.sample(5000)\n",
    "sample5000.describe()"
   ]
  },
  {
   "cell_type": "code",
   "execution_count": 52,
   "metadata": {},
   "outputs": [
    {
     "name": "stdout",
     "output_type": "stream",
     "text": [
      "There are 1920 row with no label\n",
      "There are 3080 row with product label\n"
     ]
    }
   ],
   "source": [
    "print(fmt_string.format(len(sample5000[sample5000['label'].isnull()]),'no'))\n",
    "print(fmt_string.format(len(sample5000[sample5000['label']=='product']), 'product'))"
   ]
  },
  {
   "cell_type": "code",
   "execution_count": 53,
   "metadata": {},
   "outputs": [
    {
     "name": "stdout",
     "output_type": "stream",
     "text": [
      "There are 5 clusters\n"
     ]
    }
   ],
   "source": [
    "clusters = structural_clustering(sample5000)\n",
    "print(\"There are {} clusters\".format(len(clusters)))"
   ]
  },
  {
   "cell_type": "code",
   "execution_count": 54,
   "metadata": {},
   "outputs": [
    {
     "name": "stdout",
     "output_type": "stream",
     "text": [
      "cluster n. 1 has 1792 pages\n",
      "cluster n. 2 has 2208 pages\n",
      "cluster n. 3 has 757 pages\n",
      "cluster n. 4 has 127 pages\n",
      "cluster n. 5 has 103 pages\n",
      "\n",
      "4987 pages were clustered using Foxlink's clustering algorithm. 13 pages were discarded\n"
     ]
    }
   ],
   "source": [
    "noOfPages = 0\n",
    "for index, cluster in enumerate(clusters):\n",
    "    clusterSize = len(cluster[1])\n",
    "    print(cluster_fmt.format(index +1 , clusterSize))\n",
    "    noOfPages += clusterSize\n",
    "print()\n",
    "print('{} pages were clustered using Foxlink\\'s clustering algorithm. {} pages were discarded'.format(noOfPages, len(sample5000.index) - noOfPages))"
   ]
  },
  {
   "cell_type": "markdown",
   "metadata": {},
   "source": [
    "Printing each cluster's data points"
   ]
  },
  {
   "cell_type": "code",
   "execution_count": 55,
   "metadata": {},
   "outputs": [
    {
     "name": "stdout",
     "output_type": "stream",
     "text": [
      "https://www.bookdepository.com/author/Helen-Stern\n",
      "https://www.bookdepository.com/author/Sean-McManus\n",
      "https://www.bookdepository.com/publishers/Raj-Publications-India\n",
      "https://www.bookdepository.com/author/Alexandra-Feodorovna\n",
      "https://www.bookdepository.com/author/Kat-Uno\n",
      "https://www.bookdepository.com/author/Jos%C3%A9-Ram%C3%B3n-Ayll%C3%B3n\n",
      "https://www.bookdepository.com/publishers/Longman-Schools-Division-A-Pearson-Education-Company\n",
      "https://www.bookdepository.com/author/Lily-Kahn\n",
      "https://www.bookdepository.com/author/Tim-Pabon\n",
      "https://www.bookdepository.com/author/Dieter-Werkm%C3%BCller\n"
     ]
    }
   ],
   "source": [
    "for i in range(10):\n",
    "    print(clusters[0][1][i])"
   ]
  },
  {
   "cell_type": "code",
   "execution_count": 56,
   "metadata": {},
   "outputs": [
    {
     "name": "stdout",
     "output_type": "stream",
     "text": [
      "https://www.bookdepository.com/Hot-Wheels-Field-Guide-Michael-Zarnock/9781440232091?ref=bd_ser_1_1\n",
      "https://www.bookdepository.com/Last-Battle-Garth-Ennis/9781592911042\n",
      "https://www.bookdepository.com/Foreign-Language-Instruction-United-States-Nancy-C-Rhodes/9781887744430?ref=grid-view&qid=1557067800709&sr=1-12\n",
      "https://www.bookdepository.com/Thousand-Sons-Graham-McNeill/9781849708203\n",
      "https://www.bookdepository.com/Exploring-Planets-Our-Solar-System-Rebecca-Olien/9781404234673?ref=bd_ser_1_1\n",
      "https://www.bookdepository.com/Educare-con-il-lavoro-Raniero-Regni/9788883588679\n",
      "https://www.bookdepository.com/Recht-Und-Elektrizitat-Jan-H%C3%B6vermann/9783161552298?ref=bd_ser_1_1\n",
      "https://www.bookdepository.com/Modeen-Transformation-Frank-H-Jordan/9781502863614?ref=bd_ser_1_1\n",
      "https://www.bookdepository.com/Recreational-Drones-Matt-Chandler/9781474733151?ref=bd_ser_1_1\n",
      "https://www.bookdepository.com/Ill-be-Devil-Leo-Butler/9781408101490\n"
     ]
    }
   ],
   "source": [
    "for i in range(10):\n",
    "    print(clusters[1][1][i])"
   ]
  },
  {
   "cell_type": "code",
   "execution_count": 57,
   "metadata": {},
   "outputs": [
    {
     "name": "stdout",
     "output_type": "stream",
     "text": [
      "https://www.bookdepository.com/Spotlight-on-Young-Children-Rossella-Procopio/9781938113314?ref=bd_ser_1_1\n",
      "https://www.bookdepository.com/Politics-Party-Policy-Anika-Gauja/9780230283459\n",
      "https://www.bookdepository.com/Mein-Kinderbuchschatz-Die-sch%C3%B6nsten-Geschichten-mit-Pippi-den-Olchis-Mama-Muh-und-Pu-Kirsten-Boie/9783789142765?ref=bd_ser_1_1\n",
      "https://www.bookdepository.com/Escritura-Femenina-y-Discurso-Autobiografico-en-la-Nueva-Novela-Espanola-Isolina-Ballesteros/9780820462059?ref=bd_ser_1_1\n",
      "https://www.bookdepository.com/Beezus-Ramona-Beverly-Cleary/9780061774058?ref=grid-view\n",
      "https://www.bookdepository.com/Social-Cognition-Communication-Joseph-P-Forgas/9781848726635?ref=grid-view&qid=1557067435026&sr=1-7\n",
      "https://www.bookdepository.com/Ruby-Redfort-Pick-Your-Poison-Rachael-Stirling/9781978619593?ref=bd_ser_1_1\n",
      "https://www.bookdepository.com/Coccidioidomycosis/9781573316880\n",
      "https://www.bookdepository.com/Transactional-Analysis-Approaches-Brief-Therapy-Keith-Tudor/9780761956808?ref=bd_ser_1_1\n",
      "https://www.bookdepository.com/Berlin-Stories-Robert-Walser/9781590174548\n"
     ]
    }
   ],
   "source": [
    "for i in range(10):\n",
    "    print(clusters[2][1][i])"
   ]
  },
  {
   "cell_type": "code",
   "execution_count": 58,
   "metadata": {},
   "outputs": [
    {
     "name": "stdout",
     "output_type": "stream",
     "text": [
      "https://www.bookdepository.com/S%C3%A4kularisierung-und-Resakralisierung/9783826020339\n",
      "https://www.bookdepository.com/NHS-Trust-Development-Authority-annual-report-accounts-NHS-Trust-Development-Authority/9781474121194\n",
      "https://www.bookdepository.com/Deconstructing-Nation-Max-Silverman/9780203323915\n",
      "https://www.bookdepository.com/Gottesdienstmen%C3%A4um-f%C3%BCr-den-Monat-April-auf-der-Grundlage-der-Handschrift-Sin-165-des-Staatlichen-Historischen-Museums-Moskau-GIM-Tl-2/9783506773883\n",
      "https://www.bookdepository.com/TagTr%C3%A4ume-1-Audio-CD/9783942432047\n",
      "https://www.bookdepository.com/Flannigans-M-T-Dohaney/9781897317068\n",
      "https://www.bookdepository.com/Luz-de-Ayer-Luz-de-Hoy-Luis-Daniel-Rubio-Morales/9786074244298\n",
      "https://www.bookdepository.com/African-Americans-Sports-Lisa-Wade-McCormick/9781422223949\n",
      "https://www.bookdepository.com/Sables-Et-Biscuits-Si-Bons-Si-Faciles-Marie-Pourrech/9782013944243\n",
      "https://www.bookdepository.com/Jesus-neu-entwerfen-Carter-Heyward/9783905577495\n"
     ]
    }
   ],
   "source": [
    "for i in range(10):\n",
    "    print(clusters[3][1][i])"
   ]
  },
  {
   "cell_type": "code",
   "execution_count": 59,
   "metadata": {},
   "outputs": [
    {
     "name": "stdout",
     "output_type": "stream",
     "text": [
      "https://www.bookdepository.com/category/1032/Working-Patterns-Practices\n",
      "https://www.bookdepository.com/category/980/vid/3389/Business-Strategy-Audio-Books\n",
      "https://www.bookdepository.com/category/3127/Religious-Ethics\n",
      "https://www.bookdepository.com/category/1315/Metabolism\n",
      "https://www.bookdepository.com/category/1772/Industrial-Quality-Control\n",
      "https://www.bookdepository.com/category/347/Second-World-War\n",
      "https://www.bookdepository.com/category/1612/Cellular-Biology-cytology?page=3\n",
      "https://www.bookdepository.com/category/2840/vid/3389/Mind-Body-Spirit-Meditation-Visualisation-Audio-Books\n",
      "https://www.bookdepository.com/category/3314/Musical-Scores-Lyrics-Libretti\n",
      "https://www.bookdepository.com/category/390/Automation-Library-Information-Processes\n"
     ]
    }
   ],
   "source": [
    "for i in range(10):\n",
    "    print(clusters[4][1][i])"
   ]
  },
  {
   "cell_type": "markdown",
   "metadata": {},
   "source": [
    "So it seems that the second cluster contains pages matching with the book template. Let's calculate precision and recall again"
   ]
  },
  {
   "cell_type": "code",
   "execution_count": 60,
   "metadata": {},
   "outputs": [],
   "source": [
    "bookCluster = clusters[1]\n",
    "urlsFromBookCluster = bookCluster[1]"
   ]
  },
  {
   "cell_type": "code",
   "execution_count": 61,
   "metadata": {},
   "outputs": [],
   "source": [
    "pages_retrieved_for_book_query = len(urlsFromBookCluster)\n",
    "\n",
    "true_positive = 0\n",
    "\n",
    "all_positives = len(sample5000[sample5000['label']=='product'])\n",
    "\n",
    "for url in urlsFromBookCluster:\n",
    "    matchingRow  = sample5000[sample5000['url'] == url][['url','label']].iloc[0]\n",
    "    if matchingRow['label'] == 'product':\n",
    "        true_positive += 1"
   ]
  },
  {
   "cell_type": "code",
   "execution_count": 62,
   "metadata": {},
   "outputs": [
    {
     "name": "stdout",
     "output_type": "stream",
     "text": [
      "Recall: 0.712987012987013\n",
      "Precision: 0.9945652173913043\n"
     ]
    }
   ],
   "source": [
    "recall = true_positive/all_positives\n",
    "precision = true_positive/pages_retrieved_for_book_query\n",
    "eval_fmt = '{}: {}'\n",
    "print(eval_fmt.format('Recall', recall))\n",
    "print(eval_fmt.format('Precision', precision))"
   ]
  },
  {
   "cell_type": "markdown",
   "metadata": {},
   "source": [
    "Final insights: Dataset size has no correlation with recall and precision values. The discarded pages during clustering are 15 pages at average. Considering only the product template, the precision is near 1 and the recall is poor. It seems that the shingle vector size is so small that it can't store all the necessary information to group similar pages (there are \"collision\" between pages having different templates)\n",
    "Let's see if the threshold value could possibly change the recall and precision values for Foxlink's clustering algorithm. For that, let's consider the entire dataset and three values of threshold: "
   ]
  },
  {
   "cell_type": "code",
   "execution_count": null,
   "metadata": {},
   "outputs": [],
   "source": []
  }
 ],
 "metadata": {
  "kernelspec": {
   "display_name": "Python 3",
   "language": "python",
   "name": "python3"
  },
  "language_info": {
   "codemirror_mode": {
    "name": "ipython",
    "version": 3
   },
   "file_extension": ".py",
   "mimetype": "text/x-python",
   "name": "python",
   "nbconvert_exporter": "python",
   "pygments_lexer": "ipython3",
   "version": "3.7.3"
  }
 },
 "nbformat": 4,
 "nbformat_minor": 2
}
