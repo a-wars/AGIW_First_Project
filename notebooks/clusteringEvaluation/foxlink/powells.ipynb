{
 "cells": [
  {
   "cell_type": "markdown",
   "metadata": {},
   "source": [
    "# Foxlink's clustering algorithm evaluation\n",
    "Evaluating Foxlink's clustering algorithm on bookdepository.com pages. The aim is to calculate precision and recall for \"book details\" cluster and the \"catalog\" cluster in blackwells.co.uk."
   ]
  },
  {
   "cell_type": "code",
   "execution_count": 1,
   "metadata": {},
   "outputs": [
    {
     "data": {
      "text/plain": [
       "'../../../datasets/powells.csv'"
      ]
     },
     "execution_count": 1,
     "metadata": {},
     "output_type": "execute_result"
    }
   ],
   "source": [
    "%matplotlib inline\n",
    "# Importing libraries\n",
    "import matplotlib.pyplot as plt\n",
    "import pandas as pd\n",
    "\n",
    "FILEPATH = '../../../datasets/powells.csv'\n",
    "FILEPATH"
   ]
  },
  {
   "cell_type": "code",
   "execution_count": 2,
   "metadata": {},
   "outputs": [],
   "source": [
    "df = pd.read_csv(FILEPATH)"
   ]
  },
  {
   "cell_type": "markdown",
   "metadata": {},
   "source": [
    "## Data analisys\n",
    "Some preliminary analisys of the dataset"
   ]
  },
  {
   "cell_type": "code",
   "execution_count": 3,
   "metadata": {},
   "outputs": [
    {
     "name": "stdout",
     "output_type": "stream",
     "text": [
      "First 5 rows\n",
      "------------\n"
     ]
    },
    {
     "data": {
      "text/html": [
       "<div>\n",
       "<style scoped>\n",
       "    .dataframe tbody tr th:only-of-type {\n",
       "        vertical-align: middle;\n",
       "    }\n",
       "\n",
       "    .dataframe tbody tr th {\n",
       "        vertical-align: top;\n",
       "    }\n",
       "\n",
       "    .dataframe thead th {\n",
       "        text-align: right;\n",
       "    }\n",
       "</style>\n",
       "<table border=\"1\" class=\"dataframe\">\n",
       "  <thead>\n",
       "    <tr style=\"text-align: right;\">\n",
       "      <th></th>\n",
       "      <th>url</th>\n",
       "      <th>referer_url</th>\n",
       "      <th>src</th>\n",
       "      <th>shingle_vector</th>\n",
       "      <th>label</th>\n",
       "      <th>tag_count</th>\n",
       "      <th>bitset</th>\n",
       "    </tr>\n",
       "  </thead>\n",
       "  <tbody>\n",
       "    <tr>\n",
       "      <th>0</th>\n",
       "      <td>https://www.powells.com/blog/author/kristen-ar...</td>\n",
       "      <td>https://www.powells.com/</td>\n",
       "      <td>&lt;!DOCTYPE html PUBLIC \"-//W3C//DTD XHTML 1.0 T...</td>\n",
       "      <td>(7, 2, 1, 8, 3, 10, 0, 5)</td>\n",
       "      <td>NaN</td>\n",
       "      <td>[0.002680965147453083, 0.002680965147453083, 0...</td>\n",
       "      <td>[0, 0, 1, 1, 0, 1, 1, 1, 0, 1, 0, 1, 0, 1, 1, ...</td>\n",
       "    </tr>\n",
       "    <tr>\n",
       "      <th>1</th>\n",
       "      <td>https://www.powells.com/blog/category/interviews</td>\n",
       "      <td>https://www.powells.com/</td>\n",
       "      <td>&lt;!DOCTYPE html PUBLIC \"-//W3C//DTD XHTML 1.0 T...</td>\n",
       "      <td>(2, 1, 1, 0, 3, 5, 0, 1)</td>\n",
       "      <td>NaN</td>\n",
       "      <td>[0.0011467889908256881, 0.0011467889908256881,...</td>\n",
       "      <td>[0, 1, 1, 1, 1, 1, 1, 1, 1, 1, 1, 1, 0, 1, 1, ...</td>\n",
       "    </tr>\n",
       "    <tr>\n",
       "      <th>2</th>\n",
       "      <td>https://www.powells.com/nonfiction-sale</td>\n",
       "      <td>https://www.powells.com/</td>\n",
       "      <td>&lt;!DOCTYPE html PUBLIC \"-//W3C//DTD XHTML 1.0 T...</td>\n",
       "      <td>(0, 2, 2, 8, 3, 0, 0, 0)</td>\n",
       "      <td>NaN</td>\n",
       "      <td>[0.0013054830287206266, 0.0013054830287206266,...</td>\n",
       "      <td>[0, 0, 1, 1, 1, 1, 1, 1, 1, 1, 0, 1, 0, 1, 1, ...</td>\n",
       "    </tr>\n",
       "    <tr>\n",
       "      <th>3</th>\n",
       "      <td>https://www.powells.com/powells-presents</td>\n",
       "      <td>https://www.powells.com/</td>\n",
       "      <td>&lt;!DOCTYPE html PUBLIC \"-//W3C//DTD XHTML 1.0 T...</td>\n",
       "      <td>(0, 2, 2, 8, 1, 1, 0, 0)</td>\n",
       "      <td>NaN</td>\n",
       "      <td>[0.0022026431718061676, 0.0022026431718061676,...</td>\n",
       "      <td>[0, 0, 0, 1, 1, 0, 1, 1, 0, 1, 0, 1, 1, 1, 1, ...</td>\n",
       "    </tr>\n",
       "    <tr>\n",
       "      <th>4</th>\n",
       "      <td>https://www.powells.com/locations</td>\n",
       "      <td>https://www.powells.com/</td>\n",
       "      <td>&lt;!DOCTYPE html PUBLIC \"-//W3C//DTD XHTML 1.0 T...</td>\n",
       "      <td>(2, 0, 0, 4, 2, 2, 0, 0)</td>\n",
       "      <td>NaN</td>\n",
       "      <td>[0.001976284584980237, 0.001976284584980237, 0...</td>\n",
       "      <td>[0, 0, 0, 1, 1, 1, 0, 1, 0, 1, 0, 1, 0, 1, 1, ...</td>\n",
       "    </tr>\n",
       "  </tbody>\n",
       "</table>\n",
       "</div>"
      ],
      "text/plain": [
       "                                                 url  \\\n",
       "0  https://www.powells.com/blog/author/kristen-ar...   \n",
       "1   https://www.powells.com/blog/category/interviews   \n",
       "2            https://www.powells.com/nonfiction-sale   \n",
       "3           https://www.powells.com/powells-presents   \n",
       "4                  https://www.powells.com/locations   \n",
       "\n",
       "                referer_url  \\\n",
       "0  https://www.powells.com/   \n",
       "1  https://www.powells.com/   \n",
       "2  https://www.powells.com/   \n",
       "3  https://www.powells.com/   \n",
       "4  https://www.powells.com/   \n",
       "\n",
       "                                                 src  \\\n",
       "0  <!DOCTYPE html PUBLIC \"-//W3C//DTD XHTML 1.0 T...   \n",
       "1  <!DOCTYPE html PUBLIC \"-//W3C//DTD XHTML 1.0 T...   \n",
       "2  <!DOCTYPE html PUBLIC \"-//W3C//DTD XHTML 1.0 T...   \n",
       "3  <!DOCTYPE html PUBLIC \"-//W3C//DTD XHTML 1.0 T...   \n",
       "4  <!DOCTYPE html PUBLIC \"-//W3C//DTD XHTML 1.0 T...   \n",
       "\n",
       "              shingle_vector label  \\\n",
       "0  (7, 2, 1, 8, 3, 10, 0, 5)   NaN   \n",
       "1   (2, 1, 1, 0, 3, 5, 0, 1)   NaN   \n",
       "2   (0, 2, 2, 8, 3, 0, 0, 0)   NaN   \n",
       "3   (0, 2, 2, 8, 1, 1, 0, 0)   NaN   \n",
       "4   (2, 0, 0, 4, 2, 2, 0, 0)   NaN   \n",
       "\n",
       "                                           tag_count  \\\n",
       "0  [0.002680965147453083, 0.002680965147453083, 0...   \n",
       "1  [0.0011467889908256881, 0.0011467889908256881,...   \n",
       "2  [0.0013054830287206266, 0.0013054830287206266,...   \n",
       "3  [0.0022026431718061676, 0.0022026431718061676,...   \n",
       "4  [0.001976284584980237, 0.001976284584980237, 0...   \n",
       "\n",
       "                                              bitset  \n",
       "0  [0, 0, 1, 1, 0, 1, 1, 1, 0, 1, 0, 1, 0, 1, 1, ...  \n",
       "1  [0, 1, 1, 1, 1, 1, 1, 1, 1, 1, 1, 1, 0, 1, 1, ...  \n",
       "2  [0, 0, 1, 1, 1, 1, 1, 1, 1, 1, 0, 1, 0, 1, 1, ...  \n",
       "3  [0, 0, 0, 1, 1, 0, 1, 1, 0, 1, 0, 1, 1, 1, 1, ...  \n",
       "4  [0, 0, 0, 1, 1, 1, 0, 1, 0, 1, 0, 1, 0, 1, 1, ...  "
      ]
     },
     "execution_count": 3,
     "metadata": {},
     "output_type": "execute_result"
    }
   ],
   "source": [
    "print(\"First 5 rows\")\n",
    "print(\"------------\")\n",
    "df.head()"
   ]
  },
  {
   "cell_type": "code",
   "execution_count": 4,
   "metadata": {},
   "outputs": [
    {
     "name": "stdout",
     "output_type": "stream",
     "text": [
      "No. of rows and columns\n",
      "-----------------------\n"
     ]
    },
    {
     "data": {
      "text/plain": [
       "(10571, 7)"
      ]
     },
     "execution_count": 4,
     "metadata": {},
     "output_type": "execute_result"
    }
   ],
   "source": [
    "print(\"No. of rows and columns\")\n",
    "print(\"-----------------------\")\n",
    "df.shape"
   ]
  },
  {
   "cell_type": "code",
   "execution_count": 5,
   "metadata": {},
   "outputs": [
    {
     "name": "stdout",
     "output_type": "stream",
     "text": [
      "Check null values\n",
      "-----------------\n"
     ]
    },
    {
     "data": {
      "text/plain": [
       "True"
      ]
     },
     "execution_count": 5,
     "metadata": {},
     "output_type": "execute_result"
    }
   ],
   "source": [
    "print(\"Check null values\")\n",
    "print(\"-----------------\")\n",
    "df.isnull().any().any()"
   ]
  },
  {
   "cell_type": "code",
   "execution_count": 6,
   "metadata": {},
   "outputs": [
    {
     "name": "stdout",
     "output_type": "stream",
     "text": [
      "Check duplicate values\n",
      "----------------------\n"
     ]
    },
    {
     "data": {
      "text/plain": [
       "False"
      ]
     },
     "execution_count": 6,
     "metadata": {},
     "output_type": "execute_result"
    }
   ],
   "source": [
    "print(\"Check duplicate values\")\n",
    "print(\"----------------------\")\n",
    "len(df['url'].unique()) != df.shape[0]"
   ]
  },
  {
   "cell_type": "code",
   "execution_count": 7,
   "metadata": {},
   "outputs": [
    {
     "name": "stdout",
     "output_type": "stream",
     "text": [
      "DataFrame column types\n",
      "----------------------\n",
      "<class 'pandas.core.frame.DataFrame'>\n",
      "RangeIndex: 10571 entries, 0 to 10570\n",
      "Data columns (total 7 columns):\n",
      "url               10571 non-null object\n",
      "referer_url       10571 non-null object\n",
      "src               10571 non-null object\n",
      "shingle_vector    10571 non-null object\n",
      "label             8962 non-null object\n",
      "tag_count         10571 non-null object\n",
      "bitset            10571 non-null object\n",
      "dtypes: object(7)\n",
      "memory usage: 578.2+ KB\n"
     ]
    }
   ],
   "source": [
    "print(\"DataFrame column types\")\n",
    "print(\"----------------------\")\n",
    "df.info()"
   ]
  },
  {
   "cell_type": "code",
   "execution_count": 8,
   "metadata": {},
   "outputs": [
    {
     "name": "stdout",
     "output_type": "stream",
     "text": [
      "Some stats\n",
      "----------------\n"
     ]
    },
    {
     "data": {
      "text/html": [
       "<div>\n",
       "<style scoped>\n",
       "    .dataframe tbody tr th:only-of-type {\n",
       "        vertical-align: middle;\n",
       "    }\n",
       "\n",
       "    .dataframe tbody tr th {\n",
       "        vertical-align: top;\n",
       "    }\n",
       "\n",
       "    .dataframe thead th {\n",
       "        text-align: right;\n",
       "    }\n",
       "</style>\n",
       "<table border=\"1\" class=\"dataframe\">\n",
       "  <thead>\n",
       "    <tr style=\"text-align: right;\">\n",
       "      <th></th>\n",
       "      <th>url</th>\n",
       "      <th>referer_url</th>\n",
       "      <th>src</th>\n",
       "      <th>shingle_vector</th>\n",
       "      <th>label</th>\n",
       "      <th>tag_count</th>\n",
       "      <th>bitset</th>\n",
       "    </tr>\n",
       "  </thead>\n",
       "  <tbody>\n",
       "    <tr>\n",
       "      <th>count</th>\n",
       "      <td>10571</td>\n",
       "      <td>10571</td>\n",
       "      <td>10571</td>\n",
       "      <td>10571</td>\n",
       "      <td>8962</td>\n",
       "      <td>10571</td>\n",
       "      <td>10571</td>\n",
       "    </tr>\n",
       "    <tr>\n",
       "      <th>unique</th>\n",
       "      <td>10571</td>\n",
       "      <td>6556</td>\n",
       "      <td>10571</td>\n",
       "      <td>30</td>\n",
       "      <td>2</td>\n",
       "      <td>4613</td>\n",
       "      <td>1246</td>\n",
       "    </tr>\n",
       "    <tr>\n",
       "      <th>top</th>\n",
       "      <td>https://www.powells.com/searchresults?keyword=...</td>\n",
       "      <td>https://www.powells.com/ProductMoreIsbn?produc...</td>\n",
       "      <td>&lt;!DOCTYPE html PUBLIC \"-//W3C//DTD XHTML 1.0 T...</td>\n",
       "      <td>(7, 3, 3, 0, 0, 0, 0, 0)</td>\n",
       "      <td>list</td>\n",
       "      <td>[0.00186219739292365, 0.00186219739292365, 0.0...</td>\n",
       "      <td>[1, 0, 1, 1, 1, 0, 0, 1, 0, 1, 0, 1, 1, 1, 1, ...</td>\n",
       "    </tr>\n",
       "    <tr>\n",
       "      <th>freq</th>\n",
       "      <td>1</td>\n",
       "      <td>28</td>\n",
       "      <td>1</td>\n",
       "      <td>8081</td>\n",
       "      <td>8545</td>\n",
       "      <td>288</td>\n",
       "      <td>1332</td>\n",
       "    </tr>\n",
       "  </tbody>\n",
       "</table>\n",
       "</div>"
      ],
      "text/plain": [
       "                                                      url  \\\n",
       "count                                               10571   \n",
       "unique                                              10571   \n",
       "top     https://www.powells.com/searchresults?keyword=...   \n",
       "freq                                                    1   \n",
       "\n",
       "                                              referer_url  \\\n",
       "count                                               10571   \n",
       "unique                                               6556   \n",
       "top     https://www.powells.com/ProductMoreIsbn?produc...   \n",
       "freq                                                   28   \n",
       "\n",
       "                                                      src  \\\n",
       "count                                               10571   \n",
       "unique                                              10571   \n",
       "top     <!DOCTYPE html PUBLIC \"-//W3C//DTD XHTML 1.0 T...   \n",
       "freq                                                    1   \n",
       "\n",
       "                  shingle_vector label  \\\n",
       "count                      10571  8962   \n",
       "unique                        30     2   \n",
       "top     (7, 3, 3, 0, 0, 0, 0, 0)  list   \n",
       "freq                        8081  8545   \n",
       "\n",
       "                                                tag_count  \\\n",
       "count                                               10571   \n",
       "unique                                               4613   \n",
       "top     [0.00186219739292365, 0.00186219739292365, 0.0...   \n",
       "freq                                                  288   \n",
       "\n",
       "                                                   bitset  \n",
       "count                                               10571  \n",
       "unique                                               1246  \n",
       "top     [1, 0, 1, 1, 1, 0, 0, 1, 0, 1, 0, 1, 1, 1, 1, ...  \n",
       "freq                                                 1332  "
      ]
     },
     "execution_count": 8,
     "metadata": {},
     "output_type": "execute_result"
    }
   ],
   "source": [
    "print(\"Some stats\")\n",
    "print(\"----------------\")\n",
    "df.describe()"
   ]
  },
  {
   "cell_type": "code",
   "execution_count": 9,
   "metadata": {},
   "outputs": [
    {
     "name": "stdout",
     "output_type": "stream",
     "text": [
      "There are 1609 row with no label\n",
      "There are 417 row with product label\n",
      "There are 8545 row with list label\n"
     ]
    }
   ],
   "source": [
    "fmt_string = 'There are {} row with {} label'\n",
    "print(fmt_string.format(len(df[df['label'].isnull()]),'no'))\n",
    "print(fmt_string.format(len(df[df['label']=='product']), 'product'))\n",
    "print(fmt_string.format(len(df[df['label']=='list']), 'list'))"
   ]
  },
  {
   "cell_type": "markdown",
   "metadata": {},
   "source": [
    "## Run Foxlink's clustering algorithm"
   ]
  },
  {
   "cell_type": "code",
   "execution_count": 10,
   "metadata": {},
   "outputs": [],
   "source": [
    "#add top level folder to sys.path\n",
    "import sys\n",
    "sys.path.append('../../../')"
   ]
  },
  {
   "cell_type": "code",
   "execution_count": 11,
   "metadata": {},
   "outputs": [],
   "source": [
    "from foxlink_clustering.clustering.structural_clustering import structural_clustering\n",
    "\n",
    "clusters = structural_clustering(df)"
   ]
  },
  {
   "cell_type": "code",
   "execution_count": 12,
   "metadata": {},
   "outputs": [
    {
     "data": {
      "text/plain": [
       "5"
      ]
     },
     "execution_count": 12,
     "metadata": {},
     "output_type": "execute_result"
    }
   ],
   "source": [
    "len(clusters)"
   ]
  },
  {
   "cell_type": "markdown",
   "metadata": {},
   "source": [
    "So Foxlink's clustering algorithm discovered 7 clusters. Let's see how many pages contains each cluster"
   ]
  },
  {
   "cell_type": "code",
   "execution_count": 13,
   "metadata": {
    "scrolled": true
   },
   "outputs": [
    {
     "name": "stdout",
     "output_type": "stream",
     "text": [
      "cluster n. 1 has 410 pages\n",
      "cluster n. 2 has 1474 pages\n",
      "cluster n. 3 has 121 pages\n",
      "cluster n. 4 has 8097 pages\n",
      "cluster n. 5 has 447 pages\n",
      "\n",
      "10549 pages were clustered using Foxlink's clustering algorithm. 22 pages were discarded\n"
     ]
    }
   ],
   "source": [
    "cluster_fmt = 'cluster n. {} has {} pages'\n",
    "noOfPages = 0\n",
    "for index, cluster in enumerate(clusters):\n",
    "    clusterSize = len(cluster[1])\n",
    "    print(cluster_fmt.format(index +1 , clusterSize))\n",
    "    noOfPages += clusterSize\n",
    "print()\n",
    "print('{} pages were clustered using Foxlink\\'s clustering algorithm. {} pages were discarded'.format(noOfPages, len(df.index) - noOfPages))\n",
    "    "
   ]
  },
  {
   "cell_type": "markdown",
   "metadata": {},
   "source": [
    "By looking at each cluster's size we might infere that the first cluster (which has the largest number of pages) is the one containing pages which belongs to the \"product\" cluster"
   ]
  },
  {
   "cell_type": "code",
   "execution_count": 24,
   "metadata": {},
   "outputs": [
    {
     "name": "stdout",
     "output_type": "stream",
     "text": [
      "https://www.powells.com/book/how-to-be-a-cat-9781419734991/18-0\n",
      "https://www.powells.com/book/mostly-dead-things-9781947793309/61-0\n",
      "https://www.powells.com/book/disappearing-earth-9780525520412/18-0\n",
      "https://www.powells.com/book/-9781974186044\n",
      "https://www.powells.com/book/another-monster-at-the-end-of-this-book-9780307987693/18-0\n",
      "https://www.powells.com/book/landmarks-9780241967874/62-0\n",
      "https://www.powells.com/book/disappearing-earth-9781984892225/61-0\n",
      "https://www.powells.com/book/disappearing-earth-9780525520412/61-0\n",
      "https://www.powells.com/book/how-to-be-a-cat-9781419705281/2-6\n",
      "https://www.powells.com/book/how-to-be-a-cat-9781419705281/7-8\n",
      "https://www.powells.com/book/disappearing-earth-9781984892225\n",
      "https://www.powells.com/book/felt-in-the-jaw-9781974186044/61-0\n",
      "https://www.powells.com/book/how-to-be-a-cat-9781419705281\n",
      "https://www.powells.com/book/how-to-be-a-cat-9781419734991/61-0\n",
      "https://www.powells.com/book/legend-of-sleepy-hollow-9781416906254/1-11\n",
      "https://www.powells.com/book/disappearing-earth-9780525520412/62-0\n",
      "https://www.powells.com/book/russians-the-people-behind-the-power-9781455509645/18-0\n",
      "https://www.powells.com/book/six-months-in-1945-fdr-stalin-churchill-truman-from-world-war-to-cold-war-9780307456670/7-2\n",
      "https://www.powells.com/book/man-without-a-face-the-unlikely-rise-of-vladimir-putin-9781594486517/2-1\n",
      "https://www.powells.com/book/disappearing-earth-9781984892225/62-0\n"
     ]
    }
   ],
   "source": [
    "for i in range(20):\n",
    "    print(clusters[0][1][i])"
   ]
  },
  {
   "cell_type": "code",
   "execution_count": 26,
   "metadata": {},
   "outputs": [
    {
     "name": "stdout",
     "output_type": "stream",
     "text": [
      "https://www.powells.com/login?returnurl=%2fpost%2finterviews%2fpowells-interview-kristen-arnett-author-of-mostly-dead-things\n",
      "https://www.powells.com/login?returnurl=%2finfo%2fterms-of-use\n",
      "https://www.powells.com/login?returnurl=%2flittle-golden-books-sale\n",
      "https://www.powells.com/ShoppingCart.aspx?ProductItemID=253509209\n",
      "https://www.powells.com/ShoppingCart.aspx?ProductItemID=122740493\n",
      "https://www.powells.com/login?returnurl=%2flogin\n",
      "https://www.powells.com/ShoppingCart.aspx?ProductItemID=310006846\n",
      "https://www.powells.com/login?returnurl=%2finfo%2fshipping%2f\n",
      "https://www.powells.com/login?returnurl=%2fpostcomment.aspx%3fproductid%3d21076017%26productmoduletabid%3d1318%26productitemid%3d122740493\n",
      "https://www.powells.com/ShoppingCart.aspx?ProductItemID=251106866\n"
     ]
    }
   ],
   "source": [
    "for i in range(10):\n",
    "    print(clusters[1][1][i])"
   ]
  },
  {
   "cell_type": "code",
   "execution_count": 27,
   "metadata": {},
   "outputs": [
    {
     "name": "stdout",
     "output_type": "stream",
     "text": [
      "https://www.powells.com/ProductMoreIsbn?productID=7100473&productItemID=312110090&binding=Hardcover&accountingCategory=Used&type=2&baseProductId=37757332\n",
      "https://www.powells.com/ProductMoreIsbn?productID=7100473&productItemID=296859339&binding=Hardcover&accountingCategory=Used&type=2&baseProductId=37757332\n",
      "https://www.powells.com/ProductMoreIsbn?productID=2218193&productItemID=317344959&binding=Hardcover&accountingCategory=New&type=1&baseProductId=%200\n",
      "https://www.powells.com/ProductMoreIsbn?productID=5409689&productItemID=9879121&binding=Trade%20Paperback&accountingCategory=Used&type=1&baseProductId=%200\n",
      "https://www.powells.com/ProductMoreIsbn?productID=4909019&productItemID=283698834&binding=Trade%20Paperback&accountingCategory=New&type=1&baseProductId=%200\n",
      "https://www.powells.com/ProductMoreIsbn?productID=7639681&productItemID=9879121&binding=Hardcover&accountingCategory=Used&type=2&baseProductId=5409689\n",
      "https://www.powells.com/ProductMoreIsbn?productID=7994739&productItemID=188281522&binding=Hardcover&accountingCategory=Used&type=2&baseProductId=4940761\n",
      "https://www.powells.com/ProductMoreIsbn?productID=7994739&productItemID=4792058&binding=Hardcover&accountingCategory=Used&type=2&baseProductId=4940761\n",
      "https://www.powells.com/ProductMoreIsbn?productID=4909019&productItemID=146176241&binding=Trade%20Paperback&accountingCategory=New&type=1&baseProductId=%200\n",
      "https://www.powells.com/ProductMoreIsbn?productID=7639681&productItemID=5326438&binding=Hardcover&accountingCategory=Used&type=2&baseProductId=5409689\n"
     ]
    }
   ],
   "source": [
    "for i in range(10):\n",
    "    print(clusters[2][1][i])"
   ]
  },
  {
   "cell_type": "code",
   "execution_count": 28,
   "metadata": {},
   "outputs": [
    {
     "name": "stdout",
     "output_type": "stream",
     "text": [
      "https://www.powells.com/SearchResults?keyword=Irving+Washington\n",
      "https://www.powells.com/SearchResults?keyword=Washington+Irving\n",
      "https://www.powells.com/searchresults?keyword=Washington%20Irving&pg=4\n",
      "https://www.powells.com/searchresults?keyword=Washington%20Irving&pg=5\n",
      "https://www.powells.com/searchresults?keyword=Washington%20Irving&pg=2\n",
      "https://www.powells.com/searchresults?keyword=Washington%20Irving&pg=3\n",
      "https://www.powells.com/searchresults?keyword=Washington%20Irving\n",
      "https://www.powells.com/SearchResults?keyword=Irving+Washington+1783-1859\n",
      "https://www.powells.com/searchresults?keyword=Irving%20Washington%201783-1859\n",
      "https://www.powells.com/SearchResults?keyword=Washington]+1783-1859+[Irving\n"
     ]
    }
   ],
   "source": [
    "for i in range(10):\n",
    "    print(clusters[3][1][i])"
   ]
  },
  {
   "cell_type": "code",
   "execution_count": 29,
   "metadata": {},
   "outputs": [
    {
     "name": "stdout",
     "output_type": "stream",
     "text": [
      "https://www.powells.com/searchresults?keyword=Irving%20Washington%201783-1859&hawkmm=2&book_class=Used&store=Remote%20Warehouse&category=Travel-Writing&price_facet=1\n",
      "https://www.powells.com/searchresults?keyword=Irving%20Washington%201783-1859&hawkmm=2&book_class=Used&category=Travel-Writing&price_facet=1\n",
      "https://www.powells.com/searchresults?keyword=Irving%20Washington%201783-1859&hawkmm=2&book_class=Used&last_received_date_string=Last%207%20days&store=Cedar%20Hills&category=Travel-Writing\n",
      "https://www.powells.com/searchresults?keyword=Irving%20Washington%201783-1859&book_class=Used&category=Travel-Writing&hawkmm=0\n",
      "https://www.powells.com/searchresults?keyword=Irving%20Washington%201783-1859&book_class=Used&store=Cedar%20Hills&category=Travel-Writing&hawkmm=0\n",
      "https://www.powells.com/searchresults?keyword=Irving%20Washington%201783-1859&category=Travel-Writing&hawkmm=0\n",
      "https://www.powells.com/searchresults?keyword=Irving%20Washington%201783-1859&book_class=Used&hawkmm=0\n",
      "https://www.powells.com/searchresults?keyword=Irving%20Washington%201783-1859&hawkmm=0&binding=Hardcover&price_facet=1\n",
      "https://www.powells.com/searchresults?keyword=Irving%20Washington%201783-1859&hawkmm=0&binding=Hardcover&price_facet=1%2c2\n",
      "https://www.powells.com/searchresults?keyword=Irving%20Washington%201783-1859&hawkmm=0&binding=Hardcover&price_facet=2%2c1\n"
     ]
    }
   ],
   "source": [
    "for i in range(10):\n",
    "    print(clusters[4][1][i])"
   ]
  },
  {
   "cell_type": "markdown",
   "metadata": {},
   "source": [
    "It seems that the pages which belongs to the \"product\" template are contained in the first cluster while the fourth cluster contains pages which belongs to the \"list\" template"
   ]
  },
  {
   "cell_type": "markdown",
   "metadata": {},
   "source": [
    "## Calculate precision and recall\n",
    "Calculate precision and recall considering the entire dataset. We use the first cluster to evaluate precision and recall for the \"product\" cluster and the fourth cluster for the \"list\" template:"
   ]
  },
  {
   "cell_type": "code",
   "execution_count": 21,
   "metadata": {},
   "outputs": [],
   "source": [
    "def evaluate_precision_and_recall(dataFrame, cluster, label):\n",
    "    urlsFromCluster = cluster[1]\n",
    "    pages_retrieved_for_query = len(urlsFromCluster)\n",
    "    true_positive = 0\n",
    "    all_positives = len(dataFrame[dataFrame['label']==label])\n",
    "    for url in urlsFromCluster:\n",
    "        matchingRow  = dataFrame[dataFrame['url'] == url][['url','label']].iloc[0]\n",
    "        if matchingRow['label'] == label:\n",
    "            true_positive += 1\n",
    "        \n",
    "    recall = true_positive/all_positives\n",
    "    precision = true_positive/pages_retrieved_for_query\n",
    "    return (recall, precision)"
   ]
  },
  {
   "cell_type": "markdown",
   "metadata": {},
   "source": [
    "Calculating recall and precision for the \"product\" and the \"list\" template"
   ]
  },
  {
   "cell_type": "code",
   "execution_count": 33,
   "metadata": {},
   "outputs": [],
   "source": [
    "productRecall, productPrecision = evaluate_precision_and_recall(df, clusters[0], 'product')\n",
    "catalogRecall, catalogPrecision = evaluate_precision_and_recall(df, clusters[3], 'list')"
   ]
  },
  {
   "cell_type": "code",
   "execution_count": 34,
   "metadata": {},
   "outputs": [
    {
     "name": "stdout",
     "output_type": "stream",
     "text": [
      "+---------+--------+-----------+\n",
      "|    -    | Recall | Precision |\n",
      "+---------+--------+-----------+\n",
      "| Product |  0.983 |     1.0 |\n",
      "| List    |  0.948 |     1.0 |\n",
      "+---------+--------+-----------+\n"
     ]
    }
   ],
   "source": [
    "print(\"+---------+--------+-----------+\")\n",
    "print(\"|    -    | Recall | Precision |\")\n",
    "print(\"+---------+--------+-----------+\")\n",
    "print(\"| {} |  {} |     {} |\".format('Product', round(productRecall,3), round(productPrecision,3)))\n",
    "print(\"| {}    |  {} |     {} |\".format('List', round(catalogRecall,3), round(catalogPrecision,3)))\n",
    "print(\"+---------+--------+-----------+\")"
   ]
  }
 ],
 "metadata": {
  "kernelspec": {
   "display_name": "Python 3",
   "language": "python",
   "name": "python3"
  },
  "language_info": {
   "codemirror_mode": {
    "name": "ipython",
    "version": 3
   },
   "file_extension": ".py",
   "mimetype": "text/x-python",
   "name": "python",
   "nbconvert_exporter": "python",
   "pygments_lexer": "ipython3",
   "version": "3.7.3"
  }
 },
 "nbformat": 4,
 "nbformat_minor": 2
}
