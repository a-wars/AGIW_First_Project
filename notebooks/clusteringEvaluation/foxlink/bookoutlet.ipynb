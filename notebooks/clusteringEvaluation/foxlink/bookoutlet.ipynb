{
 "cells": [
  {
   "cell_type": "markdown",
   "metadata": {},
   "source": [
    "# Foxlink's clustering algorithm evaluation\n",
    "Evaluating Foxlink's clustering algorithm on bookdepository.com pages. The aim is to calculate precision and recall for \"book details\" cluster and the \"catalog\" cluster in bookoutlet.com."
   ]
  },
  {
   "cell_type": "code",
   "execution_count": 1,
   "metadata": {},
   "outputs": [
    {
     "data": {
      "text/plain": [
       "'../../../datasets/bookoutlet.csv'"
      ]
     },
     "execution_count": 1,
     "metadata": {},
     "output_type": "execute_result"
    }
   ],
   "source": [
    "%matplotlib inline\n",
    "# Importing libraries\n",
    "import matplotlib.pyplot as plt\n",
    "import pandas as pd\n",
    "\n",
    "FILEPATH = '../../../datasets/bookoutlet.csv'\n",
    "FILEPATH"
   ]
  },
  {
   "cell_type": "code",
   "execution_count": 2,
   "metadata": {},
   "outputs": [],
   "source": [
    "df = pd.read_csv(FILEPATH)"
   ]
  },
  {
   "cell_type": "markdown",
   "metadata": {},
   "source": [
    "## Data analisys\n",
    "Some preliminary analisys of the dataset"
   ]
  },
  {
   "cell_type": "code",
   "execution_count": 3,
   "metadata": {},
   "outputs": [
    {
     "name": "stdout",
     "output_type": "stream",
     "text": [
      "First 5 rows\n",
      "------------\n"
     ]
    },
    {
     "data": {
      "text/html": [
       "<div>\n",
       "<style scoped>\n",
       "    .dataframe tbody tr th:only-of-type {\n",
       "        vertical-align: middle;\n",
       "    }\n",
       "\n",
       "    .dataframe tbody tr th {\n",
       "        vertical-align: top;\n",
       "    }\n",
       "\n",
       "    .dataframe thead th {\n",
       "        text-align: right;\n",
       "    }\n",
       "</style>\n",
       "<table border=\"1\" class=\"dataframe\">\n",
       "  <thead>\n",
       "    <tr style=\"text-align: right;\">\n",
       "      <th></th>\n",
       "      <th>url</th>\n",
       "      <th>referer_url</th>\n",
       "      <th>src</th>\n",
       "      <th>shingle_vector</th>\n",
       "      <th>label</th>\n",
       "    </tr>\n",
       "  </thead>\n",
       "  <tbody>\n",
       "    <tr>\n",
       "      <th>0</th>\n",
       "      <td>https://bookoutlet.com/</td>\n",
       "      <td>https://bookoutlet.com/</td>\n",
       "      <td>&lt;!DOCTYPE html&gt;\\r\\n&lt;html lang=\"en\"&gt;\\r\\n&lt;head&gt;\\...</td>\n",
       "      <td>(0, 3, 1, 4, 0, 1, 3, 0)</td>\n",
       "      <td>NaN</td>\n",
       "    </tr>\n",
       "    <tr>\n",
       "      <th>1</th>\n",
       "      <td>https://bookoutlet.com/Store/Sale</td>\n",
       "      <td>https://bookoutlet.com/</td>\n",
       "      <td>&lt;!DOCTYPE html&gt;\\r\\n&lt;html lang=\"en\"&gt;\\r\\n&lt;head&gt;\\...</td>\n",
       "      <td>(0, 3, 1, 0, 0, 1, 3, 0)</td>\n",
       "      <td>NaN</td>\n",
       "    </tr>\n",
       "    <tr>\n",
       "      <th>2</th>\n",
       "      <td>https://bookoutlet.com/Store/OtherBrowsing</td>\n",
       "      <td>https://bookoutlet.com/</td>\n",
       "      <td>&lt;!DOCTYPE html&gt;\\r\\n&lt;html lang=\"en\"&gt;\\r\\n&lt;head&gt;\\...</td>\n",
       "      <td>(0, 3, 1, 8, 1, 1, 1, 0)</td>\n",
       "      <td>NaN</td>\n",
       "    </tr>\n",
       "    <tr>\n",
       "      <th>3</th>\n",
       "      <td>https://bookoutlet.com/Store/Browse?N=isTopTen...</td>\n",
       "      <td>https://bookoutlet.com/</td>\n",
       "      <td>&lt;!DOCTYPE html&gt;\\r\\n&lt;html lang=\"en\"&gt;\\r\\n&lt;head&gt;\\...</td>\n",
       "      <td>(0, 3, 1, 1, 1, 1, 0, 0)</td>\n",
       "      <td>list</td>\n",
       "    </tr>\n",
       "    <tr>\n",
       "      <th>4</th>\n",
       "      <td>https://bookoutlet.com/Store/Browse?N=isGiftCe...</td>\n",
       "      <td>https://bookoutlet.com/</td>\n",
       "      <td>&lt;!DOCTYPE html&gt;\\r\\n&lt;html lang=\"en\"&gt;\\r\\n&lt;head&gt;\\...</td>\n",
       "      <td>(0, 3, 1, 1, 1, 1, 0, 0)</td>\n",
       "      <td>list</td>\n",
       "    </tr>\n",
       "  </tbody>\n",
       "</table>\n",
       "</div>"
      ],
      "text/plain": [
       "                                                 url              referer_url  \\\n",
       "0                            https://bookoutlet.com/  https://bookoutlet.com/   \n",
       "1                  https://bookoutlet.com/Store/Sale  https://bookoutlet.com/   \n",
       "2         https://bookoutlet.com/Store/OtherBrowsing  https://bookoutlet.com/   \n",
       "3  https://bookoutlet.com/Store/Browse?N=isTopTen...  https://bookoutlet.com/   \n",
       "4  https://bookoutlet.com/Store/Browse?N=isGiftCe...  https://bookoutlet.com/   \n",
       "\n",
       "                                                 src  \\\n",
       "0  <!DOCTYPE html>\\r\\n<html lang=\"en\">\\r\\n<head>\\...   \n",
       "1  <!DOCTYPE html>\\r\\n<html lang=\"en\">\\r\\n<head>\\...   \n",
       "2  <!DOCTYPE html>\\r\\n<html lang=\"en\">\\r\\n<head>\\...   \n",
       "3  <!DOCTYPE html>\\r\\n<html lang=\"en\">\\r\\n<head>\\...   \n",
       "4  <!DOCTYPE html>\\r\\n<html lang=\"en\">\\r\\n<head>\\...   \n",
       "\n",
       "             shingle_vector label  \n",
       "0  (0, 3, 1, 4, 0, 1, 3, 0)   NaN  \n",
       "1  (0, 3, 1, 0, 0, 1, 3, 0)   NaN  \n",
       "2  (0, 3, 1, 8, 1, 1, 1, 0)   NaN  \n",
       "3  (0, 3, 1, 1, 1, 1, 0, 0)  list  \n",
       "4  (0, 3, 1, 1, 1, 1, 0, 0)  list  "
      ]
     },
     "execution_count": 3,
     "metadata": {},
     "output_type": "execute_result"
    }
   ],
   "source": [
    "print(\"First 5 rows\")\n",
    "print(\"------------\")\n",
    "df.head()"
   ]
  },
  {
   "cell_type": "code",
   "execution_count": 4,
   "metadata": {},
   "outputs": [
    {
     "name": "stdout",
     "output_type": "stream",
     "text": [
      "No. of rows and columns\n",
      "-----------------------\n"
     ]
    },
    {
     "data": {
      "text/plain": [
       "(16387, 5)"
      ]
     },
     "execution_count": 4,
     "metadata": {},
     "output_type": "execute_result"
    }
   ],
   "source": [
    "print(\"No. of rows and columns\")\n",
    "print(\"-----------------------\")\n",
    "df.shape"
   ]
  },
  {
   "cell_type": "code",
   "execution_count": 5,
   "metadata": {},
   "outputs": [
    {
     "name": "stdout",
     "output_type": "stream",
     "text": [
      "Check null values\n",
      "-----------------\n"
     ]
    },
    {
     "data": {
      "text/plain": [
       "True"
      ]
     },
     "execution_count": 5,
     "metadata": {},
     "output_type": "execute_result"
    }
   ],
   "source": [
    "print(\"Check null values\")\n",
    "print(\"-----------------\")\n",
    "df.isnull().any().any()"
   ]
  },
  {
   "cell_type": "code",
   "execution_count": 6,
   "metadata": {},
   "outputs": [
    {
     "name": "stdout",
     "output_type": "stream",
     "text": [
      "Check duplicate values\n",
      "----------------------\n"
     ]
    },
    {
     "data": {
      "text/plain": [
       "False"
      ]
     },
     "execution_count": 6,
     "metadata": {},
     "output_type": "execute_result"
    }
   ],
   "source": [
    "print(\"Check duplicate values\")\n",
    "print(\"----------------------\")\n",
    "len(df['url'].unique()) != df.shape[0]"
   ]
  },
  {
   "cell_type": "code",
   "execution_count": 7,
   "metadata": {},
   "outputs": [
    {
     "name": "stdout",
     "output_type": "stream",
     "text": [
      "DataFrame column types\n",
      "----------------------\n",
      "<class 'pandas.core.frame.DataFrame'>\n",
      "RangeIndex: 16387 entries, 0 to 16386\n",
      "Data columns (total 5 columns):\n",
      "url               16387 non-null object\n",
      "referer_url       16387 non-null object\n",
      "src               16387 non-null object\n",
      "shingle_vector    16387 non-null object\n",
      "label             16381 non-null object\n",
      "dtypes: object(5)\n",
      "memory usage: 640.2+ KB\n"
     ]
    }
   ],
   "source": [
    "print(\"DataFrame column types\")\n",
    "print(\"----------------------\")\n",
    "df.info()"
   ]
  },
  {
   "cell_type": "code",
   "execution_count": 8,
   "metadata": {},
   "outputs": [
    {
     "name": "stdout",
     "output_type": "stream",
     "text": [
      "Some stats\n",
      "----------------\n"
     ]
    },
    {
     "data": {
      "text/html": [
       "<div>\n",
       "<style scoped>\n",
       "    .dataframe tbody tr th:only-of-type {\n",
       "        vertical-align: middle;\n",
       "    }\n",
       "\n",
       "    .dataframe tbody tr th {\n",
       "        vertical-align: top;\n",
       "    }\n",
       "\n",
       "    .dataframe thead th {\n",
       "        text-align: right;\n",
       "    }\n",
       "</style>\n",
       "<table border=\"1\" class=\"dataframe\">\n",
       "  <thead>\n",
       "    <tr style=\"text-align: right;\">\n",
       "      <th></th>\n",
       "      <th>url</th>\n",
       "      <th>referer_url</th>\n",
       "      <th>src</th>\n",
       "      <th>shingle_vector</th>\n",
       "      <th>label</th>\n",
       "    </tr>\n",
       "  </thead>\n",
       "  <tbody>\n",
       "    <tr>\n",
       "      <th>count</th>\n",
       "      <td>16387</td>\n",
       "      <td>16387</td>\n",
       "      <td>16387</td>\n",
       "      <td>16387</td>\n",
       "      <td>16381</td>\n",
       "    </tr>\n",
       "    <tr>\n",
       "      <th>unique</th>\n",
       "      <td>16387</td>\n",
       "      <td>8050</td>\n",
       "      <td>16387</td>\n",
       "      <td>11</td>\n",
       "      <td>2</td>\n",
       "    </tr>\n",
       "    <tr>\n",
       "      <th>top</th>\n",
       "      <td>https://bookoutlet.com/Store/Browse?Na=134829&amp;...</td>\n",
       "      <td>https://bookoutlet.com/Store/Browse?Npb=6326</td>\n",
       "      <td>&lt;!DOCTYPE html&gt;\\r\\n&lt;html lang=\"en\"&gt;\\r\\n&lt;head&gt;\\...</td>\n",
       "      <td>(0, 3, 1, 1, 1, 1, 0, 0)</td>\n",
       "      <td>list</td>\n",
       "    </tr>\n",
       "    <tr>\n",
       "      <th>freq</th>\n",
       "      <td>1</td>\n",
       "      <td>31</td>\n",
       "      <td>1</td>\n",
       "      <td>6138</td>\n",
       "      <td>11580</td>\n",
       "    </tr>\n",
       "  </tbody>\n",
       "</table>\n",
       "</div>"
      ],
      "text/plain": [
       "                                                      url  \\\n",
       "count                                               16387   \n",
       "unique                                              16387   \n",
       "top     https://bookoutlet.com/Store/Browse?Na=134829&...   \n",
       "freq                                                    1   \n",
       "\n",
       "                                         referer_url  \\\n",
       "count                                          16387   \n",
       "unique                                          8050   \n",
       "top     https://bookoutlet.com/Store/Browse?Npb=6326   \n",
       "freq                                              31   \n",
       "\n",
       "                                                      src  \\\n",
       "count                                               16387   \n",
       "unique                                              16387   \n",
       "top     <!DOCTYPE html>\\r\\n<html lang=\"en\">\\r\\n<head>\\...   \n",
       "freq                                                    1   \n",
       "\n",
       "                  shingle_vector  label  \n",
       "count                      16387  16381  \n",
       "unique                        11      2  \n",
       "top     (0, 3, 1, 1, 1, 1, 0, 0)   list  \n",
       "freq                        6138  11580  "
      ]
     },
     "execution_count": 8,
     "metadata": {},
     "output_type": "execute_result"
    }
   ],
   "source": [
    "print(\"Some stats\")\n",
    "print(\"----------------\")\n",
    "df.describe()"
   ]
  },
  {
   "cell_type": "code",
   "execution_count": 9,
   "metadata": {},
   "outputs": [
    {
     "name": "stdout",
     "output_type": "stream",
     "text": [
      "There are 6 row with no label\n",
      "There are 4801 row with product label\n",
      "There are 11580 row with list label\n"
     ]
    }
   ],
   "source": [
    "fmt_string = 'There are {} row with {} label'\n",
    "print(fmt_string.format(len(df[df['label'].isnull()]),'no'))\n",
    "print(fmt_string.format(len(df[df['label']=='product']), 'product'))\n",
    "print(fmt_string.format(len(df[df['label']=='list']), 'list'))"
   ]
  },
  {
   "cell_type": "markdown",
   "metadata": {},
   "source": [
    "## Run Foxlink's clustering algorithm"
   ]
  },
  {
   "cell_type": "code",
   "execution_count": 10,
   "metadata": {},
   "outputs": [],
   "source": [
    "#add top level folder to sys.path\n",
    "import sys\n",
    "sys.path.append('../../../')"
   ]
  },
  {
   "cell_type": "code",
   "execution_count": 11,
   "metadata": {},
   "outputs": [],
   "source": [
    "from foxlink_clustering.clustering.structural_clustering import structural_clustering\n",
    "\n",
    "clusters = structural_clustering(df)"
   ]
  },
  {
   "cell_type": "code",
   "execution_count": 12,
   "metadata": {},
   "outputs": [
    {
     "data": {
      "text/plain": [
       "2"
      ]
     },
     "execution_count": 12,
     "metadata": {},
     "output_type": "execute_result"
    }
   ],
   "source": [
    "len(clusters)"
   ]
  },
  {
   "cell_type": "markdown",
   "metadata": {},
   "source": [
    "So Foxlink's clustering algorithm discovered 2 clusters. Let's see how many pages contains each cluster"
   ]
  },
  {
   "cell_type": "code",
   "execution_count": 13,
   "metadata": {
    "scrolled": true
   },
   "outputs": [
    {
     "name": "stdout",
     "output_type": "stream",
     "text": [
      "cluster n. 1 has 11589 pages\n",
      "cluster n. 2 has 4795 pages\n",
      "\n",
      "16384 pages were clustered using Foxlink's clustering algorithm. 3 pages were discarded\n"
     ]
    }
   ],
   "source": [
    "cluster_fmt = 'cluster n. {} has {} pages'\n",
    "noOfPages = 0\n",
    "for index, cluster in enumerate(clusters):\n",
    "    clusterSize = len(cluster[1])\n",
    "    print(cluster_fmt.format(index +1 , clusterSize))\n",
    "    noOfPages += clusterSize\n",
    "print()\n",
    "print('{} pages were clustered using Foxlink\\'s clustering algorithm. {} pages were discarded'.format(noOfPages, len(df.index) - noOfPages))\n",
    "    "
   ]
  },
  {
   "cell_type": "code",
   "execution_count": 14,
   "metadata": {},
   "outputs": [
    {
     "name": "stdout",
     "output_type": "stream",
     "text": [
      "https://bookoutlet.com/Store/OtherBrowsing\n",
      "https://bookoutlet.com/Store/Browse?N=isTopTenSeller&Nq=0&merch=Top+10+Books\n",
      "https://bookoutlet.com/Store/Browse?N=isGiftCertificate\n",
      "https://bookoutlet.com/Store/Browse?N=isTopTwoHundred&Nq=0\n",
      "https://bookoutlet.com/Store/Browse?N=isRetailPromo14&merch=Most+Wanted+Young+Adult&fid=14\n",
      "https://bookoutlet.com/Store/Browse?N=isBlowout&merch=Clearance+Titles\n",
      "https://bookoutlet.com/Store/Browse\n",
      "https://bookoutlet.com/Store/Browse?Nc=39\n",
      "https://bookoutlet.com/Store/Browse?N=isTweens\n",
      "https://bookoutlet.com/Store/Browse?Nc=88\n"
     ]
    }
   ],
   "source": [
    "for i in range(10):\n",
    "    print(clusters[0][1][i])"
   ]
  },
  {
   "cell_type": "code",
   "execution_count": 15,
   "metadata": {},
   "outputs": [
    {
     "name": "stdout",
     "output_type": "stream",
     "text": [
      "https://bookoutlet.com/Store/Details/9780062202611B/love-loss-and-what-we-ate\n",
      "https://bookoutlet.com/Store/Details/9781524741709B/people-like-us\n",
      "https://bookoutlet.com/Store/Details/9781476775692B/wake-up-happy-the-dream-big-win-big-guide-to\n",
      "https://bookoutlet.com/Store/Details/9780671631987S/teach-your-child-to-read-in-100-easy-lessons\n",
      "https://bookoutlet.com/Store/Details/9781250103505B/radical-candor-be-a-kickass-boss-without-losi\n",
      "https://bookoutlet.com/Store/Details/9780310337379B/sacred-marriage-what-if-god-designed-marriage\n",
      "https://bookoutlet.com/Store/Details/9781250069825B/nine-perfect-strangers\n",
      "https://bookoutlet.com/Store/Details/9780312304355B/molokai\n",
      "https://bookoutlet.com/Store/Details/9780064438780B/the-leprechauns-gold\n",
      "https://bookoutlet.com/Store/Details/9781408843673B/bricks-and-mortals-ten-great-buildings-and-th\n"
     ]
    }
   ],
   "source": [
    "for i in range(10):\n",
    "    print(clusters[1][1][i])"
   ]
  },
  {
   "cell_type": "markdown",
   "metadata": {},
   "source": [
    "It seems that the pages which belongs to the \"product\" template are contained in the second cluster, while the first cluster contains pages which belongs to the \"list\" template"
   ]
  },
  {
   "cell_type": "markdown",
   "metadata": {},
   "source": [
    "## Calculate precision and recall\n",
    "Calculate precision and recall considering the entire dataset. We use the first cluster to evaluate precision and recall for the \"product\" cluster and the fourth cluster for the \"list\" template:"
   ]
  },
  {
   "cell_type": "code",
   "execution_count": 18,
   "metadata": {},
   "outputs": [],
   "source": [
    "def evaluate_precision_and_recall(dataFrame, cluster, label):\n",
    "    urlsFromCluster = cluster[1]\n",
    "    pages_retrieved_for_query = len(urlsFromCluster)\n",
    "    true_positive = 0\n",
    "    all_positives = len(dataFrame[dataFrame['label']==label])\n",
    "    for url in urlsFromCluster:\n",
    "        matchingRow  = dataFrame[dataFrame['url'] == url][['url','label']].iloc[0]\n",
    "        if matchingRow['label'] == label:\n",
    "            true_positive += 1\n",
    "        \n",
    "    recall = true_positive/all_positives\n",
    "    precision = true_positive/pages_retrieved_for_query\n",
    "    return (recall, precision)"
   ]
  },
  {
   "cell_type": "markdown",
   "metadata": {},
   "source": [
    "Calculating recall and precision for the \"product\" and the \"list\" template"
   ]
  },
  {
   "cell_type": "code",
   "execution_count": 19,
   "metadata": {},
   "outputs": [],
   "source": [
    "productRecall, productPrecision = evaluate_precision_and_recall(df, clusters[1], 'product')\n",
    "catalogRecall, catalogPrecision = evaluate_precision_and_recall(df, clusters[0], 'list')"
   ]
  },
  {
   "cell_type": "code",
   "execution_count": 20,
   "metadata": {},
   "outputs": [
    {
     "name": "stdout",
     "output_type": "stream",
     "text": [
      "+---------+--------+-----------+\n",
      "|    -    | Recall | Precision |\n",
      "+---------+--------+-----------+\n",
      "| Product |  0.999 |     1.0 |\n",
      "| List    |  1.0 |     0.999 |\n",
      "+---------+--------+-----------+\n"
     ]
    }
   ],
   "source": [
    "print(\"+---------+--------+-----------+\")\n",
    "print(\"|    -    | Recall | Precision |\")\n",
    "print(\"+---------+--------+-----------+\")\n",
    "print(\"| {} |  {} |     {} |\".format('Product', round(productRecall,3), round(productPrecision,3)))\n",
    "print(\"| {}    |  {} |     {} |\".format('List', round(catalogRecall,3), round(catalogPrecision,3)))\n",
    "print(\"+---------+--------+-----------+\")"
   ]
  }
 ],
 "metadata": {
  "kernelspec": {
   "display_name": "Python 3",
   "language": "python",
   "name": "python3"
  },
  "language_info": {
   "codemirror_mode": {
    "name": "ipython",
    "version": 3
   },
   "file_extension": ".py",
   "mimetype": "text/x-python",
   "name": "python",
   "nbconvert_exporter": "python",
   "pygments_lexer": "ipython3",
   "version": "3.7.3"
  }
 },
 "nbformat": 4,
 "nbformat_minor": 2
}
