{
 "cells": [
  {
   "cell_type": "markdown",
   "metadata": {},
   "source": [
    "# Foxlink's clustering algorithm evaluation\n",
    "Evaluating Foxlink's clustering algorithm on bookdepository.com pages. The aim is to calculate precision and recall for \"book details\" cluster and the \"catalog\" cluster in blackwells.co.uk."
   ]
  },
  {
   "cell_type": "code",
   "execution_count": 1,
   "metadata": {},
   "outputs": [
    {
     "data": {
      "text/plain": [
       "'../../../datasets/blackwells.csv'"
      ]
     },
     "execution_count": 1,
     "metadata": {},
     "output_type": "execute_result"
    }
   ],
   "source": [
    "%matplotlib inline\n",
    "# Importing libraries\n",
    "import matplotlib.pyplot as plt\n",
    "import pandas as pd\n",
    "\n",
    "FILEPATH = '../../../datasets/blackwells.csv'\n",
    "FILEPATH"
   ]
  },
  {
   "cell_type": "code",
   "execution_count": 2,
   "metadata": {},
   "outputs": [],
   "source": [
    "df = pd.read_csv(FILEPATH)"
   ]
  },
  {
   "cell_type": "markdown",
   "metadata": {},
   "source": [
    "## Data analisys\n",
    "Some preliminary analisys of the dataset"
   ]
  },
  {
   "cell_type": "code",
   "execution_count": 3,
   "metadata": {},
   "outputs": [
    {
     "name": "stdout",
     "output_type": "stream",
     "text": [
      "First 5 rows\n",
      "------------\n"
     ]
    },
    {
     "data": {
      "text/html": [
       "<div>\n",
       "<style scoped>\n",
       "    .dataframe tbody tr th:only-of-type {\n",
       "        vertical-align: middle;\n",
       "    }\n",
       "\n",
       "    .dataframe tbody tr th {\n",
       "        vertical-align: top;\n",
       "    }\n",
       "\n",
       "    .dataframe thead th {\n",
       "        text-align: right;\n",
       "    }\n",
       "</style>\n",
       "<table border=\"1\" class=\"dataframe\">\n",
       "  <thead>\n",
       "    <tr style=\"text-align: right;\">\n",
       "      <th></th>\n",
       "      <th>url</th>\n",
       "      <th>referer_url</th>\n",
       "      <th>src</th>\n",
       "      <th>shingle_vector</th>\n",
       "      <th>label</th>\n",
       "    </tr>\n",
       "  </thead>\n",
       "  <tbody>\n",
       "    <tr>\n",
       "      <th>0</th>\n",
       "      <td>https://blackwells.co.uk/bookshop/basket</td>\n",
       "      <td>https://blackwells.co.uk/bookshop/home</td>\n",
       "      <td>\\n\\n\\n        \\n&lt;!DOCTYPE html&gt;\\n&lt;html lang=\"e...</td>\n",
       "      <td>(0, 1, 5, 1, 1, 6, 3, 1)</td>\n",
       "      <td>NaN</td>\n",
       "    </tr>\n",
       "    <tr>\n",
       "      <th>1</th>\n",
       "      <td>https://blackwells.co.uk/bookshop/search/</td>\n",
       "      <td>https://blackwells.co.uk/bookshop/home</td>\n",
       "      <td>\\n\\n\\n        \\n&lt;!DOCTYPE html&gt;\\n&lt;html lang=\"e...</td>\n",
       "      <td>(0, 1, 5, 1, 1, 0, 3, 0)</td>\n",
       "      <td>list</td>\n",
       "    </tr>\n",
       "    <tr>\n",
       "      <th>2</th>\n",
       "      <td>https://blackwells.co.uk/bookshop/home</td>\n",
       "      <td>https://blackwells.co.uk/bookshop/home</td>\n",
       "      <td>\\n\\n\\n        \\n&lt;!DOCTYPE html&gt;\\n&lt;html lang=\"e...</td>\n",
       "      <td>(0, 1, 0, 1, 0, 0, 3, 1)</td>\n",
       "      <td>NaN</td>\n",
       "    </tr>\n",
       "    <tr>\n",
       "      <th>3</th>\n",
       "      <td>https://blackwells.co.uk/bookshop/product/9781...</td>\n",
       "      <td>https://blackwells.co.uk/bookshop/home</td>\n",
       "      <td>\\n\\n\\n        \\n&lt;!DOCTYPE html&gt;\\n&lt;html lang=\"e...</td>\n",
       "      <td>(0, 1, 1, 1, 1, 0, 0, 1)</td>\n",
       "      <td>product</td>\n",
       "    </tr>\n",
       "    <tr>\n",
       "      <th>4</th>\n",
       "      <td>https://blackwells.co.uk/bookshop/mapping</td>\n",
       "      <td>https://blackwells.co.uk/bookshop/basket</td>\n",
       "      <td>\\n\\n\\n\\n\\n\\n&lt;!DOCTYPE html&gt;\\n&lt;html lang=\"en\" c...</td>\n",
       "      <td>(2, 22, 1, 1, 7, 15, 7, 5)</td>\n",
       "      <td>NaN</td>\n",
       "    </tr>\n",
       "  </tbody>\n",
       "</table>\n",
       "</div>"
      ],
      "text/plain": [
       "                                                 url  \\\n",
       "0           https://blackwells.co.uk/bookshop/basket   \n",
       "1          https://blackwells.co.uk/bookshop/search/   \n",
       "2             https://blackwells.co.uk/bookshop/home   \n",
       "3  https://blackwells.co.uk/bookshop/product/9781...   \n",
       "4          https://blackwells.co.uk/bookshop/mapping   \n",
       "\n",
       "                                referer_url  \\\n",
       "0    https://blackwells.co.uk/bookshop/home   \n",
       "1    https://blackwells.co.uk/bookshop/home   \n",
       "2    https://blackwells.co.uk/bookshop/home   \n",
       "3    https://blackwells.co.uk/bookshop/home   \n",
       "4  https://blackwells.co.uk/bookshop/basket   \n",
       "\n",
       "                                                 src  \\\n",
       "0  \\n\\n\\n        \\n<!DOCTYPE html>\\n<html lang=\"e...   \n",
       "1  \\n\\n\\n        \\n<!DOCTYPE html>\\n<html lang=\"e...   \n",
       "2  \\n\\n\\n        \\n<!DOCTYPE html>\\n<html lang=\"e...   \n",
       "3  \\n\\n\\n        \\n<!DOCTYPE html>\\n<html lang=\"e...   \n",
       "4  \\n\\n\\n\\n\\n\\n<!DOCTYPE html>\\n<html lang=\"en\" c...   \n",
       "\n",
       "               shingle_vector    label  \n",
       "0    (0, 1, 5, 1, 1, 6, 3, 1)      NaN  \n",
       "1    (0, 1, 5, 1, 1, 0, 3, 0)     list  \n",
       "2    (0, 1, 0, 1, 0, 0, 3, 1)      NaN  \n",
       "3    (0, 1, 1, 1, 1, 0, 0, 1)  product  \n",
       "4  (2, 22, 1, 1, 7, 15, 7, 5)      NaN  "
      ]
     },
     "execution_count": 3,
     "metadata": {},
     "output_type": "execute_result"
    }
   ],
   "source": [
    "print(\"First 5 rows\")\n",
    "print(\"------------\")\n",
    "df.head()"
   ]
  },
  {
   "cell_type": "code",
   "execution_count": 4,
   "metadata": {},
   "outputs": [
    {
     "name": "stdout",
     "output_type": "stream",
     "text": [
      "No. of rows and columns\n",
      "-----------------------\n"
     ]
    },
    {
     "data": {
      "text/plain": [
       "(10919, 5)"
      ]
     },
     "execution_count": 4,
     "metadata": {},
     "output_type": "execute_result"
    }
   ],
   "source": [
    "print(\"No. of rows and columns\")\n",
    "print(\"-----------------------\")\n",
    "df.shape"
   ]
  },
  {
   "cell_type": "code",
   "execution_count": 5,
   "metadata": {},
   "outputs": [
    {
     "name": "stdout",
     "output_type": "stream",
     "text": [
      "Check null values\n",
      "-----------------\n"
     ]
    },
    {
     "data": {
      "text/plain": [
       "True"
      ]
     },
     "execution_count": 5,
     "metadata": {},
     "output_type": "execute_result"
    }
   ],
   "source": [
    "print(\"Check null values\")\n",
    "print(\"-----------------\")\n",
    "df.isnull().any().any()"
   ]
  },
  {
   "cell_type": "code",
   "execution_count": 6,
   "metadata": {},
   "outputs": [
    {
     "name": "stdout",
     "output_type": "stream",
     "text": [
      "Check duplicate values\n",
      "----------------------\n"
     ]
    },
    {
     "data": {
      "text/plain": [
       "False"
      ]
     },
     "execution_count": 6,
     "metadata": {},
     "output_type": "execute_result"
    }
   ],
   "source": [
    "print(\"Check duplicate values\")\n",
    "print(\"----------------------\")\n",
    "len(df['url'].unique()) != df.shape[0]"
   ]
  },
  {
   "cell_type": "code",
   "execution_count": 7,
   "metadata": {},
   "outputs": [
    {
     "name": "stdout",
     "output_type": "stream",
     "text": [
      "DataFrame column types\n",
      "----------------------\n",
      "<class 'pandas.core.frame.DataFrame'>\n",
      "RangeIndex: 10919 entries, 0 to 10918\n",
      "Data columns (total 5 columns):\n",
      "url               10919 non-null object\n",
      "referer_url       10919 non-null object\n",
      "src               10919 non-null object\n",
      "shingle_vector    10919 non-null object\n",
      "label             10899 non-null object\n",
      "dtypes: object(5)\n",
      "memory usage: 426.6+ KB\n"
     ]
    }
   ],
   "source": [
    "print(\"DataFrame column types\")\n",
    "print(\"----------------------\")\n",
    "df.info()"
   ]
  },
  {
   "cell_type": "code",
   "execution_count": 8,
   "metadata": {},
   "outputs": [
    {
     "name": "stdout",
     "output_type": "stream",
     "text": [
      "Some stats\n",
      "----------------\n"
     ]
    },
    {
     "data": {
      "text/html": [
       "<div>\n",
       "<style scoped>\n",
       "    .dataframe tbody tr th:only-of-type {\n",
       "        vertical-align: middle;\n",
       "    }\n",
       "\n",
       "    .dataframe tbody tr th {\n",
       "        vertical-align: top;\n",
       "    }\n",
       "\n",
       "    .dataframe thead th {\n",
       "        text-align: right;\n",
       "    }\n",
       "</style>\n",
       "<table border=\"1\" class=\"dataframe\">\n",
       "  <thead>\n",
       "    <tr style=\"text-align: right;\">\n",
       "      <th></th>\n",
       "      <th>url</th>\n",
       "      <th>referer_url</th>\n",
       "      <th>src</th>\n",
       "      <th>shingle_vector</th>\n",
       "      <th>label</th>\n",
       "    </tr>\n",
       "  </thead>\n",
       "  <tbody>\n",
       "    <tr>\n",
       "      <th>count</th>\n",
       "      <td>10919</td>\n",
       "      <td>10919</td>\n",
       "      <td>10919</td>\n",
       "      <td>10919</td>\n",
       "      <td>10899</td>\n",
       "    </tr>\n",
       "    <tr>\n",
       "      <th>unique</th>\n",
       "      <td>10919</td>\n",
       "      <td>6375</td>\n",
       "      <td>10525</td>\n",
       "      <td>73</td>\n",
       "      <td>2</td>\n",
       "    </tr>\n",
       "    <tr>\n",
       "      <th>top</th>\n",
       "      <td>https://blackwells.co.uk/bookshop/product/The-...</td>\n",
       "      <td>https://blackwells.co.uk/bookshop/home</td>\n",
       "      <td>\\n\\n\\n        \\n&lt;!DOCTYPE html&gt;\\n&lt;html lang=\"e...</td>\n",
       "      <td>(0, 1, 5, 0, 1, 0, 3, 0)</td>\n",
       "      <td>product</td>\n",
       "    </tr>\n",
       "    <tr>\n",
       "      <th>freq</th>\n",
       "      <td>1</td>\n",
       "      <td>12</td>\n",
       "      <td>7</td>\n",
       "      <td>2197</td>\n",
       "      <td>10405</td>\n",
       "    </tr>\n",
       "  </tbody>\n",
       "</table>\n",
       "</div>"
      ],
      "text/plain": [
       "                                                      url  \\\n",
       "count                                               10919   \n",
       "unique                                              10919   \n",
       "top     https://blackwells.co.uk/bookshop/product/The-...   \n",
       "freq                                                    1   \n",
       "\n",
       "                                   referer_url  \\\n",
       "count                                    10919   \n",
       "unique                                    6375   \n",
       "top     https://blackwells.co.uk/bookshop/home   \n",
       "freq                                        12   \n",
       "\n",
       "                                                      src  \\\n",
       "count                                               10919   \n",
       "unique                                              10525   \n",
       "top     \\n\\n\\n        \\n<!DOCTYPE html>\\n<html lang=\"e...   \n",
       "freq                                                    7   \n",
       "\n",
       "                  shingle_vector    label  \n",
       "count                      10919    10899  \n",
       "unique                        73        2  \n",
       "top     (0, 1, 5, 0, 1, 0, 3, 0)  product  \n",
       "freq                        2197    10405  "
      ]
     },
     "execution_count": 8,
     "metadata": {},
     "output_type": "execute_result"
    }
   ],
   "source": [
    "print(\"Some stats\")\n",
    "print(\"----------------\")\n",
    "df.describe()"
   ]
  },
  {
   "cell_type": "code",
   "execution_count": 11,
   "metadata": {},
   "outputs": [
    {
     "name": "stdout",
     "output_type": "stream",
     "text": [
      "There are 20 row with no label\n",
      "There are 10405 row with product label\n",
      "There are 494 row with list label\n"
     ]
    }
   ],
   "source": [
    "fmt_string = 'There are {} row with {} label'\n",
    "print(fmt_string.format(len(df[df['label'].isnull()]),'no'))\n",
    "print(fmt_string.format(len(df[df['label']=='product']), 'product'))\n",
    "print(fmt_string.format(len(df[df['label']=='list']), 'list'))"
   ]
  },
  {
   "cell_type": "markdown",
   "metadata": {},
   "source": [
    "## Run Foxlink's clustering algorithm"
   ]
  },
  {
   "cell_type": "code",
   "execution_count": 12,
   "metadata": {},
   "outputs": [],
   "source": [
    "#add top level folder to sys.path\n",
    "import sys\n",
    "sys.path.append('../../../')"
   ]
  },
  {
   "cell_type": "code",
   "execution_count": 13,
   "metadata": {},
   "outputs": [],
   "source": [
    "from foxlink_clustering.clustering.structural_clustering import structural_clustering\n",
    "\n",
    "clusters = structural_clustering(df)"
   ]
  },
  {
   "cell_type": "code",
   "execution_count": 14,
   "metadata": {},
   "outputs": [
    {
     "data": {
      "text/plain": [
       "7"
      ]
     },
     "execution_count": 14,
     "metadata": {},
     "output_type": "execute_result"
    }
   ],
   "source": [
    "len(clusters)"
   ]
  },
  {
   "cell_type": "markdown",
   "metadata": {},
   "source": [
    "So Foxlink's clustering algorithm discovered 7 clusters. Let's see how many pages contains each cluster"
   ]
  },
  {
   "cell_type": "code",
   "execution_count": 15,
   "metadata": {
    "scrolled": true
   },
   "outputs": [
    {
     "name": "stdout",
     "output_type": "stream",
     "text": [
      "cluster n. 1 has 4760 pages\n",
      "cluster n. 2 has 1390 pages\n",
      "cluster n. 3 has 98 pages\n",
      "cluster n. 4 has 522 pages\n",
      "cluster n. 5 has 4030 pages\n",
      "cluster n. 6 has 29 pages\n",
      "cluster n. 7 has 25 pages\n",
      "\n",
      "10854 pages were clustered using Foxlink's clustering algorithm. 65 pages were discarded\n"
     ]
    }
   ],
   "source": [
    "cluster_fmt = 'cluster n. {} has {} pages'\n",
    "noOfPages = 0\n",
    "for index, cluster in enumerate(clusters):\n",
    "    clusterSize = len(cluster[1])\n",
    "    print(cluster_fmt.format(index +1 , clusterSize))\n",
    "    noOfPages += clusterSize\n",
    "print()\n",
    "print('{} pages were clustered using Foxlink\\'s clustering algorithm. {} pages were discarded'.format(noOfPages, len(df.index) - noOfPages))\n",
    "    "
   ]
  },
  {
   "cell_type": "markdown",
   "metadata": {},
   "source": [
    "By looking at each cluster's size we might infere that the first cluster (which has the largest number of pages) is the one containing pages which belongs to the \"product\" cluster"
   ]
  },
  {
   "cell_type": "code",
   "execution_count": 17,
   "metadata": {},
   "outputs": [
    {
     "name": "stdout",
     "output_type": "stream",
     "text": [
      "https://blackwells.co.uk/bookshop/search/\n",
      "https://blackwells.co.uk/bookshop/product/The-Haunting-by-Margaret-Mahy-author/9781510105041\n",
      "https://blackwells.co.uk/bookshop/product/Gunslinger-Girl-by-Lyndsay-Ely-author/9780316555241\n",
      "https://blackwells.co.uk/bookshop/product/The-Fashion-Business-Manual-by-Fashionary/9789887710974\n",
      "https://blackwells.co.uk/bookshop/product/Thinking-Outside-the-Box-by-Jonathan-Bell-author/9781911339168\n",
      "https://blackwells.co.uk/bookshop/product/Radio-Frequency-Identification-RFID-Technology-and-Application-in-Fashion-and-Textile-Supply-Chain-by-Rajkishore-Nayak-author/9780815376231\n",
      "https://blackwells.co.uk/bookshop/product/Planetary-Gear-Trains-by-Kiril-Borisov-Arnaudov-author-Dimitar-Petkov-Karaivanov-author/9781138311855\n",
      "https://blackwells.co.uk/bookshop/product/Altarpieces-and-Their-Viewers-in-the-Churches-of-Rome-from-Caravaggio-to-Guido-Reni-by-Pamela-M-Jones/9780754661795\n",
      "https://blackwells.co.uk/bookshop/product/Automation-in-the-Virtual-Testing-of-Mechanical-Systems-by-Ole-Ivar-Sivertsen-author-Bjrn-Haugen-author/9781138610767\n",
      "https://blackwells.co.uk/bookshop/product/A-Philosophical-Enquiry-Into-the-Origin-of-Our-Ideas-of-the-Sublime-and-Beautiful-by-Anonymous/9780342039975\n"
     ]
    }
   ],
   "source": [
    "for i in range(10):\n",
    "    print(clusters[0][1][i])"
   ]
  },
  {
   "cell_type": "code",
   "execution_count": 18,
   "metadata": {},
   "outputs": [
    {
     "name": "stdout",
     "output_type": "stream",
     "text": [
      "https://blackwells.co.uk/bookshop/product/9781784702113\n",
      "https://blackwells.co.uk/bookshop/product/Rooftoppers-by-Katherine-Rundell-author/9781784702113\n",
      "https://blackwells.co.uk/bookshop/product/The-Boy-in-the-Dress-by-David-Walliams-Quentin-Blake/9781784702113\n",
      "https://blackwells.co.uk/bookshop/product/Wonder-Woman-Talking-Figure-and-Illustrated-Book-by-Running-Press-author/9780762456949\n",
      "https://blackwells.co.uk/bookshop/product/Library-of-Light-by-Jo-Joelson-author/9781848222533\n",
      "https://blackwells.co.uk/bookshop/product/I-Love-Llamas-Activity-Book-by-Emily-Stead-author/9781784702113\n",
      "https://blackwells.co.uk/bookshop/product/The-Fashion-Business-Manual-by-Fashionary/9781784702113\n",
      "https://blackwells.co.uk/bookshop/product/A-Marine-Artists-Portfolio-by-Susanne-Fournais-Grube-artist/9781784702113\n",
      "https://blackwells.co.uk/bookshop/product/London-Midland-Steam-by-R-J-Buckley-photographer-Brian-J-Dickson-compiler/9781784702113\n",
      "https://blackwells.co.uk/bookshop/product/Hey-Awesome-by-Karen-Young-Norvile-Dovidonyte-artist/9781784702113\n"
     ]
    }
   ],
   "source": [
    "for i in range(10):\n",
    "    print(clusters[1][1][i])"
   ]
  },
  {
   "cell_type": "code",
   "execution_count": 19,
   "metadata": {},
   "outputs": [
    {
     "name": "stdout",
     "output_type": "stream",
     "text": [
      "https://blackwells.co.uk/bookshop/about\n",
      "https://blackwells.co.uk/bookshop/product/The-Woman-in-the-Lake-by-Nicola-Cornick-author/9781848456945\n",
      "https://blackwells.co.uk/bookshop/product/The-Riders-Balance-by-Sylvia-Loch-author/9781910016343\n",
      "https://blackwells.co.uk/bookshop/product/OtherEarth-by-Jason-Segel-author-Kirsten-Miller-author/9781786074522\n",
      "https://blackwells.co.uk/bookshop/product/The-Villa-of-Mysteries-by-David-Hewson-author/9781847519511\n",
      "https://blackwells.co.uk/bookshop/product/Primary-Maths-for-Scotland-Textbook-2A-by-Lowther-Craig/9780008313982\n",
      "https://blackwells.co.uk/bookshop/product/Contemporary-Health-Studies-by-Louise-Warwick-Booth-Ruth-Cross-Diane-Lowcock/9780745650227\n",
      "https://blackwells.co.uk/bookshop/product/The-Masterpiece-by-Fiona-Davis-author/9781524742959\n",
      "https://blackwells.co.uk/bookshop/product/UK-Politics-by-Sarra-Jenkins-author-Nick-Gallop-author/9781510447646\n",
      "https://blackwells.co.uk/bookshop/product/National-45-Modern-Studies-Course-Notes-by-Jennifer-M-Gilruth-author-Elizabeth-Elliot-author-Jenny-Reynolds-author/9780008282189\n"
     ]
    }
   ],
   "source": [
    "for i in range(10):\n",
    "    print(clusters[2][1][i])"
   ]
  },
  {
   "cell_type": "code",
   "execution_count": 20,
   "metadata": {},
   "outputs": [
    {
     "name": "stdout",
     "output_type": "stream",
     "text": [
      "https://blackwells.co.uk/bookshop/editorial/Kitschies\n",
      "https://blackwells.co.uk/bookshop/category/_biography/\n",
      "https://blackwells.co.uk/bookshop/category/_biography/9781784702113\n",
      "https://blackwells.co.uk/bookshop/category/_artanddesign?offset=48\n",
      "https://blackwells.co.uk/bookshop/category/_artanddesign?offset=96\n",
      "https://blackwells.co.uk/bookshop/category/_artanddesign?offset=144\n",
      "https://blackwells.co.uk/bookshop/category/_artanddesign?offset=240\n",
      "https://blackwells.co.uk/bookshop/category/_artanddesign?sortValue=Rating&offset=432\n",
      "https://blackwells.co.uk/bookshop/search/publisher/Wiley%20Blackwell\n",
      "https://blackwells.co.uk/bookshop/search/publisher/Grove%20Press\n"
     ]
    }
   ],
   "source": [
    "for i in range(10):\n",
    "    print(clusters[3][1][i])"
   ]
  },
  {
   "cell_type": "code",
   "execution_count": 21,
   "metadata": {},
   "outputs": [
    {
     "name": "stdout",
     "output_type": "stream",
     "text": [
      "https://blackwells.co.uk/bookshop/product/Kudos-by-Rachel-Cusk-author/9780571346721\n",
      "https://blackwells.co.uk/bookshop/product/The-Wonderful-Adventure-of-Nils-Holgersson-by-Selma-Lagerlf-Paul-R-Norln-translator-Bertil-Lybeck-illustrator/9780241206096\n",
      "https://blackwells.co.uk/bookshop/product/Mr-Stink-by-David-Walliams-Quentin-Blake/9780007279067\n",
      "https://blackwells.co.uk/bookshop/product/Peter-Pan-by-J-M-Barrie-Minalima-Design-Firm-illustrator/9780062362223\n",
      "https://blackwells.co.uk/bookshop/product/Rooftoppers-by-Katherine-Rundell-author/9780571280599\n",
      "https://blackwells.co.uk/bookshop/product/Younger-Fitter-Stronger-by-Matt-Roberts-author/9781472964496\n",
      "https://blackwells.co.uk/bookshop/product/You-Got-This-by-Bryony-Gordon-author/9781526361868\n",
      "https://blackwells.co.uk/bookshop/product/Catch-22-by-Joseph-Heller-author/9780099529125\n",
      "https://blackwells.co.uk/bookshop/product/Becoming-Jo-by-Sophie-McKenzie-author-Louisa-May-Alcott/9781407188157\n",
      "https://blackwells.co.uk/bookshop/product/The-Jungle-Book-by-Rudyard-Kipling-author/9781787198340\n"
     ]
    }
   ],
   "source": [
    "for i in range(10):\n",
    "    print(clusters[4][1][i])"
   ]
  },
  {
   "cell_type": "code",
   "execution_count": 22,
   "metadata": {},
   "outputs": [
    {
     "name": "stdout",
     "output_type": "stream",
     "text": [
      "https://blackwells.co.uk/bookshop/product/Into-the-Bermuda-Triangle-by-Gian-J-Quasar/9780071452175\n",
      "https://blackwells.co.uk/bookshop/product/Building-a-Scalable-Data-Warehouse-With-Data-Vault-2-0-by-Dan-Linstedt-author-Michael-Olschimke-author/9780128025109\n",
      "https://blackwells.co.uk/bookshop/product/Oracle-Application-Express-by-Arie-Geller-author-Brian-Spendolini-author/9780071843041\n",
      "https://blackwells.co.uk/bookshop/product/Multifunctional-Ultrawideband-Antennas-by-Chinmoy-Saha-author-Jawad-Y-Siddiqui-author-Y-M-M-Antar-author/9781138553545\n",
      "https://blackwells.co.uk/bookshop/product/Alive-at-Work-by-Daniel-M-Cable-author/9781633697669\n",
      "https://blackwells.co.uk/bookshop/product/Introduction-to-Environmental-Impact-Assessment-by-John-Glasson-author-Riki-Therivel-author/9781138600744\n",
      "https://blackwells.co.uk/bookshop/product/Cult-Cinema-by-Ernest-Mathijs-Jamie-Sexton/9781405173735\n",
      "https://blackwells.co.uk/bookshop/product/Photovoltaics-by-Solar-Energy-International/9780865715202\n",
      "https://blackwells.co.uk/bookshop/product/Minecraft-Redstone-for-Dummies-by-Jacob-Cordeiro-author/9781118968307\n",
      "https://blackwells.co.uk/bookshop/product/Introduction-to-Laser-Technology-by-C-Breck-Hitz-J-J-Ewing-Jeff-Hecht/9780470916209\n"
     ]
    }
   ],
   "source": [
    "for i in range(10):\n",
    "    print(clusters[5][1][i])"
   ]
  },
  {
   "cell_type": "code",
   "execution_count": 23,
   "metadata": {},
   "outputs": [
    {
     "name": "stdout",
     "output_type": "stream",
     "text": [
      "https://blackwells.co.uk/bookshop/product/Pocket-Naples--The-Amalfi-Coast-by-Cristian-Bonetto-author-Brendan-Sainsbury-author/9781788681162\n",
      "https://blackwells.co.uk/bookshop/product/A-Managers-Guide-to-Self-Development-by-Mike-Pedler-author-John-Burgoyne-author-Tom-Boydell-author/9780077149888\n",
      "https://blackwells.co.uk/bookshop/product/101-Small-Ways-to-Change-the-World-by-Aubre-Andrus-author/9781787014862\n",
      "https://blackwells.co.uk/bookshop/product/Machine-Learning-for-Dummies-by-John-Mueller-author-Luca-Massaron-author/9781119245513\n",
      "https://blackwells.co.uk/bookshop/product/Forensic-Psychology-by-Sandie-Taylor-author/9780815384915\n",
      "https://blackwells.co.uk/bookshop/product/How-to-Talk-to-Absolutely-Anyone-by-Mark-Rhodes-author/9780857087454\n",
      "https://blackwells.co.uk/bookshop/product/Immunology-by-David-K-Male/9780323080583\n",
      "https://blackwells.co.uk/bookshop/product/Spanish-by-Marta-Lpez-author-Cristina-Hernndez-Montero-author/9781786573896\n",
      "https://blackwells.co.uk/bookshop/product/The-A-Z-Guide-to-Food-as-Medicine-by-Diane-Kraft-author/9781138595798\n",
      "https://blackwells.co.uk/bookshop/product/Philosophy-in-the-Classroom-by-Stephen-Bowkett-author/9781138309876\n"
     ]
    }
   ],
   "source": [
    "for i in range(10):\n",
    "    print(clusters[6][1][i])"
   ]
  },
  {
   "cell_type": "markdown",
   "metadata": {},
   "source": [
    "It seems that the pages which belongs to the \"product\" template are distributed among 6 clusters out of 7. Furthermore the fourth cluster contains pages which belongs to the \"list\" template"
   ]
  },
  {
   "cell_type": "markdown",
   "metadata": {},
   "source": [
    "## Calculate precision and recall\n",
    "Calculate precision and recall considering the entire dataset. We use the first cluster to evaluate precision and recall for the \"product\" cluster and the fourth cluster for the \"list\" template:"
   ]
  },
  {
   "cell_type": "code",
   "execution_count": 38,
   "metadata": {},
   "outputs": [],
   "source": [
    "def evaluate_precision_and_recall(dataFrame, cluster, label):\n",
    "    urlsFromCluster = cluster[1]\n",
    "    pages_retrieved_for_query = len(urlsFromCluster)\n",
    "    true_positive = 0\n",
    "    all_positives = len(dataFrame[dataFrame['label']==label])\n",
    "    for url in urlsFromCluster:\n",
    "        matchingRow  = dataFrame[dataFrame['url'] == url][['url','label']].iloc[0]\n",
    "        if matchingRow['label'] == label:\n",
    "            true_positive += 1\n",
    "        \n",
    "    recall = true_positive/all_positives\n",
    "    precision = true_positive/pages_retrieved_for_query\n",
    "    return (recall, precision)"
   ]
  },
  {
   "cell_type": "markdown",
   "metadata": {},
   "source": [
    "Calculating recall and precision for the \"product\" and the \"list\" template"
   ]
  },
  {
   "cell_type": "code",
   "execution_count": 40,
   "metadata": {},
   "outputs": [],
   "source": [
    "productRecall, productPrecision = evaluate_precision_and_recall(df, clusters[0], 'product')\n",
    "catalogRecall, catalogPrecision = evaluate_precision_and_recall(df, clusters[3], 'list')"
   ]
  },
  {
   "cell_type": "code",
   "execution_count": 43,
   "metadata": {},
   "outputs": [
    {
     "name": "stdout",
     "output_type": "stream",
     "text": [
      "+---------+--------+-----------+\n",
      "|    -    | Recall | Precision |\n",
      "+---------+--------+-----------+\n",
      "| Product |  0.457 |     1.0 |\n",
      "| List    |  0.996 |     0.943 |\n",
      "+---------+--------+-----------+\n"
     ]
    }
   ],
   "source": [
    "print(\"+---------+--------+-----------+\")\n",
    "print(\"|    -    | Recall | Precision |\")\n",
    "print(\"+---------+--------+-----------+\")\n",
    "print(\"| {} |  {} |     {} |\".format('Product', round(productRecall,3), round(productPrecision,3)))\n",
    "print(\"| {}    |  {} |     {} |\".format('List', round(catalogRecall,3), round(catalogPrecision,3)))\n",
    "print(\"+---------+--------+-----------+\")"
   ]
  }
 ],
 "metadata": {
  "kernelspec": {
   "display_name": "Python 3",
   "language": "python",
   "name": "python3"
  },
  "language_info": {
   "codemirror_mode": {
    "name": "ipython",
    "version": 3
   },
   "file_extension": ".py",
   "mimetype": "text/x-python",
   "name": "python",
   "nbconvert_exporter": "python",
   "pygments_lexer": "ipython3",
   "version": "3.7.3"
  }
 },
 "nbformat": 4,
 "nbformat_minor": 2
}
