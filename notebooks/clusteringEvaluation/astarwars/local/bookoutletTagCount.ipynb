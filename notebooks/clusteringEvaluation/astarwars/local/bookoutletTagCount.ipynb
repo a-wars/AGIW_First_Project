{
 "cells": [
  {
   "cell_type": "markdown",
   "metadata": {},
   "source": [
    "## Our clustering algorithm evaluation\n",
    "Evaluating our clustering algorithm on bookswagon.com pages. The aim is to calculate precision and recall for \"book details\" cluster and the \"catalog\" cluster in bookswagon.com."
   ]
  },
  {
   "cell_type": "code",
   "execution_count": 1,
   "metadata": {},
   "outputs": [
    {
     "data": {
      "text/plain": [
       "'../../../datasets/bookoutlet.csv'"
      ]
     },
     "execution_count": 1,
     "metadata": {},
     "output_type": "execute_result"
    }
   ],
   "source": [
    "# Importing libraries\n",
    "import numpy as np\n",
    "import pandas as pd\n",
    "import ast\n",
    "FILEPATH = '../../../datasets/bookoutlet.csv'\n",
    "FILEPATH"
   ]
  },
  {
   "cell_type": "code",
   "execution_count": 2,
   "metadata": {},
   "outputs": [],
   "source": [
    "df = pd.read_csv(FILEPATH, converters={'bitset': ast.literal_eval, 'tag_count': ast.literal_eval})"
   ]
  },
  {
   "cell_type": "markdown",
   "metadata": {},
   "source": [
    "## Data analisys\n",
    "Some preliminary analisys of the dataset"
   ]
  },
  {
   "cell_type": "code",
   "execution_count": 3,
   "metadata": {},
   "outputs": [
    {
     "name": "stdout",
     "output_type": "stream",
     "text": [
      "First 5 rows\n",
      "------------\n"
     ]
    },
    {
     "data": {
      "text/html": [
       "<div>\n",
       "<style scoped>\n",
       "    .dataframe tbody tr th:only-of-type {\n",
       "        vertical-align: middle;\n",
       "    }\n",
       "\n",
       "    .dataframe tbody tr th {\n",
       "        vertical-align: top;\n",
       "    }\n",
       "\n",
       "    .dataframe thead th {\n",
       "        text-align: right;\n",
       "    }\n",
       "</style>\n",
       "<table border=\"1\" class=\"dataframe\">\n",
       "  <thead>\n",
       "    <tr style=\"text-align: right;\">\n",
       "      <th></th>\n",
       "      <th>url</th>\n",
       "      <th>referer_url</th>\n",
       "      <th>src</th>\n",
       "      <th>shingle_vector</th>\n",
       "      <th>label</th>\n",
       "      <th>tag_count</th>\n",
       "      <th>bitset</th>\n",
       "    </tr>\n",
       "  </thead>\n",
       "  <tbody>\n",
       "    <tr>\n",
       "      <th>0</th>\n",
       "      <td>https://bookoutlet.com/</td>\n",
       "      <td>https://bookoutlet.com/</td>\n",
       "      <td>&lt;!DOCTYPE html&gt;\\r\\n&lt;html lang=\"en\"&gt;\\r\\n&lt;head&gt;\\...</td>\n",
       "      <td>(0, 3, 1, 4, 0, 1, 3, 0)</td>\n",
       "      <td>NaN</td>\n",
       "      <td>[0.001607717041800643, 0.001607717041800643, 0...</td>\n",
       "      <td>[1, 1, 1, 1, 1, 1, 0, 1, 1, 1, 1, 1, 1, 1, 1, ...</td>\n",
       "    </tr>\n",
       "    <tr>\n",
       "      <th>1</th>\n",
       "      <td>https://bookoutlet.com/Store/Sale</td>\n",
       "      <td>https://bookoutlet.com/</td>\n",
       "      <td>&lt;!DOCTYPE html&gt;\\r\\n&lt;html lang=\"en\"&gt;\\r\\n&lt;head&gt;\\...</td>\n",
       "      <td>(0, 3, 1, 0, 0, 1, 3, 0)</td>\n",
       "      <td>NaN</td>\n",
       "      <td>[0.002036659877800407, 0.002036659877800407, 0...</td>\n",
       "      <td>[0, 0, 1, 1, 1, 1, 0, 1, 1, 0, 1, 1, 0, 1, 1, ...</td>\n",
       "    </tr>\n",
       "    <tr>\n",
       "      <th>2</th>\n",
       "      <td>https://bookoutlet.com/Store/OtherBrowsing</td>\n",
       "      <td>https://bookoutlet.com/</td>\n",
       "      <td>&lt;!DOCTYPE html&gt;\\r\\n&lt;html lang=\"en\"&gt;\\r\\n&lt;head&gt;\\...</td>\n",
       "      <td>(0, 3, 1, 8, 1, 1, 1, 0)</td>\n",
       "      <td>NaN</td>\n",
       "      <td>[0.0019455252918287938, 0.0019455252918287938,...</td>\n",
       "      <td>[0, 0, 1, 1, 1, 1, 0, 1, 1, 0, 1, 1, 1, 1, 1, ...</td>\n",
       "    </tr>\n",
       "    <tr>\n",
       "      <th>3</th>\n",
       "      <td>https://bookoutlet.com/Store/Browse?N=isTopTen...</td>\n",
       "      <td>https://bookoutlet.com/</td>\n",
       "      <td>&lt;!DOCTYPE html&gt;\\r\\n&lt;html lang=\"en\"&gt;\\r\\n&lt;head&gt;\\...</td>\n",
       "      <td>(0, 3, 1, 1, 1, 1, 0, 0)</td>\n",
       "      <td>list</td>\n",
       "      <td>[0.000998003992015968, 0.000998003992015968, 0...</td>\n",
       "      <td>[0, 0, 1, 1, 1, 1, 1, 1, 1, 1, 1, 1, 1, 1, 1, ...</td>\n",
       "    </tr>\n",
       "    <tr>\n",
       "      <th>4</th>\n",
       "      <td>https://bookoutlet.com/Store/Browse?N=isGiftCe...</td>\n",
       "      <td>https://bookoutlet.com/</td>\n",
       "      <td>&lt;!DOCTYPE html&gt;\\r\\n&lt;html lang=\"en\"&gt;\\r\\n&lt;head&gt;\\...</td>\n",
       "      <td>(0, 3, 1, 1, 1, 1, 0, 0)</td>\n",
       "      <td>list</td>\n",
       "      <td>[0.001445086705202312, 0.001445086705202312, 0...</td>\n",
       "      <td>[0, 0, 1, 1, 1, 1, 1, 1, 1, 1, 1, 1, 1, 1, 1, ...</td>\n",
       "    </tr>\n",
       "  </tbody>\n",
       "</table>\n",
       "</div>"
      ],
      "text/plain": [
       "                                                 url              referer_url  \\\n",
       "0                            https://bookoutlet.com/  https://bookoutlet.com/   \n",
       "1                  https://bookoutlet.com/Store/Sale  https://bookoutlet.com/   \n",
       "2         https://bookoutlet.com/Store/OtherBrowsing  https://bookoutlet.com/   \n",
       "3  https://bookoutlet.com/Store/Browse?N=isTopTen...  https://bookoutlet.com/   \n",
       "4  https://bookoutlet.com/Store/Browse?N=isGiftCe...  https://bookoutlet.com/   \n",
       "\n",
       "                                                 src  \\\n",
       "0  <!DOCTYPE html>\\r\\n<html lang=\"en\">\\r\\n<head>\\...   \n",
       "1  <!DOCTYPE html>\\r\\n<html lang=\"en\">\\r\\n<head>\\...   \n",
       "2  <!DOCTYPE html>\\r\\n<html lang=\"en\">\\r\\n<head>\\...   \n",
       "3  <!DOCTYPE html>\\r\\n<html lang=\"en\">\\r\\n<head>\\...   \n",
       "4  <!DOCTYPE html>\\r\\n<html lang=\"en\">\\r\\n<head>\\...   \n",
       "\n",
       "             shingle_vector label  \\\n",
       "0  (0, 3, 1, 4, 0, 1, 3, 0)   NaN   \n",
       "1  (0, 3, 1, 0, 0, 1, 3, 0)   NaN   \n",
       "2  (0, 3, 1, 8, 1, 1, 1, 0)   NaN   \n",
       "3  (0, 3, 1, 1, 1, 1, 0, 0)  list   \n",
       "4  (0, 3, 1, 1, 1, 1, 0, 0)  list   \n",
       "\n",
       "                                           tag_count  \\\n",
       "0  [0.001607717041800643, 0.001607717041800643, 0...   \n",
       "1  [0.002036659877800407, 0.002036659877800407, 0...   \n",
       "2  [0.0019455252918287938, 0.0019455252918287938,...   \n",
       "3  [0.000998003992015968, 0.000998003992015968, 0...   \n",
       "4  [0.001445086705202312, 0.001445086705202312, 0...   \n",
       "\n",
       "                                              bitset  \n",
       "0  [1, 1, 1, 1, 1, 1, 0, 1, 1, 1, 1, 1, 1, 1, 1, ...  \n",
       "1  [0, 0, 1, 1, 1, 1, 0, 1, 1, 0, 1, 1, 0, 1, 1, ...  \n",
       "2  [0, 0, 1, 1, 1, 1, 0, 1, 1, 0, 1, 1, 1, 1, 1, ...  \n",
       "3  [0, 0, 1, 1, 1, 1, 1, 1, 1, 1, 1, 1, 1, 1, 1, ...  \n",
       "4  [0, 0, 1, 1, 1, 1, 1, 1, 1, 1, 1, 1, 1, 1, 1, ...  "
      ]
     },
     "execution_count": 3,
     "metadata": {},
     "output_type": "execute_result"
    }
   ],
   "source": [
    "print(\"First 5 rows\")\n",
    "print(\"------------\")\n",
    "df.head()"
   ]
  },
  {
   "cell_type": "code",
   "execution_count": 4,
   "metadata": {},
   "outputs": [
    {
     "name": "stdout",
     "output_type": "stream",
     "text": [
      "No. of rows and columns\n",
      "-----------------------\n"
     ]
    },
    {
     "data": {
      "text/plain": [
       "(16387, 7)"
      ]
     },
     "execution_count": 4,
     "metadata": {},
     "output_type": "execute_result"
    }
   ],
   "source": [
    "print(\"No. of rows and columns\")\n",
    "print(\"-----------------------\")\n",
    "df.shape"
   ]
  },
  {
   "cell_type": "code",
   "execution_count": 5,
   "metadata": {},
   "outputs": [
    {
     "name": "stdout",
     "output_type": "stream",
     "text": [
      "Check null values\n",
      "-----------------\n"
     ]
    },
    {
     "data": {
      "text/plain": [
       "True"
      ]
     },
     "execution_count": 5,
     "metadata": {},
     "output_type": "execute_result"
    }
   ],
   "source": [
    "print(\"Check null values\")\n",
    "print(\"-----------------\")\n",
    "df.isnull().any().any()"
   ]
  },
  {
   "cell_type": "code",
   "execution_count": 6,
   "metadata": {},
   "outputs": [
    {
     "name": "stdout",
     "output_type": "stream",
     "text": [
      "Check duplicate values\n",
      "----------------------\n"
     ]
    },
    {
     "data": {
      "text/plain": [
       "False"
      ]
     },
     "execution_count": 6,
     "metadata": {},
     "output_type": "execute_result"
    }
   ],
   "source": [
    "print(\"Check duplicate values\")\n",
    "print(\"----------------------\")\n",
    "len(df['url'].unique()) != df.shape[0]"
   ]
  },
  {
   "cell_type": "code",
   "execution_count": 7,
   "metadata": {},
   "outputs": [
    {
     "name": "stdout",
     "output_type": "stream",
     "text": [
      "DataFrame column types\n",
      "----------------------\n",
      "<class 'pandas.core.frame.DataFrame'>\n",
      "RangeIndex: 16387 entries, 0 to 16386\n",
      "Data columns (total 7 columns):\n",
      "url               16387 non-null object\n",
      "referer_url       16387 non-null object\n",
      "src               16387 non-null object\n",
      "shingle_vector    16387 non-null object\n",
      "label             16381 non-null object\n",
      "tag_count         16387 non-null object\n",
      "bitset            16387 non-null object\n",
      "dtypes: object(7)\n",
      "memory usage: 896.2+ KB\n"
     ]
    }
   ],
   "source": [
    "print(\"DataFrame column types\")\n",
    "print(\"----------------------\")\n",
    "df.info()"
   ]
  },
  {
   "cell_type": "code",
   "execution_count": 8,
   "metadata": {},
   "outputs": [
    {
     "name": "stdout",
     "output_type": "stream",
     "text": [
      "There are 6 row with no label\n",
      "There are 4801 row with product label\n",
      "There are 11580 row with list label\n"
     ]
    }
   ],
   "source": [
    "fmt_string = 'There are {} row with {} label'\n",
    "print(fmt_string.format(len(df[df['label'].isnull()]),'no'))\n",
    "print(fmt_string.format(len(df[df['label']=='product']), 'product'))\n",
    "print(fmt_string.format(len(df[df['label']=='list']), 'list'))"
   ]
  },
  {
   "cell_type": "markdown",
   "metadata": {},
   "source": [
    "## Run MeanShift clustering algorithm"
   ]
  },
  {
   "cell_type": "code",
   "execution_count": 9,
   "metadata": {},
   "outputs": [],
   "source": [
    "#add top level folder to sys.path\n",
    "import sys\n",
    "sys.path.append('../../../')"
   ]
  },
  {
   "cell_type": "code",
   "execution_count": 10,
   "metadata": {},
   "outputs": [],
   "source": [
    "from astarwars_clustering.clustering import clusteringevaluation\n",
    "from astarwars_clustering.utils import utility\n",
    "from astarwars_clustering.clustering.structural_clustering import dbscanclustering, meanshiftclustering"
   ]
  },
  {
   "cell_type": "code",
   "execution_count": 11,
   "metadata": {},
   "outputs": [
    {
     "name": "stdout",
     "output_type": "stream",
     "text": [
      "There are 4 row with no label\n",
      "There are 856 row with product label\n",
      "There are 2140 row with list label\n"
     ]
    }
   ],
   "source": [
    "sample=df.sample(3000)\n",
    "print(fmt_string.format(len(sample[sample['label'].isnull()]),'no'))\n",
    "print(fmt_string.format(len(sample[sample['label']=='product']), 'product'))\n",
    "print(fmt_string.format(len(sample[sample['label']=='list']), 'list'))"
   ]
  },
  {
   "cell_type": "code",
   "execution_count": 12,
   "metadata": {},
   "outputs": [
    {
     "name": "stdout",
     "output_type": "stream",
     "text": [
      "Elapsed time to calculate MeanShift clustering:00:00:53.57\n"
     ]
    }
   ],
   "source": [
    "bitsetmat=sample['bitset'].tolist()\n",
    "tagcountmat=sample['tag_count'].tolist()\n",
    "msclustering = meanshiftclustering(tagcountmat,0.07)"
   ]
  },
  {
   "cell_type": "code",
   "execution_count": 13,
   "metadata": {},
   "outputs": [
    {
     "name": "stdout",
     "output_type": "stream",
     "text": [
      "There are [0 1 2 3]clusters\n",
      "\n",
      "\n",
      "Cluster labels:\n"
     ]
    },
    {
     "data": {
      "text/plain": [
       "array([0, 1, 2, 3])"
      ]
     },
     "execution_count": 13,
     "metadata": {},
     "output_type": "execute_result"
    }
   ],
   "source": [
    "predictedLabels = msclustering.labels_\n",
    "noOfClusters = np.unique(predictedLabels)\n",
    "sample['predicted_label'] = predictedLabels\n",
    "print('There are ' + str(noOfClusters) + 'clusters')\n",
    "print()\n",
    "print()\n",
    "print('Cluster labels:')\n",
    "noOfClusters"
   ]
  },
  {
   "cell_type": "code",
   "execution_count": 14,
   "metadata": {},
   "outputs": [
    {
     "name": "stdout",
     "output_type": "stream",
     "text": [
      "cluster n. 0 has 2091 pages\n",
      "cluster n. 1 has 884 pages\n",
      "cluster n. 2 has 24 pages\n",
      "cluster n. 3 has 1 pages\n"
     ]
    }
   ],
   "source": [
    "cluster_fmt = 'cluster n. {} has {} pages'\n",
    "noOfPages = 0\n",
    "\n",
    "for index ,el in enumerate(noOfClusters):\n",
    "    print(cluster_fmt.format(index ,utility.count_occurrences(predictedLabels,el)))"
   ]
  },
  {
   "cell_type": "code",
   "execution_count": 15,
   "metadata": {},
   "outputs": [
    {
     "data": {
      "text/plain": [
       "6465          https://bookoutlet.com/Store/Browse?Npb=6447\n",
       "4383     https://bookoutlet.com/Store/Browse?Na=88047&p...\n",
       "9006     https://bookoutlet.com/Store/Browse?Na=239823&...\n",
       "10833        https://bookoutlet.com/Store/Browse?Na=194881\n",
       "9690     https://bookoutlet.com/Store/Browse?Na=182844&...\n",
       "11726    https://bookoutlet.com/Store/Browse?Na=174465&...\n",
       "2519          https://bookoutlet.com/Store/Browse?Na=32076\n",
       "14489         https://bookoutlet.com/Store/Browse?Na=22030\n",
       "7698     https://bookoutlet.com/Store/Browse?Na=330119&...\n",
       "10504    https://bookoutlet.com/Store/Browse?Na=65077&p...\n",
       "Name: url, dtype: object"
      ]
     },
     "execution_count": 15,
     "metadata": {},
     "output_type": "execute_result"
    }
   ],
   "source": [
    "sample[sample['predicted_label'] == 0]['url'].head(10)"
   ]
  },
  {
   "cell_type": "code",
   "execution_count": 16,
   "metadata": {},
   "outputs": [
    {
     "data": {
      "text/plain": [
       "6116     https://bookoutlet.com/Store/Details/978068986...\n",
       "10279    https://bookoutlet.com/Store/Details/978148890...\n",
       "6746     https://bookoutlet.com/Store/Details/978885440...\n",
       "1957     https://bookoutlet.com/Store/Details/978145555...\n",
       "5500     https://bookoutlet.com/Store/Details/978068981...\n",
       "4839     https://bookoutlet.com/Store/Details/978014312...\n",
       "4791     https://bookoutlet.com/Store/Details/978111904...\n",
       "1550     https://bookoutlet.com/Store/Details/978143916...\n",
       "3306     https://bookoutlet.com/Store/Details/978000813...\n",
       "8534     https://bookoutlet.com/Store/Details/978150116...\n",
       "Name: url, dtype: object"
      ]
     },
     "execution_count": 16,
     "metadata": {},
     "output_type": "execute_result"
    }
   ],
   "source": [
    "sample[sample['predicted_label'] == 1]['url'].head(10)"
   ]
  },
  {
   "cell_type": "markdown",
   "metadata": {},
   "source": [
    "## Evaluate recall and precision"
   ]
  },
  {
   "cell_type": "code",
   "execution_count": 17,
   "metadata": {},
   "outputs": [
    {
     "name": "stdout",
     "output_type": "stream",
     "text": [
      "Recall is 0.9752336448598131\n",
      "Precision is 0.9980870396939263\n"
     ]
    }
   ],
   "source": [
    "p1,r1=clusteringevaluation.calculate_precision_and_recall(sample,msclustering,'list',0)"
   ]
  },
  {
   "cell_type": "code",
   "execution_count": 18,
   "metadata": {},
   "outputs": [
    {
     "name": "stdout",
     "output_type": "stream",
     "text": [
      "Recall is 0.9988317757009346\n",
      "Precision is 0.9671945701357466\n"
     ]
    }
   ],
   "source": [
    "p1,r1=clusteringevaluation.calculate_precision_and_recall(sample,msclustering,'product',1)"
   ]
  },
  {
   "cell_type": "markdown",
   "metadata": {},
   "source": [
    "# DBSCAN clustering"
   ]
  },
  {
   "cell_type": "code",
   "execution_count": 19,
   "metadata": {},
   "outputs": [
    {
     "name": "stdout",
     "output_type": "stream",
     "text": [
      "Elapsed time to calculate DBSCAN clustering:00:00:02.11\n"
     ]
    }
   ],
   "source": [
    "dbsclustering=dbscanclustering(tagcountmat,0.055,20)"
   ]
  },
  {
   "cell_type": "code",
   "execution_count": 20,
   "metadata": {},
   "outputs": [
    {
     "name": "stdout",
     "output_type": "stream",
     "text": [
      "There are [-1  0  1]clusters\n",
      "\n",
      "\n",
      "Cluster labels:\n"
     ]
    },
    {
     "data": {
      "text/plain": [
       "array([-1,  0,  1])"
      ]
     },
     "execution_count": 20,
     "metadata": {},
     "output_type": "execute_result"
    }
   ],
   "source": [
    "predictedLabels = dbsclustering.labels_\n",
    "noOfClusters = np.unique(predictedLabels)\n",
    "sample['predicted_label'] = predictedLabels\n",
    "print('There are ' + str(noOfClusters) + 'clusters')\n",
    "print()\n",
    "print()\n",
    "print('Cluster labels:')\n",
    "noOfClusters"
   ]
  },
  {
   "cell_type": "code",
   "execution_count": 21,
   "metadata": {},
   "outputs": [
    {
     "name": "stdout",
     "output_type": "stream",
     "text": [
      "cluster n. 0 has 24 pages\n",
      "cluster n. 1 has 855 pages\n",
      "cluster n. 2 has 2121 pages\n"
     ]
    }
   ],
   "source": [
    "cluster_fmt = 'cluster n. {} has {} pages'\n",
    "noOfPages = 0\n",
    "\n",
    "for index ,el in enumerate(noOfClusters):\n",
    "    print(cluster_fmt.format(index ,utility.count_occurrences(predictedLabels,el)))"
   ]
  },
  {
   "cell_type": "code",
   "execution_count": 22,
   "metadata": {},
   "outputs": [
    {
     "name": "stdout",
     "output_type": "stream",
     "text": [
      "Recall is 0.9892523364485981\n",
      "Precision is 0.9981140971239981\n"
     ]
    }
   ],
   "source": [
    "p1,r1=clusteringevaluation.calculate_precision_and_recall(sample,dbsclustering,'list',1)"
   ]
  },
  {
   "cell_type": "code",
   "execution_count": 23,
   "metadata": {},
   "outputs": [
    {
     "name": "stdout",
     "output_type": "stream",
     "text": [
      "Recall is 0.9988317757009346\n",
      "Precision is 1.0\n"
     ]
    }
   ],
   "source": [
    "p2,r2=clusteringevaluation.calculate_precision_and_recall(sample,dbsclustering,'product',0)"
   ]
  }
 ],
 "metadata": {
  "kernelspec": {
   "display_name": "Python 3",
   "language": "python",
   "name": "python3"
  },
  "language_info": {
   "codemirror_mode": {
    "name": "ipython",
    "version": 3
   },
   "file_extension": ".py",
   "mimetype": "text/x-python",
   "name": "python",
   "nbconvert_exporter": "python",
   "pygments_lexer": "ipython3",
   "version": "3.7.3"
  }
 },
 "nbformat": 4,
 "nbformat_minor": 2
}
