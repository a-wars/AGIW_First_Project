{
 "cells": [
  {
   "cell_type": "markdown",
   "metadata": {},
   "source": [
    "## Our clustering algorithm evaluation\n",
    "Evaluating our clustering algorithm on bookswagon.com pages. The aim is to calculate precision and recall for \"book details\" cluster and the \"catalog\" cluster in bookswagon.com."
   ]
  },
  {
   "cell_type": "code",
   "execution_count": 1,
   "metadata": {},
   "outputs": [
    {
     "data": {
      "text/plain": [
       "'../../../datasets/powells.csv'"
      ]
     },
     "execution_count": 1,
     "metadata": {},
     "output_type": "execute_result"
    }
   ],
   "source": [
    "# Importing libraries\n",
    "import numpy as np\n",
    "import pandas as pd\n",
    "import ast\n",
    "FILEPATH = '../../../datasets/powells.csv'\n",
    "FILEPATH"
   ]
  },
  {
   "cell_type": "code",
   "execution_count": 2,
   "metadata": {},
   "outputs": [],
   "source": [
    "df = pd.read_csv(FILEPATH, converters={'bitset': ast.literal_eval, 'tag_count': ast.literal_eval})"
   ]
  },
  {
   "cell_type": "markdown",
   "metadata": {},
   "source": [
    "## Data analisys\n",
    "Some preliminary analisys of the dataset"
   ]
  },
  {
   "cell_type": "code",
   "execution_count": 3,
   "metadata": {},
   "outputs": [
    {
     "name": "stdout",
     "output_type": "stream",
     "text": [
      "First 5 rows\n",
      "------------\n"
     ]
    },
    {
     "data": {
      "text/html": [
       "<div>\n",
       "<style scoped>\n",
       "    .dataframe tbody tr th:only-of-type {\n",
       "        vertical-align: middle;\n",
       "    }\n",
       "\n",
       "    .dataframe tbody tr th {\n",
       "        vertical-align: top;\n",
       "    }\n",
       "\n",
       "    .dataframe thead th {\n",
       "        text-align: right;\n",
       "    }\n",
       "</style>\n",
       "<table border=\"1\" class=\"dataframe\">\n",
       "  <thead>\n",
       "    <tr style=\"text-align: right;\">\n",
       "      <th></th>\n",
       "      <th>url</th>\n",
       "      <th>referer_url</th>\n",
       "      <th>src</th>\n",
       "      <th>shingle_vector</th>\n",
       "      <th>label</th>\n",
       "      <th>tag_count</th>\n",
       "      <th>bitset</th>\n",
       "    </tr>\n",
       "  </thead>\n",
       "  <tbody>\n",
       "    <tr>\n",
       "      <th>0</th>\n",
       "      <td>https://www.powells.com/blog/author/kristen-ar...</td>\n",
       "      <td>https://www.powells.com/</td>\n",
       "      <td>&lt;!DOCTYPE html PUBLIC \"-//W3C//DTD XHTML 1.0 T...</td>\n",
       "      <td>(7, 2, 1, 8, 3, 10, 0, 5)</td>\n",
       "      <td>NaN</td>\n",
       "      <td>[0.002680965147453083, 0.002680965147453083, 0...</td>\n",
       "      <td>[0, 0, 1, 1, 0, 1, 1, 1, 0, 1, 0, 1, 0, 1, 1, ...</td>\n",
       "    </tr>\n",
       "    <tr>\n",
       "      <th>1</th>\n",
       "      <td>https://www.powells.com/blog/category/interviews</td>\n",
       "      <td>https://www.powells.com/</td>\n",
       "      <td>&lt;!DOCTYPE html PUBLIC \"-//W3C//DTD XHTML 1.0 T...</td>\n",
       "      <td>(2, 1, 1, 0, 3, 5, 0, 1)</td>\n",
       "      <td>NaN</td>\n",
       "      <td>[0.0011467889908256881, 0.0011467889908256881,...</td>\n",
       "      <td>[0, 1, 1, 1, 1, 1, 1, 1, 1, 1, 1, 1, 0, 1, 1, ...</td>\n",
       "    </tr>\n",
       "    <tr>\n",
       "      <th>2</th>\n",
       "      <td>https://www.powells.com/nonfiction-sale</td>\n",
       "      <td>https://www.powells.com/</td>\n",
       "      <td>&lt;!DOCTYPE html PUBLIC \"-//W3C//DTD XHTML 1.0 T...</td>\n",
       "      <td>(0, 2, 2, 8, 3, 0, 0, 0)</td>\n",
       "      <td>NaN</td>\n",
       "      <td>[0.0013054830287206266, 0.0013054830287206266,...</td>\n",
       "      <td>[0, 0, 1, 1, 1, 1, 1, 1, 1, 1, 0, 1, 0, 1, 1, ...</td>\n",
       "    </tr>\n",
       "    <tr>\n",
       "      <th>3</th>\n",
       "      <td>https://www.powells.com/powells-presents</td>\n",
       "      <td>https://www.powells.com/</td>\n",
       "      <td>&lt;!DOCTYPE html PUBLIC \"-//W3C//DTD XHTML 1.0 T...</td>\n",
       "      <td>(0, 2, 2, 8, 1, 1, 0, 0)</td>\n",
       "      <td>NaN</td>\n",
       "      <td>[0.0022026431718061676, 0.0022026431718061676,...</td>\n",
       "      <td>[0, 0, 0, 1, 1, 0, 1, 1, 0, 1, 0, 1, 1, 1, 1, ...</td>\n",
       "    </tr>\n",
       "    <tr>\n",
       "      <th>4</th>\n",
       "      <td>https://www.powells.com/locations</td>\n",
       "      <td>https://www.powells.com/</td>\n",
       "      <td>&lt;!DOCTYPE html PUBLIC \"-//W3C//DTD XHTML 1.0 T...</td>\n",
       "      <td>(2, 0, 0, 4, 2, 2, 0, 0)</td>\n",
       "      <td>NaN</td>\n",
       "      <td>[0.001976284584980237, 0.001976284584980237, 0...</td>\n",
       "      <td>[0, 0, 0, 1, 1, 1, 0, 1, 0, 1, 0, 1, 0, 1, 1, ...</td>\n",
       "    </tr>\n",
       "  </tbody>\n",
       "</table>\n",
       "</div>"
      ],
      "text/plain": [
       "                                                 url  \\\n",
       "0  https://www.powells.com/blog/author/kristen-ar...   \n",
       "1   https://www.powells.com/blog/category/interviews   \n",
       "2            https://www.powells.com/nonfiction-sale   \n",
       "3           https://www.powells.com/powells-presents   \n",
       "4                  https://www.powells.com/locations   \n",
       "\n",
       "                referer_url  \\\n",
       "0  https://www.powells.com/   \n",
       "1  https://www.powells.com/   \n",
       "2  https://www.powells.com/   \n",
       "3  https://www.powells.com/   \n",
       "4  https://www.powells.com/   \n",
       "\n",
       "                                                 src  \\\n",
       "0  <!DOCTYPE html PUBLIC \"-//W3C//DTD XHTML 1.0 T...   \n",
       "1  <!DOCTYPE html PUBLIC \"-//W3C//DTD XHTML 1.0 T...   \n",
       "2  <!DOCTYPE html PUBLIC \"-//W3C//DTD XHTML 1.0 T...   \n",
       "3  <!DOCTYPE html PUBLIC \"-//W3C//DTD XHTML 1.0 T...   \n",
       "4  <!DOCTYPE html PUBLIC \"-//W3C//DTD XHTML 1.0 T...   \n",
       "\n",
       "              shingle_vector label  \\\n",
       "0  (7, 2, 1, 8, 3, 10, 0, 5)   NaN   \n",
       "1   (2, 1, 1, 0, 3, 5, 0, 1)   NaN   \n",
       "2   (0, 2, 2, 8, 3, 0, 0, 0)   NaN   \n",
       "3   (0, 2, 2, 8, 1, 1, 0, 0)   NaN   \n",
       "4   (2, 0, 0, 4, 2, 2, 0, 0)   NaN   \n",
       "\n",
       "                                           tag_count  \\\n",
       "0  [0.002680965147453083, 0.002680965147453083, 0...   \n",
       "1  [0.0011467889908256881, 0.0011467889908256881,...   \n",
       "2  [0.0013054830287206266, 0.0013054830287206266,...   \n",
       "3  [0.0022026431718061676, 0.0022026431718061676,...   \n",
       "4  [0.001976284584980237, 0.001976284584980237, 0...   \n",
       "\n",
       "                                              bitset  \n",
       "0  [0, 0, 1, 1, 0, 1, 1, 1, 0, 1, 0, 1, 0, 1, 1, ...  \n",
       "1  [0, 1, 1, 1, 1, 1, 1, 1, 1, 1, 1, 1, 0, 1, 1, ...  \n",
       "2  [0, 0, 1, 1, 1, 1, 1, 1, 1, 1, 0, 1, 0, 1, 1, ...  \n",
       "3  [0, 0, 0, 1, 1, 0, 1, 1, 0, 1, 0, 1, 1, 1, 1, ...  \n",
       "4  [0, 0, 0, 1, 1, 1, 0, 1, 0, 1, 0, 1, 0, 1, 1, ...  "
      ]
     },
     "execution_count": 3,
     "metadata": {},
     "output_type": "execute_result"
    }
   ],
   "source": [
    "print(\"First 5 rows\")\n",
    "print(\"------------\")\n",
    "df.head()"
   ]
  },
  {
   "cell_type": "code",
   "execution_count": 4,
   "metadata": {},
   "outputs": [
    {
     "name": "stdout",
     "output_type": "stream",
     "text": [
      "No. of rows and columns\n",
      "-----------------------\n"
     ]
    },
    {
     "data": {
      "text/plain": [
       "(10571, 7)"
      ]
     },
     "execution_count": 4,
     "metadata": {},
     "output_type": "execute_result"
    }
   ],
   "source": [
    "print(\"No. of rows and columns\")\n",
    "print(\"-----------------------\")\n",
    "df.shape"
   ]
  },
  {
   "cell_type": "code",
   "execution_count": 5,
   "metadata": {},
   "outputs": [
    {
     "name": "stdout",
     "output_type": "stream",
     "text": [
      "Check null values\n",
      "-----------------\n"
     ]
    },
    {
     "data": {
      "text/plain": [
       "True"
      ]
     },
     "execution_count": 5,
     "metadata": {},
     "output_type": "execute_result"
    }
   ],
   "source": [
    "print(\"Check null values\")\n",
    "print(\"-----------------\")\n",
    "df.isnull().any().any()"
   ]
  },
  {
   "cell_type": "code",
   "execution_count": 16,
   "metadata": {},
   "outputs": [
    {
     "name": "stdout",
     "output_type": "stream",
     "text": [
      "Check duplicate values\n",
      "----------------------\n"
     ]
    },
    {
     "data": {
      "text/plain": [
       "False"
      ]
     },
     "execution_count": 16,
     "metadata": {},
     "output_type": "execute_result"
    }
   ],
   "source": [
    "print(\"Check duplicate values\")\n",
    "print(\"----------------------\")\n",
    "len(df['url'].unique()) != df.shape[0]"
   ]
  },
  {
   "cell_type": "code",
   "execution_count": 6,
   "metadata": {},
   "outputs": [
    {
     "name": "stdout",
     "output_type": "stream",
     "text": [
      "DataFrame column types\n",
      "----------------------\n",
      "<class 'pandas.core.frame.DataFrame'>\n",
      "RangeIndex: 10571 entries, 0 to 10570\n",
      "Data columns (total 7 columns):\n",
      "url               10571 non-null object\n",
      "referer_url       10571 non-null object\n",
      "src               10571 non-null object\n",
      "shingle_vector    10571 non-null object\n",
      "label             8962 non-null object\n",
      "tag_count         10571 non-null object\n",
      "bitset            10571 non-null object\n",
      "dtypes: object(7)\n",
      "memory usage: 578.2+ KB\n"
     ]
    }
   ],
   "source": [
    "print(\"DataFrame column types\")\n",
    "print(\"----------------------\")\n",
    "df.info()"
   ]
  },
  {
   "cell_type": "code",
   "execution_count": 8,
   "metadata": {},
   "outputs": [
    {
     "name": "stdout",
     "output_type": "stream",
     "text": [
      "There are 1609 row with no label\n",
      "There are 417 row with product label\n",
      "There are 8545 row with list label\n"
     ]
    }
   ],
   "source": [
    "fmt_string = 'There are {} row with {} label'\n",
    "print(fmt_string.format(len(df[df['label'].isnull()]),'no'))\n",
    "print(fmt_string.format(len(df[df['label']=='product']), 'product'))\n",
    "print(fmt_string.format(len(df[df['label']=='list']), 'list'))"
   ]
  },
  {
   "cell_type": "markdown",
   "metadata": {},
   "source": [
    "## Run MeanShift clustering algorithm"
   ]
  },
  {
   "cell_type": "code",
   "execution_count": 9,
   "metadata": {},
   "outputs": [],
   "source": [
    "#add top level folder to sys.path\n",
    "import sys\n",
    "sys.path.append('../../../')"
   ]
  },
  {
   "cell_type": "code",
   "execution_count": 10,
   "metadata": {},
   "outputs": [],
   "source": [
    "from astarwars_clustering.clustering import clusteringevaluation\n",
    "from astarwars_clustering.utils import utility\n",
    "from astarwars_clustering.clustering.structural_clustering import dbscanclustering, meanshiftclustering"
   ]
  },
  {
   "cell_type": "code",
   "execution_count": 11,
   "metadata": {},
   "outputs": [],
   "source": [
    "sample=df.sample(3000)\n",
    "bitsetmat=sample['bitset'].tolist()\n",
    "tagcountmat=sample['tag_count'].tolist()"
   ]
  },
  {
   "cell_type": "code",
   "execution_count": 12,
   "metadata": {},
   "outputs": [
    {
     "name": "stdout",
     "output_type": "stream",
     "text": [
      "Elapsed time to calculate MeanShift clustering:00:06:27.11\n"
     ]
    }
   ],
   "source": [
    "clustering = meanshiftclustering(bitsetmat,10)"
   ]
  },
  {
   "cell_type": "code",
   "execution_count": 15,
   "metadata": {},
   "outputs": [
    {
     "name": "stdout",
     "output_type": "stream",
     "text": [
      "There are 439 row with no label\n",
      "There are 114 row with product label\n",
      "There are 2447 row with list label\n"
     ]
    }
   ],
   "source": [
    "print(fmt_string.format(len(sample[sample['label'].isnull()]),'no'))\n",
    "print(fmt_string.format(len(sample[sample['label']=='product']), 'product'))\n",
    "print(fmt_string.format(len(sample[sample['label']=='list']), 'list'))"
   ]
  },
  {
   "cell_type": "code",
   "execution_count": 14,
   "metadata": {},
   "outputs": [
    {
     "name": "stdout",
     "output_type": "stream",
     "text": [
      "There are [ 0  1  2  3  4  5  6  7  8  9 10 11]clusters\n",
      "\n",
      "\n",
      "Cluster labels:\n"
     ]
    },
    {
     "data": {
      "text/plain": [
       "array([ 0,  1,  2,  3,  4,  5,  6,  7,  8,  9, 10, 11])"
      ]
     },
     "execution_count": 14,
     "metadata": {},
     "output_type": "execute_result"
    }
   ],
   "source": [
    "predictedLabels = clustering.labels_\n",
    "noOfClusters = np.unique(predictedLabels)\n",
    "sample['predicted_label'] = predictedLabels\n",
    "print('There are ' + str(noOfClusters) + 'clusters')\n",
    "print()\n",
    "print()\n",
    "print('Cluster labels:')\n",
    "noOfClusters"
   ]
  },
  {
   "cell_type": "code",
   "execution_count": 16,
   "metadata": {},
   "outputs": [
    {
     "name": "stdout",
     "output_type": "stream",
     "text": [
      "cluster n. 0 has 2313 pages\n",
      "cluster n. 1 has 369 pages\n",
      "cluster n. 2 has 129 pages\n",
      "cluster n. 3 has 114 pages\n",
      "cluster n. 4 has 35 pages\n",
      "cluster n. 5 has 29 pages\n",
      "cluster n. 6 has 5 pages\n",
      "cluster n. 7 has 2 pages\n",
      "cluster n. 8 has 1 pages\n",
      "cluster n. 9 has 1 pages\n",
      "cluster n. 10 has 1 pages\n",
      "cluster n. 11 has 1 pages\n"
     ]
    }
   ],
   "source": [
    "cluster_fmt = 'cluster n. {} has {} pages'\n",
    "noOfPages = 0\n",
    "\n",
    "for index ,el in enumerate(noOfClusters):\n",
    "    print(cluster_fmt.format(index ,utility.count_occurrences(predictedLabels,el)))"
   ]
  },
  {
   "cell_type": "code",
   "execution_count": 17,
   "metadata": {},
   "outputs": [
    {
     "data": {
      "text/plain": [
       "2622    https://www.powells.com/searchresults?keyword=...\n",
       "3602    https://www.powells.com/searchresults?keyword=...\n",
       "4066    https://www.powells.com/searchresults?keyword=...\n",
       "4326    https://www.powells.com/searchresults?keyword=...\n",
       "4132    https://www.powells.com/searchresults?keyword=...\n",
       "1538    https://www.powells.com/searchresults?keyword=...\n",
       "6934    https://www.powells.com/searchresults?keyword=...\n",
       "3808    https://www.powells.com/searchresults?keyword=...\n",
       "3097    https://www.powells.com/searchresults?keyword=...\n",
       "6362    https://www.powells.com/searchresults?keyword=...\n",
       "8213    https://www.powells.com/searchresults?keyword=...\n",
       "8231    https://www.powells.com/searchresults?keyword=...\n",
       "8380    https://www.powells.com/searchresults?keyword=...\n",
       "9244    https://www.powells.com/searchresults?keyword=...\n",
       "6341    https://www.powells.com/searchresults?keyword=...\n",
       "8992    https://www.powells.com/searchresults?keyword=...\n",
       "1632    https://www.powells.com/searchresults?keyword=...\n",
       "1244    https://www.powells.com/searchresults?keyword=...\n",
       "5430    https://www.powells.com/searchresults?keyword=...\n",
       "9067    https://www.powells.com/searchresults?keyword=...\n",
       "Name: url, dtype: object"
      ]
     },
     "execution_count": 17,
     "metadata": {},
     "output_type": "execute_result"
    }
   ],
   "source": [
    "sample[sample['predicted_label'] == 0]['url'].head(20)"
   ]
  },
  {
   "cell_type": "code",
   "execution_count": 18,
   "metadata": {},
   "outputs": [
    {
     "data": {
      "text/plain": [
       "4442     https://www.powells.com/login?returnurl=%2fsea...\n",
       "1621     https://www.powells.com/login?returnurl=%2fsea...\n",
       "6235     https://www.powells.com/login?returnurl=%2fsea...\n",
       "5881     https://www.powells.com/login?returnurl=%2fsea...\n",
       "445      https://www.powells.com/login?returnurl=%2fboo...\n",
       "766      https://www.powells.com/login?returnurl=%2fpos...\n",
       "10350    https://www.powells.com/login?returnurl=%2fsea...\n",
       "3750     https://www.powells.com/login?returnurl=%2fpos...\n",
       "9884     https://www.powells.com/login?returnurl=%2fsea...\n",
       "6990     https://www.powells.com/login?returnurl=%2fsea...\n",
       "Name: url, dtype: object"
      ]
     },
     "execution_count": 18,
     "metadata": {},
     "output_type": "execute_result"
    }
   ],
   "source": [
    "sample[sample['predicted_label'] == 1]['url'].head(10)"
   ]
  },
  {
   "cell_type": "code",
   "execution_count": 20,
   "metadata": {},
   "outputs": [
    {
     "data": {
      "text/plain": [
       "10349    https://www.powells.com/searchresults?keyword=...\n",
       "2665     https://www.powells.com/searchresults?keyword=...\n",
       "2842     https://www.powells.com/searchresults?keyword=...\n",
       "10259    https://www.powells.com/searchresults?keyword=...\n",
       "7452     https://www.powells.com/searchresults?keyword=...\n",
       "6433     https://www.powells.com/searchresults?keyword=...\n",
       "7346     https://www.powells.com/searchresults?keyword=...\n",
       "9614     https://www.powells.com/searchresults?keyword=...\n",
       "1411     https://www.powells.com/searchresults?keyword=...\n",
       "10086    https://www.powells.com/searchresults?keyword=...\n",
       "10517    https://www.powells.com/searchresults?keyword=...\n",
       "2642     https://www.powells.com/searchresults?keyword=...\n",
       "10128    https://www.powells.com/searchresults?keyword=...\n",
       "2637     https://www.powells.com/searchresults?keyword=...\n",
       "2588     https://www.powells.com/searchresults?keyword=...\n",
       "3591     https://www.powells.com/searchresults?keyword=...\n",
       "6384     https://www.powells.com/searchresults?keyword=...\n",
       "1650     https://www.powells.com/searchresults?keyword=...\n",
       "10067    https://www.powells.com/searchresults?keyword=...\n",
       "2829     https://www.powells.com/searchresults?keyword=...\n",
       "4764     https://www.powells.com/searchresults?keyword=...\n",
       "10096    https://www.powells.com/searchresults?keyword=...\n",
       "5649     https://www.powells.com/searchresults?keyword=...\n",
       "6425     https://www.powells.com/searchresults?keyword=...\n",
       "10336    https://www.powells.com/searchresults?keyword=...\n",
       "9935     https://www.powells.com/searchresults?keyword=...\n",
       "3951     https://www.powells.com/searchresults?keyword=...\n",
       "1726     https://www.powells.com/searchresults?keyword=...\n",
       "4747     https://www.powells.com/searchresults?keyword=...\n",
       "2602     https://www.powells.com/searchresults?keyword=...\n",
       "Name: url, dtype: object"
      ]
     },
     "execution_count": 20,
     "metadata": {},
     "output_type": "execute_result"
    }
   ],
   "source": [
    "sample[sample['predicted_label'] == 2]['url'].head(30)"
   ]
  },
  {
   "cell_type": "markdown",
   "metadata": {},
   "source": [
    "## Evaluate recall and precision"
   ]
  },
  {
   "cell_type": "code",
   "execution_count": 21,
   "metadata": {},
   "outputs": [
    {
     "name": "stdout",
     "output_type": "stream",
     "text": [
      "Recall is 0.9452390682468329\n",
      "Precision is 1.0\n"
     ]
    }
   ],
   "source": [
    "p1,r1=clusteringevaluation.calculate_precision_and_recall(sample,clustering,'list',0)"
   ]
  },
  {
   "cell_type": "code",
   "execution_count": 25,
   "metadata": {},
   "outputs": [
    {
     "name": "stdout",
     "output_type": "stream",
     "text": [
      "Recall is 1.0\n",
      "Precision is 1.0\n"
     ]
    }
   ],
   "source": [
    "p1,r1=clusteringevaluation.calculate_precision_and_recall(sample,clustering,'product',3)"
   ]
  },
  {
   "cell_type": "markdown",
   "metadata": {},
   "source": [
    "# DBSCAN algorithm"
   ]
  },
  {
   "cell_type": "code",
   "execution_count": 26,
   "metadata": {},
   "outputs": [
    {
     "name": "stdout",
     "output_type": "stream",
     "text": [
      "Elapsed time to calculate DBSCAN clustering:00:00:39.23\n"
     ]
    }
   ],
   "source": [
    "dbsclustering=dbscanclustering(bitsetmat,10,20)"
   ]
  },
  {
   "cell_type": "code",
   "execution_count": 27,
   "metadata": {},
   "outputs": [
    {
     "name": "stdout",
     "output_type": "stream",
     "text": [
      "There are [-1  0  1  2  3  4  5]clusters\n",
      "\n",
      "\n",
      "Cluster labels:\n"
     ]
    },
    {
     "data": {
      "text/plain": [
       "array([-1,  0,  1,  2,  3,  4,  5])"
      ]
     },
     "execution_count": 27,
     "metadata": {},
     "output_type": "execute_result"
    }
   ],
   "source": [
    "predictedLabels = dbsclustering.labels_\n",
    "noOfClusters = np.unique(predictedLabels)\n",
    "sample['predicted_label'] = predictedLabels\n",
    "print('There are ' + str(noOfClusters) + 'clusters')\n",
    "print()\n",
    "print()\n",
    "print('Cluster labels:')\n",
    "noOfClusters"
   ]
  },
  {
   "cell_type": "code",
   "execution_count": 28,
   "metadata": {},
   "outputs": [
    {
     "name": "stdout",
     "output_type": "stream",
     "text": [
      "cluster n. 0 has 15 pages\n",
      "cluster n. 1 has 2309 pages\n",
      "cluster n. 2 has 29 pages\n",
      "cluster n. 3 has 35 pages\n",
      "cluster n. 4 has 369 pages\n",
      "cluster n. 5 has 114 pages\n",
      "cluster n. 6 has 129 pages\n"
     ]
    }
   ],
   "source": [
    "cluster_fmt = 'cluster n. {} has {} pages'\n",
    "noOfPages = 0\n",
    "\n",
    "for index ,el in enumerate(noOfClusters):\n",
    "    print(cluster_fmt.format(index ,utility.count_occurrences(predictedLabels,el)))"
   ]
  },
  {
   "cell_type": "code",
   "execution_count": 29,
   "metadata": {},
   "outputs": [
    {
     "name": "stdout",
     "output_type": "stream",
     "text": [
      "Recall is 0.9436044135676338\n",
      "Precision is 1.0\n"
     ]
    }
   ],
   "source": [
    "p1,r1=clusteringevaluation.calculate_precision_and_recall(sample,dbsclustering,'list',0)"
   ]
  },
  {
   "cell_type": "code",
   "execution_count": 30,
   "metadata": {},
   "outputs": [
    {
     "name": "stdout",
     "output_type": "stream",
     "text": [
      "Recall is 1.0\n",
      "Precision is 1.0\n"
     ]
    }
   ],
   "source": [
    "p1,r1=clusteringevaluation.calculate_precision_and_recall(sample,dbsclustering,'product',4)"
   ]
  }
 ],
 "metadata": {
  "kernelspec": {
   "display_name": "Python 3",
   "language": "python",
   "name": "python3"
  },
  "language_info": {
   "codemirror_mode": {
    "name": "ipython",
    "version": 3
   },
   "file_extension": ".py",
   "mimetype": "text/x-python",
   "name": "python",
   "nbconvert_exporter": "python",
   "pygments_lexer": "ipython3",
   "version": "3.7.3"
  }
 },
 "nbformat": 4,
 "nbformat_minor": 2
}
