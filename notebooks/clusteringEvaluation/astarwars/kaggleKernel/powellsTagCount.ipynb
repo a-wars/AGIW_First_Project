{
 "cells": [
  {
   "cell_type": "markdown",
   "metadata": {},
   "source": [
    "## Our clustering algorithm evaluation\n",
    "Evaluating our clustering algorithm on bookswagon.com pages. The aim is to calculate precision and recall for \"book details\" cluster and the \"catalog\" cluster in bookswagon.com."
   ]
  },
  {
   "cell_type": "code",
   "execution_count": 1,
   "metadata": {},
   "outputs": [
    {
     "data": {
      "text/plain": [
       "'../input/powells.csv'"
      ]
     },
     "execution_count": 1,
     "metadata": {},
     "output_type": "execute_result"
    }
   ],
   "source": [
    "# Importing libraries\n",
    "import numpy as np\n",
    "import pandas as pd\n",
    "import ast\n",
    "import time\n",
    "from sklearn.cluster import MeanShift, estimate_bandwidth, DBSCAN\n",
    "FILEPATH = '../input/powells.csv'\n",
    "FILEPATH"
   ]
  },
  {
   "cell_type": "code",
   "execution_count": 2,
   "metadata": {},
   "outputs": [],
   "source": [
    "df = pd.read_csv(FILEPATH, converters={'bitset': ast.literal_eval, 'tag_count': ast.literal_eval})"
   ]
  },
  {
   "cell_type": "markdown",
   "metadata": {},
   "source": [
    "## Data analisys\n",
    "Some preliminary analisys of the dataset"
   ]
  },
  {
   "cell_type": "code",
   "execution_count": 3,
   "metadata": {},
   "outputs": [
    {
     "name": "stdout",
     "output_type": "stream",
     "text": [
      "First 5 rows\n",
      "------------\n"
     ]
    },
    {
     "data": {
      "text/html": [
       "<div>\n",
       "<style scoped>\n",
       "    .dataframe tbody tr th:only-of-type {\n",
       "        vertical-align: middle;\n",
       "    }\n",
       "\n",
       "    .dataframe tbody tr th {\n",
       "        vertical-align: top;\n",
       "    }\n",
       "\n",
       "    .dataframe thead th {\n",
       "        text-align: right;\n",
       "    }\n",
       "</style>\n",
       "<table border=\"1\" class=\"dataframe\">\n",
       "  <thead>\n",
       "    <tr style=\"text-align: right;\">\n",
       "      <th></th>\n",
       "      <th>url</th>\n",
       "      <th>referer_url</th>\n",
       "      <th>src</th>\n",
       "      <th>shingle_vector</th>\n",
       "      <th>label</th>\n",
       "      <th>tag_count</th>\n",
       "      <th>bitset</th>\n",
       "    </tr>\n",
       "  </thead>\n",
       "  <tbody>\n",
       "    <tr>\n",
       "      <th>0</th>\n",
       "      <td>https://www.powells.com/blog/author/kristen-ar...</td>\n",
       "      <td>https://www.powells.com/</td>\n",
       "      <td>&lt;!DOCTYPE html PUBLIC \"-//W3C//DTD XHTML 1.0 T...</td>\n",
       "      <td>(7, 2, 1, 8, 3, 10, 0, 5)</td>\n",
       "      <td>NaN</td>\n",
       "      <td>[0.002680965147453083, 0.002680965147453083, 0...</td>\n",
       "      <td>[0, 0, 1, 1, 0, 1, 1, 1, 0, 1, 0, 1, 0, 1, 1, ...</td>\n",
       "    </tr>\n",
       "    <tr>\n",
       "      <th>1</th>\n",
       "      <td>https://www.powells.com/blog/category/interviews</td>\n",
       "      <td>https://www.powells.com/</td>\n",
       "      <td>&lt;!DOCTYPE html PUBLIC \"-//W3C//DTD XHTML 1.0 T...</td>\n",
       "      <td>(2, 1, 1, 0, 3, 5, 0, 1)</td>\n",
       "      <td>NaN</td>\n",
       "      <td>[0.0011467889908256881, 0.0011467889908256881,...</td>\n",
       "      <td>[0, 1, 1, 1, 1, 1, 1, 1, 1, 1, 1, 1, 0, 1, 1, ...</td>\n",
       "    </tr>\n",
       "    <tr>\n",
       "      <th>2</th>\n",
       "      <td>https://www.powells.com/nonfiction-sale</td>\n",
       "      <td>https://www.powells.com/</td>\n",
       "      <td>&lt;!DOCTYPE html PUBLIC \"-//W3C//DTD XHTML 1.0 T...</td>\n",
       "      <td>(0, 2, 2, 8, 3, 0, 0, 0)</td>\n",
       "      <td>NaN</td>\n",
       "      <td>[0.0013054830287206266, 0.0013054830287206266,...</td>\n",
       "      <td>[0, 0, 1, 1, 1, 1, 1, 1, 1, 1, 0, 1, 0, 1, 1, ...</td>\n",
       "    </tr>\n",
       "    <tr>\n",
       "      <th>3</th>\n",
       "      <td>https://www.powells.com/powells-presents</td>\n",
       "      <td>https://www.powells.com/</td>\n",
       "      <td>&lt;!DOCTYPE html PUBLIC \"-//W3C//DTD XHTML 1.0 T...</td>\n",
       "      <td>(0, 2, 2, 8, 1, 1, 0, 0)</td>\n",
       "      <td>NaN</td>\n",
       "      <td>[0.0022026431718061676, 0.0022026431718061676,...</td>\n",
       "      <td>[0, 0, 0, 1, 1, 0, 1, 1, 0, 1, 0, 1, 1, 1, 1, ...</td>\n",
       "    </tr>\n",
       "    <tr>\n",
       "      <th>4</th>\n",
       "      <td>https://www.powells.com/locations</td>\n",
       "      <td>https://www.powells.com/</td>\n",
       "      <td>&lt;!DOCTYPE html PUBLIC \"-//W3C//DTD XHTML 1.0 T...</td>\n",
       "      <td>(2, 0, 0, 4, 2, 2, 0, 0)</td>\n",
       "      <td>NaN</td>\n",
       "      <td>[0.001976284584980237, 0.001976284584980237, 0...</td>\n",
       "      <td>[0, 0, 0, 1, 1, 1, 0, 1, 0, 1, 0, 1, 0, 1, 1, ...</td>\n",
       "    </tr>\n",
       "  </tbody>\n",
       "</table>\n",
       "</div>"
      ],
      "text/plain": [
       "                                                 url                        ...                                                                     bitset\n",
       "0  https://www.powells.com/blog/author/kristen-ar...                        ...                          [0, 0, 1, 1, 0, 1, 1, 1, 0, 1, 0, 1, 0, 1, 1, ...\n",
       "1   https://www.powells.com/blog/category/interviews                        ...                          [0, 1, 1, 1, 1, 1, 1, 1, 1, 1, 1, 1, 0, 1, 1, ...\n",
       "2            https://www.powells.com/nonfiction-sale                        ...                          [0, 0, 1, 1, 1, 1, 1, 1, 1, 1, 0, 1, 0, 1, 1, ...\n",
       "3           https://www.powells.com/powells-presents                        ...                          [0, 0, 0, 1, 1, 0, 1, 1, 0, 1, 0, 1, 1, 1, 1, ...\n",
       "4                  https://www.powells.com/locations                        ...                          [0, 0, 0, 1, 1, 1, 0, 1, 0, 1, 0, 1, 0, 1, 1, ...\n",
       "\n",
       "[5 rows x 7 columns]"
      ]
     },
     "execution_count": 3,
     "metadata": {},
     "output_type": "execute_result"
    }
   ],
   "source": [
    "print(\"First 5 rows\")\n",
    "print(\"------------\")\n",
    "df.head()"
   ]
  },
  {
   "cell_type": "code",
   "execution_count": 4,
   "metadata": {},
   "outputs": [
    {
     "name": "stdout",
     "output_type": "stream",
     "text": [
      "No. of rows and columns\n",
      "-----------------------\n"
     ]
    },
    {
     "data": {
      "text/plain": [
       "(10571, 7)"
      ]
     },
     "execution_count": 4,
     "metadata": {},
     "output_type": "execute_result"
    }
   ],
   "source": [
    "print(\"No. of rows and columns\")\n",
    "print(\"-----------------------\")\n",
    "df.shape"
   ]
  },
  {
   "cell_type": "code",
   "execution_count": 5,
   "metadata": {},
   "outputs": [
    {
     "name": "stdout",
     "output_type": "stream",
     "text": [
      "Check null values\n",
      "-----------------\n"
     ]
    },
    {
     "data": {
      "text/plain": [
       "True"
      ]
     },
     "execution_count": 5,
     "metadata": {},
     "output_type": "execute_result"
    }
   ],
   "source": [
    "print(\"Check null values\")\n",
    "print(\"-----------------\")\n",
    "df.isnull().any().any()"
   ]
  },
  {
   "cell_type": "code",
   "execution_count": 6,
   "metadata": {},
   "outputs": [
    {
     "name": "stdout",
     "output_type": "stream",
     "text": [
      "Check duplicate values\n",
      "----------------------\n"
     ]
    },
    {
     "data": {
      "text/plain": [
       "False"
      ]
     },
     "execution_count": 6,
     "metadata": {},
     "output_type": "execute_result"
    }
   ],
   "source": [
    "print(\"Check duplicate values\")\n",
    "print(\"----------------------\")\n",
    "len(df['url'].unique()) != df.shape[0]"
   ]
  },
  {
   "cell_type": "code",
   "execution_count": 7,
   "metadata": {},
   "outputs": [
    {
     "name": "stdout",
     "output_type": "stream",
     "text": [
      "DataFrame column types\n",
      "----------------------\n",
      "<class 'pandas.core.frame.DataFrame'>\n",
      "RangeIndex: 10571 entries, 0 to 10570\n",
      "Data columns (total 7 columns):\n",
      "url               10571 non-null object\n",
      "referer_url       10571 non-null object\n",
      "src               10571 non-null object\n",
      "shingle_vector    10571 non-null object\n",
      "label             8962 non-null object\n",
      "tag_count         10571 non-null object\n",
      "bitset            10571 non-null object\n",
      "dtypes: object(7)\n",
      "memory usage: 578.2+ KB\n"
     ]
    }
   ],
   "source": [
    "print(\"DataFrame column types\")\n",
    "print(\"----------------------\")\n",
    "df.info()"
   ]
  },
  {
   "cell_type": "code",
   "execution_count": 8,
   "metadata": {},
   "outputs": [
    {
     "name": "stdout",
     "output_type": "stream",
     "text": [
      "There are 1609 row with no label\n",
      "There are 417 row with product label\n",
      "There are 8545 row with list label\n"
     ]
    }
   ],
   "source": [
    "fmt_string = 'There are {} row with {} label'\n",
    "print(fmt_string.format(len(df[df['label'].isnull()]),'no'))\n",
    "print(fmt_string.format(len(df[df['label']=='product']), 'product'))\n",
    "print(fmt_string.format(len(df[df['label']=='list']), 'list'))"
   ]
  },
  {
   "cell_type": "markdown",
   "metadata": {},
   "source": [
    "## Run MeanShift clustering algorithm\n",
    "### Import all necessary functions"
   ]
  },
  {
   "cell_type": "code",
   "execution_count": 9,
   "metadata": {},
   "outputs": [],
   "source": [
    "#from astarwars_clustering.utils import utility\n",
    "\n",
    "def pad_vector(vec, n):\n",
    "    for i in range(n):\n",
    "        vec.append(0)\n",
    "\n",
    "def pad_matrix_elem(matrix, lastvec):\n",
    "    maxlen=len(lastvec)\n",
    "    matrixlen=len(matrix)\n",
    "    for i in range(matrixlen):\n",
    "        elem_topad=maxlen-len(matrix[i])\n",
    "        pad_vector(matrix[i], elem_topad)\n",
    "\n",
    "#cluster di cataloghi e di prodotti\n",
    "def count_occurrences(vec,n):\n",
    "    occ=0\n",
    "    for el in vec:\n",
    "        if el==n:\n",
    "            occ=occ+1\n",
    "    return occ"
   ]
  },
  {
   "cell_type": "code",
   "execution_count": 10,
   "metadata": {},
   "outputs": [],
   "source": [
    "#from astarwars_clustering.clustering.structural_clustering import dbscanclustering, meanshiftclustering\n",
    "def meanshiftclustering(featurematrix,bandwidth=None):\n",
    "    start = time.time()\n",
    "    clustering=None\n",
    "    if bandwidth is not None:\n",
    "        clustering = MeanShift(bandwidth=bandwidth).fit(featurematrix)\n",
    "    else:\n",
    "        clustering = MeanShift().fit(featurematrix)\n",
    "    end = time.time()\n",
    "    hours, rem = divmod(end - start, 3600)\n",
    "    minutes, seconds = divmod(rem, 60)\n",
    "    print(\"Elapsed time to calculate MeanShift clustering:{:0>2}:{:0>2}:{:05.2f}\".format(int(hours), int(minutes), seconds))\n",
    "    return clustering\n",
    "\n",
    "\n",
    "#if eps is specified also min_samples will be not null for convention\n",
    "def dbscanclustering(featurematrix,epsValue=None,min_samplesValue=None):\n",
    "    start = time.time()\n",
    "    clustering=None\n",
    "    if epsValue is not None:\n",
    "        clustering = DBSCAN(eps=epsValue, min_samples=min_samplesValue).fit(featurematrix)\n",
    "    else:\n",
    "        clustering = DBSCAN().fit(featurematrix)\n",
    "    end = time.time()\n",
    "    hours, rem = divmod(end - start, 3600)\n",
    "    minutes, seconds = divmod(rem, 60)\n",
    "    print(\"Elapsed time to calculate DBSCAN clustering:{:0>2}:{:0>2}:{:05.2f}\".format(int(hours), int(minutes), seconds))\n",
    "    return clustering"
   ]
  },
  {
   "cell_type": "code",
   "execution_count": 11,
   "metadata": {},
   "outputs": [],
   "source": [
    "#from astarwars_clustering.clustering import clusteringevaluation\n",
    "\n",
    "#predictedlabel rappresenta l'etichetta del clustering su cui vogliamo calcolare precision e recall\n",
    "def calculate_precision_and_recall(df, clustering, selectedlabel, predictedlabel):\n",
    "\n",
    "    labels = clustering.labels_\n",
    "    df['predicted_labels'] = labels\n",
    "    selectedelements = count_occurrences(labels, predictedlabel)\n",
    "\n",
    "    truepositive = 0\n",
    "    allpositives = len(df[df['label'] == selectedlabel])\n",
    "\n",
    "    for index, row in df.iterrows():\n",
    "        if row['label'] == selectedlabel and row['predicted_labels'] == predictedlabel:\n",
    "            truepositive += 1\n",
    "\n",
    "    fmt_string='{} is {}'\n",
    "    recall = truepositive/allpositives\n",
    "    precision = truepositive/selectedelements\n",
    "\n",
    "    print(fmt_string.format('Recall', recall))\n",
    "    print(fmt_string.format('Precision', precision))\n",
    "\n",
    "    return precision, recall"
   ]
  },
  {
   "cell_type": "code",
   "execution_count": 12,
   "metadata": {},
   "outputs": [],
   "source": [
    "sample=df\n",
    "bitsetmat=sample['bitset'].tolist()\n",
    "tagcountmat=sample['tag_count'].tolist()"
   ]
  },
  {
   "cell_type": "code",
   "execution_count": 13,
   "metadata": {},
   "outputs": [
    {
     "name": "stdout",
     "output_type": "stream",
     "text": [
      "Elapsed time to calculate MeanShift clustering:00:28:21.65\n"
     ]
    }
   ],
   "source": [
    "clustering = meanshiftclustering(tagcountmat,0.07)"
   ]
  },
  {
   "cell_type": "code",
   "execution_count": 14,
   "metadata": {},
   "outputs": [
    {
     "name": "stdout",
     "output_type": "stream",
     "text": [
      "There are 1609 row with no label\n",
      "There are 417 row with product label\n",
      "There are 8545 row with list label\n"
     ]
    }
   ],
   "source": [
    "print(fmt_string.format(len(sample[sample['label'].isnull()]),'no'))\n",
    "print(fmt_string.format(len(sample[sample['label']=='product']), 'product'))\n",
    "print(fmt_string.format(len(sample[sample['label']=='list']), 'list'))"
   ]
  },
  {
   "cell_type": "code",
   "execution_count": 15,
   "metadata": {},
   "outputs": [
    {
     "name": "stdout",
     "output_type": "stream",
     "text": [
      "There are [ 0  1  2  3  4  5  6  7  8  9 10 11 12 13 14 15]clusters\n",
      "\n",
      "\n",
      "Cluster labels:\n"
     ]
    },
    {
     "data": {
      "text/plain": [
       "array([ 0,  1,  2,  3,  4,  5,  6,  7,  8,  9, 10, 11, 12, 13, 14, 15])"
      ]
     },
     "execution_count": 15,
     "metadata": {},
     "output_type": "execute_result"
    }
   ],
   "source": [
    "predictedLabels = clustering.labels_\n",
    "noOfClusters = np.unique(predictedLabels)\n",
    "sample['predicted_label'] = predictedLabels\n",
    "print('There are ' + str(noOfClusters) + 'clusters')\n",
    "print()\n",
    "print()\n",
    "print('Cluster labels:')\n",
    "noOfClusters"
   ]
  },
  {
   "cell_type": "code",
   "execution_count": 16,
   "metadata": {},
   "outputs": [
    {
     "name": "stdout",
     "output_type": "stream",
     "text": [
      "cluster n. 0 has 8517 pages\n",
      "cluster n. 1 has 413 pages\n",
      "cluster n. 2 has 114 pages\n",
      "cluster n. 3 has 23 pages\n",
      "cluster n. 4 has 25 pages\n",
      "cluster n. 5 has 85 pages\n",
      "cluster n. 6 has 4 pages\n",
      "cluster n. 7 has 3 pages\n",
      "cluster n. 8 has 1 pages\n",
      "cluster n. 9 has 1336 pages\n",
      "cluster n. 10 has 1 pages\n",
      "cluster n. 11 has 1 pages\n",
      "cluster n. 12 has 3 pages\n",
      "cluster n. 13 has 1 pages\n",
      "cluster n. 14 has 43 pages\n",
      "cluster n. 15 has 1 pages\n"
     ]
    }
   ],
   "source": [
    "cluster_fmt = 'cluster n. {} has {} pages'\n",
    "noOfPages = 0\n",
    "\n",
    "for index ,el in enumerate(noOfClusters):\n",
    "    print(cluster_fmt.format(index ,count_occurrences(predictedLabels,el)))"
   ]
  },
  {
   "cell_type": "code",
   "execution_count": 17,
   "metadata": {},
   "outputs": [
    {
     "data": {
      "text/plain": [
       "88     https://www.powells.com/SearchResults?keyword=...\n",
       "198    https://www.powells.com/SearchResults?keyword=...\n",
       "208    https://www.powells.com/searchresults?keyword=...\n",
       "210    https://www.powells.com/searchresults?keyword=...\n",
       "212    https://www.powells.com/searchresults?keyword=...\n",
       "213    https://www.powells.com/searchresults?keyword=...\n",
       "218    https://www.powells.com/searchresults?keyword=...\n",
       "219    https://www.powells.com/searchresults?keyword=...\n",
       "220    https://www.powells.com/searchresults?keyword=...\n",
       "222    https://www.powells.com/searchresults?keyword=...\n",
       "224    https://www.powells.com/searchresults?keyword=...\n",
       "225    https://www.powells.com/searchresults?keyword=...\n",
       "231    https://www.powells.com/searchresults?keyword=...\n",
       "238    https://www.powells.com/searchresults?keyword=...\n",
       "247    https://www.powells.com/searchresults?keyword=...\n",
       "257    https://www.powells.com/searchresults?keyword=...\n",
       "272    https://www.powells.com/searchresults?keyword=...\n",
       "278    https://www.powells.com/searchresults?keyword=...\n",
       "379    https://www.powells.com/searchresults?keyword=...\n",
       "702    https://www.powells.com/SearchResults?keyword=...\n",
       "Name: url, dtype: object"
      ]
     },
     "execution_count": 17,
     "metadata": {},
     "output_type": "execute_result"
    }
   ],
   "source": [
    "sample[sample['predicted_label'] == 0]['url'].head(20)"
   ]
  },
  {
   "cell_type": "code",
   "execution_count": 18,
   "metadata": {},
   "outputs": [
    {
     "data": {
      "text/plain": [
       "10    https://www.powells.com/book/how-to-be-a-cat-9...\n",
       "13    https://www.powells.com/book/mostly-dead-thing...\n",
       "14    https://www.powells.com/book/disappearing-eart...\n",
       "20          https://www.powells.com/book/-9781974186044\n",
       "21    https://www.powells.com/book/another-monster-a...\n",
       "22    https://www.powells.com/book/landmarks-9780241...\n",
       "23    https://www.powells.com/book/robots-robots-eve...\n",
       "28    https://www.powells.com/book/disappearing-eart...\n",
       "33    https://www.powells.com/book/disappearing-eart...\n",
       "37    https://www.powells.com/book/how-to-be-a-cat-9...\n",
       "Name: url, dtype: object"
      ]
     },
     "execution_count": 18,
     "metadata": {},
     "output_type": "execute_result"
    }
   ],
   "source": [
    "sample[sample['predicted_label'] == 1]['url'].head(10)"
   ]
  },
  {
   "cell_type": "code",
   "execution_count": 19,
   "metadata": {},
   "outputs": [
    {
     "data": {
      "text/plain": [
       "184    https://www.powells.com/ShoppingCart.aspx?Prod...\n",
       "186    https://www.powells.com/ShoppingCart.aspx?Prod...\n",
       "194    https://www.powells.com/ShoppingCart.aspx?Prod...\n",
       "205    https://www.powells.com/ShoppingCart.aspx?Prod...\n",
       "221    https://www.powells.com/ShoppingCart.aspx?Prod...\n",
       "266    https://www.powells.com/ShoppingCart.aspx?Prod...\n",
       "269    https://www.powells.com/ShoppingCart.aspx?Prod...\n",
       "271    https://www.powells.com/ShoppingCart.aspx?Prod...\n",
       "273    https://www.powells.com/ShoppingCart.aspx?Prod...\n",
       "276    https://www.powells.com/ShoppingCart.aspx?Prod...\n",
       "285    https://www.powells.com/ShoppingCart.aspx?Prod...\n",
       "305    https://www.powells.com/ShoppingCart.aspx?Prod...\n",
       "307    https://www.powells.com/ShoppingCart.aspx?Prod...\n",
       "316    https://www.powells.com/ShoppingCart.aspx?Prod...\n",
       "328    https://www.powells.com/ShoppingCart.aspx?Prod...\n",
       "331    https://www.powells.com/ShoppingCart.aspx?Prod...\n",
       "347    https://www.powells.com/ShoppingCart.aspx?Prod...\n",
       "349    https://www.powells.com/ShoppingCart.aspx?Prod...\n",
       "358    https://www.powells.com/ShoppingCart.aspx?Prod...\n",
       "370    https://www.powells.com/ShoppingCart.aspx?Prod...\n",
       "372    https://www.powells.com/ShoppingCart.aspx?Prod...\n",
       "375    https://www.powells.com/ShoppingCart.aspx?Prod...\n",
       "389    https://www.powells.com/ShoppingCart.aspx?Prod...\n",
       "394    https://www.powells.com/ShoppingCart.aspx?Prod...\n",
       "401    https://www.powells.com/ShoppingCart.aspx?Prod...\n",
       "427    https://www.powells.com/ShoppingCart.aspx?Prod...\n",
       "434    https://www.powells.com/ShoppingCart.aspx?Prod...\n",
       "442    https://www.powells.com/ShoppingCart.aspx?Prod...\n",
       "465    https://www.powells.com/ShoppingCart.aspx?Prod...\n",
       "466    https://www.powells.com/ShoppingCart.aspx?Prod...\n",
       "Name: url, dtype: object"
      ]
     },
     "execution_count": 19,
     "metadata": {},
     "output_type": "execute_result"
    }
   ],
   "source": [
    "sample[sample['predicted_label'] == 2]['url'].head(30)"
   ]
  },
  {
   "cell_type": "markdown",
   "metadata": {},
   "source": [
    "## Evaluate recall and precision"
   ]
  },
  {
   "cell_type": "code",
   "execution_count": 20,
   "metadata": {},
   "outputs": [
    {
     "name": "stdout",
     "output_type": "stream",
     "text": [
      "Recall is 0.9967232299590404\n",
      "Precision is 1.0\n"
     ]
    }
   ],
   "source": [
    "p1,r1=calculate_precision_and_recall(sample,clustering,'list',0)"
   ]
  },
  {
   "cell_type": "code",
   "execution_count": 21,
   "metadata": {},
   "outputs": [
    {
     "name": "stdout",
     "output_type": "stream",
     "text": [
      "Recall is 0.9904076738609112\n",
      "Precision is 1.0\n"
     ]
    }
   ],
   "source": [
    "p1,r1=calculate_precision_and_recall(sample,clustering,'product',1)"
   ]
  },
  {
   "cell_type": "markdown",
   "metadata": {},
   "source": [
    "# DBSCAN algorithm"
   ]
  },
  {
   "cell_type": "code",
   "execution_count": 22,
   "metadata": {},
   "outputs": [
    {
     "name": "stdout",
     "output_type": "stream",
     "text": [
      "Elapsed time to calculate DBSCAN clustering:00:00:36.52\n"
     ]
    }
   ],
   "source": [
    "dbsclustering=dbscanclustering(tagcountmat,0.055,20)"
   ]
  },
  {
   "cell_type": "code",
   "execution_count": 23,
   "metadata": {},
   "outputs": [
    {
     "name": "stdout",
     "output_type": "stream",
     "text": [
      "There are [-1  0  1  2  3]clusters\n",
      "\n",
      "\n",
      "Cluster labels:\n"
     ]
    },
    {
     "data": {
      "text/plain": [
       "array([-1,  0,  1,  2,  3])"
      ]
     },
     "execution_count": 23,
     "metadata": {},
     "output_type": "execute_result"
    }
   ],
   "source": [
    "predictedLabels = dbsclustering.labels_\n",
    "noOfClusters = np.unique(predictedLabels)\n",
    "sample['predicted_label'] = predictedLabels\n",
    "print('There are ' + str(noOfClusters) + 'clusters')\n",
    "print()\n",
    "print()\n",
    "print('Cluster labels:')\n",
    "noOfClusters"
   ]
  },
  {
   "cell_type": "code",
   "execution_count": 24,
   "metadata": {},
   "outputs": [
    {
     "name": "stdout",
     "output_type": "stream",
     "text": [
      "cluster n. 0 has 40 pages\n",
      "cluster n. 1 has 412 pages\n",
      "cluster n. 2 has 1454 pages\n",
      "cluster n. 3 has 8536 pages\n",
      "cluster n. 4 has 129 pages\n"
     ]
    }
   ],
   "source": [
    "cluster_fmt = 'cluster n. {} has {} pages'\n",
    "noOfPages = 0\n",
    "\n",
    "for index ,el in enumerate(noOfClusters):\n",
    "    print(cluster_fmt.format(index ,count_occurrences(predictedLabels,el)))"
   ]
  },
  {
   "cell_type": "code",
   "execution_count": 25,
   "metadata": {},
   "outputs": [
    {
     "name": "stdout",
     "output_type": "stream",
     "text": [
      "Recall is 0.9989467524868344\n",
      "Precision is 1.0\n"
     ]
    }
   ],
   "source": [
    "p1,r1=calculate_precision_and_recall(sample,dbsclustering,'list',2)"
   ]
  },
  {
   "cell_type": "code",
   "execution_count": 26,
   "metadata": {},
   "outputs": [
    {
     "name": "stdout",
     "output_type": "stream",
     "text": [
      "Recall is 0.988009592326139\n",
      "Precision is 1.0\n"
     ]
    }
   ],
   "source": [
    "p1,r1=calculate_precision_and_recall(sample,dbsclustering,'product',0)"
   ]
  }
 ],
 "metadata": {
  "kernelspec": {
   "display_name": "Python 3",
   "language": "python",
   "name": "python3"
  },
  "language_info": {
   "codemirror_mode": {
    "name": "ipython",
    "version": 3
   },
   "file_extension": ".py",
   "mimetype": "text/x-python",
   "name": "python",
   "nbconvert_exporter": "python",
   "pygments_lexer": "ipython3",
   "version": "3.7.3"
  }
 },
 "nbformat": 4,
 "nbformat_minor": 1
}
