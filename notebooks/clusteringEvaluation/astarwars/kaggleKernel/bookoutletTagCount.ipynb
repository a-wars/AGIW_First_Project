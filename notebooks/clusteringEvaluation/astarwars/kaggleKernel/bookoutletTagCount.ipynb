{
 "cells": [
  {
   "cell_type": "markdown",
   "metadata": {},
   "source": [
    "## Our clustering algorithm evaluation\n",
    "Evaluating our clustering algorithm on bookswagon.com pages. The aim is to calculate precision and recall for \"book details\" cluster and the \"catalog\" cluster in bookswagon.com."
   ]
  },
  {
   "cell_type": "code",
   "execution_count": 1,
   "metadata": {},
   "outputs": [
    {
     "data": {
      "text/plain": [
       "'../input/bookoutlet.csv'"
      ]
     },
     "execution_count": 1,
     "metadata": {},
     "output_type": "execute_result"
    }
   ],
   "source": [
    "# Importing libraries\n",
    "import numpy as np\n",
    "import pandas as pd\n",
    "import ast\n",
    "import time\n",
    "from sklearn.cluster import MeanShift, estimate_bandwidth, DBSCAN\n",
    "FILEPATH = '../input/bookoutlet.csv'\n",
    "FILEPATH"
   ]
  },
  {
   "cell_type": "code",
   "execution_count": 2,
   "metadata": {},
   "outputs": [],
   "source": [
    "df = pd.read_csv(FILEPATH, converters={'bitset': ast.literal_eval, 'tag_count': ast.literal_eval})"
   ]
  },
  {
   "cell_type": "markdown",
   "metadata": {},
   "source": [
    "## Data analisys\n",
    "Some preliminary analisys of the dataset"
   ]
  },
  {
   "cell_type": "code",
   "execution_count": 3,
   "metadata": {},
   "outputs": [
    {
     "name": "stdout",
     "output_type": "stream",
     "text": [
      "First 5 rows\n",
      "------------\n"
     ]
    },
    {
     "data": {
      "text/html": [
       "<div>\n",
       "<style scoped>\n",
       "    .dataframe tbody tr th:only-of-type {\n",
       "        vertical-align: middle;\n",
       "    }\n",
       "\n",
       "    .dataframe tbody tr th {\n",
       "        vertical-align: top;\n",
       "    }\n",
       "\n",
       "    .dataframe thead th {\n",
       "        text-align: right;\n",
       "    }\n",
       "</style>\n",
       "<table border=\"1\" class=\"dataframe\">\n",
       "  <thead>\n",
       "    <tr style=\"text-align: right;\">\n",
       "      <th></th>\n",
       "      <th>url</th>\n",
       "      <th>referer_url</th>\n",
       "      <th>src</th>\n",
       "      <th>shingle_vector</th>\n",
       "      <th>label</th>\n",
       "      <th>tag_count</th>\n",
       "      <th>bitset</th>\n",
       "    </tr>\n",
       "  </thead>\n",
       "  <tbody>\n",
       "    <tr>\n",
       "      <th>0</th>\n",
       "      <td>https://bookoutlet.com/</td>\n",
       "      <td>https://bookoutlet.com/</td>\n",
       "      <td>&lt;!DOCTYPE html&gt;\\r\\n&lt;html lang=\"en\"&gt;\\r\\n&lt;head&gt;\\...</td>\n",
       "      <td>(0, 3, 1, 4, 0, 1, 3, 0)</td>\n",
       "      <td>NaN</td>\n",
       "      <td>[0.001607717041800643, 0.001607717041800643, 0...</td>\n",
       "      <td>[1, 1, 1, 1, 1, 1, 0, 1, 1, 1, 1, 1, 1, 1, 1, ...</td>\n",
       "    </tr>\n",
       "    <tr>\n",
       "      <th>1</th>\n",
       "      <td>https://bookoutlet.com/Store/Sale</td>\n",
       "      <td>https://bookoutlet.com/</td>\n",
       "      <td>&lt;!DOCTYPE html&gt;\\r\\n&lt;html lang=\"en\"&gt;\\r\\n&lt;head&gt;\\...</td>\n",
       "      <td>(0, 3, 1, 0, 0, 1, 3, 0)</td>\n",
       "      <td>NaN</td>\n",
       "      <td>[0.002036659877800407, 0.002036659877800407, 0...</td>\n",
       "      <td>[0, 0, 1, 1, 1, 1, 0, 1, 1, 0, 1, 1, 0, 1, 1, ...</td>\n",
       "    </tr>\n",
       "    <tr>\n",
       "      <th>2</th>\n",
       "      <td>https://bookoutlet.com/Store/OtherBrowsing</td>\n",
       "      <td>https://bookoutlet.com/</td>\n",
       "      <td>&lt;!DOCTYPE html&gt;\\r\\n&lt;html lang=\"en\"&gt;\\r\\n&lt;head&gt;\\...</td>\n",
       "      <td>(0, 3, 1, 8, 1, 1, 1, 0)</td>\n",
       "      <td>NaN</td>\n",
       "      <td>[0.0019455252918287938, 0.0019455252918287938,...</td>\n",
       "      <td>[0, 0, 1, 1, 1, 1, 0, 1, 1, 0, 1, 1, 1, 1, 1, ...</td>\n",
       "    </tr>\n",
       "    <tr>\n",
       "      <th>3</th>\n",
       "      <td>https://bookoutlet.com/Store/Browse?N=isTopTen...</td>\n",
       "      <td>https://bookoutlet.com/</td>\n",
       "      <td>&lt;!DOCTYPE html&gt;\\r\\n&lt;html lang=\"en\"&gt;\\r\\n&lt;head&gt;\\...</td>\n",
       "      <td>(0, 3, 1, 1, 1, 1, 0, 0)</td>\n",
       "      <td>list</td>\n",
       "      <td>[0.000998003992015968, 0.000998003992015968, 0...</td>\n",
       "      <td>[0, 0, 1, 1, 1, 1, 1, 1, 1, 1, 1, 1, 1, 1, 1, ...</td>\n",
       "    </tr>\n",
       "    <tr>\n",
       "      <th>4</th>\n",
       "      <td>https://bookoutlet.com/Store/Browse?N=isGiftCe...</td>\n",
       "      <td>https://bookoutlet.com/</td>\n",
       "      <td>&lt;!DOCTYPE html&gt;\\r\\n&lt;html lang=\"en\"&gt;\\r\\n&lt;head&gt;\\...</td>\n",
       "      <td>(0, 3, 1, 1, 1, 1, 0, 0)</td>\n",
       "      <td>list</td>\n",
       "      <td>[0.001445086705202312, 0.001445086705202312, 0...</td>\n",
       "      <td>[0, 0, 1, 1, 1, 1, 1, 1, 1, 1, 1, 1, 1, 1, 1, ...</td>\n",
       "    </tr>\n",
       "  </tbody>\n",
       "</table>\n",
       "</div>"
      ],
      "text/plain": [
       "                                                 url                        ...                                                                     bitset\n",
       "0                            https://bookoutlet.com/                        ...                          [1, 1, 1, 1, 1, 1, 0, 1, 1, 1, 1, 1, 1, 1, 1, ...\n",
       "1                  https://bookoutlet.com/Store/Sale                        ...                          [0, 0, 1, 1, 1, 1, 0, 1, 1, 0, 1, 1, 0, 1, 1, ...\n",
       "2         https://bookoutlet.com/Store/OtherBrowsing                        ...                          [0, 0, 1, 1, 1, 1, 0, 1, 1, 0, 1, 1, 1, 1, 1, ...\n",
       "3  https://bookoutlet.com/Store/Browse?N=isTopTen...                        ...                          [0, 0, 1, 1, 1, 1, 1, 1, 1, 1, 1, 1, 1, 1, 1, ...\n",
       "4  https://bookoutlet.com/Store/Browse?N=isGiftCe...                        ...                          [0, 0, 1, 1, 1, 1, 1, 1, 1, 1, 1, 1, 1, 1, 1, ...\n",
       "\n",
       "[5 rows x 7 columns]"
      ]
     },
     "execution_count": 3,
     "metadata": {},
     "output_type": "execute_result"
    }
   ],
   "source": [
    "print(\"First 5 rows\")\n",
    "print(\"------------\")\n",
    "df.head()"
   ]
  },
  {
   "cell_type": "code",
   "execution_count": 4,
   "metadata": {},
   "outputs": [
    {
     "name": "stdout",
     "output_type": "stream",
     "text": [
      "No. of rows and columns\n",
      "-----------------------\n"
     ]
    },
    {
     "data": {
      "text/plain": [
       "(16387, 7)"
      ]
     },
     "execution_count": 4,
     "metadata": {},
     "output_type": "execute_result"
    }
   ],
   "source": [
    "print(\"No. of rows and columns\")\n",
    "print(\"-----------------------\")\n",
    "df.shape"
   ]
  },
  {
   "cell_type": "code",
   "execution_count": 5,
   "metadata": {},
   "outputs": [
    {
     "name": "stdout",
     "output_type": "stream",
     "text": [
      "Check null values\n",
      "-----------------\n"
     ]
    },
    {
     "data": {
      "text/plain": [
       "True"
      ]
     },
     "execution_count": 5,
     "metadata": {},
     "output_type": "execute_result"
    }
   ],
   "source": [
    "print(\"Check null values\")\n",
    "print(\"-----------------\")\n",
    "df.isnull().any().any()"
   ]
  },
  {
   "cell_type": "code",
   "execution_count": 6,
   "metadata": {},
   "outputs": [
    {
     "name": "stdout",
     "output_type": "stream",
     "text": [
      "Check duplicate values\n",
      "----------------------\n"
     ]
    },
    {
     "data": {
      "text/plain": [
       "False"
      ]
     },
     "execution_count": 6,
     "metadata": {},
     "output_type": "execute_result"
    }
   ],
   "source": [
    "print(\"Check duplicate values\")\n",
    "print(\"----------------------\")\n",
    "len(df['url'].unique()) != df.shape[0]"
   ]
  },
  {
   "cell_type": "code",
   "execution_count": 7,
   "metadata": {},
   "outputs": [
    {
     "name": "stdout",
     "output_type": "stream",
     "text": [
      "DataFrame column types\n",
      "----------------------\n",
      "<class 'pandas.core.frame.DataFrame'>\n",
      "RangeIndex: 16387 entries, 0 to 16386\n",
      "Data columns (total 7 columns):\n",
      "url               16387 non-null object\n",
      "referer_url       16387 non-null object\n",
      "src               16387 non-null object\n",
      "shingle_vector    16387 non-null object\n",
      "label             16381 non-null object\n",
      "tag_count         16387 non-null object\n",
      "bitset            16387 non-null object\n",
      "dtypes: object(7)\n",
      "memory usage: 896.2+ KB\n"
     ]
    }
   ],
   "source": [
    "print(\"DataFrame column types\")\n",
    "print(\"----------------------\")\n",
    "df.info()"
   ]
  },
  {
   "cell_type": "code",
   "execution_count": 8,
   "metadata": {},
   "outputs": [
    {
     "name": "stdout",
     "output_type": "stream",
     "text": [
      "There are 6 row with no label\n",
      "There are 4801 row with product label\n",
      "There are 11580 row with list label\n"
     ]
    }
   ],
   "source": [
    "fmt_string = 'There are {} row with {} label'\n",
    "print(fmt_string.format(len(df[df['label'].isnull()]),'no'))\n",
    "print(fmt_string.format(len(df[df['label']=='product']), 'product'))\n",
    "print(fmt_string.format(len(df[df['label']=='list']), 'list'))"
   ]
  },
  {
   "cell_type": "markdown",
   "metadata": {},
   "source": [
    "## Run MeanShift clustering algorithm\n",
    "### Import all necessary functions"
   ]
  },
  {
   "cell_type": "code",
   "execution_count": 9,
   "metadata": {},
   "outputs": [],
   "source": [
    "#from astarwars_clustering.utils import utility\n",
    "\n",
    "def pad_vector(vec, n):\n",
    "    for i in range(n):\n",
    "        vec.append(0)\n",
    "\n",
    "def pad_matrix_elem(matrix, lastvec):\n",
    "    maxlen=len(lastvec)\n",
    "    matrixlen=len(matrix)\n",
    "    for i in range(matrixlen):\n",
    "        elem_topad=maxlen-len(matrix[i])\n",
    "        pad_vector(matrix[i], elem_topad)\n",
    "\n",
    "#cluster di cataloghi e di prodotti\n",
    "def count_occurrences(vec,n):\n",
    "    occ=0\n",
    "    for el in vec:\n",
    "        if el==n:\n",
    "            occ=occ+1\n",
    "    return occ"
   ]
  },
  {
   "cell_type": "code",
   "execution_count": 10,
   "metadata": {},
   "outputs": [],
   "source": [
    "#from astarwars_clustering.clustering.structural_clustering import dbscanclustering, meanshiftclustering\n",
    "def meanshiftclustering(featurematrix,bandwidth=None):\n",
    "    start = time.time()\n",
    "    clustering=None\n",
    "    if bandwidth is not None:\n",
    "        clustering = MeanShift(bandwidth=bandwidth).fit(featurematrix)\n",
    "    else:\n",
    "        clustering = MeanShift().fit(featurematrix)\n",
    "    end = time.time()\n",
    "    hours, rem = divmod(end - start, 3600)\n",
    "    minutes, seconds = divmod(rem, 60)\n",
    "    print(\"Elapsed time to calculate MeanShift clustering:{:0>2}:{:0>2}:{:05.2f}\".format(int(hours), int(minutes), seconds))\n",
    "    return clustering\n",
    "\n",
    "\n",
    "#if eps is specified also min_samples will be not null for convention\n",
    "def dbscanclustering(featurematrix,epsValue=None,min_samplesValue=None):\n",
    "    start = time.time()\n",
    "    clustering=None\n",
    "    if epsValue is not None:\n",
    "        clustering = DBSCAN(eps=epsValue, min_samples=min_samplesValue).fit(featurematrix)\n",
    "    else:\n",
    "        clustering = DBSCAN().fit(featurematrix)\n",
    "    end = time.time()\n",
    "    hours, rem = divmod(end - start, 3600)\n",
    "    minutes, seconds = divmod(rem, 60)\n",
    "    print(\"Elapsed time to calculate DBSCAN clustering:{:0>2}:{:0>2}:{:05.2f}\".format(int(hours), int(minutes), seconds))\n",
    "    return clustering"
   ]
  },
  {
   "cell_type": "code",
   "execution_count": 11,
   "metadata": {},
   "outputs": [],
   "source": [
    "#from astarwars_clustering.clustering import clusteringevaluation\n",
    "\n",
    "#predictedlabel rappresenta l'etichetta del clustering su cui vogliamo calcolare precision e recall\n",
    "def calculate_precision_and_recall(df, clustering, selectedlabel, predictedlabel):\n",
    "\n",
    "    labels = clustering.labels_\n",
    "    df['predicted_labels'] = labels\n",
    "    selectedelements = count_occurrences(labels, predictedlabel)\n",
    "\n",
    "    truepositive = 0\n",
    "    allpositives = len(df[df['label'] == selectedlabel])\n",
    "\n",
    "    for index, row in df.iterrows():\n",
    "        if row['label'] == selectedlabel and row['predicted_labels'] == predictedlabel:\n",
    "            truepositive += 1\n",
    "\n",
    "    fmt_string='{} is {}'\n",
    "    recall = truepositive/allpositives\n",
    "    precision = truepositive/selectedelements\n",
    "\n",
    "    print(fmt_string.format('Recall', recall))\n",
    "    print(fmt_string.format('Precision', precision))\n",
    "\n",
    "    return precision, recall"
   ]
  },
  {
   "cell_type": "code",
   "execution_count": 12,
   "metadata": {},
   "outputs": [],
   "source": [
    "sample=df\n",
    "bitsetmat=sample['bitset'].tolist()\n",
    "tagcountmat=sample['tag_count'].tolist()"
   ]
  },
  {
   "cell_type": "code",
   "execution_count": 13,
   "metadata": {},
   "outputs": [
    {
     "name": "stdout",
     "output_type": "stream",
     "text": [
      "Elapsed time to calculate MeanShift clustering:00:23:11.78\n"
     ]
    }
   ],
   "source": [
    "clustering = meanshiftclustering(tagcountmat,0.07)"
   ]
  },
  {
   "cell_type": "code",
   "execution_count": 14,
   "metadata": {},
   "outputs": [
    {
     "name": "stdout",
     "output_type": "stream",
     "text": [
      "There are 6 row with no label\n",
      "There are 4801 row with product label\n",
      "There are 11580 row with list label\n"
     ]
    }
   ],
   "source": [
    "print(fmt_string.format(len(sample[sample['label'].isnull()]),'no'))\n",
    "print(fmt_string.format(len(sample[sample['label']=='product']), 'product'))\n",
    "print(fmt_string.format(len(sample[sample['label']=='list']), 'list'))"
   ]
  },
  {
   "cell_type": "code",
   "execution_count": 15,
   "metadata": {},
   "outputs": [
    {
     "name": "stdout",
     "output_type": "stream",
     "text": [
      "There are [0 1 2 3 4]clusters\n",
      "\n",
      "\n",
      "Cluster labels:\n"
     ]
    },
    {
     "data": {
      "text/plain": [
       "array([0, 1, 2, 3, 4])"
      ]
     },
     "execution_count": 15,
     "metadata": {},
     "output_type": "execute_result"
    }
   ],
   "source": [
    "predictedLabels = clustering.labels_\n",
    "noOfClusters = np.unique(predictedLabels)\n",
    "sample['predicted_label'] = predictedLabels\n",
    "print('There are ' + str(noOfClusters) + 'clusters')\n",
    "print()\n",
    "print()\n",
    "print('Cluster labels:')\n",
    "noOfClusters"
   ]
  },
  {
   "cell_type": "code",
   "execution_count": 16,
   "metadata": {},
   "outputs": [
    {
     "name": "stdout",
     "output_type": "stream",
     "text": [
      "cluster n. 0 has 11227 pages\n",
      "cluster n. 1 has 4823 pages\n",
      "cluster n. 2 has 129 pages\n",
      "cluster n. 3 has 207 pages\n",
      "cluster n. 4 has 1 pages\n"
     ]
    }
   ],
   "source": [
    "cluster_fmt = 'cluster n. {} has {} pages'\n",
    "noOfPages = 0\n",
    "\n",
    "for index ,el in enumerate(noOfClusters):\n",
    "    print(cluster_fmt.format(index ,count_occurrences(predictedLabels,el)))"
   ]
  },
  {
   "cell_type": "code",
   "execution_count": 17,
   "metadata": {},
   "outputs": [
    {
     "data": {
      "text/plain": [
       "0                               https://bookoutlet.com/\n",
       "1                     https://bookoutlet.com/Store/Sale\n",
       "2            https://bookoutlet.com/Store/OtherBrowsing\n",
       "3     https://bookoutlet.com/Store/Browse?N=isTopTen...\n",
       "4     https://bookoutlet.com/Store/Browse?N=isGiftCe...\n",
       "6     https://bookoutlet.com/Store/Browse?N=isRetail...\n",
       "10          https://bookoutlet.com/Loyalty/ReferAFriend\n",
       "17      https://bookoutlet.com/landing/student-discount\n",
       "18            https://bookoutlet.com/Store/Browse?Nce=6\n",
       "24      https://bookoutlet.com/Store/Browse?Nc=2&Ns=421\n",
       "38         https://bookoutlet.com/Store/Browse?Npb=2445\n",
       "42        https://bookoutlet.com/Store/Browse?Na=321769\n",
       "54    https://bookoutlet.com/Store/Browse?Npb=2445&s...\n",
       "58    https://bookoutlet.com/Store/Browse?Na=321769&...\n",
       "60    https://bookoutlet.com/Store/Browse?Na=321769&...\n",
       "61    https://bookoutlet.com/Store/Browse?Na=321769&...\n",
       "63        https://bookoutlet.com/Store/Browse?Na=329917\n",
       "66        https://bookoutlet.com/Store/Browse?Na=316755\n",
       "69        https://bookoutlet.com/Store/Browse?Na=327930\n",
       "73    https://bookoutlet.com/Store/Browse?Na=329917&...\n",
       "Name: url, dtype: object"
      ]
     },
     "execution_count": 17,
     "metadata": {},
     "output_type": "execute_result"
    }
   ],
   "source": [
    "sample[sample['predicted_label'] == 0]['url'].head(20)"
   ]
  },
  {
   "cell_type": "code",
   "execution_count": 18,
   "metadata": {},
   "outputs": [
    {
     "data": {
      "text/plain": [
       "22    https://bookoutlet.com/Store/Details/978006220...\n",
       "23    https://bookoutlet.com/Store/Details/978152474...\n",
       "25    https://bookoutlet.com/Store/Details/978147677...\n",
       "26    https://bookoutlet.com/Store/Details/978067163...\n",
       "31    https://bookoutlet.com/Store/Details/978125010...\n",
       "34    https://bookoutlet.com/Store/Details/978031033...\n",
       "36    https://bookoutlet.com/Store/Details/978125006...\n",
       "39    https://bookoutlet.com/Store/Details/978031230...\n",
       "41    https://bookoutlet.com/Store/Details/978006443...\n",
       "43    https://bookoutlet.com/Store/Details/978140884...\n",
       "Name: url, dtype: object"
      ]
     },
     "execution_count": 18,
     "metadata": {},
     "output_type": "execute_result"
    }
   ],
   "source": [
    "sample[sample['predicted_label'] == 1]['url'].head(10)"
   ]
  },
  {
   "cell_type": "code",
   "execution_count": 19,
   "metadata": {},
   "outputs": [
    {
     "data": {
      "text/plain": [
       "8                     https://bookoutlet.com/Store/Browse\n",
       "14              https://bookoutlet.com/Store/Browse?Nc=71\n",
       "16              https://bookoutlet.com/Store/Browse?Nc=31\n",
       "1085          https://bookoutlet.com/Store/Browse?Nse=622\n",
       "1102    https://bookoutlet.com/Store/Browse?Nse=622&si...\n",
       "1104    https://bookoutlet.com/Store/Browse?Nse=622&si...\n",
       "1105    https://bookoutlet.com/Store/Browse?Nse=622&pa...\n",
       "1110    https://bookoutlet.com/Store/Browse?Nse=622&si...\n",
       "1120    https://bookoutlet.com/Store/Browse?Nse=622&pa...\n",
       "1122    https://bookoutlet.com/Store/Browse?Nse=622&pa...\n",
       "1127    https://bookoutlet.com/Store/Browse?Nse=622&pa...\n",
       "2123         https://bookoutlet.com/Store/Browse?Nse=1330\n",
       "2140          https://bookoutlet.com/Store/Browse?Nse=575\n",
       "2154    https://bookoutlet.com/Store/Browse?Nse=575&si...\n",
       "2174    https://bookoutlet.com/Store/Browse?Nse=575&pa...\n",
       "2506         https://bookoutlet.com/Store/Browse?Nse=1724\n",
       "2524    https://bookoutlet.com/Store/Browse?Nse=1724&s...\n",
       "2525    https://bookoutlet.com/Store/Browse?Nse=1724&s...\n",
       "2526    https://bookoutlet.com/Store/Browse?Nse=1724&s...\n",
       "2538    https://bookoutlet.com/Store/Browse?Nse=1724&p...\n",
       "2539    https://bookoutlet.com/Store/Browse?Nse=1724&p...\n",
       "2546    https://bookoutlet.com/Store/Browse?Nse=1724&p...\n",
       "5057         https://bookoutlet.com/Store/Browse?Nse=4190\n",
       "5074    https://bookoutlet.com/Store/Browse?Nse=4190&s...\n",
       "5075    https://bookoutlet.com/Store/Browse?Nse=4190&s...\n",
       "5077    https://bookoutlet.com/Store/Browse?Nse=4190&s...\n",
       "5078    https://bookoutlet.com/Store/Browse?Nse=4190&p...\n",
       "5093    https://bookoutlet.com/Store/Browse?Nse=4190&p...\n",
       "5096    https://bookoutlet.com/Store/Browse?Nse=4190&p...\n",
       "5097    https://bookoutlet.com/Store/Browse?Nse=4190&p...\n",
       "Name: url, dtype: object"
      ]
     },
     "execution_count": 19,
     "metadata": {},
     "output_type": "execute_result"
    }
   ],
   "source": [
    "sample[sample['predicted_label'] == 2]['url'].head(30)"
   ]
  },
  {
   "cell_type": "markdown",
   "metadata": {},
   "source": [
    "## Evaluate recall and precision"
   ]
  },
  {
   "cell_type": "code",
   "execution_count": 20,
   "metadata": {},
   "outputs": [
    {
     "name": "stdout",
     "output_type": "stream",
     "text": [
      "Recall is 0.9686528497409327\n",
      "Precision is 0.999109290104213\n"
     ]
    }
   ],
   "source": [
    "p1,r1=calculate_precision_and_recall(sample,clustering,'list',0)"
   ]
  },
  {
   "cell_type": "code",
   "execution_count": 21,
   "metadata": {},
   "outputs": [
    {
     "name": "stdout",
     "output_type": "stream",
     "text": [
      "Recall is 0.9989585503020204\n",
      "Precision is 0.9944018245905039\n"
     ]
    }
   ],
   "source": [
    "p1,r1=calculate_precision_and_recall(sample,clustering,'product',1)"
   ]
  },
  {
   "cell_type": "markdown",
   "metadata": {},
   "source": [
    "# DBSCAN algorithm"
   ]
  },
  {
   "cell_type": "code",
   "execution_count": 22,
   "metadata": {},
   "outputs": [
    {
     "name": "stdout",
     "output_type": "stream",
     "text": [
      "Elapsed time to calculate DBSCAN clustering:00:00:22.98\n"
     ]
    }
   ],
   "source": [
    "dbsclustering=dbscanclustering(tagcountmat,0.055,20)"
   ]
  },
  {
   "cell_type": "code",
   "execution_count": 23,
   "metadata": {},
   "outputs": [
    {
     "name": "stdout",
     "output_type": "stream",
     "text": [
      "There are [-1  0  1  2]clusters\n",
      "\n",
      "\n",
      "Cluster labels:\n"
     ]
    },
    {
     "data": {
      "text/plain": [
       "array([-1,  0,  1,  2])"
      ]
     },
     "execution_count": 23,
     "metadata": {},
     "output_type": "execute_result"
    }
   ],
   "source": [
    "predictedLabels = dbsclustering.labels_\n",
    "noOfClusters = np.unique(predictedLabels)\n",
    "sample['predicted_label'] = predictedLabels\n",
    "print('There are ' + str(noOfClusters) + 'clusters')\n",
    "print()\n",
    "print()\n",
    "print('Cluster labels:')\n",
    "noOfClusters"
   ]
  },
  {
   "cell_type": "code",
   "execution_count": 24,
   "metadata": {},
   "outputs": [
    {
     "name": "stdout",
     "output_type": "stream",
     "text": [
      "cluster n. 0 has 8 pages\n",
      "cluster n. 1 has 11450 pages\n",
      "cluster n. 2 has 4796 pages\n",
      "cluster n. 3 has 133 pages\n"
     ]
    }
   ],
   "source": [
    "cluster_fmt = 'cluster n. {} has {} pages'\n",
    "noOfPages = 0\n",
    "\n",
    "for index ,el in enumerate(noOfClusters):\n",
    "    print(cluster_fmt.format(index ,count_occurrences(predictedLabels,el)))"
   ]
  },
  {
   "cell_type": "code",
   "execution_count": 25,
   "metadata": {},
   "outputs": [
    {
     "name": "stdout",
     "output_type": "stream",
     "text": [
      "Recall is 0.9879101899827288\n",
      "Precision is 0.9991266375545852\n"
     ]
    }
   ],
   "source": [
    "p1,r1=calculate_precision_and_recall(sample,dbsclustering,'list',0)"
   ]
  },
  {
   "cell_type": "code",
   "execution_count": 26,
   "metadata": {},
   "outputs": [
    {
     "name": "stdout",
     "output_type": "stream",
     "text": [
      "Recall is 0.9989585503020204\n",
      "Precision is 1.0\n"
     ]
    }
   ],
   "source": [
    "p1,r1=calculate_precision_and_recall(sample,dbsclustering,'product',1)"
   ]
  }
 ],
 "metadata": {
  "kernelspec": {
   "display_name": "Python 3",
   "language": "python",
   "name": "python3"
  },
  "language_info": {
   "codemirror_mode": {
    "name": "ipython",
    "version": 3
   },
   "file_extension": ".py",
   "mimetype": "text/x-python",
   "name": "python",
   "nbconvert_exporter": "python",
   "pygments_lexer": "ipython3",
   "version": "3.7.3"
  }
 },
 "nbformat": 4,
 "nbformat_minor": 1
}
