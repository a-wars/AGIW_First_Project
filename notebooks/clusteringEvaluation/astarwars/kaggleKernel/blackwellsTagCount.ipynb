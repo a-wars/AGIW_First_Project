{
 "cells": [
  {
   "cell_type": "markdown",
   "metadata": {},
   "source": [
    "## Our clustering algorithm evaluation\n",
    "Evaluating our clustering algorithm on bookswagon.com pages. The aim is to calculate precision and recall for \"book details\" cluster and the \"catalog\" cluster in bookswagon.com."
   ]
  },
  {
   "cell_type": "code",
   "execution_count": 1,
   "metadata": {},
   "outputs": [
    {
     "data": {
      "text/plain": [
       "'../input/blackwells.csv'"
      ]
     },
     "execution_count": 1,
     "metadata": {},
     "output_type": "execute_result"
    }
   ],
   "source": [
    "# Importing libraries\n",
    "import numpy as np\n",
    "import pandas as pd\n",
    "import ast\n",
    "import time\n",
    "from sklearn.cluster import MeanShift, estimate_bandwidth, DBSCAN\n",
    "FILEPATH = '../input/blackwells.csv'\n",
    "FILEPATH"
   ]
  },
  {
   "cell_type": "code",
   "execution_count": 2,
   "metadata": {},
   "outputs": [],
   "source": [
    "df = pd.read_csv(FILEPATH, converters={'bitset': ast.literal_eval, 'tag_count': ast.literal_eval})"
   ]
  },
  {
   "cell_type": "markdown",
   "metadata": {},
   "source": [
    "## Data analisys\n",
    "Some preliminary analisys of the dataset"
   ]
  },
  {
   "cell_type": "code",
   "execution_count": 3,
   "metadata": {},
   "outputs": [
    {
     "name": "stdout",
     "output_type": "stream",
     "text": [
      "First 5 rows\n",
      "------------\n"
     ]
    },
    {
     "data": {
      "text/html": [
       "<div>\n",
       "<style scoped>\n",
       "    .dataframe tbody tr th:only-of-type {\n",
       "        vertical-align: middle;\n",
       "    }\n",
       "\n",
       "    .dataframe tbody tr th {\n",
       "        vertical-align: top;\n",
       "    }\n",
       "\n",
       "    .dataframe thead th {\n",
       "        text-align: right;\n",
       "    }\n",
       "</style>\n",
       "<table border=\"1\" class=\"dataframe\">\n",
       "  <thead>\n",
       "    <tr style=\"text-align: right;\">\n",
       "      <th></th>\n",
       "      <th>url</th>\n",
       "      <th>referer_url</th>\n",
       "      <th>src</th>\n",
       "      <th>shingle_vector</th>\n",
       "      <th>label</th>\n",
       "      <th>tag_count</th>\n",
       "      <th>bitset</th>\n",
       "    </tr>\n",
       "  </thead>\n",
       "  <tbody>\n",
       "    <tr>\n",
       "      <th>0</th>\n",
       "      <td>https://blackwells.co.uk/bookshop/basket</td>\n",
       "      <td>https://blackwells.co.uk/bookshop/home</td>\n",
       "      <td>\\n\\n\\n        \\n&lt;!DOCTYPE html&gt;\\n&lt;html lang=\"e...</td>\n",
       "      <td>(0, 1, 5, 1, 1, 6, 3, 1)</td>\n",
       "      <td>NaN</td>\n",
       "      <td>[0.0019569471624266144, 0.0019569471624266144,...</td>\n",
       "      <td>[1, 1, 0, 0, 0, 0, 1, 0, 0, 0, 1, 1, 0, 1, 1, ...</td>\n",
       "    </tr>\n",
       "    <tr>\n",
       "      <th>1</th>\n",
       "      <td>https://blackwells.co.uk/bookshop/search/</td>\n",
       "      <td>https://blackwells.co.uk/bookshop/home</td>\n",
       "      <td>\\n\\n\\n        \\n&lt;!DOCTYPE html&gt;\\n&lt;html lang=\"e...</td>\n",
       "      <td>(0, 1, 5, 1, 1, 0, 3, 0)</td>\n",
       "      <td>list</td>\n",
       "      <td>[0.0012970168612191958, 0.0012970168612191958,...</td>\n",
       "      <td>[0, 1, 0, 1, 0, 0, 1, 1, 0, 1, 1, 1, 0, 1, 1, ...</td>\n",
       "    </tr>\n",
       "    <tr>\n",
       "      <th>2</th>\n",
       "      <td>https://blackwells.co.uk/bookshop/home</td>\n",
       "      <td>https://blackwells.co.uk/bookshop/home</td>\n",
       "      <td>\\n\\n\\n        \\n&lt;!DOCTYPE html&gt;\\n&lt;html lang=\"e...</td>\n",
       "      <td>(0, 1, 0, 1, 0, 0, 3, 1)</td>\n",
       "      <td>NaN</td>\n",
       "      <td>[0.0011655011655011655, 0.0011655011655011655,...</td>\n",
       "      <td>[1, 1, 0, 0, 0, 1, 1, 0, 0, 0, 1, 1, 0, 1, 1, ...</td>\n",
       "    </tr>\n",
       "    <tr>\n",
       "      <th>3</th>\n",
       "      <td>https://blackwells.co.uk/bookshop/product/9781...</td>\n",
       "      <td>https://blackwells.co.uk/bookshop/home</td>\n",
       "      <td>\\n\\n\\n        \\n&lt;!DOCTYPE html&gt;\\n&lt;html lang=\"e...</td>\n",
       "      <td>(0, 1, 1, 1, 1, 0, 0, 1)</td>\n",
       "      <td>product</td>\n",
       "      <td>[0.0008116883116883117, 0.0008116883116883117,...</td>\n",
       "      <td>[1, 1, 0, 0, 1, 1, 1, 0, 0, 0, 1, 1, 1, 1, 1, ...</td>\n",
       "    </tr>\n",
       "    <tr>\n",
       "      <th>4</th>\n",
       "      <td>https://blackwells.co.uk/bookshop/mapping</td>\n",
       "      <td>https://blackwells.co.uk/bookshop/basket</td>\n",
       "      <td>\\n\\n\\n\\n\\n\\n&lt;!DOCTYPE html&gt;\\n&lt;html lang=\"en\" c...</td>\n",
       "      <td>(2, 22, 1, 1, 7, 15, 7, 5)</td>\n",
       "      <td>NaN</td>\n",
       "      <td>[0.008333333333333333, 0.008333333333333333, 0...</td>\n",
       "      <td>[0, 0, 0, 0, 0, 0, 0, 0, 0, 0, 0, 0, 0, 1, 0, ...</td>\n",
       "    </tr>\n",
       "  </tbody>\n",
       "</table>\n",
       "</div>"
      ],
      "text/plain": [
       "                                                 url                        ...                                                                     bitset\n",
       "0           https://blackwells.co.uk/bookshop/basket                        ...                          [1, 1, 0, 0, 0, 0, 1, 0, 0, 0, 1, 1, 0, 1, 1, ...\n",
       "1          https://blackwells.co.uk/bookshop/search/                        ...                          [0, 1, 0, 1, 0, 0, 1, 1, 0, 1, 1, 1, 0, 1, 1, ...\n",
       "2             https://blackwells.co.uk/bookshop/home                        ...                          [1, 1, 0, 0, 0, 1, 1, 0, 0, 0, 1, 1, 0, 1, 1, ...\n",
       "3  https://blackwells.co.uk/bookshop/product/9781...                        ...                          [1, 1, 0, 0, 1, 1, 1, 0, 0, 0, 1, 1, 1, 1, 1, ...\n",
       "4          https://blackwells.co.uk/bookshop/mapping                        ...                          [0, 0, 0, 0, 0, 0, 0, 0, 0, 0, 0, 0, 0, 1, 0, ...\n",
       "\n",
       "[5 rows x 7 columns]"
      ]
     },
     "execution_count": 3,
     "metadata": {},
     "output_type": "execute_result"
    }
   ],
   "source": [
    "print(\"First 5 rows\")\n",
    "print(\"------------\")\n",
    "df.head()"
   ]
  },
  {
   "cell_type": "code",
   "execution_count": 4,
   "metadata": {},
   "outputs": [
    {
     "name": "stdout",
     "output_type": "stream",
     "text": [
      "No. of rows and columns\n",
      "-----------------------\n"
     ]
    },
    {
     "data": {
      "text/plain": [
       "(10919, 7)"
      ]
     },
     "execution_count": 4,
     "metadata": {},
     "output_type": "execute_result"
    }
   ],
   "source": [
    "print(\"No. of rows and columns\")\n",
    "print(\"-----------------------\")\n",
    "df.shape"
   ]
  },
  {
   "cell_type": "code",
   "execution_count": 5,
   "metadata": {},
   "outputs": [
    {
     "name": "stdout",
     "output_type": "stream",
     "text": [
      "Check null values\n",
      "-----------------\n"
     ]
    },
    {
     "data": {
      "text/plain": [
       "True"
      ]
     },
     "execution_count": 5,
     "metadata": {},
     "output_type": "execute_result"
    }
   ],
   "source": [
    "print(\"Check null values\")\n",
    "print(\"-----------------\")\n",
    "df.isnull().any().any()"
   ]
  },
  {
   "cell_type": "code",
   "execution_count": 6,
   "metadata": {},
   "outputs": [
    {
     "name": "stdout",
     "output_type": "stream",
     "text": [
      "Check duplicate values\n",
      "----------------------\n"
     ]
    },
    {
     "data": {
      "text/plain": [
       "False"
      ]
     },
     "execution_count": 6,
     "metadata": {},
     "output_type": "execute_result"
    }
   ],
   "source": [
    "print(\"Check duplicate values\")\n",
    "print(\"----------------------\")\n",
    "len(df['url'].unique()) != df.shape[0]"
   ]
  },
  {
   "cell_type": "code",
   "execution_count": 7,
   "metadata": {},
   "outputs": [
    {
     "name": "stdout",
     "output_type": "stream",
     "text": [
      "DataFrame column types\n",
      "----------------------\n",
      "<class 'pandas.core.frame.DataFrame'>\n",
      "RangeIndex: 10919 entries, 0 to 10918\n",
      "Data columns (total 7 columns):\n",
      "url               10919 non-null object\n",
      "referer_url       10919 non-null object\n",
      "src               10919 non-null object\n",
      "shingle_vector    10919 non-null object\n",
      "label             10899 non-null object\n",
      "tag_count         10919 non-null object\n",
      "bitset            10919 non-null object\n",
      "dtypes: object(7)\n",
      "memory usage: 597.2+ KB\n"
     ]
    }
   ],
   "source": [
    "print(\"DataFrame column types\")\n",
    "print(\"----------------------\")\n",
    "df.info()"
   ]
  },
  {
   "cell_type": "code",
   "execution_count": 8,
   "metadata": {},
   "outputs": [
    {
     "name": "stdout",
     "output_type": "stream",
     "text": [
      "There are 20 row with no label\n",
      "There are 10405 row with product label\n",
      "There are 494 row with list label\n"
     ]
    }
   ],
   "source": [
    "fmt_string = 'There are {} row with {} label'\n",
    "print(fmt_string.format(len(df[df['label'].isnull()]),'no'))\n",
    "print(fmt_string.format(len(df[df['label']=='product']), 'product'))\n",
    "print(fmt_string.format(len(df[df['label']=='list']), 'list'))"
   ]
  },
  {
   "cell_type": "markdown",
   "metadata": {},
   "source": [
    "## Run MeanShift clustering algorithm\n",
    "### Import all necessary functions"
   ]
  },
  {
   "cell_type": "code",
   "execution_count": 9,
   "metadata": {},
   "outputs": [],
   "source": [
    "#from astarwars_clustering.utils import utility\n",
    "\n",
    "def pad_vector(vec, n):\n",
    "    for i in range(n):\n",
    "        vec.append(0)\n",
    "\n",
    "def pad_matrix_elem(matrix, lastvec):\n",
    "    maxlen=len(lastvec)\n",
    "    matrixlen=len(matrix)\n",
    "    for i in range(matrixlen):\n",
    "        elem_topad=maxlen-len(matrix[i])\n",
    "        pad_vector(matrix[i], elem_topad)\n",
    "\n",
    "#cluster di cataloghi e di prodotti\n",
    "def count_occurrences(vec,n):\n",
    "    occ=0\n",
    "    for el in vec:\n",
    "        if el==n:\n",
    "            occ=occ+1\n",
    "    return occ"
   ]
  },
  {
   "cell_type": "code",
   "execution_count": 10,
   "metadata": {},
   "outputs": [],
   "source": [
    "#from astarwars_clustering.clustering.structural_clustering import dbscanclustering, meanshiftclustering\n",
    "def meanshiftclustering(featurematrix,bandwidth=None):\n",
    "    start = time.time()\n",
    "    clustering=None\n",
    "    if bandwidth is not None:\n",
    "        clustering = MeanShift(bandwidth=bandwidth).fit(featurematrix)\n",
    "    else:\n",
    "        clustering = MeanShift().fit(featurematrix)\n",
    "    end = time.time()\n",
    "    hours, rem = divmod(end - start, 3600)\n",
    "    minutes, seconds = divmod(rem, 60)\n",
    "    print(\"Elapsed time to calculate MeanShift clustering:{:0>2}:{:0>2}:{:05.2f}\".format(int(hours), int(minutes), seconds))\n",
    "    return clustering\n",
    "\n",
    "\n",
    "#if eps is specified also min_samples will be not null for convention\n",
    "def dbscanclustering(featurematrix,epsValue=None,min_samplesValue=None):\n",
    "    start = time.time()\n",
    "    clustering=None\n",
    "    if epsValue is not None:\n",
    "        clustering = DBSCAN(eps=epsValue, min_samples=min_samplesValue).fit(featurematrix)\n",
    "    else:\n",
    "        clustering = DBSCAN().fit(featurematrix)\n",
    "    end = time.time()\n",
    "    hours, rem = divmod(end - start, 3600)\n",
    "    minutes, seconds = divmod(rem, 60)\n",
    "    print(\"Elapsed time to calculate DBSCAN clustering:{:0>2}:{:0>2}:{:05.2f}\".format(int(hours), int(minutes), seconds))\n",
    "    return clustering"
   ]
  },
  {
   "cell_type": "code",
   "execution_count": 11,
   "metadata": {},
   "outputs": [],
   "source": [
    "#from astarwars_clustering.clustering import clusteringevaluation\n",
    "\n",
    "#predictedlabel rappresenta l'etichetta del clustering su cui vogliamo calcolare precision e recall\n",
    "def calculate_precision_and_recall(df, clustering, selectedlabel, predictedlabel):\n",
    "\n",
    "    labels = clustering.labels_\n",
    "    df['predicted_labels'] = labels\n",
    "    selectedelements = count_occurrences(labels, predictedlabel)\n",
    "\n",
    "    truepositive = 0\n",
    "    allpositives = len(df[df['label'] == selectedlabel])\n",
    "\n",
    "    for index, row in df.iterrows():\n",
    "        if row['label'] == selectedlabel and row['predicted_labels'] == predictedlabel:\n",
    "            truepositive += 1\n",
    "\n",
    "    fmt_string='{} is {}'\n",
    "    recall = truepositive/allpositives\n",
    "    precision = truepositive/selectedelements\n",
    "\n",
    "    print(fmt_string.format('Recall', recall))\n",
    "    print(fmt_string.format('Precision', precision))\n",
    "\n",
    "    return precision, recall"
   ]
  },
  {
   "cell_type": "code",
   "execution_count": 12,
   "metadata": {},
   "outputs": [],
   "source": [
    "sample=df\n",
    "bitsetmat=sample['bitset'].tolist()\n",
    "tagcountmat=sample['tag_count'].tolist()"
   ]
  },
  {
   "cell_type": "code",
   "execution_count": 13,
   "metadata": {},
   "outputs": [
    {
     "name": "stdout",
     "output_type": "stream",
     "text": [
      "Elapsed time to calculate MeanShift clustering:00:17:06.90\n"
     ]
    }
   ],
   "source": [
    "clustering = meanshiftclustering(tagcountmat,0.07)"
   ]
  },
  {
   "cell_type": "code",
   "execution_count": 14,
   "metadata": {},
   "outputs": [
    {
     "name": "stdout",
     "output_type": "stream",
     "text": [
      "There are 20 row with no label\n",
      "There are 10405 row with product label\n",
      "There are 494 row with list label\n"
     ]
    }
   ],
   "source": [
    "print(fmt_string.format(len(sample[sample['label'].isnull()]),'no'))\n",
    "print(fmt_string.format(len(sample[sample['label']=='product']), 'product'))\n",
    "print(fmt_string.format(len(sample[sample['label']=='list']), 'list'))"
   ]
  },
  {
   "cell_type": "code",
   "execution_count": 15,
   "metadata": {},
   "outputs": [
    {
     "name": "stdout",
     "output_type": "stream",
     "text": [
      "There are 12 clusters\n",
      "\n",
      "\n",
      "Cluster labels:\n"
     ]
    },
    {
     "data": {
      "text/plain": [
       "array([ 0,  1,  2,  3,  4,  5,  6,  7,  8,  9, 10, 11])"
      ]
     },
     "execution_count": 15,
     "metadata": {},
     "output_type": "execute_result"
    }
   ],
   "source": [
    "predictedLabels = clustering.labels_\n",
    "noOfClusters = np.unique(predictedLabels)\n",
    "sample['predicted_label'] = predictedLabels\n",
    "print('There are ' + str(len(noOfClusters)) + ' clusters')\n",
    "print()\n",
    "print()\n",
    "print('Cluster labels:')\n",
    "noOfClusters"
   ]
  },
  {
   "cell_type": "code",
   "execution_count": 16,
   "metadata": {},
   "outputs": [
    {
     "name": "stdout",
     "output_type": "stream",
     "text": [
      "cluster n. 0 has 10411 pages\n",
      "cluster n. 1 has 319 pages\n",
      "cluster n. 2 has 180 pages\n",
      "cluster n. 3 has 1 pages\n",
      "cluster n. 4 has 1 pages\n",
      "cluster n. 5 has 1 pages\n",
      "cluster n. 6 has 1 pages\n",
      "cluster n. 7 has 1 pages\n",
      "cluster n. 8 has 1 pages\n",
      "cluster n. 9 has 1 pages\n",
      "cluster n. 10 has 1 pages\n",
      "cluster n. 11 has 1 pages\n"
     ]
    }
   ],
   "source": [
    "cluster_fmt = 'cluster n. {} has {} pages'\n",
    "noOfPages = 0\n",
    "\n",
    "for index ,el in enumerate(noOfClusters):\n",
    "    print(cluster_fmt.format(index ,count_occurrences(predictedLabels,el)))"
   ]
  },
  {
   "cell_type": "code",
   "execution_count": 17,
   "metadata": {},
   "outputs": [
    {
     "data": {
      "text/plain": [
       "0              https://blackwells.co.uk/bookshop/basket\n",
       "2                https://blackwells.co.uk/bookshop/home\n",
       "3     https://blackwells.co.uk/bookshop/product/9781...\n",
       "6     https://blackwells.co.uk/bookshop/editorial/wi...\n",
       "7     https://blackwells.co.uk/bookshop/editorial/co...\n",
       "12    https://blackwells.co.uk/bookshop/editorial/Ki...\n",
       "16           https://blackwells.co.uk/bookshop/Students\n",
       "21    https://blackwells.co.uk/bookshop/product/Kudo...\n",
       "23    https://blackwells.co.uk/bookshop/product/Will...\n",
       "24    https://blackwells.co.uk/bookshop/product/Will...\n",
       "26    https://blackwells.co.uk/bookshop/product/Rele...\n",
       "35    https://blackwells.co.uk/bookshop/product/Game...\n",
       "38    https://blackwells.co.uk/bookshop/product/The-...\n",
       "40    https://blackwells.co.uk/bookshop/product/The-...\n",
       "41    https://blackwells.co.uk/bookshop/product/Mr-S...\n",
       "42    https://blackwells.co.uk/bookshop/product/Our-...\n",
       "43    https://blackwells.co.uk/bookshop/product/Pete...\n",
       "44    https://blackwells.co.uk/bookshop/product/Roof...\n",
       "45    https://blackwells.co.uk/bookshop/product/Harr...\n",
       "46    https://blackwells.co.uk/bookshop/product/The-...\n",
       "Name: url, dtype: object"
      ]
     },
     "execution_count": 17,
     "metadata": {},
     "output_type": "execute_result"
    }
   ],
   "source": [
    "sample[sample['predicted_label'] == 0]['url'].head(20)"
   ]
  },
  {
   "cell_type": "code",
   "execution_count": 18,
   "metadata": {},
   "outputs": [
    {
     "data": {
      "text/plain": [
       "13      https://blackwells.co.uk/bookshop/category/_top\n",
       "15    https://blackwells.co.uk/bookshop/category/_bi...\n",
       "17    https://blackwells.co.uk/bookshop/category/_ar...\n",
       "22      https://blackwells.co.uk/bookshop/wellcomeshop/\n",
       "33        https://blackwells.co.uk/bookshop/bestsellers\n",
       "34    https://blackwells.co.uk/bookshop/category/_bi...\n",
       "37    https://blackwells.co.uk/bookshop/category/_ar...\n",
       "39    https://blackwells.co.uk/bookshop/collection/O...\n",
       "58    https://blackwells.co.uk/bookshop/category/_ar...\n",
       "82    https://blackwells.co.uk/bookshop/category/_ar...\n",
       "Name: url, dtype: object"
      ]
     },
     "execution_count": 18,
     "metadata": {},
     "output_type": "execute_result"
    }
   ],
   "source": [
    "sample[sample['predicted_label'] == 1]['url'].head(10)"
   ]
  },
  {
   "cell_type": "code",
   "execution_count": 19,
   "metadata": {},
   "outputs": [
    {
     "data": {
      "text/plain": [
       "1               https://blackwells.co.uk/bookshop/search/\n",
       "18      https://blackwells.co.uk/bookshop/editorial/sl...\n",
       "20      https://blackwells.co.uk/bookshop/category/978...\n",
       "27      https://blackwells.co.uk/bookshop/category/nul...\n",
       "28      https://blackwells.co.uk/bookshop/category/nul...\n",
       "29        https://blackwells.co.uk/bookshop/category/null\n",
       "30      https://blackwells.co.uk/bookshop/category/nul...\n",
       "31      https://blackwells.co.uk/bookshop/category/nul...\n",
       "32      https://blackwells.co.uk/bookshop/category/nul...\n",
       "36      https://blackwells.co.uk/bookshop/search/autho...\n",
       "236     https://blackwells.co.uk/bookshop/search/autho...\n",
       "348     https://blackwells.co.uk/bookshop/search/autho...\n",
       "349     https://blackwells.co.uk/bookshop/search/autho...\n",
       "362     https://blackwells.co.uk/bookshop/search?autho...\n",
       "469     https://blackwells.co.uk/bookshop/search/autho...\n",
       "506     https://blackwells.co.uk/bookshop/search/autho...\n",
       "557     https://blackwells.co.uk/bookshop/search/autho...\n",
       "735     https://blackwells.co.uk/bookshop/search/autho...\n",
       "761     https://blackwells.co.uk/bookshop/search/autho...\n",
       "1110    https://blackwells.co.uk/bookshop/search/autho...\n",
       "1184    https://blackwells.co.uk/bookshop/search/autho...\n",
       "1198    https://blackwells.co.uk/bookshop/search?autho...\n",
       "1419    https://blackwells.co.uk/bookshop/search/autho...\n",
       "1536    https://blackwells.co.uk/bookshop/search/autho...\n",
       "1696    https://blackwells.co.uk/bookshop/search/autho...\n",
       "1704    https://blackwells.co.uk/bookshop/search/autho...\n",
       "1731    https://blackwells.co.uk/bookshop/search/autho...\n",
       "1776    https://blackwells.co.uk/bookshop/search/publi...\n",
       "1908    https://blackwells.co.uk/bookshop/search/autho...\n",
       "1913    https://blackwells.co.uk/bookshop/search/autho...\n",
       "Name: url, dtype: object"
      ]
     },
     "execution_count": 19,
     "metadata": {},
     "output_type": "execute_result"
    }
   ],
   "source": [
    "sample[sample['predicted_label'] == 2]['url'].head(30)"
   ]
  },
  {
   "cell_type": "markdown",
   "metadata": {},
   "source": [
    "## Evaluate recall and precision"
   ]
  },
  {
   "cell_type": "code",
   "execution_count": 20,
   "metadata": {},
   "outputs": [
    {
     "name": "stdout",
     "output_type": "stream",
     "text": [
      "Recall is 0.6376518218623481\n",
      "Precision is 0.987460815047022\n"
     ]
    }
   ],
   "source": [
    "p1,r1=calculate_precision_and_recall(sample,clustering,'list',1)"
   ]
  },
  {
   "cell_type": "code",
   "execution_count": 21,
   "metadata": {},
   "outputs": [
    {
     "name": "stdout",
     "output_type": "stream",
     "text": [
      "Recall is 1.0\n",
      "Precision is 0.9994236864854481\n"
     ]
    }
   ],
   "source": [
    "p1,r1=calculate_precision_and_recall(sample,clustering,'product',0)"
   ]
  },
  {
   "cell_type": "markdown",
   "metadata": {},
   "source": [
    "# DBSCAN algorithm"
   ]
  },
  {
   "cell_type": "code",
   "execution_count": 22,
   "metadata": {},
   "outputs": [
    {
     "name": "stdout",
     "output_type": "stream",
     "text": [
      "Elapsed time to calculate DBSCAN clustering:00:00:48.13\n"
     ]
    }
   ],
   "source": [
    "dbsclustering=dbscanclustering(tagcountmat,0.055,20)"
   ]
  },
  {
   "cell_type": "code",
   "execution_count": 23,
   "metadata": {},
   "outputs": [
    {
     "name": "stdout",
     "output_type": "stream",
     "text": [
      "There are 3 clusters\n",
      "\n",
      "\n",
      "Cluster labels:\n"
     ]
    },
    {
     "data": {
      "text/plain": [
       "array([-1,  0,  1])"
      ]
     },
     "execution_count": 23,
     "metadata": {},
     "output_type": "execute_result"
    }
   ],
   "source": [
    "predictedLabels = dbsclustering.labels_\n",
    "noOfClusters = np.unique(predictedLabels)\n",
    "sample['predicted_label'] = predictedLabels\n",
    "print('There are ' + str(len(noOfClusters)) + ' clusters')\n",
    "print()\n",
    "print()\n",
    "print('Cluster labels:')\n",
    "noOfClusters"
   ]
  },
  {
   "cell_type": "code",
   "execution_count": 24,
   "metadata": {},
   "outputs": [
    {
     "name": "stdout",
     "output_type": "stream",
     "text": [
      "cluster n. 0 has 15 pages\n",
      "cluster n. 1 has 10409 pages\n",
      "cluster n. 2 has 495 pages\n"
     ]
    }
   ],
   "source": [
    "cluster_fmt = 'cluster n. {} has {} pages'\n",
    "noOfPages = 0\n",
    "\n",
    "for index ,el in enumerate(noOfClusters):\n",
    "    print(cluster_fmt.format(index ,count_occurrences(predictedLabels,el)))"
   ]
  },
  {
   "cell_type": "code",
   "execution_count": 25,
   "metadata": {},
   "outputs": [
    {
     "data": {
      "text/plain": [
       "2                https://blackwells.co.uk/bookshop/home\n",
       "3     https://blackwells.co.uk/bookshop/product/9781...\n",
       "6     https://blackwells.co.uk/bookshop/editorial/wi...\n",
       "12    https://blackwells.co.uk/bookshop/editorial/Ki...\n",
       "16           https://blackwells.co.uk/bookshop/Students\n",
       "21    https://blackwells.co.uk/bookshop/product/Kudo...\n",
       "23    https://blackwells.co.uk/bookshop/product/Will...\n",
       "24    https://blackwells.co.uk/bookshop/product/Will...\n",
       "26    https://blackwells.co.uk/bookshop/product/Rele...\n",
       "35    https://blackwells.co.uk/bookshop/product/Game...\n",
       "38    https://blackwells.co.uk/bookshop/product/The-...\n",
       "40    https://blackwells.co.uk/bookshop/product/The-...\n",
       "41    https://blackwells.co.uk/bookshop/product/Mr-S...\n",
       "42    https://blackwells.co.uk/bookshop/product/Our-...\n",
       "43    https://blackwells.co.uk/bookshop/product/Pete...\n",
       "44    https://blackwells.co.uk/bookshop/product/Roof...\n",
       "45    https://blackwells.co.uk/bookshop/product/Harr...\n",
       "46    https://blackwells.co.uk/bookshop/product/The-...\n",
       "47    https://blackwells.co.uk/bookshop/product/Youn...\n",
       "48    https://blackwells.co.uk/bookshop/product/You-...\n",
       "Name: url, dtype: object"
      ]
     },
     "execution_count": 25,
     "metadata": {},
     "output_type": "execute_result"
    }
   ],
   "source": [
    "sample[sample['predicted_label'] == 0]['url'].head(20)"
   ]
  },
  {
   "cell_type": "code",
   "execution_count": 26,
   "metadata": {},
   "outputs": [
    {
     "data": {
      "text/plain": [
       "13       https://blackwells.co.uk/bookshop/category/_top\n",
       "15     https://blackwells.co.uk/bookshop/category/_bi...\n",
       "17     https://blackwells.co.uk/bookshop/category/_ar...\n",
       "20     https://blackwells.co.uk/bookshop/category/978...\n",
       "27     https://blackwells.co.uk/bookshop/category/nul...\n",
       "28     https://blackwells.co.uk/bookshop/category/nul...\n",
       "29       https://blackwells.co.uk/bookshop/category/null\n",
       "30     https://blackwells.co.uk/bookshop/category/nul...\n",
       "31     https://blackwells.co.uk/bookshop/category/nul...\n",
       "32     https://blackwells.co.uk/bookshop/category/nul...\n",
       "33         https://blackwells.co.uk/bookshop/bestsellers\n",
       "34     https://blackwells.co.uk/bookshop/category/_bi...\n",
       "36     https://blackwells.co.uk/bookshop/search/autho...\n",
       "37     https://blackwells.co.uk/bookshop/category/_ar...\n",
       "39     https://blackwells.co.uk/bookshop/collection/O...\n",
       "58     https://blackwells.co.uk/bookshop/category/_ar...\n",
       "82     https://blackwells.co.uk/bookshop/category/_ar...\n",
       "108    https://blackwells.co.uk/bookshop/category/_ar...\n",
       "122    https://blackwells.co.uk/bookshop/collection/V...\n",
       "130    https://blackwells.co.uk/bookshop/category/_ar...\n",
       "Name: url, dtype: object"
      ]
     },
     "execution_count": 26,
     "metadata": {},
     "output_type": "execute_result"
    }
   ],
   "source": [
    "sample[sample['predicted_label'] == 1]['url'].head(20)"
   ]
  },
  {
   "cell_type": "code",
   "execution_count": 27,
   "metadata": {},
   "outputs": [
    {
     "data": {
      "text/plain": [
       "Series([], Name: url, dtype: object)"
      ]
     },
     "execution_count": 27,
     "metadata": {},
     "output_type": "execute_result"
    }
   ],
   "source": [
    "sample[sample['predicted_label'] == 2]['url'].head(20)"
   ]
  },
  {
   "cell_type": "code",
   "execution_count": 28,
   "metadata": {},
   "outputs": [
    {
     "name": "stdout",
     "output_type": "stream",
     "text": [
      "Recall is 0.9959514170040485\n",
      "Precision is 0.9939393939393939\n"
     ]
    }
   ],
   "source": [
    "p1,r1=calculate_precision_and_recall(sample,dbsclustering,'list',1)"
   ]
  },
  {
   "cell_type": "code",
   "execution_count": 29,
   "metadata": {},
   "outputs": [
    {
     "name": "stdout",
     "output_type": "stream",
     "text": [
      "Recall is 1.0\n",
      "Precision is 0.9996157171678355\n"
     ]
    }
   ],
   "source": [
    "p1,r1=calculate_precision_and_recall(sample,dbsclustering,'product',0)"
   ]
  }
 ],
 "metadata": {
  "kernelspec": {
   "display_name": "Python 3",
   "language": "python",
   "name": "python3"
  },
  "language_info": {
   "codemirror_mode": {
    "name": "ipython",
    "version": 3
   },
   "file_extension": ".py",
   "mimetype": "text/x-python",
   "name": "python",
   "nbconvert_exporter": "python",
   "pygments_lexer": "ipython3",
   "version": "3.7.3"
  }
 },
 "nbformat": 4,
 "nbformat_minor": 1
}
