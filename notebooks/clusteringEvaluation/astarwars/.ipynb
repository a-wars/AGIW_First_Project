{
 "cells": [
  {
   "cell_type": "markdown",
   "metadata": {},
   "source": [
    "## Our clustering algorithm evaluation\n",
    "Evaluating our clustering algorithm on bookswagon.com pages. The aim is to calculate precision and recall for \"book details\" cluster and the \"catalog\" cluster in bookswagon.com."
   ]
  },
  {
   "cell_type": "code",
   "execution_count": 1,
   "metadata": {},
   "outputs": [
    {
     "data": {
      "text/plain": [
       "'../../../datasets/bookswagon.csv'"
      ]
     },
     "execution_count": 1,
     "metadata": {},
     "output_type": "execute_result"
    }
   ],
   "source": [
    "# Importing libraries\n",
    "import pandas as pd\n",
    "FILEPATH = '../../../datasets/bookswagon.csv'\n",
    "FILEPATH"
   ]
  },
  {
   "cell_type": "code",
   "execution_count": 2,
   "metadata": {},
   "outputs": [],
   "source": [
    "df = pd.read_csv(FILEPATH,nrows=2000)"
   ]
  },
  {
   "cell_type": "markdown",
   "metadata": {},
   "source": [
    "## Data analisys\n",
    "Some preliminary analisys of the dataset"
   ]
  },
  {
   "cell_type": "code",
   "execution_count": 3,
   "metadata": {},
   "outputs": [
    {
     "name": "stdout",
     "output_type": "stream",
     "text": [
      "First 5 rows\n",
      "------------\n"
     ]
    },
    {
     "data": {
      "text/html": [
       "<div>\n",
       "<style scoped>\n",
       "    .dataframe tbody tr th:only-of-type {\n",
       "        vertical-align: middle;\n",
       "    }\n",
       "\n",
       "    .dataframe tbody tr th {\n",
       "        vertical-align: top;\n",
       "    }\n",
       "\n",
       "    .dataframe thead th {\n",
       "        text-align: right;\n",
       "    }\n",
       "</style>\n",
       "<table border=\"1\" class=\"dataframe\">\n",
       "  <thead>\n",
       "    <tr style=\"text-align: right;\">\n",
       "      <th></th>\n",
       "      <th>url</th>\n",
       "      <th>referer_url</th>\n",
       "      <th>src</th>\n",
       "      <th>shingle_vector</th>\n",
       "      <th>label</th>\n",
       "    </tr>\n",
       "  </thead>\n",
       "  <tbody>\n",
       "    <tr>\n",
       "      <th>0</th>\n",
       "      <td>https://www.bookswagon.com/</td>\n",
       "      <td>https://www.bookswagon.com/</td>\n",
       "      <td>\\r\\n&lt;!DOCTYPE html PUBLIC \"-//W3C//DTD XHTML 1...</td>\n",
       "      <td>(0, 3, 6, 4, 0, 2, 10, 1)</td>\n",
       "      <td>NaN</td>\n",
       "    </tr>\n",
       "    <tr>\n",
       "      <th>1</th>\n",
       "      <td>https://www.bookswagon.com/view-books/0/new-ar...</td>\n",
       "      <td>https://www.bookswagon.com/</td>\n",
       "      <td>\\r\\n&lt;!DOCTYPE html PUBLIC \"-//W3C//DTD XHTML 1...</td>\n",
       "      <td>(1, 3, 6, 4, 0, 2, 5, 1)</td>\n",
       "      <td>list</td>\n",
       "    </tr>\n",
       "    <tr>\n",
       "      <th>2</th>\n",
       "      <td>https://www.bookswagon.com/travel-holiday-books</td>\n",
       "      <td>https://www.bookswagon.com/</td>\n",
       "      <td>\\r\\n&lt;!DOCTYPE html PUBLIC \"-//W3C//DTD XHTML 1...</td>\n",
       "      <td>(1, 3, 6, 4, 0, 2, 5, 1)</td>\n",
       "      <td>list</td>\n",
       "    </tr>\n",
       "    <tr>\n",
       "      <th>3</th>\n",
       "      <td>https://www.bookswagon.com/all-categories/1000-0</td>\n",
       "      <td>https://www.bookswagon.com/</td>\n",
       "      <td>\\r\\n&lt;!DOCTYPE html PUBLIC \"-//W3C//DTD XHTML 1...</td>\n",
       "      <td>(7, 3, 3, 4, 0, 2, 10, 1)</td>\n",
       "      <td>NaN</td>\n",
       "    </tr>\n",
       "    <tr>\n",
       "      <th>4</th>\n",
       "      <td>https://www.bookswagon.com/view-books/4/textbook</td>\n",
       "      <td>https://www.bookswagon.com/</td>\n",
       "      <td>\\r\\n&lt;!DOCTYPE html PUBLIC \"-//W3C//DTD XHTML 1...</td>\n",
       "      <td>(1, 3, 6, 4, 0, 2, 5, 1)</td>\n",
       "      <td>list</td>\n",
       "    </tr>\n",
       "  </tbody>\n",
       "</table>\n",
       "</div>"
      ],
      "text/plain": [
       "                                                 url  \\\n",
       "0                        https://www.bookswagon.com/   \n",
       "1  https://www.bookswagon.com/view-books/0/new-ar...   \n",
       "2    https://www.bookswagon.com/travel-holiday-books   \n",
       "3   https://www.bookswagon.com/all-categories/1000-0   \n",
       "4   https://www.bookswagon.com/view-books/4/textbook   \n",
       "\n",
       "                   referer_url  \\\n",
       "0  https://www.bookswagon.com/   \n",
       "1  https://www.bookswagon.com/   \n",
       "2  https://www.bookswagon.com/   \n",
       "3  https://www.bookswagon.com/   \n",
       "4  https://www.bookswagon.com/   \n",
       "\n",
       "                                                 src  \\\n",
       "0  \\r\\n<!DOCTYPE html PUBLIC \"-//W3C//DTD XHTML 1...   \n",
       "1  \\r\\n<!DOCTYPE html PUBLIC \"-//W3C//DTD XHTML 1...   \n",
       "2  \\r\\n<!DOCTYPE html PUBLIC \"-//W3C//DTD XHTML 1...   \n",
       "3  \\r\\n<!DOCTYPE html PUBLIC \"-//W3C//DTD XHTML 1...   \n",
       "4  \\r\\n<!DOCTYPE html PUBLIC \"-//W3C//DTD XHTML 1...   \n",
       "\n",
       "              shingle_vector label  \n",
       "0  (0, 3, 6, 4, 0, 2, 10, 1)   NaN  \n",
       "1   (1, 3, 6, 4, 0, 2, 5, 1)  list  \n",
       "2   (1, 3, 6, 4, 0, 2, 5, 1)  list  \n",
       "3  (7, 3, 3, 4, 0, 2, 10, 1)   NaN  \n",
       "4   (1, 3, 6, 4, 0, 2, 5, 1)  list  "
      ]
     },
     "execution_count": 3,
     "metadata": {},
     "output_type": "execute_result"
    }
   ],
   "source": [
    "print(\"First 5 rows\")\n",
    "print(\"------------\")\n",
    "df.head()"
   ]
  },
  {
   "cell_type": "code",
   "execution_count": 4,
   "metadata": {},
   "outputs": [
    {
     "name": "stdout",
     "output_type": "stream",
     "text": [
      "No. of rows and columns\n",
      "-----------------------\n"
     ]
    },
    {
     "data": {
      "text/plain": [
       "(2000, 5)"
      ]
     },
     "execution_count": 4,
     "metadata": {},
     "output_type": "execute_result"
    }
   ],
   "source": [
    "print(\"No. of rows and columns\")\n",
    "print(\"-----------------------\")\n",
    "df.shape"
   ]
  },
  {
   "cell_type": "code",
   "execution_count": 6,
   "metadata": {},
   "outputs": [
    {
     "name": "stdout",
     "output_type": "stream",
     "text": [
      "Check null values\n",
      "-----------------\n"
     ]
    },
    {
     "data": {
      "text/plain": [
       "True"
      ]
     },
     "execution_count": 6,
     "metadata": {},
     "output_type": "execute_result"
    }
   ],
   "source": [
    "print(\"Check null values\")\n",
    "print(\"-----------------\")\n",
    "df.isnull().any().any()"
   ]
  },
  {
   "cell_type": "code",
   "execution_count": 7,
   "metadata": {},
   "outputs": [
    {
     "name": "stdout",
     "output_type": "stream",
     "text": [
      "Check duplicate values\n",
      "----------------------\n"
     ]
    },
    {
     "data": {
      "text/plain": [
       "False"
      ]
     },
     "execution_count": 7,
     "metadata": {},
     "output_type": "execute_result"
    }
   ],
   "source": [
    "print(\"Check duplicate values\")\n",
    "print(\"----------------------\")\n",
    "len(df['url'].unique()) != df.shape[0]"
   ]
  },
  {
   "cell_type": "code",
   "execution_count": 8,
   "metadata": {},
   "outputs": [
    {
     "name": "stdout",
     "output_type": "stream",
     "text": [
      "DataFrame column types\n",
      "----------------------\n",
      "<class 'pandas.core.frame.DataFrame'>\n",
      "RangeIndex: 3000 entries, 0 to 2999\n",
      "Data columns (total 5 columns):\n",
      "url               3000 non-null object\n",
      "referer_url       3000 non-null object\n",
      "src               3000 non-null object\n",
      "shingle_vector    3000 non-null object\n",
      "label             1962 non-null object\n",
      "dtypes: object(5)\n",
      "memory usage: 117.3+ KB\n"
     ]
    }
   ],
   "source": [
    "print(\"DataFrame column types\")\n",
    "print(\"----------------------\")\n",
    "df.info()"
   ]
  },
  {
   "cell_type": "code",
   "execution_count": 5,
   "metadata": {},
   "outputs": [
    {
     "name": "stdout",
     "output_type": "stream",
     "text": [
      "Some stats\n",
      "----------------\n"
     ]
    },
    {
     "data": {
      "text/html": [
       "<div>\n",
       "<style scoped>\n",
       "    .dataframe tbody tr th:only-of-type {\n",
       "        vertical-align: middle;\n",
       "    }\n",
       "\n",
       "    .dataframe tbody tr th {\n",
       "        vertical-align: top;\n",
       "    }\n",
       "\n",
       "    .dataframe thead th {\n",
       "        text-align: right;\n",
       "    }\n",
       "</style>\n",
       "<table border=\"1\" class=\"dataframe\">\n",
       "  <thead>\n",
       "    <tr style=\"text-align: right;\">\n",
       "      <th></th>\n",
       "      <th>url</th>\n",
       "      <th>referer_url</th>\n",
       "      <th>src</th>\n",
       "      <th>shingle_vector</th>\n",
       "      <th>label</th>\n",
       "    </tr>\n",
       "  </thead>\n",
       "  <tbody>\n",
       "    <tr>\n",
       "      <th>count</th>\n",
       "      <td>2000</td>\n",
       "      <td>2000</td>\n",
       "      <td>2000</td>\n",
       "      <td>2000</td>\n",
       "      <td>1279</td>\n",
       "    </tr>\n",
       "    <tr>\n",
       "      <th>unique</th>\n",
       "      <td>2000</td>\n",
       "      <td>1018</td>\n",
       "      <td>2000</td>\n",
       "      <td>26</td>\n",
       "      <td>2</td>\n",
       "    </tr>\n",
       "    <tr>\n",
       "      <th>top</th>\n",
       "      <td>https://www.bookswagon.com/shoppingcart.aspx?p...</td>\n",
       "      <td>https://www.bookswagon.com/</td>\n",
       "      <td>\\r\\n&lt;!DOCTYPE html PUBLIC \"-//W3C//DTD XHTML 1...</td>\n",
       "      <td>(0, 2, 5, 0, 0, 0, 6, 1)</td>\n",
       "      <td>product</td>\n",
       "    </tr>\n",
       "    <tr>\n",
       "      <th>freq</th>\n",
       "      <td>1</td>\n",
       "      <td>18</td>\n",
       "      <td>1</td>\n",
       "      <td>845</td>\n",
       "      <td>1052</td>\n",
       "    </tr>\n",
       "  </tbody>\n",
       "</table>\n",
       "</div>"
      ],
      "text/plain": [
       "                                                      url  \\\n",
       "count                                                2000   \n",
       "unique                                               2000   \n",
       "top     https://www.bookswagon.com/shoppingcart.aspx?p...   \n",
       "freq                                                    1   \n",
       "\n",
       "                        referer_url  \\\n",
       "count                          2000   \n",
       "unique                         1018   \n",
       "top     https://www.bookswagon.com/   \n",
       "freq                             18   \n",
       "\n",
       "                                                      src  \\\n",
       "count                                                2000   \n",
       "unique                                               2000   \n",
       "top     \\r\\n<!DOCTYPE html PUBLIC \"-//W3C//DTD XHTML 1...   \n",
       "freq                                                    1   \n",
       "\n",
       "                  shingle_vector    label  \n",
       "count                       2000     1279  \n",
       "unique                        26        2  \n",
       "top     (0, 2, 5, 0, 0, 0, 6, 1)  product  \n",
       "freq                         845     1052  "
      ]
     },
     "execution_count": 5,
     "metadata": {},
     "output_type": "execute_result"
    }
   ],
   "source": [
    "print(\"Some stats\")\n",
    "print(\"----------------\")\n",
    "df.describe()"
   ]
  },
  {
   "cell_type": "code",
   "execution_count": 6,
   "metadata": {},
   "outputs": [
    {
     "name": "stdout",
     "output_type": "stream",
     "text": [
      "There are 721 row with no label\n",
      "There are 1052 row with product label\n",
      "There are 227 row with list label\n"
     ]
    }
   ],
   "source": [
    "fmt_string = 'There are {} row with {} label'\n",
    "print(fmt_string.format(len(df[df['label'].isnull()]),'no'))\n",
    "print(fmt_string.format(len(df[df['label']=='product']), 'product'))\n",
    "print(fmt_string.format(len(df[df['label']=='list']), 'list'))"
   ]
  },
  {
   "cell_type": "markdown",
   "metadata": {},
   "source": [
    "## Run MeanShift clustering algorithm"
   ]
  },
  {
   "cell_type": "code",
   "execution_count": 7,
   "metadata": {},
   "outputs": [],
   "source": [
    "#add top level folder to sys.path\n",
    "import sys\n",
    "sys.path.append('../../../')"
   ]
  },
  {
   "cell_type": "code",
   "execution_count": 8,
   "metadata": {},
   "outputs": [],
   "source": [
    "from astarwars_clustering.clustering import clusteringevaluation\n",
    "from astarwars_clustering.utils import utility\n",
    "from astarwars_clustering.clustering.structural_clustering import dbscanclustering, meanshiftclustering, createFeatureMatrix"
   ]
  },
  {
   "cell_type": "code",
   "execution_count": 9,
   "metadata": {},
   "outputs": [
    {
     "data": {
      "text/html": [
       "<div>\n",
       "<style scoped>\n",
       "    .dataframe tbody tr th:only-of-type {\n",
       "        vertical-align: middle;\n",
       "    }\n",
       "\n",
       "    .dataframe tbody tr th {\n",
       "        vertical-align: top;\n",
       "    }\n",
       "\n",
       "    .dataframe thead th {\n",
       "        text-align: right;\n",
       "    }\n",
       "</style>\n",
       "<table border=\"1\" class=\"dataframe\">\n",
       "  <thead>\n",
       "    <tr style=\"text-align: right;\">\n",
       "      <th></th>\n",
       "      <th>url</th>\n",
       "      <th>referer_url</th>\n",
       "      <th>src</th>\n",
       "      <th>shingle_vector</th>\n",
       "      <th>label</th>\n",
       "    </tr>\n",
       "  </thead>\n",
       "  <tbody>\n",
       "    <tr>\n",
       "      <th>710</th>\n",
       "      <td>https://www.bookswagon.com/shoppingcart.aspx?&amp;...</td>\n",
       "      <td>https://www.bookswagon.com/author/colin-nicholson</td>\n",
       "      <td>\\r\\n&lt;!DOCTYPE html PUBLIC \"-//W3C//DTD XHTML 1...</td>\n",
       "      <td>(2, 3, 13, 2, 3, 2, 7, 0)</td>\n",
       "      <td>NaN</td>\n",
       "    </tr>\n",
       "    <tr>\n",
       "      <th>506</th>\n",
       "      <td>https://www.bookswagon.com/book/mathematical-s...</td>\n",
       "      <td>https://www.bookswagon.com/book/evidencebased-...</td>\n",
       "      <td>\\r\\n&lt;!DOCTYPE html PUBLIC \"-//W3C//DTD XHTML 1...</td>\n",
       "      <td>(0, 2, 5, 0, 0, 0, 6, 1)</td>\n",
       "      <td>product</td>\n",
       "    </tr>\n",
       "    <tr>\n",
       "      <th>562</th>\n",
       "      <td>https://www.bookswagon.com/book/chinese-televi...</td>\n",
       "      <td>https://www.bookswagon.com/book/american-telev...</td>\n",
       "      <td>\\r\\n&lt;!DOCTYPE html PUBLIC \"-//W3C//DTD XHTML 1...</td>\n",
       "      <td>(0, 2, 5, 0, 0, 0, 6, 1)</td>\n",
       "      <td>product</td>\n",
       "    </tr>\n",
       "    <tr>\n",
       "      <th>410</th>\n",
       "      <td>https://www.bookswagon.com/book/das-m-rchen-un...</td>\n",
       "      <td>https://www.bookswagon.com/book/burke-int-fran...</td>\n",
       "      <td>\\r\\n&lt;!DOCTYPE html PUBLIC \"-//W3C//DTD XHTML 1...</td>\n",
       "      <td>(0, 2, 5, 0, 0, 0, 6, 1)</td>\n",
       "      <td>product</td>\n",
       "    </tr>\n",
       "    <tr>\n",
       "      <th>229</th>\n",
       "      <td>https://www.bookswagon.com/author/brent-wood</td>\n",
       "      <td>https://www.bookswagon.com/book/sexts-brent-wo...</td>\n",
       "      <td>\\r\\n&lt;!DOCTYPE html PUBLIC \"-//W3C//DTD XHTML 1...</td>\n",
       "      <td>(0, 3, 6, 4, 0, 2, 5, 1)</td>\n",
       "      <td>list</td>\n",
       "    </tr>\n",
       "  </tbody>\n",
       "</table>\n",
       "</div>"
      ],
      "text/plain": [
       "                                                   url  \\\n",
       "710  https://www.bookswagon.com/shoppingcart.aspx?&...   \n",
       "506  https://www.bookswagon.com/book/mathematical-s...   \n",
       "562  https://www.bookswagon.com/book/chinese-televi...   \n",
       "410  https://www.bookswagon.com/book/das-m-rchen-un...   \n",
       "229       https://www.bookswagon.com/author/brent-wood   \n",
       "\n",
       "                                           referer_url  \\\n",
       "710  https://www.bookswagon.com/author/colin-nicholson   \n",
       "506  https://www.bookswagon.com/book/evidencebased-...   \n",
       "562  https://www.bookswagon.com/book/american-telev...   \n",
       "410  https://www.bookswagon.com/book/burke-int-fran...   \n",
       "229  https://www.bookswagon.com/book/sexts-brent-wo...   \n",
       "\n",
       "                                                   src  \\\n",
       "710  \\r\\n<!DOCTYPE html PUBLIC \"-//W3C//DTD XHTML 1...   \n",
       "506  \\r\\n<!DOCTYPE html PUBLIC \"-//W3C//DTD XHTML 1...   \n",
       "562  \\r\\n<!DOCTYPE html PUBLIC \"-//W3C//DTD XHTML 1...   \n",
       "410  \\r\\n<!DOCTYPE html PUBLIC \"-//W3C//DTD XHTML 1...   \n",
       "229  \\r\\n<!DOCTYPE html PUBLIC \"-//W3C//DTD XHTML 1...   \n",
       "\n",
       "                shingle_vector    label  \n",
       "710  (2, 3, 13, 2, 3, 2, 7, 0)      NaN  \n",
       "506   (0, 2, 5, 0, 0, 0, 6, 1)  product  \n",
       "562   (0, 2, 5, 0, 0, 0, 6, 1)  product  \n",
       "410   (0, 2, 5, 0, 0, 0, 6, 1)  product  \n",
       "229   (0, 3, 6, 4, 0, 2, 5, 1)     list  "
      ]
     },
     "execution_count": 9,
     "metadata": {},
     "output_type": "execute_result"
    }
   ],
   "source": [
    "sample2000 = df.sample(2000)\n",
    "sample2000.head()"
   ]
  },
  {
   "cell_type": "code",
   "execution_count": 10,
   "metadata": {},
   "outputs": [
    {
     "name": "stdout",
     "output_type": "stream",
     "text": [
      "There are 721 row with no label\n",
      "There are 1052 row with product label\n",
      "There are 227 row with list label\n"
     ]
    }
   ],
   "source": [
    "print(fmt_string.format(len(sample2000[sample2000['label'].isnull()]),'no'))\n",
    "print(fmt_string.format(len(sample2000[sample2000['label']=='product']), 'product'))\n",
    "print(fmt_string.format(len(sample2000[sample2000['label']=='list']), 'list'))"
   ]
  },
  {
   "cell_type": "code",
   "execution_count": 11,
   "metadata": {},
   "outputs": [
    {
     "name": "stdout",
     "output_type": "stream",
     "text": [
      "Elapsed time to calculate features:00:03:30.85\n"
     ]
    }
   ],
   "source": [
    "featureMatrix = createFeatureMatrix(df['src'])"
   ]
  },
  {
   "cell_type": "code",
   "execution_count": 12,
   "metadata": {},
   "outputs": [
    {
     "name": "stdout",
     "output_type": "stream",
     "text": [
      "Elapsed time to calculate MeanShift clustering:00:00:22.75\n"
     ]
    }
   ],
   "source": [
    "msclustering = meanshiftclustering(0.1, featureMatrix)"
   ]
  },
  {
   "cell_type": "code",
   "execution_count": 36,
   "metadata": {},
   "outputs": [
    {
     "name": "stdout",
     "output_type": "stream",
     "text": [
      "1404\n",
      "351\n",
      "18\n",
      "15\n",
      "2\n",
      "2\n",
      "9\n",
      "193\n",
      "1\n",
      "1\n",
      "1\n",
      "1\n",
      "1\n",
      "1\n",
      "Recall is 0.8935361216730038\n",
      "Precision is 0.6695156695156695\n",
      "Recall is 0.02643171806167401\n",
      "Precision is 0.4\n"
     ]
    }
   ],
   "source": [
    "import numpy as np\n",
    "meanShiftPredictedLabels = msclustering.labels_\n",
    "noOfClusters = np.unique(meanShiftPredictedLabels)\n",
    "\n",
    "for el in noOfClusters:\n",
    "    print(utility.count_occurrences(meanShiftPredictedLabels,el))\n",
    "\n",
    "p1,r1=clusteringevaluation.calculate_precision_and_recall(df,msclustering,'product',0)\n",
    "p1,r1=clusteringevaluation.calculate_precision_and_recall(df,msclustering,'list',3)"
   ]
  },
  {
   "cell_type": "code",
   "execution_count": 54,
   "metadata": {},
   "outputs": [
    {
     "name": "stdout",
     "output_type": "stream",
     "text": [
      "[0 1 2 3 4 5 6 7 8 9]\n",
      "402\n",
      "153\n",
      "319\n",
      "236\n",
      "11\n",
      "95\n",
      "330\n",
      "39\n",
      "1\n",
      "414\n",
      "Recall is 0.31749049429657794\n",
      "Precision is 0.8067632850241546\n",
      "Recall is 0.02643171806167401\n",
      "Precision is 0.0392156862745098\n"
     ]
    }
   ],
   "source": [
    "from sklearn.cluster import KMeans\n",
    "kmeansclustering=KMeans(n_clusters=10).fit(X=featureMatrix)\n",
    "\n",
    "nclusterskmeans=np.unique(kmeansclustering.labels_)\n",
    "print(nclusterskmeans)\n",
    "kmeanslabels=kmeansclustering.labels_\n",
    "\n",
    "for el in nclusterskmeans:\n",
    "    print(utility.count_occurrences(kmeanslabels,el))\n",
    "p1,r1=clusteringevaluation.calculate_precision_and_recall(df,kmeansclustering,'product',9)\n",
    "p1,r1=clusteringevaluation.calculate_precision_and_recall(df,kmeansclustering,'list',1)"
   ]
  },
  {
   "cell_type": "code",
   "execution_count": 52,
   "metadata": {},
   "outputs": [
    {
     "ename": "TypeError",
     "evalue": "'DBSCAN' object is not callable",
     "output_type": "error",
     "traceback": [
      "\u001b[0;31m---------------------------------------------------------------------------\u001b[0m",
      "\u001b[0;31mTypeError\u001b[0m                                 Traceback (most recent call last)",
      "\u001b[0;32m<ipython-input-52-914adefa6623>\u001b[0m in \u001b[0;36m<module>\u001b[0;34m\u001b[0m\n\u001b[0;32m----> 1\u001b[0;31m \u001b[0mdbscanclustering\u001b[0m\u001b[0;34m=\u001b[0m\u001b[0mdbscanclustering\u001b[0m\u001b[0;34m(\u001b[0m\u001b[0mfeatureMatrix\u001b[0m\u001b[0;34m)\u001b[0m\u001b[0;34m\u001b[0m\u001b[0;34m\u001b[0m\u001b[0m\n\u001b[0m",
      "\u001b[0;31mTypeError\u001b[0m: 'DBSCAN' object is not callable"
     ]
    }
   ],
   "source": [
    "dbscanclustering=dbscanclustering(featureMatrix)"
   ]
  },
  {
   "cell_type": "code",
   "execution_count": 16,
   "metadata": {},
   "outputs": [
    {
     "data": {
      "text/plain": [
       "array([-1,  0,  1])"
      ]
     },
     "execution_count": 16,
     "metadata": {},
     "output_type": "execute_result"
    }
   ],
   "source": [
    "dbscanLabels= dbscanclustering.labels_\n",
    "noOfClusters=np.unique(dbscanLabels)\n",
    "noOfClusters"
   ]
  },
  {
   "cell_type": "code",
   "execution_count": 18,
   "metadata": {},
   "outputs": [
    {
     "name": "stdout",
     "output_type": "stream",
     "text": [
      "Recall is 1.0\n",
      "Precision is 0.6522008679479231\n"
     ]
    }
   ],
   "source": [
    "from astarwars_clustering.clustering import clusteringevaluation\n",
    "p1,r1=clusteringevaluation.calculate_precision_and_recall(df,dbscanclustering,'product',0)"
   ]
  },
  {
   "cell_type": "code",
   "execution_count": 23,
   "metadata": {},
   "outputs": [
    {
     "name": "stdout",
     "output_type": "stream",
     "text": [
      "Recall is 1.0\n",
      "Precision is 0.1407315561066336\n"
     ]
    }
   ],
   "source": [
    "p1,r1=clusteringevaluation.calculate_precision_and_recall(df,dbscanclustering,'list',0)"
   ]
  },
  {
   "cell_type": "markdown",
   "metadata": {},
   "source": [
    "So there are - clusters"
   ]
  },
  {
   "cell_type": "code",
   "execution_count": null,
   "metadata": {},
   "outputs": [],
   "source": [
    "\"\"\"\n",
    "cluster_fmt = 'cluster n. {} has {} pages'\n",
    "noOfPages = 0\n",
    "for i in range(noOfClusters):\n",
    "    clusterSize = len(cluster[1])\n",
    "    print(cluster_fmt.format(index +1 , clusterSize))\n",
    "    noOfPages += clusterSize\n",
    "print()\n",
    "print('{} pages were clustered using Foxlink\\'s clustering algorithm. {} pages were discarded'.format(noOfPages, len(df.index) - noOfPages))\n",
    "\"\"\"\n"
   ]
  }
 ],
 "metadata": {
  "kernelspec": {
   "display_name": "Python 3",
   "language": "python",
   "name": "python3"
  },
  "language_info": {
   "codemirror_mode": {
    "name": "ipython",
    "version": 3
   },
   "file_extension": ".py",
   "mimetype": "text/x-python",
   "name": "python",
   "nbconvert_exporter": "python",
   "pygments_lexer": "ipython3",
   "version": "3.6.7"
  }
 },
 "nbformat": 4,
 "nbformat_minor": 2
}
