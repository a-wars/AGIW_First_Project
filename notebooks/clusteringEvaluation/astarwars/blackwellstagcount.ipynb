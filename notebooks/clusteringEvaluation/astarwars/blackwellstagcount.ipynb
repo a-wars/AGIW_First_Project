{
 "cells": [
  {
   "cell_type": "markdown",
   "metadata": {},
   "source": [
    "## Our clustering algorithm evaluation\n",
    "Evaluating our clustering algorithm on bookswagon.com pages. The aim is to calculate precision and recall for \"book details\" cluster and the \"catalog\" cluster in bookswagon.com."
   ]
  },
  {
   "cell_type": "code",
   "execution_count": 1,
   "metadata": {},
   "outputs": [
    {
     "data": {
      "text/plain": [
       "'../../../datasets/blackwells.csv'"
      ]
     },
     "execution_count": 1,
     "metadata": {},
     "output_type": "execute_result"
    }
   ],
   "source": [
    "# Importing libraries\n",
    "import numpy as np\n",
    "import pandas as pd\n",
    "import ast\n",
    "FILEPATH = '../../../datasets/blackwells.csv'\n",
    "FILEPATH"
   ]
  },
  {
   "cell_type": "code",
   "execution_count": 2,
   "metadata": {},
   "outputs": [],
   "source": [
    "df = pd.read_csv(FILEPATH, converters={'bitset': ast.literal_eval, 'tag_count': ast.literal_eval})"
   ]
  },
  {
   "cell_type": "markdown",
   "metadata": {},
   "source": [
    "## Data analisys\n",
    "Some preliminary analisys of the dataset"
   ]
  },
  {
   "cell_type": "code",
   "execution_count": 3,
   "metadata": {},
   "outputs": [
    {
     "name": "stdout",
     "output_type": "stream",
     "text": [
      "First 5 rows\n",
      "------------\n"
     ]
    },
    {
     "data": {
      "text/html": [
       "<div>\n",
       "<style scoped>\n",
       "    .dataframe tbody tr th:only-of-type {\n",
       "        vertical-align: middle;\n",
       "    }\n",
       "\n",
       "    .dataframe tbody tr th {\n",
       "        vertical-align: top;\n",
       "    }\n",
       "\n",
       "    .dataframe thead th {\n",
       "        text-align: right;\n",
       "    }\n",
       "</style>\n",
       "<table border=\"1\" class=\"dataframe\">\n",
       "  <thead>\n",
       "    <tr style=\"text-align: right;\">\n",
       "      <th></th>\n",
       "      <th>url</th>\n",
       "      <th>referer_url</th>\n",
       "      <th>src</th>\n",
       "      <th>shingle_vector</th>\n",
       "      <th>label</th>\n",
       "      <th>tag_count</th>\n",
       "      <th>bitset</th>\n",
       "    </tr>\n",
       "  </thead>\n",
       "  <tbody>\n",
       "    <tr>\n",
       "      <th>0</th>\n",
       "      <td>https://blackwells.co.uk/bookshop/basket</td>\n",
       "      <td>https://blackwells.co.uk/bookshop/home</td>\n",
       "      <td>\\n\\n\\n        \\n&lt;!DOCTYPE html&gt;\\n&lt;html lang=\"e...</td>\n",
       "      <td>(0, 1, 5, 1, 1, 6, 3, 1)</td>\n",
       "      <td>NaN</td>\n",
       "      <td>[0.0019569471624266144, 0.0019569471624266144,...</td>\n",
       "      <td>[1, 1, 0, 0, 0, 0, 1, 0, 0, 0, 1, 1, 0, 1, 1, ...</td>\n",
       "    </tr>\n",
       "    <tr>\n",
       "      <th>1</th>\n",
       "      <td>https://blackwells.co.uk/bookshop/search/</td>\n",
       "      <td>https://blackwells.co.uk/bookshop/home</td>\n",
       "      <td>\\n\\n\\n        \\n&lt;!DOCTYPE html&gt;\\n&lt;html lang=\"e...</td>\n",
       "      <td>(0, 1, 5, 1, 1, 0, 3, 0)</td>\n",
       "      <td>list</td>\n",
       "      <td>[0.0012970168612191958, 0.0012970168612191958,...</td>\n",
       "      <td>[0, 1, 0, 1, 0, 0, 1, 1, 0, 1, 1, 1, 0, 1, 1, ...</td>\n",
       "    </tr>\n",
       "    <tr>\n",
       "      <th>2</th>\n",
       "      <td>https://blackwells.co.uk/bookshop/home</td>\n",
       "      <td>https://blackwells.co.uk/bookshop/home</td>\n",
       "      <td>\\n\\n\\n        \\n&lt;!DOCTYPE html&gt;\\n&lt;html lang=\"e...</td>\n",
       "      <td>(0, 1, 0, 1, 0, 0, 3, 1)</td>\n",
       "      <td>NaN</td>\n",
       "      <td>[0.0011655011655011655, 0.0011655011655011655,...</td>\n",
       "      <td>[1, 1, 0, 0, 0, 1, 1, 0, 0, 0, 1, 1, 0, 1, 1, ...</td>\n",
       "    </tr>\n",
       "    <tr>\n",
       "      <th>3</th>\n",
       "      <td>https://blackwells.co.uk/bookshop/product/9781...</td>\n",
       "      <td>https://blackwells.co.uk/bookshop/home</td>\n",
       "      <td>\\n\\n\\n        \\n&lt;!DOCTYPE html&gt;\\n&lt;html lang=\"e...</td>\n",
       "      <td>(0, 1, 1, 1, 1, 0, 0, 1)</td>\n",
       "      <td>product</td>\n",
       "      <td>[0.0008116883116883117, 0.0008116883116883117,...</td>\n",
       "      <td>[1, 1, 0, 0, 1, 1, 1, 0, 0, 0, 1, 1, 1, 1, 1, ...</td>\n",
       "    </tr>\n",
       "    <tr>\n",
       "      <th>4</th>\n",
       "      <td>https://blackwells.co.uk/bookshop/mapping</td>\n",
       "      <td>https://blackwells.co.uk/bookshop/basket</td>\n",
       "      <td>\\n\\n\\n\\n\\n\\n&lt;!DOCTYPE html&gt;\\n&lt;html lang=\"en\" c...</td>\n",
       "      <td>(2, 22, 1, 1, 7, 15, 7, 5)</td>\n",
       "      <td>NaN</td>\n",
       "      <td>[0.008333333333333333, 0.008333333333333333, 0...</td>\n",
       "      <td>[0, 0, 0, 0, 0, 0, 0, 0, 0, 0, 0, 0, 0, 1, 0, ...</td>\n",
       "    </tr>\n",
       "  </tbody>\n",
       "</table>\n",
       "</div>"
      ],
      "text/plain": [
       "                                                 url  \\\n",
       "0           https://blackwells.co.uk/bookshop/basket   \n",
       "1          https://blackwells.co.uk/bookshop/search/   \n",
       "2             https://blackwells.co.uk/bookshop/home   \n",
       "3  https://blackwells.co.uk/bookshop/product/9781...   \n",
       "4          https://blackwells.co.uk/bookshop/mapping   \n",
       "\n",
       "                                referer_url  \\\n",
       "0    https://blackwells.co.uk/bookshop/home   \n",
       "1    https://blackwells.co.uk/bookshop/home   \n",
       "2    https://blackwells.co.uk/bookshop/home   \n",
       "3    https://blackwells.co.uk/bookshop/home   \n",
       "4  https://blackwells.co.uk/bookshop/basket   \n",
       "\n",
       "                                                 src  \\\n",
       "0  \\n\\n\\n        \\n<!DOCTYPE html>\\n<html lang=\"e...   \n",
       "1  \\n\\n\\n        \\n<!DOCTYPE html>\\n<html lang=\"e...   \n",
       "2  \\n\\n\\n        \\n<!DOCTYPE html>\\n<html lang=\"e...   \n",
       "3  \\n\\n\\n        \\n<!DOCTYPE html>\\n<html lang=\"e...   \n",
       "4  \\n\\n\\n\\n\\n\\n<!DOCTYPE html>\\n<html lang=\"en\" c...   \n",
       "\n",
       "               shingle_vector    label  \\\n",
       "0    (0, 1, 5, 1, 1, 6, 3, 1)      NaN   \n",
       "1    (0, 1, 5, 1, 1, 0, 3, 0)     list   \n",
       "2    (0, 1, 0, 1, 0, 0, 3, 1)      NaN   \n",
       "3    (0, 1, 1, 1, 1, 0, 0, 1)  product   \n",
       "4  (2, 22, 1, 1, 7, 15, 7, 5)      NaN   \n",
       "\n",
       "                                           tag_count  \\\n",
       "0  [0.0019569471624266144, 0.0019569471624266144,...   \n",
       "1  [0.0012970168612191958, 0.0012970168612191958,...   \n",
       "2  [0.0011655011655011655, 0.0011655011655011655,...   \n",
       "3  [0.0008116883116883117, 0.0008116883116883117,...   \n",
       "4  [0.008333333333333333, 0.008333333333333333, 0...   \n",
       "\n",
       "                                              bitset  \n",
       "0  [1, 1, 0, 0, 0, 0, 1, 0, 0, 0, 1, 1, 0, 1, 1, ...  \n",
       "1  [0, 1, 0, 1, 0, 0, 1, 1, 0, 1, 1, 1, 0, 1, 1, ...  \n",
       "2  [1, 1, 0, 0, 0, 1, 1, 0, 0, 0, 1, 1, 0, 1, 1, ...  \n",
       "3  [1, 1, 0, 0, 1, 1, 1, 0, 0, 0, 1, 1, 1, 1, 1, ...  \n",
       "4  [0, 0, 0, 0, 0, 0, 0, 0, 0, 0, 0, 0, 0, 1, 0, ...  "
      ]
     },
     "execution_count": 3,
     "metadata": {},
     "output_type": "execute_result"
    }
   ],
   "source": [
    "print(\"First 5 rows\")\n",
    "print(\"------------\")\n",
    "df.head()"
   ]
  },
  {
   "cell_type": "code",
   "execution_count": 4,
   "metadata": {},
   "outputs": [
    {
     "name": "stdout",
     "output_type": "stream",
     "text": [
      "No. of rows and columns\n",
      "-----------------------\n"
     ]
    },
    {
     "data": {
      "text/plain": [
       "(10919, 7)"
      ]
     },
     "execution_count": 4,
     "metadata": {},
     "output_type": "execute_result"
    }
   ],
   "source": [
    "print(\"No. of rows and columns\")\n",
    "print(\"-----------------------\")\n",
    "df.shape"
   ]
  },
  {
   "cell_type": "code",
   "execution_count": 5,
   "metadata": {},
   "outputs": [
    {
     "name": "stdout",
     "output_type": "stream",
     "text": [
      "Check null values\n",
      "-----------------\n"
     ]
    },
    {
     "data": {
      "text/plain": [
       "True"
      ]
     },
     "execution_count": 5,
     "metadata": {},
     "output_type": "execute_result"
    }
   ],
   "source": [
    "print(\"Check null values\")\n",
    "print(\"-----------------\")\n",
    "df.isnull().any().any()"
   ]
  },
  {
   "cell_type": "code",
   "execution_count": 6,
   "metadata": {},
   "outputs": [
    {
     "name": "stdout",
     "output_type": "stream",
     "text": [
      "Check duplicate values\n",
      "----------------------\n"
     ]
    },
    {
     "data": {
      "text/plain": [
       "False"
      ]
     },
     "execution_count": 6,
     "metadata": {},
     "output_type": "execute_result"
    }
   ],
   "source": [
    "print(\"Check duplicate values\")\n",
    "print(\"----------------------\")\n",
    "len(df['url'].unique()) != df.shape[0]"
   ]
  },
  {
   "cell_type": "code",
   "execution_count": 7,
   "metadata": {},
   "outputs": [
    {
     "name": "stdout",
     "output_type": "stream",
     "text": [
      "DataFrame column types\n",
      "----------------------\n",
      "<class 'pandas.core.frame.DataFrame'>\n",
      "RangeIndex: 10919 entries, 0 to 10918\n",
      "Data columns (total 7 columns):\n",
      "url               10919 non-null object\n",
      "referer_url       10919 non-null object\n",
      "src               10919 non-null object\n",
      "shingle_vector    10919 non-null object\n",
      "label             10899 non-null object\n",
      "tag_count         10919 non-null object\n",
      "bitset            10919 non-null object\n",
      "dtypes: object(7)\n",
      "memory usage: 597.2+ KB\n"
     ]
    }
   ],
   "source": [
    "print(\"DataFrame column types\")\n",
    "print(\"----------------------\")\n",
    "df.info()"
   ]
  },
  {
   "cell_type": "code",
   "execution_count": 8,
   "metadata": {},
   "outputs": [
    {
     "name": "stdout",
     "output_type": "stream",
     "text": [
      "Some stats\n",
      "----------------\n"
     ]
    },
    {
     "data": {
      "text/html": [
       "<div>\n",
       "<style scoped>\n",
       "    .dataframe tbody tr th:only-of-type {\n",
       "        vertical-align: middle;\n",
       "    }\n",
       "\n",
       "    .dataframe tbody tr th {\n",
       "        vertical-align: top;\n",
       "    }\n",
       "\n",
       "    .dataframe thead th {\n",
       "        text-align: right;\n",
       "    }\n",
       "</style>\n",
       "<table border=\"1\" class=\"dataframe\">\n",
       "  <thead>\n",
       "    <tr style=\"text-align: right;\">\n",
       "      <th></th>\n",
       "      <th>url</th>\n",
       "      <th>referer_url</th>\n",
       "      <th>src</th>\n",
       "      <th>shingle_vector</th>\n",
       "      <th>label</th>\n",
       "    </tr>\n",
       "  </thead>\n",
       "  <tbody>\n",
       "    <tr>\n",
       "      <th>count</th>\n",
       "      <td>10919</td>\n",
       "      <td>10919</td>\n",
       "      <td>10919</td>\n",
       "      <td>10919</td>\n",
       "      <td>10899</td>\n",
       "    </tr>\n",
       "    <tr>\n",
       "      <th>unique</th>\n",
       "      <td>10919</td>\n",
       "      <td>6375</td>\n",
       "      <td>10525</td>\n",
       "      <td>73</td>\n",
       "      <td>2</td>\n",
       "    </tr>\n",
       "    <tr>\n",
       "      <th>top</th>\n",
       "      <td>https://blackwells.co.uk/bookshop/product/Fool...</td>\n",
       "      <td>https://blackwells.co.uk/bookshop/home</td>\n",
       "      <td>\\n\\n\\n        \\n&lt;!DOCTYPE html&gt;\\n&lt;html lang=\"e...</td>\n",
       "      <td>(0, 1, 5, 0, 1, 0, 3, 0)</td>\n",
       "      <td>product</td>\n",
       "    </tr>\n",
       "    <tr>\n",
       "      <th>freq</th>\n",
       "      <td>1</td>\n",
       "      <td>12</td>\n",
       "      <td>7</td>\n",
       "      <td>2197</td>\n",
       "      <td>10405</td>\n",
       "    </tr>\n",
       "  </tbody>\n",
       "</table>\n",
       "</div>"
      ],
      "text/plain": [
       "                                                      url  \\\n",
       "count                                               10919   \n",
       "unique                                              10919   \n",
       "top     https://blackwells.co.uk/bookshop/product/Fool...   \n",
       "freq                                                    1   \n",
       "\n",
       "                                   referer_url  \\\n",
       "count                                    10919   \n",
       "unique                                    6375   \n",
       "top     https://blackwells.co.uk/bookshop/home   \n",
       "freq                                        12   \n",
       "\n",
       "                                                      src  \\\n",
       "count                                               10919   \n",
       "unique                                              10525   \n",
       "top     \\n\\n\\n        \\n<!DOCTYPE html>\\n<html lang=\"e...   \n",
       "freq                                                    7   \n",
       "\n",
       "                  shingle_vector    label  \n",
       "count                      10919    10899  \n",
       "unique                        73        2  \n",
       "top     (0, 1, 5, 0, 1, 0, 3, 0)  product  \n",
       "freq                        2197    10405  "
      ]
     },
     "execution_count": 8,
     "metadata": {},
     "output_type": "execute_result"
    }
   ],
   "source": [
    "print(\"Some stats\")\n",
    "print(\"----------------\")\n",
    "df[['url','referer_url','src','shingle_vector','label']].describe()"
   ]
  },
  {
   "cell_type": "code",
   "execution_count": 9,
   "metadata": {},
   "outputs": [
    {
     "name": "stdout",
     "output_type": "stream",
     "text": [
      "There are 20 row with no label\n",
      "There are 10405 row with product label\n",
      "There are 494 row with list label\n"
     ]
    }
   ],
   "source": [
    "fmt_string = 'There are {} row with {} label'\n",
    "print(fmt_string.format(len(df[df['label'].isnull()]),'no'))\n",
    "print(fmt_string.format(len(df[df['label']=='product']), 'product'))\n",
    "print(fmt_string.format(len(df[df['label']=='list']), 'list'))"
   ]
  },
  {
   "cell_type": "markdown",
   "metadata": {},
   "source": [
    "## Run MeanShift clustering algorithm"
   ]
  },
  {
   "cell_type": "code",
   "execution_count": 10,
   "metadata": {},
   "outputs": [],
   "source": [
    "#add top level folder to sys.path\n",
    "import sys\n",
    "sys.path.append('../../../')"
   ]
  },
  {
   "cell_type": "code",
   "execution_count": 11,
   "metadata": {},
   "outputs": [],
   "source": [
    "from astarwars_clustering.clustering import clusteringevaluation\n",
    "from astarwars_clustering.utils import utility\n",
    "from astarwars_clustering.clustering.structural_clustering import dbscanclustering, meanshiftclustering"
   ]
  },
  {
   "cell_type": "code",
   "execution_count": null,
   "metadata": {},
   "outputs": [],
   "source": [
    "clustering = meanshiftclustering(featurematrix=df['tag_count'].tolist())"
   ]
  },
  {
   "cell_type": "code",
   "execution_count": null,
   "metadata": {},
   "outputs": [],
   "source": [
    "predictedLabels = clustering.labels_\n",
    "noOfClusters = np.unique(predictedLabels)\n",
    "df['predicted_label'] = predictedLabels\n",
    "print('There are ' + str(noOfClusters) + 'clusters')\n",
    "print()\n",
    "print()\n",
    "print('Cluster labels:')\n",
    "noOfClusters"
   ]
  },
  {
   "cell_type": "code",
   "execution_count": null,
   "metadata": {},
   "outputs": [],
   "source": [
    "cluster_fmt = 'cluster n. {} has {} pages'\n",
    "noOfPages = 0\n",
    "\n",
    "for index ,el in enumerate(noOfClusters):\n",
    "    print(cluster_fmt.format(index ,utility.count_occurrences(predictedLabels,el)))"
   ]
  },
  {
   "cell_type": "code",
   "execution_count": null,
   "metadata": {},
   "outputs": [],
   "source": []
  },
  {
   "cell_type": "code",
   "execution_count": null,
   "metadata": {},
   "outputs": [],
   "source": [
    "df[df['predicted_label'] == 0]['url'].head(10)"
   ]
  },
  {
   "cell_type": "code",
   "execution_count": null,
   "metadata": {},
   "outputs": [],
   "source": [
    "df[df['predicted_label'] == 1]['url'].head(10)"
   ]
  },
  {
   "cell_type": "code",
   "execution_count": null,
   "metadata": {},
   "outputs": [],
   "source": [
    "df[df['predicted_label'] == 2]['url'].head(10)"
   ]
  },
  {
   "cell_type": "markdown",
   "metadata": {},
   "source": [
    "## Evaluate recall and precision"
   ]
  },
  {
   "cell_type": "code",
   "execution_count": null,
   "metadata": {},
   "outputs": [],
   "source": [
    "p1,r1=clusteringevaluation.calculate_precision_and_recall(df,clustering,'product',0)"
   ]
  },
  {
   "cell_type": "code",
   "execution_count": null,
   "metadata": {},
   "outputs": [],
   "source": [
    "p1,r1=clusteringevaluation.calculate_precision_and_recall(df,clustering,'list',0)"
   ]
  },
  {
   "cell_type": "markdown",
   "metadata": {},
   "source": [
    "# Clustering with DBSCAN algorithm"
   ]
  },
  {
   "cell_type": "code",
   "execution_count": null,
   "metadata": {},
   "outputs": [],
   "source": [
    "dbscanclustering=dbscanclustering()"
   ]
  },
  {
   "cell_type": "code",
   "execution_count": null,
   "metadata": {},
   "outputs": [],
   "source": []
  }
 ],
 "metadata": {
  "kernelspec": {
   "display_name": "Python 3",
   "language": "python",
   "name": "python3"
  },
  "language_info": {
   "codemirror_mode": {
    "name": "ipython",
    "version": 3
   },
   "file_extension": ".py",
   "mimetype": "text/x-python",
   "name": "python",
   "nbconvert_exporter": "python",
   "pygments_lexer": "ipython3",
   "version": "3.6.7"
  }
 },
 "nbformat": 4,
 "nbformat_minor": 2
}
