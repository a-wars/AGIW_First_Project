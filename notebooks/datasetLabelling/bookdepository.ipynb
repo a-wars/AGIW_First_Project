{
 "cells": [
  {
   "cell_type": "code",
   "execution_count": 3,
   "metadata": {},
   "outputs": [
    {
     "data": {
      "text/plain": [
       "'../../book_crawler/data/bookdepository/2019-05-05T14-31-04.csv'"
      ]
     },
     "execution_count": 3,
     "metadata": {},
     "output_type": "execute_result"
    }
   ],
   "source": [
    "%matplotlib inline\n",
    "# Importing libraries\n",
    "import matplotlib.pyplot as plt\n",
    "import pandas as pd\n",
    "\n",
    "FILEPATH_PREFIX = '../../book_crawler/data'\n",
    "SPIDERNAME = 'bookdepository'\n",
    "FILENAME = '2019-05-05T14-31-04.csv'\n",
    "FILEPATH = '{}/{}/{}'.format(FILEPATH_PREFIX, SPIDERNAME, FILENAME)\n",
    "FILEPATH"
   ]
  },
  {
   "cell_type": "code",
   "execution_count": 4,
   "metadata": {},
   "outputs": [],
   "source": [
    "df = pd.read_csv(FILEPATH, nrows =100)"
   ]
  },
  {
   "cell_type": "markdown",
   "metadata": {},
   "source": [
    "## Data analisys\n",
    "Some preliminary analisys of the dataset"
   ]
  },
  {
   "cell_type": "code",
   "execution_count": 5,
   "metadata": {},
   "outputs": [
    {
     "name": "stdout",
     "output_type": "stream",
     "text": [
      "First 5 rows\n",
      "------------\n"
     ]
    },
    {
     "data": {
      "text/html": [
       "<div>\n",
       "<style scoped>\n",
       "    .dataframe tbody tr th:only-of-type {\n",
       "        vertical-align: middle;\n",
       "    }\n",
       "\n",
       "    .dataframe tbody tr th {\n",
       "        vertical-align: top;\n",
       "    }\n",
       "\n",
       "    .dataframe thead th {\n",
       "        text-align: right;\n",
       "    }\n",
       "</style>\n",
       "<table border=\"1\" class=\"dataframe\">\n",
       "  <thead>\n",
       "    <tr style=\"text-align: right;\">\n",
       "      <th></th>\n",
       "      <th>url</th>\n",
       "      <th>referer_url</th>\n",
       "      <th>src</th>\n",
       "    </tr>\n",
       "  </thead>\n",
       "  <tbody>\n",
       "    <tr>\n",
       "      <th>0</th>\n",
       "      <td>https://www.bookdepository.com/</td>\n",
       "      <td>https://www.bookdepository.com/</td>\n",
       "      <td>&lt;!DOCTYPE html&gt;\\n&lt;html lang=\"en\"&gt;\\n&lt;head&gt;\\n\\n ...</td>\n",
       "    </tr>\n",
       "    <tr>\n",
       "      <th>1</th>\n",
       "      <td>https://www.bookdepository.com/author/J-K-Rowling</td>\n",
       "      <td>https://www.bookdepository.com/</td>\n",
       "      <td>&lt;!DOCTYPE html&gt;\\n&lt;html lang=\"en\"&gt;\\n&lt;head&gt;\\n\\n ...</td>\n",
       "    </tr>\n",
       "    <tr>\n",
       "      <th>2</th>\n",
       "      <td>https://www.bookdepository.com/category/3098/T...</td>\n",
       "      <td>https://www.bookdepository.com/</td>\n",
       "      <td>&lt;!DOCTYPE html&gt;\\n&lt;html lang=\"en\"&gt;\\n&lt;head&gt;\\n\\n ...</td>\n",
       "    </tr>\n",
       "    <tr>\n",
       "      <th>3</th>\n",
       "      <td>https://www.bookdepository.com/category/3392/B...</td>\n",
       "      <td>https://www.bookdepository.com/</td>\n",
       "      <td>&lt;!DOCTYPE html&gt;\\n&lt;html lang=\"en\"&gt;\\n&lt;head&gt;\\n\\n ...</td>\n",
       "    </tr>\n",
       "    <tr>\n",
       "      <th>4</th>\n",
       "      <td>https://www.bookdepository.com/category/2967/T...</td>\n",
       "      <td>https://www.bookdepository.com/</td>\n",
       "      <td>&lt;!DOCTYPE html&gt;\\n&lt;html lang=\"en\"&gt;\\n&lt;head&gt;\\n\\n ...</td>\n",
       "    </tr>\n",
       "  </tbody>\n",
       "</table>\n",
       "</div>"
      ],
      "text/plain": [
       "                                                 url  \\\n",
       "0                    https://www.bookdepository.com/   \n",
       "1  https://www.bookdepository.com/author/J-K-Rowling   \n",
       "2  https://www.bookdepository.com/category/3098/T...   \n",
       "3  https://www.bookdepository.com/category/3392/B...   \n",
       "4  https://www.bookdepository.com/category/2967/T...   \n",
       "\n",
       "                       referer_url  \\\n",
       "0  https://www.bookdepository.com/   \n",
       "1  https://www.bookdepository.com/   \n",
       "2  https://www.bookdepository.com/   \n",
       "3  https://www.bookdepository.com/   \n",
       "4  https://www.bookdepository.com/   \n",
       "\n",
       "                                                 src  \n",
       "0  <!DOCTYPE html>\\n<html lang=\"en\">\\n<head>\\n\\n ...  \n",
       "1  <!DOCTYPE html>\\n<html lang=\"en\">\\n<head>\\n\\n ...  \n",
       "2  <!DOCTYPE html>\\n<html lang=\"en\">\\n<head>\\n\\n ...  \n",
       "3  <!DOCTYPE html>\\n<html lang=\"en\">\\n<head>\\n\\n ...  \n",
       "4  <!DOCTYPE html>\\n<html lang=\"en\">\\n<head>\\n\\n ...  "
      ]
     },
     "execution_count": 5,
     "metadata": {},
     "output_type": "execute_result"
    }
   ],
   "source": [
    "print(\"First 5 rows\")\n",
    "print(\"------------\")\n",
    "df.head()"
   ]
  },
  {
   "cell_type": "code",
   "execution_count": 6,
   "metadata": {},
   "outputs": [
    {
     "name": "stdout",
     "output_type": "stream",
     "text": [
      "No. of rows and columns\n",
      "-----------------------\n"
     ]
    },
    {
     "data": {
      "text/plain": [
       "(100, 3)"
      ]
     },
     "execution_count": 6,
     "metadata": {},
     "output_type": "execute_result"
    }
   ],
   "source": [
    "print(\"No. of rows and columns\")\n",
    "print(\"-----------------------\")\n",
    "df.shape"
   ]
  },
  {
   "cell_type": "code",
   "execution_count": 7,
   "metadata": {},
   "outputs": [
    {
     "name": "stdout",
     "output_type": "stream",
     "text": [
      "Check null values\n",
      "-----------------\n"
     ]
    },
    {
     "data": {
      "text/plain": [
       "False"
      ]
     },
     "execution_count": 7,
     "metadata": {},
     "output_type": "execute_result"
    }
   ],
   "source": [
    "print(\"Check null values\")\n",
    "print(\"-----------------\")\n",
    "df.isnull().any().any()"
   ]
  },
  {
   "cell_type": "code",
   "execution_count": 8,
   "metadata": {},
   "outputs": [
    {
     "name": "stdout",
     "output_type": "stream",
     "text": [
      "Check duplicate values\n",
      "----------------------\n"
     ]
    },
    {
     "data": {
      "text/plain": [
       "False"
      ]
     },
     "execution_count": 8,
     "metadata": {},
     "output_type": "execute_result"
    }
   ],
   "source": [
    "print(\"Check duplicate values\")\n",
    "print(\"----------------------\")\n",
    "len(df['url'].unique()) != df.shape[0]"
   ]
  },
  {
   "cell_type": "code",
   "execution_count": 9,
   "metadata": {},
   "outputs": [
    {
     "name": "stdout",
     "output_type": "stream",
     "text": [
      "DataFrame column types\n",
      "----------------------\n",
      "<class 'pandas.core.frame.DataFrame'>\n",
      "RangeIndex: 100 entries, 0 to 99\n",
      "Data columns (total 3 columns):\n",
      "url            100 non-null object\n",
      "referer_url    100 non-null object\n",
      "src            100 non-null object\n",
      "dtypes: object(3)\n",
      "memory usage: 2.4+ KB\n"
     ]
    }
   ],
   "source": [
    "print(\"DataFrame column types\")\n",
    "print(\"----------------------\")\n",
    "df.info()"
   ]
  },
  {
   "cell_type": "code",
   "execution_count": 10,
   "metadata": {},
   "outputs": [
    {
     "name": "stdout",
     "output_type": "stream",
     "text": [
      "Some stats\n",
      "----------------\n"
     ]
    },
    {
     "data": {
      "text/html": [
       "<div>\n",
       "<style scoped>\n",
       "    .dataframe tbody tr th:only-of-type {\n",
       "        vertical-align: middle;\n",
       "    }\n",
       "\n",
       "    .dataframe tbody tr th {\n",
       "        vertical-align: top;\n",
       "    }\n",
       "\n",
       "    .dataframe thead th {\n",
       "        text-align: right;\n",
       "    }\n",
       "</style>\n",
       "<table border=\"1\" class=\"dataframe\">\n",
       "  <thead>\n",
       "    <tr style=\"text-align: right;\">\n",
       "      <th></th>\n",
       "      <th>url</th>\n",
       "      <th>referer_url</th>\n",
       "      <th>src</th>\n",
       "    </tr>\n",
       "  </thead>\n",
       "  <tbody>\n",
       "    <tr>\n",
       "      <th>count</th>\n",
       "      <td>100</td>\n",
       "      <td>100</td>\n",
       "      <td>100</td>\n",
       "    </tr>\n",
       "    <tr>\n",
       "      <th>unique</th>\n",
       "      <td>100</td>\n",
       "      <td>19</td>\n",
       "      <td>100</td>\n",
       "    </tr>\n",
       "    <tr>\n",
       "      <th>top</th>\n",
       "      <td>https://www.bookdepository.com/roald-dahl</td>\n",
       "      <td>https://www.bookdepository.com/</td>\n",
       "      <td>&lt;!DOCTYPE html&gt;\\n&lt;html lang=\"en\"&gt;\\n&lt;head&gt;\\n\\n ...</td>\n",
       "    </tr>\n",
       "    <tr>\n",
       "      <th>freq</th>\n",
       "      <td>1</td>\n",
       "      <td>27</td>\n",
       "      <td>1</td>\n",
       "    </tr>\n",
       "  </tbody>\n",
       "</table>\n",
       "</div>"
      ],
      "text/plain": [
       "                                              url  \\\n",
       "count                                         100   \n",
       "unique                                        100   \n",
       "top     https://www.bookdepository.com/roald-dahl   \n",
       "freq                                            1   \n",
       "\n",
       "                            referer_url  \\\n",
       "count                               100   \n",
       "unique                               19   \n",
       "top     https://www.bookdepository.com/   \n",
       "freq                                 27   \n",
       "\n",
       "                                                      src  \n",
       "count                                                 100  \n",
       "unique                                                100  \n",
       "top     <!DOCTYPE html>\\n<html lang=\"en\">\\n<head>\\n\\n ...  \n",
       "freq                                                    1  "
      ]
     },
     "execution_count": 10,
     "metadata": {},
     "output_type": "execute_result"
    }
   ],
   "source": [
    "print(\"Some stats\")\n",
    "print(\"----------------\")\n",
    "df.describe()"
   ]
  },
  {
   "cell_type": "markdown",
   "metadata": {},
   "source": [
    "## Data cleaning\n",
    "During the crawling phase (using Scrapy), we restrained the crawled pages to be only the web pages matching with `https://www.bookdepository.com/` domain."
   ]
  },
  {
   "cell_type": "code",
   "execution_count": 11,
   "metadata": {},
   "outputs": [],
   "source": [
    "import re"
   ]
  },
  {
   "cell_type": "code",
   "execution_count": 12,
   "metadata": {},
   "outputs": [],
   "source": [
    "bookdepositoryRegex = r'^https\\:\\/\\/www\\.bookdepository\\.com'"
   ]
  },
  {
   "cell_type": "code",
   "execution_count": 13,
   "metadata": {},
   "outputs": [],
   "source": [
    "otherDomainsDataFrame = df[- df['url'].str.match(bookdepositoryRegex)]"
   ]
  },
  {
   "cell_type": "code",
   "execution_count": 14,
   "metadata": {},
   "outputs": [
    {
     "data": {
      "text/html": [
       "<div>\n",
       "<style scoped>\n",
       "    .dataframe tbody tr th:only-of-type {\n",
       "        vertical-align: middle;\n",
       "    }\n",
       "\n",
       "    .dataframe tbody tr th {\n",
       "        vertical-align: top;\n",
       "    }\n",
       "\n",
       "    .dataframe thead th {\n",
       "        text-align: right;\n",
       "    }\n",
       "</style>\n",
       "<table border=\"1\" class=\"dataframe\">\n",
       "  <thead>\n",
       "    <tr style=\"text-align: right;\">\n",
       "      <th></th>\n",
       "      <th>url</th>\n",
       "      <th>referer_url</th>\n",
       "      <th>src</th>\n",
       "    </tr>\n",
       "  </thead>\n",
       "  <tbody>\n",
       "    <tr>\n",
       "      <th>97</th>\n",
       "      <td>https://www.goodreads.com/book/show/29744417-t...</td>\n",
       "      <td>https://www.bookdepository.com/Bee-Book-DK/978...</td>\n",
       "      <td>&lt;!DOCTYPE html&gt;\\n&lt;html class=\"desktop\\n\"&gt;\\n&lt;he...</td>\n",
       "    </tr>\n",
       "  </tbody>\n",
       "</table>\n",
       "</div>"
      ],
      "text/plain": [
       "                                                  url  \\\n",
       "97  https://www.goodreads.com/book/show/29744417-t...   \n",
       "\n",
       "                                          referer_url  \\\n",
       "97  https://www.bookdepository.com/Bee-Book-DK/978...   \n",
       "\n",
       "                                                  src  \n",
       "97  <!DOCTYPE html>\\n<html class=\"desktop\\n\">\\n<he...  "
      ]
     },
     "execution_count": 14,
     "metadata": {},
     "output_type": "execute_result"
    }
   ],
   "source": [
    "otherDomainsDataFrame.head()"
   ]
  },
  {
   "cell_type": "code",
   "execution_count": 15,
   "metadata": {},
   "outputs": [
    {
     "data": {
      "text/plain": [
       "(1, 3)"
      ]
     },
     "execution_count": 15,
     "metadata": {},
     "output_type": "execute_result"
    }
   ],
   "source": [
    "otherDomainsDataFrame.shape"
   ]
  },
  {
   "cell_type": "markdown",
   "metadata": {},
   "source": [
    "Let's check if all these pages have the same domain"
   ]
  },
  {
   "cell_type": "code",
   "execution_count": 16,
   "metadata": {},
   "outputs": [],
   "source": [
    "goodreadsRegex = r'https://www.goodreads.com/'"
   ]
  },
  {
   "cell_type": "code",
   "execution_count": 17,
   "metadata": {},
   "outputs": [
    {
     "data": {
      "text/plain": [
       "(1, 3)"
      ]
     },
     "execution_count": 17,
     "metadata": {},
     "output_type": "execute_result"
    }
   ],
   "source": [
    "(otherDomainsDataFrame[otherDomainsDataFrame['url'].str.match(goodreadsRegex)]).shape"
   ]
  },
  {
   "cell_type": "markdown",
   "metadata": {},
   "source": [
    "So let's delete these pages:"
   ]
  },
  {
   "cell_type": "code",
   "execution_count": 18,
   "metadata": {},
   "outputs": [],
   "source": [
    "df = df[df['url'].str.match(bookdepositoryRegex)]"
   ]
  },
  {
   "cell_type": "code",
   "execution_count": 19,
   "metadata": {},
   "outputs": [
    {
     "data": {
      "text/plain": [
       "(99, 3)"
      ]
     },
     "execution_count": 19,
     "metadata": {},
     "output_type": "execute_result"
    }
   ],
   "source": [
    "df.shape"
   ]
  },
  {
   "cell_type": "markdown",
   "metadata": {},
   "source": [
    "## Page labelling\n",
    "Label (possibly) each page with its own template. Let's start with product (books) pages. \n",
    "The following URL links to a page which shows info regarding a book:\n",
    "\n",
    "```\n",
    "https://www.bookdepository.com/This-is-Going-Hurt-Adam-Kay/9781509858637?ref=grid-vie\n",
    "```\n",
    "\n",
    "So we could infer that each product page has the following url schema:\n",
    "\n",
    "```\n",
    "https://www.bookdepository.com/<bookName>/<ISBN-13>\n",
    "```\n",
    "\n",
    "where ISBN-13 format starts with 978 or 979 prefix (EAN prefix)"
   ]
  },
  {
   "cell_type": "code",
   "execution_count": 61,
   "metadata": {},
   "outputs": [
    {
     "name": "stdout",
     "output_type": "stream",
     "text": [
      "Testing article regex:\n",
      "Only the first 6 urls should be matching with the article regex\n",
      "---------------------------------------------------------------\n",
      "<re.Match object; span=(0, 86), match='https://www.bookdepository.com/Definitive-Book-Bo>\n",
      "<re.Match object; span=(0, 76), match='https://www.bookdepository.com/Magnolia-Kitchen-B>\n",
      "<re.Match object; span=(0, 72), match='https://www.bookdepository.com/This-is-Going-Hurt>\n",
      "<re.Match object; span=(0, 68), match='https://www.bookdepository.com/Power-Now-Eckhart->\n",
      "<re.Match object; span=(0, 67), match='https://www.bookdepository.com/Educated-Tara-West>\n",
      "<re.Match object; span=(0, 124), match='https://www.bookdepository.com/Dungeons-Dragons-P>\n",
      "None\n",
      "None\n",
      "None\n",
      "None\n",
      "None\n",
      "None\n",
      "None\n",
      "None\n",
      "None\n",
      "None\n",
      "None\n",
      "None\n",
      "None\n",
      "---------------------------------------------------------------\n"
     ]
    }
   ],
   "source": [
    "\n",
    "\n",
    "#Urls associated with product pages\n",
    "testStrings1= ['https://www.bookdepository.com/Definitive-Book-Body-Language-Allan-Pease/9781409168508',\n",
    "              'https://www.bookdepository.com/Magnolia-Kitchen-Bernadette-Gee/9781988547008',\n",
    "              'https://www.bookdepository.com/This-is-Going-Hurt-Adam-Kay/9781509858637',\n",
    "              'https://www.bookdepository.com/Power-Now-Eckhart-Tolle/9780340733509',\n",
    "              'https://www.bookdepository.com/Educated-Tara-Westover/9780099511021',\n",
    "              'https://www.bookdepository.com/Dungeons-Dragons-Players-Handbook-Dungeons-Dragons-Core-Rulebooks-Wizards-Coast/9780786965601?ref=grid-view']\n",
    "\n",
    "#Various urls which aren't product pages\n",
    "testStrings2 = ['https://www.bookdepository.com/account/login',\n",
    "               'https://www.bookdepository.com/contactus',\n",
    "               'https://www.bookdepository.com/help',\n",
    "               'https://www.bookdepository.com/julia-donaldson',\n",
    "               'https://www.bookdepository.com/category/2/Art-Photography',\n",
    "               'https://www.bookdepository.com/category/8/Art-History',\n",
    "               'https://www.bookdepository.com/category/20/Art-History-c-1600-c-1800',\n",
    "               'https://www.bookdepository.com/category/21/Styles-Baroque',\n",
    "               'https://www.bookdepository.com/bestsellers',\n",
    "               'https://www.bookdepository.com/author/J-K-Rowling',\n",
    "               'https://www.bookdepository.com/publishers/Penguin-Books-Australia',\n",
    "               'https://www.bookdepository.com/search?searchTerm=Cornelia+Funke&amp;search=search',\n",
    "               'https://www.bookdepository.com/search/advanced?seriesId=48384']\n",
    "\n",
    "testStrings = testStrings1 + testStrings2\n",
    "\n",
    "productRegex = r'^https\\:\\/\\/www\\.bookdepository\\.com\\/[^/]+/97[89][0-9]{10}'\n",
    "\n",
    "# simple tests\n",
    "print(\"Testing article regex:\")\n",
    "print(\"Only the first 6 urls should be matching with the article regex\")\n",
    "print(\"---------------------------------------------------------------\")\n",
    "\n",
    "for uri in testStrings:\n",
    "    print(re.match(productRegex, uri))\n",
    "    \n",
    "print('---------------------------------------------------------------')"
   ]
  },
  {
   "cell_type": "markdown",
   "metadata": {},
   "source": [
    "Next we have to label pages which show list of books. We noted that books in bookdepository.com are grouped by category, so that books which share the same category are listed in the same page. \n",
    "We also noted that bookdepository.com displays a paginated list of books only if the main category (top level category) has already been selected. As an example consider the following url`\n",
    "\n",
    "```\n",
    "https://www.bookdepository.com/category/107/Architecture\n",
    "```\n",
    "\n",
    "The above page shows a list of books which are from the \"Architecture\" category, which, in turn, is a subcategory of \"Art & Photography\". So we have to select all url x which have a substring that matches with the string \"category/\" if and only if the referring url for x matches with the string \"category/\"\n",
    "\n",
    "So urls referring to categories (seems to) have the following schema:\n",
    "\n",
    "```\n",
    "https://www.bookdepository.com/category/<somethingElse>\n",
    "```\n",
    "\n",
    "Also, bookdepository.com shows a paginated list of books grouped by author, so we should consider also that kind of links if and only if these kind of links matches with the string \"author/\" (there are some author for which books aren't displayed in paginated fashion. In that case the url doesn't contain the string \"author/\"):\n",
    "\n",
    "```\n",
    "https://www.bookdepository.com/author/J-K-Rowling\n",
    "```\n",
    "Note that also search results are paginated, as well as books grouped by publishers:\n",
    "\n",
    "```\n",
    "https://www.bookdepository.com/search/advanced?seriesId=48384\n",
    "https://www.bookdepository.com/search?searchTerm=Cornelia+Funke&amp;search=search\n",
    "https://www.bookdepository.com/publishers/Penguin-Books-Australia\n",
    "```\n",
    "\n",
    "Finally, bestsellers books are also listed in a paginated fashion:\n",
    "\n",
    "```\n",
    "https://www.bookdepository.com/bestsellers\n",
    "```"
   ]
  },
  {
   "cell_type": "code",
   "execution_count": 62,
   "metadata": {},
   "outputs": [
    {
     "data": {
      "text/plain": [
       "'\\n\\nbestsellersRegex = r\\'^https\\\\:\\\\/\\\\/www\\\\.bookdepository\\\\.com\\\\/bestsellers$\\'\\nauthorRegex = r\\'^https\\\\:\\\\/\\\\/www\\\\.bookdepository\\\\.com\\\\/author\\\\/\\'\\nsearchRegex = r\\'^https\\\\:\\\\/\\\\/www\\\\.bookdepository\\\\.com\\\\/search(\\\\?|\\\\/)\\'\\npublisherRegex = r\\'^https\\\\:\\\\/\\\\/www\\\\.bookdepository\\\\.com\\\\/publishers\\\\/\\'\\ncategoryRegex = r\\'^https\\\\:\\\\/\\\\/www\\\\.bookdepository\\\\.com\\\\/category\\\\/\\'\\n\\nprint(\"Testing bestsellers regex:\")\\nprint(\"Only 1 url should be matching with the bestsellers regex\")\\nprint(\"-----------------------------------------------------------\")\\n\\nfor uri in testStrings:\\n    print(re.match(bestsellersRegex, uri))\\nprint(\\'---------------------------------------------------------------\\')\\n\\n\\nprint()\\n\\n\\nprint(\"Testing author regex:\")\\nprint(\"Only 1 url should be matching with the author regex\")\\nprint(\"-----------------------------------------------------------\")\\n\\nfor uri in testStrings:\\n    print(re.match(authorRegex, uri))\\nprint(\\'---------------------------------------------------------------\\')\\n\\n\\nprint()\\n\\n\\nprint(\"Testing search regex:\")\\nprint(\"Only 2 url should be matching with the search regex\")\\nprint(\"-----------------------------------------------------------\")\\n\\nfor uri in testStrings:\\n    print(re.match(searchRegex, uri))\\nprint(\\'---------------------------------------------------------------\\')\\n\\n\\nprint()\\n\\n\\n\\n\\nprint(\"Testing publisher regex:\")\\nprint(\"Only 1 url should be matching with the publisher regex\")\\nprint(\"-----------------------------------------------------------\")\\n\\nfor uri in testStrings:\\n    print(re.match(publisherRegex, uri))\\nprint(\\'---------------------------------------------------------------\\')\\n\\n\\nprint()\\n\\n\\nprint(\"Testing category regex:\")\\nprint(\"Only 4 url should be matching with the category regex\")\\nprint(\"-----------------------------------------------------------\")\\n\\nfor uri in testStrings:\\n    print(re.match(categoryRegex, uri))\\nprint(\\'---------------------------------------------------------------\\')\\n'"
      ]
     },
     "execution_count": 62,
     "metadata": {},
     "output_type": "execute_result"
    }
   ],
   "source": [
    "'''\n",
    "\n",
    "bestsellersRegex = r'^https\\:\\/\\/www\\.bookdepository\\.com\\/bestsellers$'\n",
    "authorRegex = r'^https\\:\\/\\/www\\.bookdepository\\.com\\/author\\/'\n",
    "searchRegex = r'^https\\:\\/\\/www\\.bookdepository\\.com\\/search(\\?|\\/)'\n",
    "publisherRegex = r'^https\\:\\/\\/www\\.bookdepository\\.com\\/publishers\\/'\n",
    "categoryRegex = r'^https\\:\\/\\/www\\.bookdepository\\.com\\/category\\/'\n",
    "\n",
    "print(\"Testing bestsellers regex:\")\n",
    "print(\"Only 1 url should be matching with the bestsellers regex\")\n",
    "print(\"-----------------------------------------------------------\")\n",
    "\n",
    "for uri in testStrings:\n",
    "    print(re.match(bestsellersRegex, uri))\n",
    "print('---------------------------------------------------------------')\n",
    "\n",
    "\n",
    "print()\n",
    "\n",
    "\n",
    "print(\"Testing author regex:\")\n",
    "print(\"Only 1 url should be matching with the author regex\")\n",
    "print(\"-----------------------------------------------------------\")\n",
    "\n",
    "for uri in testStrings:\n",
    "    print(re.match(authorRegex, uri))\n",
    "print('---------------------------------------------------------------')\n",
    "\n",
    "\n",
    "print()\n",
    "\n",
    "\n",
    "print(\"Testing search regex:\")\n",
    "print(\"Only 2 url should be matching with the search regex\")\n",
    "print(\"-----------------------------------------------------------\")\n",
    "\n",
    "for uri in testStrings:\n",
    "    print(re.match(searchRegex, uri))\n",
    "print('---------------------------------------------------------------')\n",
    "\n",
    "\n",
    "print()\n",
    "\n",
    "\n",
    "\n",
    "\n",
    "print(\"Testing publisher regex:\")\n",
    "print(\"Only 1 url should be matching with the publisher regex\")\n",
    "print(\"-----------------------------------------------------------\")\n",
    "\n",
    "for uri in testStrings:\n",
    "    print(re.match(publisherRegex, uri))\n",
    "print('---------------------------------------------------------------')\n",
    "\n",
    "\n",
    "print()\n",
    "\n",
    "\n",
    "print(\"Testing category regex:\")\n",
    "print(\"Only 4 url should be matching with the category regex\")\n",
    "print(\"-----------------------------------------------------------\")\n",
    "\n",
    "for uri in testStrings:\n",
    "    print(re.match(categoryRegex, uri))\n",
    "print('---------------------------------------------------------------')\n",
    "'''"
   ]
  },
  {
   "cell_type": "markdown",
   "metadata": {},
   "source": [
    "## Add `label` column\n",
    "Labelling each possible row of the dataframe"
   ]
  },
  {
   "cell_type": "code",
   "execution_count": 63,
   "metadata": {},
   "outputs": [
    {
     "data": {
      "text/html": [
       "<div>\n",
       "<style scoped>\n",
       "    .dataframe tbody tr th:only-of-type {\n",
       "        vertical-align: middle;\n",
       "    }\n",
       "\n",
       "    .dataframe tbody tr th {\n",
       "        vertical-align: top;\n",
       "    }\n",
       "\n",
       "    .dataframe thead th {\n",
       "        text-align: right;\n",
       "    }\n",
       "</style>\n",
       "<table border=\"1\" class=\"dataframe\">\n",
       "  <thead>\n",
       "    <tr style=\"text-align: right;\">\n",
       "      <th></th>\n",
       "      <th>url</th>\n",
       "      <th>referer_url</th>\n",
       "      <th>src</th>\n",
       "      <th>label</th>\n",
       "    </tr>\n",
       "  </thead>\n",
       "  <tbody>\n",
       "    <tr>\n",
       "      <th>0</th>\n",
       "      <td>https://www.bookdepository.com/</td>\n",
       "      <td>https://www.bookdepository.com/</td>\n",
       "      <td>&lt;!DOCTYPE html&gt;\\n&lt;html lang=\"en\"&gt;\\n&lt;head&gt;\\n\\n ...</td>\n",
       "      <td>None</td>\n",
       "    </tr>\n",
       "    <tr>\n",
       "      <th>1</th>\n",
       "      <td>https://www.bookdepository.com/author/J-K-Rowling</td>\n",
       "      <td>https://www.bookdepository.com/</td>\n",
       "      <td>&lt;!DOCTYPE html&gt;\\n&lt;html lang=\"en\"&gt;\\n&lt;head&gt;\\n\\n ...</td>\n",
       "      <td>None</td>\n",
       "    </tr>\n",
       "    <tr>\n",
       "      <th>2</th>\n",
       "      <td>https://www.bookdepository.com/category/3098/T...</td>\n",
       "      <td>https://www.bookdepository.com/</td>\n",
       "      <td>&lt;!DOCTYPE html&gt;\\n&lt;html lang=\"en\"&gt;\\n&lt;head&gt;\\n\\n ...</td>\n",
       "      <td>None</td>\n",
       "    </tr>\n",
       "    <tr>\n",
       "      <th>3</th>\n",
       "      <td>https://www.bookdepository.com/category/3392/B...</td>\n",
       "      <td>https://www.bookdepository.com/</td>\n",
       "      <td>&lt;!DOCTYPE html&gt;\\n&lt;html lang=\"en\"&gt;\\n&lt;head&gt;\\n\\n ...</td>\n",
       "      <td>None</td>\n",
       "    </tr>\n",
       "    <tr>\n",
       "      <th>4</th>\n",
       "      <td>https://www.bookdepository.com/category/2967/T...</td>\n",
       "      <td>https://www.bookdepository.com/</td>\n",
       "      <td>&lt;!DOCTYPE html&gt;\\n&lt;html lang=\"en\"&gt;\\n&lt;head&gt;\\n\\n ...</td>\n",
       "      <td>None</td>\n",
       "    </tr>\n",
       "  </tbody>\n",
       "</table>\n",
       "</div>"
      ],
      "text/plain": [
       "                                                 url  \\\n",
       "0                    https://www.bookdepository.com/   \n",
       "1  https://www.bookdepository.com/author/J-K-Rowling   \n",
       "2  https://www.bookdepository.com/category/3098/T...   \n",
       "3  https://www.bookdepository.com/category/3392/B...   \n",
       "4  https://www.bookdepository.com/category/2967/T...   \n",
       "\n",
       "                       referer_url  \\\n",
       "0  https://www.bookdepository.com/   \n",
       "1  https://www.bookdepository.com/   \n",
       "2  https://www.bookdepository.com/   \n",
       "3  https://www.bookdepository.com/   \n",
       "4  https://www.bookdepository.com/   \n",
       "\n",
       "                                                 src label  \n",
       "0  <!DOCTYPE html>\\n<html lang=\"en\">\\n<head>\\n\\n ...  None  \n",
       "1  <!DOCTYPE html>\\n<html lang=\"en\">\\n<head>\\n\\n ...  None  \n",
       "2  <!DOCTYPE html>\\n<html lang=\"en\">\\n<head>\\n\\n ...  None  \n",
       "3  <!DOCTYPE html>\\n<html lang=\"en\">\\n<head>\\n\\n ...  None  \n",
       "4  <!DOCTYPE html>\\n<html lang=\"en\">\\n<head>\\n\\n ...  None  "
      ]
     },
     "execution_count": 63,
     "metadata": {},
     "output_type": "execute_result"
    }
   ],
   "source": [
    "df['label'] = None\n",
    "df.head()"
   ]
  },
  {
   "cell_type": "code",
   "execution_count": 64,
   "metadata": {},
   "outputs": [],
   "source": [
    "def set_label(url, regex, old_label, new_label):\n",
    "    if re.match(regex, url):\n",
    "        if old_label is None:\n",
    "            return new_label\n",
    "        else:\n",
    "            return 'collision'\n",
    "    else:\n",
    "        return old_label"
   ]
  },
  {
   "cell_type": "markdown",
   "metadata": {},
   "source": [
    "Add product label"
   ]
  },
  {
   "cell_type": "code",
   "execution_count": 65,
   "metadata": {},
   "outputs": [
    {
     "name": "stdout",
     "output_type": "stream",
     "text": [
      "There should be no row with 'collision' label\n",
      "---------------------------------------------\n"
     ]
    },
    {
     "data": {
      "text/html": [
       "<div>\n",
       "<style scoped>\n",
       "    .dataframe tbody tr th:only-of-type {\n",
       "        vertical-align: middle;\n",
       "    }\n",
       "\n",
       "    .dataframe tbody tr th {\n",
       "        vertical-align: top;\n",
       "    }\n",
       "\n",
       "    .dataframe thead th {\n",
       "        text-align: right;\n",
       "    }\n",
       "</style>\n",
       "<table border=\"1\" class=\"dataframe\">\n",
       "  <thead>\n",
       "    <tr style=\"text-align: right;\">\n",
       "      <th></th>\n",
       "      <th>url</th>\n",
       "      <th>referer_url</th>\n",
       "      <th>src</th>\n",
       "      <th>label</th>\n",
       "    </tr>\n",
       "  </thead>\n",
       "  <tbody>\n",
       "  </tbody>\n",
       "</table>\n",
       "</div>"
      ],
      "text/plain": [
       "Empty DataFrame\n",
       "Columns: [url, referer_url, src, label]\n",
       "Index: []"
      ]
     },
     "execution_count": 65,
     "metadata": {},
     "output_type": "execute_result"
    }
   ],
   "source": [
    "df['label'] = df.apply(lambda x: set_label(x['url'], productRegex, x['label'], 'product'), axis=1)\n",
    "print(\"There should be no row with 'collision' label\")\n",
    "print(\"---------------------------------------------\")\n",
    "df[df['label']=='collision'].head()"
   ]
  },
  {
   "cell_type": "markdown",
   "metadata": {},
   "source": [
    "Add list label for paginated pages"
   ]
  },
  {
   "cell_type": "code",
   "execution_count": 66,
   "metadata": {},
   "outputs": [
    {
     "data": {
      "text/plain": [
       "'\\ndf[\\'label\\'] = df.apply(lambda x: set_label(x[\\'url\\'], bestsellersRegex, x[\\'label\\'], \\'list\\'), axis=1)\\nprint(\"There should be no row with \\'collision\\' label\")\\nprint(\"---------------------------------------------\")\\ndf[df[\\'label\\']==\\'collision\\'].head()\\n'"
      ]
     },
     "execution_count": 66,
     "metadata": {},
     "output_type": "execute_result"
    }
   ],
   "source": [
    "'''\n",
    "df['label'] = df.apply(lambda x: set_label(x['url'], bestsellersRegex, x['label'], 'list'), axis=1)\n",
    "print(\"There should be no row with 'collision' label\")\n",
    "print(\"---------------------------------------------\")\n",
    "df[df['label']=='collision'].head()\n",
    "'''"
   ]
  },
  {
   "cell_type": "code",
   "execution_count": 67,
   "metadata": {},
   "outputs": [
    {
     "data": {
      "text/plain": [
       "'\\ndf[\\'label\\'] = df.apply(lambda x: set_label(x[\\'url\\'], authorRegex, x[\\'label\\'], \\'list\\'), axis=1)\\nprint(\"There should be no row with \\'collision\\' label\")\\nprint(\"---------------------------------------------\")\\ndf[df[\\'label\\']==\\'collision\\'].head()\\n'"
      ]
     },
     "execution_count": 67,
     "metadata": {},
     "output_type": "execute_result"
    }
   ],
   "source": [
    "'''\n",
    "df['label'] = df.apply(lambda x: set_label(x['url'], authorRegex, x['label'], 'list'), axis=1)\n",
    "print(\"There should be no row with 'collision' label\")\n",
    "print(\"---------------------------------------------\")\n",
    "df[df['label']=='collision'].head()\n",
    "'''"
   ]
  },
  {
   "cell_type": "code",
   "execution_count": 68,
   "metadata": {},
   "outputs": [
    {
     "data": {
      "text/plain": [
       "'\\ndf[\\'label\\'] = df.apply(lambda x: set_label(x[\\'url\\'], searchRegex, x[\\'label\\'], \\'list\\'), axis=1)\\nprint(\"There should be no row with \\'collision\\' label\")\\nprint(\"---------------------------------------------\")\\ndf[df[\\'label\\']==\\'collision\\'].head()\\n'"
      ]
     },
     "execution_count": 68,
     "metadata": {},
     "output_type": "execute_result"
    }
   ],
   "source": [
    "'''\n",
    "df['label'] = df.apply(lambda x: set_label(x['url'], searchRegex, x['label'], 'list'), axis=1)\n",
    "print(\"There should be no row with 'collision' label\")\n",
    "print(\"---------------------------------------------\")\n",
    "df[df['label']=='collision'].head()\n",
    "'''"
   ]
  },
  {
   "cell_type": "code",
   "execution_count": 69,
   "metadata": {},
   "outputs": [
    {
     "data": {
      "text/plain": [
       "'\\ndf[\\'label\\'] = df.apply(lambda x: set_label(x[\\'url\\'], publisherRegex, x[\\'label\\'], \\'list\\'), axis=1)\\nprint(\"There should be no row with \\'collision\\' label\")\\nprint(\"---------------------------------------------\")\\ndf[df[\\'label\\']==\\'collision\\'].head()\\n'"
      ]
     },
     "execution_count": 69,
     "metadata": {},
     "output_type": "execute_result"
    }
   ],
   "source": [
    "'''\n",
    "df['label'] = df.apply(lambda x: set_label(x['url'], publisherRegex, x['label'], 'list'), axis=1)\n",
    "print(\"There should be no row with 'collision' label\")\n",
    "print(\"---------------------------------------------\")\n",
    "df[df['label']=='collision'].head()\n",
    "'''"
   ]
  },
  {
   "cell_type": "code",
   "execution_count": 70,
   "metadata": {},
   "outputs": [
    {
     "data": {
      "text/plain": [
       "\"\\ndef set_label_based_on_referer(url, regex, old_label, new_label, referer_url):\\n    if re.match(regex, url) and re.match(regex, referer_url):\\n        if old_label is None:\\n            return new_label\\n        else:\\n            return 'collision'\\n    else:\\n        return old_label\\n\""
      ]
     },
     "execution_count": 70,
     "metadata": {},
     "output_type": "execute_result"
    }
   ],
   "source": [
    "'''\n",
    "def set_label_based_on_referer(url, regex, old_label, new_label, referer_url):\n",
    "    if re.match(regex, url) and re.match(regex, referer_url):\n",
    "        if old_label is None:\n",
    "            return new_label\n",
    "        else:\n",
    "            return 'collision'\n",
    "    else:\n",
    "        return old_label\n",
    "'''"
   ]
  },
  {
   "cell_type": "code",
   "execution_count": 71,
   "metadata": {},
   "outputs": [
    {
     "data": {
      "text/plain": [
       "'\\ndf[\\'label\\'] = df.apply(lambda x: set_label_based_on_referer(x[\\'url\\'], categoryRegex, x[\\'label\\'], \\'list\\', x[\\'referer_url\\']), axis=1)\\nprint(\"There should be no row with \\'collision\\' label\")\\nprint(\"---------------------------------------------\")\\ndf[df[\\'label\\']==\\'collision\\'].head()\\n'"
      ]
     },
     "execution_count": 71,
     "metadata": {},
     "output_type": "execute_result"
    }
   ],
   "source": [
    "'''\n",
    "df['label'] = df.apply(lambda x: set_label_based_on_referer(x['url'], categoryRegex, x['label'], 'list', x['referer_url']), axis=1)\n",
    "print(\"There should be no row with 'collision' label\")\n",
    "print(\"---------------------------------------------\")\n",
    "df[df['label']=='collision'].head()\n",
    "'''"
   ]
  },
  {
   "cell_type": "markdown",
   "metadata": {},
   "source": [
    "Summary:"
   ]
  },
  {
   "cell_type": "code",
   "execution_count": 72,
   "metadata": {},
   "outputs": [
    {
     "name": "stdout",
     "output_type": "stream",
     "text": [
      "There are 9742 row with no label\n",
      "There are 15807 row with product label\n"
     ]
    },
    {
     "data": {
      "text/plain": [
       "\"\\nprint(fmt_string.format(len(df[df['label']=='list']), 'list'))\\n\""
      ]
     },
     "execution_count": 72,
     "metadata": {},
     "output_type": "execute_result"
    }
   ],
   "source": [
    "fmt_string = 'There are {} row with {} label'\n",
    "print(fmt_string.format(len(df[df['label'].isnull()]),'no'))\n",
    "print(fmt_string.format(len(df[df['label']=='product']), 'product'))\n",
    "'''\n",
    "print(fmt_string.format(len(df[df['label']=='list']), 'list'))\n",
    "'''"
   ]
  },
  {
   "cell_type": "code",
   "execution_count": 73,
   "metadata": {},
   "outputs": [
    {
     "data": {
      "text/plain": [
       "\"\\ndf[df['label'].isnull()][['url', 'referer_url']].head()\\n\""
      ]
     },
     "execution_count": 73,
     "metadata": {},
     "output_type": "execute_result"
    }
   ],
   "source": [
    "'''\n",
    "df[df['label'].isnull()][['url', 'referer_url']].head()\n",
    "'''"
   ]
  },
  {
   "cell_type": "markdown",
   "metadata": {},
   "source": [
    "## Add `shingle_vector` label\n",
    "Compute shingle vector for each page of the dataframe"
   ]
  },
  {
   "cell_type": "code",
   "execution_count": 32,
   "metadata": {},
   "outputs": [],
   "source": [
    "#add top level folder to sys.path\n",
    "import sys\n",
    "sys.path.append('../../')\n",
    "\n",
    "from foxlink_clustering.clustering.shingler import compute_shingle_vector"
   ]
  },
  {
   "cell_type": "code",
   "execution_count": 33,
   "metadata": {},
   "outputs": [],
   "source": [
    "src = df.iloc[0]['src']"
   ]
  },
  {
   "cell_type": "markdown",
   "metadata": {},
   "source": [
    "The default value for window size in Foxlink is 3"
   ]
  },
  {
   "cell_type": "code",
   "execution_count": 35,
   "metadata": {},
   "outputs": [],
   "source": [
    "DEFAULT_WINDOW_SIZE = 3\n",
    "result = compute_shingle_vector(src, DEFAULT_WINDOW_SIZE)"
   ]
  },
  {
   "cell_type": "code",
   "execution_count": 36,
   "metadata": {},
   "outputs": [
    {
     "data": {
      "text/plain": [
       "(0, 3, 2, 0, 5, 1, 1, 1)"
      ]
     },
     "execution_count": 36,
     "metadata": {},
     "output_type": "execute_result"
    }
   ],
   "source": [
    "result"
   ]
  },
  {
   "cell_type": "markdown",
   "metadata": {},
   "source": [
    "Set `shingle_vector` label for each row    "
   ]
  },
  {
   "cell_type": "code",
   "execution_count": null,
   "metadata": {},
   "outputs": [],
   "source": [
    "df['shingle_vector'] = df.apply(lambda x: compute_shingle_vector(x['src'], DEFAULT_WINDOW_SIZE), axis=1)"
   ]
  },
  {
   "cell_type": "markdown",
   "metadata": {},
   "source": [
    "## Write dataset to a file"
   ]
  },
  {
   "cell_type": "code",
   "execution_count": 74,
   "metadata": {},
   "outputs": [],
   "source": [
    "df.to_csv('../datasets/bookdepository.csv', encoding='utf-8', index=False)"
   ]
  },
  {
   "cell_type": "code",
   "execution_count": 75,
   "metadata": {},
   "outputs": [],
   "source": [
    "test = pd.read_csv('../datasets/bookdepository.csv')"
   ]
  },
  {
   "cell_type": "code",
   "execution_count": 76,
   "metadata": {},
   "outputs": [
    {
     "data": {
      "text/html": [
       "<div>\n",
       "<style scoped>\n",
       "    .dataframe tbody tr th:only-of-type {\n",
       "        vertical-align: middle;\n",
       "    }\n",
       "\n",
       "    .dataframe tbody tr th {\n",
       "        vertical-align: top;\n",
       "    }\n",
       "\n",
       "    .dataframe thead th {\n",
       "        text-align: right;\n",
       "    }\n",
       "</style>\n",
       "<table border=\"1\" class=\"dataframe\">\n",
       "  <thead>\n",
       "    <tr style=\"text-align: right;\">\n",
       "      <th></th>\n",
       "      <th>url</th>\n",
       "      <th>referer_url</th>\n",
       "      <th>src</th>\n",
       "      <th>label</th>\n",
       "    </tr>\n",
       "  </thead>\n",
       "  <tbody>\n",
       "    <tr>\n",
       "      <th>0</th>\n",
       "      <td>https://www.bookdepository.com/</td>\n",
       "      <td>https://www.bookdepository.com/</td>\n",
       "      <td>&lt;!DOCTYPE html&gt;\\n&lt;html lang=\"en\"&gt;\\n&lt;head&gt;\\n\\n ...</td>\n",
       "      <td>NaN</td>\n",
       "    </tr>\n",
       "    <tr>\n",
       "      <th>1</th>\n",
       "      <td>https://www.bookdepository.com/author/J-K-Rowling</td>\n",
       "      <td>https://www.bookdepository.com/</td>\n",
       "      <td>&lt;!DOCTYPE html&gt;\\n&lt;html lang=\"en\"&gt;\\n&lt;head&gt;\\n\\n ...</td>\n",
       "      <td>NaN</td>\n",
       "    </tr>\n",
       "    <tr>\n",
       "      <th>2</th>\n",
       "      <td>https://www.bookdepository.com/category/3098/T...</td>\n",
       "      <td>https://www.bookdepository.com/</td>\n",
       "      <td>&lt;!DOCTYPE html&gt;\\n&lt;html lang=\"en\"&gt;\\n&lt;head&gt;\\n\\n ...</td>\n",
       "      <td>NaN</td>\n",
       "    </tr>\n",
       "    <tr>\n",
       "      <th>3</th>\n",
       "      <td>https://www.bookdepository.com/category/3392/B...</td>\n",
       "      <td>https://www.bookdepository.com/</td>\n",
       "      <td>&lt;!DOCTYPE html&gt;\\n&lt;html lang=\"en\"&gt;\\n&lt;head&gt;\\n\\n ...</td>\n",
       "      <td>NaN</td>\n",
       "    </tr>\n",
       "    <tr>\n",
       "      <th>4</th>\n",
       "      <td>https://www.bookdepository.com/category/2967/T...</td>\n",
       "      <td>https://www.bookdepository.com/</td>\n",
       "      <td>&lt;!DOCTYPE html&gt;\\n&lt;html lang=\"en\"&gt;\\n&lt;head&gt;\\n\\n ...</td>\n",
       "      <td>NaN</td>\n",
       "    </tr>\n",
       "  </tbody>\n",
       "</table>\n",
       "</div>"
      ],
      "text/plain": [
       "                                                 url  \\\n",
       "0                    https://www.bookdepository.com/   \n",
       "1  https://www.bookdepository.com/author/J-K-Rowling   \n",
       "2  https://www.bookdepository.com/category/3098/T...   \n",
       "3  https://www.bookdepository.com/category/3392/B...   \n",
       "4  https://www.bookdepository.com/category/2967/T...   \n",
       "\n",
       "                       referer_url  \\\n",
       "0  https://www.bookdepository.com/   \n",
       "1  https://www.bookdepository.com/   \n",
       "2  https://www.bookdepository.com/   \n",
       "3  https://www.bookdepository.com/   \n",
       "4  https://www.bookdepository.com/   \n",
       "\n",
       "                                                 src label  \n",
       "0  <!DOCTYPE html>\\n<html lang=\"en\">\\n<head>\\n\\n ...   NaN  \n",
       "1  <!DOCTYPE html>\\n<html lang=\"en\">\\n<head>\\n\\n ...   NaN  \n",
       "2  <!DOCTYPE html>\\n<html lang=\"en\">\\n<head>\\n\\n ...   NaN  \n",
       "3  <!DOCTYPE html>\\n<html lang=\"en\">\\n<head>\\n\\n ...   NaN  \n",
       "4  <!DOCTYPE html>\\n<html lang=\"en\">\\n<head>\\n\\n ...   NaN  "
      ]
     },
     "execution_count": 76,
     "metadata": {},
     "output_type": "execute_result"
    }
   ],
   "source": [
    "test.head()"
   ]
  },
  {
   "cell_type": "code",
   "execution_count": 77,
   "metadata": {},
   "outputs": [
    {
     "data": {
      "text/plain": [
       "(25549, 4)"
      ]
     },
     "execution_count": 77,
     "metadata": {},
     "output_type": "execute_result"
    }
   ],
   "source": [
    "test.shape"
   ]
  },
  {
   "cell_type": "code",
   "execution_count": 79,
   "metadata": {},
   "outputs": [
    {
     "name": "stdout",
     "output_type": "stream",
     "text": [
      "There are 9742 row with no label\n",
      "There are 15807 row with product label\n"
     ]
    }
   ],
   "source": [
    "print(fmt_string.format(len(test[test['label'].isnull()]),'no'))\n",
    "print(fmt_string.format(len(test[test['label']=='product']), 'product'))"
   ]
  }
 ],
 "metadata": {
  "kernelspec": {
   "display_name": "Python 3",
   "language": "python",
   "name": "python3"
  },
  "language_info": {
   "codemirror_mode": {
    "name": "ipython",
    "version": 3
   },
   "file_extension": ".py",
   "mimetype": "text/x-python",
   "name": "python",
   "nbconvert_exporter": "python",
   "pygments_lexer": "ipython3",
   "version": "3.7.1"
  }
 },
 "nbformat": 4,
 "nbformat_minor": 2
}
