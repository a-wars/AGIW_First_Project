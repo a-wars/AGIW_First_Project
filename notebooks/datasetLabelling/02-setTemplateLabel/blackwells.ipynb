{
 "cells": [
  {
   "cell_type": "code",
   "execution_count": 73,
   "metadata": {},
   "outputs": [
    {
     "data": {
      "text/plain": [
       "'../../../datasets/blackwells.csv'"
      ]
     },
     "execution_count": 73,
     "metadata": {},
     "output_type": "execute_result"
    }
   ],
   "source": [
    "%matplotlib inline\n",
    "# Importing libraries\n",
    "import matplotlib.pyplot as plt\n",
    "import pandas as pd\n",
    "\n",
    "FILEPATH_PREFIX = '../../../datasets'\n",
    "FILENAME = 'blackwells.csv'\n",
    "FILEPATH = '{}/{}'.format(FILEPATH_PREFIX, FILENAME)\n",
    "FILEPATH"
   ]
  },
  {
   "cell_type": "code",
   "execution_count": 74,
   "metadata": {},
   "outputs": [],
   "source": [
    "df = pd.read_csv(FILEPATH)"
   ]
  },
  {
   "cell_type": "markdown",
   "metadata": {},
   "source": [
    "## Data analisys\n",
    "Some preliminary analisys of the dataset"
   ]
  },
  {
   "cell_type": "code",
   "execution_count": 75,
   "metadata": {},
   "outputs": [
    {
     "name": "stdout",
     "output_type": "stream",
     "text": [
      "First 5 rows\n",
      "------------\n"
     ]
    },
    {
     "data": {
      "text/html": [
       "<div>\n",
       "<style scoped>\n",
       "    .dataframe tbody tr th:only-of-type {\n",
       "        vertical-align: middle;\n",
       "    }\n",
       "\n",
       "    .dataframe tbody tr th {\n",
       "        vertical-align: top;\n",
       "    }\n",
       "\n",
       "    .dataframe thead th {\n",
       "        text-align: right;\n",
       "    }\n",
       "</style>\n",
       "<table border=\"1\" class=\"dataframe\">\n",
       "  <thead>\n",
       "    <tr style=\"text-align: right;\">\n",
       "      <th></th>\n",
       "      <th>url</th>\n",
       "      <th>referer_url</th>\n",
       "      <th>src</th>\n",
       "      <th>shingle_vector</th>\n",
       "    </tr>\n",
       "  </thead>\n",
       "  <tbody>\n",
       "    <tr>\n",
       "      <th>0</th>\n",
       "      <td>https://blackwells.co.uk/bookshop/basket</td>\n",
       "      <td>https://blackwells.co.uk/bookshop/home</td>\n",
       "      <td>\\n\\n\\n        \\n&lt;!DOCTYPE html&gt;\\n&lt;html lang=\"e...</td>\n",
       "      <td>(0, 1, 5, 1, 1, 6, 3, 1)</td>\n",
       "    </tr>\n",
       "    <tr>\n",
       "      <th>1</th>\n",
       "      <td>https://blackwells.co.uk/bookshop/search/</td>\n",
       "      <td>https://blackwells.co.uk/bookshop/home</td>\n",
       "      <td>\\n\\n\\n        \\n&lt;!DOCTYPE html&gt;\\n&lt;html lang=\"e...</td>\n",
       "      <td>(0, 1, 5, 1, 1, 0, 3, 0)</td>\n",
       "    </tr>\n",
       "    <tr>\n",
       "      <th>2</th>\n",
       "      <td>https://blackwells.co.uk/bookshop/home</td>\n",
       "      <td>https://blackwells.co.uk/bookshop/home</td>\n",
       "      <td>\\n\\n\\n        \\n&lt;!DOCTYPE html&gt;\\n&lt;html lang=\"e...</td>\n",
       "      <td>(0, 1, 0, 1, 0, 0, 3, 1)</td>\n",
       "    </tr>\n",
       "    <tr>\n",
       "      <th>3</th>\n",
       "      <td>https://blackwells.co.uk/bookshop/product/9781...</td>\n",
       "      <td>https://blackwells.co.uk/bookshop/home</td>\n",
       "      <td>\\n\\n\\n        \\n&lt;!DOCTYPE html&gt;\\n&lt;html lang=\"e...</td>\n",
       "      <td>(0, 1, 1, 1, 1, 0, 0, 1)</td>\n",
       "    </tr>\n",
       "    <tr>\n",
       "      <th>4</th>\n",
       "      <td>https://blackwells.co.uk/bookshop/mapping</td>\n",
       "      <td>https://blackwells.co.uk/bookshop/basket</td>\n",
       "      <td>\\n\\n\\n\\n\\n\\n&lt;!DOCTYPE html&gt;\\n&lt;html lang=\"en\" c...</td>\n",
       "      <td>(2, 22, 1, 1, 7, 15, 7, 5)</td>\n",
       "    </tr>\n",
       "  </tbody>\n",
       "</table>\n",
       "</div>"
      ],
      "text/plain": [
       "                                                 url  \\\n",
       "0           https://blackwells.co.uk/bookshop/basket   \n",
       "1          https://blackwells.co.uk/bookshop/search/   \n",
       "2             https://blackwells.co.uk/bookshop/home   \n",
       "3  https://blackwells.co.uk/bookshop/product/9781...   \n",
       "4          https://blackwells.co.uk/bookshop/mapping   \n",
       "\n",
       "                                referer_url  \\\n",
       "0    https://blackwells.co.uk/bookshop/home   \n",
       "1    https://blackwells.co.uk/bookshop/home   \n",
       "2    https://blackwells.co.uk/bookshop/home   \n",
       "3    https://blackwells.co.uk/bookshop/home   \n",
       "4  https://blackwells.co.uk/bookshop/basket   \n",
       "\n",
       "                                                 src  \\\n",
       "0  \\n\\n\\n        \\n<!DOCTYPE html>\\n<html lang=\"e...   \n",
       "1  \\n\\n\\n        \\n<!DOCTYPE html>\\n<html lang=\"e...   \n",
       "2  \\n\\n\\n        \\n<!DOCTYPE html>\\n<html lang=\"e...   \n",
       "3  \\n\\n\\n        \\n<!DOCTYPE html>\\n<html lang=\"e...   \n",
       "4  \\n\\n\\n\\n\\n\\n<!DOCTYPE html>\\n<html lang=\"en\" c...   \n",
       "\n",
       "               shingle_vector  \n",
       "0    (0, 1, 5, 1, 1, 6, 3, 1)  \n",
       "1    (0, 1, 5, 1, 1, 0, 3, 0)  \n",
       "2    (0, 1, 0, 1, 0, 0, 3, 1)  \n",
       "3    (0, 1, 1, 1, 1, 0, 0, 1)  \n",
       "4  (2, 22, 1, 1, 7, 15, 7, 5)  "
      ]
     },
     "execution_count": 75,
     "metadata": {},
     "output_type": "execute_result"
    }
   ],
   "source": [
    "print(\"First 5 rows\")\n",
    "print(\"------------\")\n",
    "df.head()"
   ]
  },
  {
   "cell_type": "code",
   "execution_count": 76,
   "metadata": {},
   "outputs": [
    {
     "name": "stdout",
     "output_type": "stream",
     "text": [
      "No. of rows and columns\n",
      "-----------------------\n"
     ]
    },
    {
     "data": {
      "text/plain": [
       "(10919, 4)"
      ]
     },
     "execution_count": 76,
     "metadata": {},
     "output_type": "execute_result"
    }
   ],
   "source": [
    "print(\"No. of rows and columns\")\n",
    "print(\"-----------------------\")\n",
    "df.shape"
   ]
  },
  {
   "cell_type": "code",
   "execution_count": 77,
   "metadata": {},
   "outputs": [
    {
     "name": "stdout",
     "output_type": "stream",
     "text": [
      "Check null values\n",
      "-----------------\n"
     ]
    },
    {
     "data": {
      "text/plain": [
       "False"
      ]
     },
     "execution_count": 77,
     "metadata": {},
     "output_type": "execute_result"
    }
   ],
   "source": [
    "print(\"Check null values\")\n",
    "print(\"-----------------\")\n",
    "df.isnull().any().any()"
   ]
  },
  {
   "cell_type": "code",
   "execution_count": 78,
   "metadata": {},
   "outputs": [
    {
     "name": "stdout",
     "output_type": "stream",
     "text": [
      "Check duplicate values\n",
      "----------------------\n"
     ]
    },
    {
     "data": {
      "text/plain": [
       "False"
      ]
     },
     "execution_count": 78,
     "metadata": {},
     "output_type": "execute_result"
    }
   ],
   "source": [
    "print(\"Check duplicate values\")\n",
    "print(\"----------------------\")\n",
    "len(df['url'].unique()) != df.shape[0]"
   ]
  },
  {
   "cell_type": "code",
   "execution_count": 79,
   "metadata": {},
   "outputs": [
    {
     "name": "stdout",
     "output_type": "stream",
     "text": [
      "DataFrame column types\n",
      "----------------------\n",
      "<class 'pandas.core.frame.DataFrame'>\n",
      "RangeIndex: 10919 entries, 0 to 10918\n",
      "Data columns (total 4 columns):\n",
      "url               10919 non-null object\n",
      "referer_url       10919 non-null object\n",
      "src               10919 non-null object\n",
      "shingle_vector    10919 non-null object\n",
      "dtypes: object(4)\n",
      "memory usage: 341.3+ KB\n"
     ]
    }
   ],
   "source": [
    "print(\"DataFrame column types\")\n",
    "print(\"----------------------\")\n",
    "df.info()"
   ]
  },
  {
   "cell_type": "code",
   "execution_count": 80,
   "metadata": {},
   "outputs": [
    {
     "name": "stdout",
     "output_type": "stream",
     "text": [
      "Some stats\n",
      "----------------\n"
     ]
    },
    {
     "data": {
      "text/html": [
       "<div>\n",
       "<style scoped>\n",
       "    .dataframe tbody tr th:only-of-type {\n",
       "        vertical-align: middle;\n",
       "    }\n",
       "\n",
       "    .dataframe tbody tr th {\n",
       "        vertical-align: top;\n",
       "    }\n",
       "\n",
       "    .dataframe thead th {\n",
       "        text-align: right;\n",
       "    }\n",
       "</style>\n",
       "<table border=\"1\" class=\"dataframe\">\n",
       "  <thead>\n",
       "    <tr style=\"text-align: right;\">\n",
       "      <th></th>\n",
       "      <th>url</th>\n",
       "      <th>referer_url</th>\n",
       "      <th>src</th>\n",
       "      <th>shingle_vector</th>\n",
       "    </tr>\n",
       "  </thead>\n",
       "  <tbody>\n",
       "    <tr>\n",
       "      <th>count</th>\n",
       "      <td>10919</td>\n",
       "      <td>10919</td>\n",
       "      <td>10919</td>\n",
       "      <td>10919</td>\n",
       "    </tr>\n",
       "    <tr>\n",
       "      <th>unique</th>\n",
       "      <td>10919</td>\n",
       "      <td>6375</td>\n",
       "      <td>10525</td>\n",
       "      <td>73</td>\n",
       "    </tr>\n",
       "    <tr>\n",
       "      <th>top</th>\n",
       "      <td>https://blackwells.co.uk/bookshop/product/Smar...</td>\n",
       "      <td>https://blackwells.co.uk/bookshop/home</td>\n",
       "      <td>\\n\\n\\n        \\n&lt;!DOCTYPE html&gt;\\n&lt;html lang=\"e...</td>\n",
       "      <td>(0, 1, 5, 0, 1, 0, 3, 0)</td>\n",
       "    </tr>\n",
       "    <tr>\n",
       "      <th>freq</th>\n",
       "      <td>1</td>\n",
       "      <td>12</td>\n",
       "      <td>7</td>\n",
       "      <td>2197</td>\n",
       "    </tr>\n",
       "  </tbody>\n",
       "</table>\n",
       "</div>"
      ],
      "text/plain": [
       "                                                      url  \\\n",
       "count                                               10919   \n",
       "unique                                              10919   \n",
       "top     https://blackwells.co.uk/bookshop/product/Smar...   \n",
       "freq                                                    1   \n",
       "\n",
       "                                   referer_url  \\\n",
       "count                                    10919   \n",
       "unique                                    6375   \n",
       "top     https://blackwells.co.uk/bookshop/home   \n",
       "freq                                        12   \n",
       "\n",
       "                                                      src  \\\n",
       "count                                               10919   \n",
       "unique                                              10525   \n",
       "top     \\n\\n\\n        \\n<!DOCTYPE html>\\n<html lang=\"e...   \n",
       "freq                                                    7   \n",
       "\n",
       "                  shingle_vector  \n",
       "count                      10919  \n",
       "unique                        73  \n",
       "top     (0, 1, 5, 0, 1, 0, 3, 0)  \n",
       "freq                        2197  "
      ]
     },
     "execution_count": 80,
     "metadata": {},
     "output_type": "execute_result"
    }
   ],
   "source": [
    "print(\"Some stats\")\n",
    "print(\"----------------\")\n",
    "df.describe()"
   ]
  },
  {
   "cell_type": "markdown",
   "metadata": {},
   "source": [
    "## Page labelling\n",
    "Label (possibly) each page with its own template. Let's start with product (books) pages. \n",
    "The following URL links to a page which shows info regarding a book:\n",
    "\n",
    "```\n",
    "https://blackwells.co.uk/bookshop/product/Players-Handbook-by-Jeremy-Crawford-author-James-Wyatt-author-Robert-J-Schwalb-author-Bruce-R-Cordell-author/9780786965601\n",
    "```\n",
    "\n",
    "So we could infer that each product page has the following url schema:\n",
    "\n",
    "```\n",
    "https://blackwells.co.uk/bookshop/product/\n",
    "```"
   ]
  },
  {
   "cell_type": "code",
   "execution_count": 81,
   "metadata": {},
   "outputs": [
    {
     "name": "stdout",
     "output_type": "stream",
     "text": [
      "Testing article regex:\n",
      "Only the first 6 urls should be matching with the article regex\n",
      "---------------------------------------------------------------\n",
      "<re.Match object; span=(0, 205), match='https://blackwells.co.uk/bookshop/product/Dungeon>\n",
      "<re.Match object; span=(0, 87), match='https://blackwells.co.uk/bookshop/product/Educati>\n",
      "<re.Match object; span=(0, 134), match='https://blackwells.co.uk/bookshop/product/Game-of>\n",
      "<re.Match object; span=(0, 106), match='https://blackwells.co.uk/bookshop/product/The-Wor>\n",
      "<re.Match object; span=(0, 85), match='https://blackwells.co.uk/bookshop/product/Happy-O>\n",
      "<re.Match object; span=(0, 108), match='https://blackwells.co.uk/bookshop/product/Hey-War>\n",
      "None\n",
      "None\n",
      "None\n",
      "None\n",
      "None\n",
      "None\n",
      "None\n",
      "None\n",
      "None\n",
      "None\n",
      "None\n",
      "None\n",
      "None\n",
      "---------------------------------------------------------------\n"
     ]
    }
   ],
   "source": [
    "import re\n",
    "\n",
    "#Urls associated with product pages\n",
    "testStrings1= ['https://blackwells.co.uk/bookshop/product/Dungeons--Dragons-Starter-Set-Six-Dice-Five-Ready-to-Play-DD-Characters-With-Character-Sheets-a-Rulebook-and-One-Adventure-by-Wizards-RPG-Team-author/9780786965595',\n",
    "              'https://blackwells.co.uk/bookshop/product/Education-by-Gary-Thomas-author/9780199643264',\n",
    "              'https://blackwells.co.uk/bookshop/product/Game-of-Thrones-House-Stark-Ruled-Notebook-Reformat-by-Insight-Editions-author/9781683836650',\n",
    "              'https://blackwells.co.uk/bookshop/product/The-World-of-Peter-Rabbit-by-Beatrix-Potter-author/9780723275923',\n",
    "              'https://blackwells.co.uk/bookshop/product/Happy-Old-Me-by-DAVIES-HUNTER/9781472626028',\n",
    "              'https://blackwells.co.uk/bookshop/product/Hey-Warrior-by-Karen-Young-Norvile-Dovidonyte-artist/9781912678037']\n",
    "\n",
    "#Various urls which aren't product pages\n",
    "testStrings2 = ['https://blackwells.co.uk/bookshop/bestsellers',\n",
    "               'https://blackwells.co.uk/rarebooks/book.php?id=55981',\n",
    "               'https://blackwells.co.uk/bookshop/category/_computing/',\n",
    "               'https://blackwells.co.uk/bookshop/search/author/Subrata%20Dasgupta%20(author)',\n",
    "               'https://blackwells.co.uk/bookshop/search/?productTitle=game+of+thrones&quantity=6&author=&quantity=6&publisher=&quantity=6&keyword=&quantity=6&pubDateFrom=&pubDateTo=&isbn=&priceFrom=&priceTo=&academicLevel=E',\n",
    "               'https://blackwells.co.uk/bookshop/category/WN/',\n",
    "               'https://blackwells.co.uk/bookshop/category/WQ/',\n",
    "               'https://blackwells.co.uk/bookshop/search/?keyword=',\n",
    "               'https://blackwells.co.uk/bookshop/basket',\n",
    "               'https://blackwells.co.uk/bookshop/events/',\n",
    "               'https://blackwells.co.uk/bookshop/collection/Gift-and-Stationery-bestsellers/-186139',\n",
    "               'https://blackwells.co.uk/bookshop/search/?keyword=game+of+thrones',\n",
    "               'https://blackwells.co.uk/bookshop/category/_travel/']\n",
    "\n",
    "testStrings = testStrings1 + testStrings2\n",
    "\n",
    "productRegex = r'^https\\:\\/\\/blackwells\\.co\\.uk\\/bookshop\\/product\\/.+$'\n",
    "\n",
    "# simple tests\n",
    "print(\"Testing article regex:\")\n",
    "print(\"Only the first 6 urls should be matching with the article regex\")\n",
    "print(\"---------------------------------------------------------------\")\n",
    "\n",
    "for uri in testStrings:\n",
    "    print(re.match(productRegex, uri))\n",
    "    \n",
    "print('---------------------------------------------------------------')"
   ]
  },
  {
   "cell_type": "markdown",
   "metadata": {},
   "source": [
    "Next we have to label pages which show list of books. We noted that books in blackwells.co.uk are grouped by category, so that books which share the same category are listed in the same page in a paginated way. \n",
    "\n",
    "```\n",
    "https://blackwells.co.uk/bookshop/category/_travel/\n",
    "```\n",
    "\n",
    "So urls referring to categories (seems to) have the following schema:\n",
    "\n",
    "```\n",
    "https://blackwells.co.uk/bookshop/category/<somethingElse>\n",
    "```\n",
    "\n",
    "Note that also search results (except `https://blackwells.co.uk/bookshop/search/?keyword=` and `https://blackwells.co.uk/bookshop/search/`) are paginated:\n",
    "\n",
    "```\n",
    "https://blackwells.co.uk/bookshop/search/?keyword=game+of+thrones\n",
    "```\n",
    "\n",
    "In that case the url schema follows this pattern:\n",
    "```\n",
    "https://blackwells.co.uk/bookshop/search/<?keyword=.+ or .+>\n",
    "```"
   ]
  },
  {
   "cell_type": "code",
   "execution_count": 82,
   "metadata": {},
   "outputs": [
    {
     "name": "stdout",
     "output_type": "stream",
     "text": [
      "Testing catalog regex:\n",
      "Only 7 urls should be matching with the bestsellers regex\n",
      "-----------------------------------------------------------\n",
      "None\n",
      "None\n",
      "None\n",
      "None\n",
      "None\n",
      "None\n",
      "None\n",
      "None\n",
      "<re.Match object; span=(0, 54), match='https://blackwells.co.uk/bookshop/category/_compu>\n",
      "<re.Match object; span=(0, 41), match='https://blackwells.co.uk/bookshop/search/'>\n",
      "<re.Match object; span=(0, 41), match='https://blackwells.co.uk/bookshop/search/'>\n",
      "<re.Match object; span=(0, 46), match='https://blackwells.co.uk/bookshop/category/WN/'>\n",
      "<re.Match object; span=(0, 46), match='https://blackwells.co.uk/bookshop/category/WQ/'>\n",
      "None\n",
      "None\n",
      "None\n",
      "None\n",
      "<re.Match object; span=(0, 65), match='https://blackwells.co.uk/bookshop/search/?keyword>\n",
      "<re.Match object; span=(0, 51), match='https://blackwells.co.uk/bookshop/category/_trave>\n",
      "---------------------------------------------------------------\n"
     ]
    }
   ],
   "source": [
    "catalogRegex = r'^https\\:\\/\\/blackwells\\.co\\.uk\\/bookshop\\/(category\\/.+|(search\\?.+|search\\/\\?keyword\\=.+|search\\/(?!(\\?keyword\\=))))'\n",
    "\n",
    "print(\"Testing catalog regex:\")\n",
    "print(\"Only 7 urls should be matching with the bestsellers regex\")\n",
    "print(\"-----------------------------------------------------------\")\n",
    "\n",
    "for uri in testStrings:\n",
    "    print(re.match(catalogRegex, uri))\n",
    "print('---------------------------------------------------------------')"
   ]
  },
  {
   "cell_type": "markdown",
   "metadata": {},
   "source": [
    "## Add `label` column\n",
    "Labelling each possible row of the dataframe"
   ]
  },
  {
   "cell_type": "code",
   "execution_count": 83,
   "metadata": {},
   "outputs": [
    {
     "data": {
      "text/html": [
       "<div>\n",
       "<style scoped>\n",
       "    .dataframe tbody tr th:only-of-type {\n",
       "        vertical-align: middle;\n",
       "    }\n",
       "\n",
       "    .dataframe tbody tr th {\n",
       "        vertical-align: top;\n",
       "    }\n",
       "\n",
       "    .dataframe thead th {\n",
       "        text-align: right;\n",
       "    }\n",
       "</style>\n",
       "<table border=\"1\" class=\"dataframe\">\n",
       "  <thead>\n",
       "    <tr style=\"text-align: right;\">\n",
       "      <th></th>\n",
       "      <th>url</th>\n",
       "      <th>referer_url</th>\n",
       "      <th>src</th>\n",
       "      <th>shingle_vector</th>\n",
       "      <th>label</th>\n",
       "    </tr>\n",
       "  </thead>\n",
       "  <tbody>\n",
       "    <tr>\n",
       "      <th>0</th>\n",
       "      <td>https://blackwells.co.uk/bookshop/basket</td>\n",
       "      <td>https://blackwells.co.uk/bookshop/home</td>\n",
       "      <td>\\n\\n\\n        \\n&lt;!DOCTYPE html&gt;\\n&lt;html lang=\"e...</td>\n",
       "      <td>(0, 1, 5, 1, 1, 6, 3, 1)</td>\n",
       "      <td>None</td>\n",
       "    </tr>\n",
       "    <tr>\n",
       "      <th>1</th>\n",
       "      <td>https://blackwells.co.uk/bookshop/search/</td>\n",
       "      <td>https://blackwells.co.uk/bookshop/home</td>\n",
       "      <td>\\n\\n\\n        \\n&lt;!DOCTYPE html&gt;\\n&lt;html lang=\"e...</td>\n",
       "      <td>(0, 1, 5, 1, 1, 0, 3, 0)</td>\n",
       "      <td>None</td>\n",
       "    </tr>\n",
       "    <tr>\n",
       "      <th>2</th>\n",
       "      <td>https://blackwells.co.uk/bookshop/home</td>\n",
       "      <td>https://blackwells.co.uk/bookshop/home</td>\n",
       "      <td>\\n\\n\\n        \\n&lt;!DOCTYPE html&gt;\\n&lt;html lang=\"e...</td>\n",
       "      <td>(0, 1, 0, 1, 0, 0, 3, 1)</td>\n",
       "      <td>None</td>\n",
       "    </tr>\n",
       "    <tr>\n",
       "      <th>3</th>\n",
       "      <td>https://blackwells.co.uk/bookshop/product/9781...</td>\n",
       "      <td>https://blackwells.co.uk/bookshop/home</td>\n",
       "      <td>\\n\\n\\n        \\n&lt;!DOCTYPE html&gt;\\n&lt;html lang=\"e...</td>\n",
       "      <td>(0, 1, 1, 1, 1, 0, 0, 1)</td>\n",
       "      <td>None</td>\n",
       "    </tr>\n",
       "    <tr>\n",
       "      <th>4</th>\n",
       "      <td>https://blackwells.co.uk/bookshop/mapping</td>\n",
       "      <td>https://blackwells.co.uk/bookshop/basket</td>\n",
       "      <td>\\n\\n\\n\\n\\n\\n&lt;!DOCTYPE html&gt;\\n&lt;html lang=\"en\" c...</td>\n",
       "      <td>(2, 22, 1, 1, 7, 15, 7, 5)</td>\n",
       "      <td>None</td>\n",
       "    </tr>\n",
       "  </tbody>\n",
       "</table>\n",
       "</div>"
      ],
      "text/plain": [
       "                                                 url  \\\n",
       "0           https://blackwells.co.uk/bookshop/basket   \n",
       "1          https://blackwells.co.uk/bookshop/search/   \n",
       "2             https://blackwells.co.uk/bookshop/home   \n",
       "3  https://blackwells.co.uk/bookshop/product/9781...   \n",
       "4          https://blackwells.co.uk/bookshop/mapping   \n",
       "\n",
       "                                referer_url  \\\n",
       "0    https://blackwells.co.uk/bookshop/home   \n",
       "1    https://blackwells.co.uk/bookshop/home   \n",
       "2    https://blackwells.co.uk/bookshop/home   \n",
       "3    https://blackwells.co.uk/bookshop/home   \n",
       "4  https://blackwells.co.uk/bookshop/basket   \n",
       "\n",
       "                                                 src  \\\n",
       "0  \\n\\n\\n        \\n<!DOCTYPE html>\\n<html lang=\"e...   \n",
       "1  \\n\\n\\n        \\n<!DOCTYPE html>\\n<html lang=\"e...   \n",
       "2  \\n\\n\\n        \\n<!DOCTYPE html>\\n<html lang=\"e...   \n",
       "3  \\n\\n\\n        \\n<!DOCTYPE html>\\n<html lang=\"e...   \n",
       "4  \\n\\n\\n\\n\\n\\n<!DOCTYPE html>\\n<html lang=\"en\" c...   \n",
       "\n",
       "               shingle_vector label  \n",
       "0    (0, 1, 5, 1, 1, 6, 3, 1)  None  \n",
       "1    (0, 1, 5, 1, 1, 0, 3, 0)  None  \n",
       "2    (0, 1, 0, 1, 0, 0, 3, 1)  None  \n",
       "3    (0, 1, 1, 1, 1, 0, 0, 1)  None  \n",
       "4  (2, 22, 1, 1, 7, 15, 7, 5)  None  "
      ]
     },
     "execution_count": 83,
     "metadata": {},
     "output_type": "execute_result"
    }
   ],
   "source": [
    "df['label'] = None\n",
    "df.head()"
   ]
  },
  {
   "cell_type": "code",
   "execution_count": 84,
   "metadata": {},
   "outputs": [],
   "source": [
    "def set_label(url, regex, old_label, new_label):\n",
    "    if re.match(regex, url):\n",
    "        if old_label is None:\n",
    "            return new_label\n",
    "        else:\n",
    "            return 'collision'\n",
    "    else:\n",
    "        return old_label"
   ]
  },
  {
   "cell_type": "markdown",
   "metadata": {},
   "source": [
    "Add product label"
   ]
  },
  {
   "cell_type": "code",
   "execution_count": 85,
   "metadata": {},
   "outputs": [
    {
     "name": "stdout",
     "output_type": "stream",
     "text": [
      "There should be no row with 'collision' label\n",
      "---------------------------------------------\n"
     ]
    },
    {
     "data": {
      "text/html": [
       "<div>\n",
       "<style scoped>\n",
       "    .dataframe tbody tr th:only-of-type {\n",
       "        vertical-align: middle;\n",
       "    }\n",
       "\n",
       "    .dataframe tbody tr th {\n",
       "        vertical-align: top;\n",
       "    }\n",
       "\n",
       "    .dataframe thead th {\n",
       "        text-align: right;\n",
       "    }\n",
       "</style>\n",
       "<table border=\"1\" class=\"dataframe\">\n",
       "  <thead>\n",
       "    <tr style=\"text-align: right;\">\n",
       "      <th></th>\n",
       "      <th>url</th>\n",
       "      <th>referer_url</th>\n",
       "      <th>src</th>\n",
       "      <th>shingle_vector</th>\n",
       "      <th>label</th>\n",
       "    </tr>\n",
       "  </thead>\n",
       "  <tbody>\n",
       "  </tbody>\n",
       "</table>\n",
       "</div>"
      ],
      "text/plain": [
       "Empty DataFrame\n",
       "Columns: [url, referer_url, src, shingle_vector, label]\n",
       "Index: []"
      ]
     },
     "execution_count": 85,
     "metadata": {},
     "output_type": "execute_result"
    }
   ],
   "source": [
    "df['label'] = df.apply(lambda x: set_label(x['url'], productRegex, x['label'], 'product'), axis=1)\n",
    "print(\"There should be no row with 'collision' label\")\n",
    "print(\"---------------------------------------------\")\n",
    "df[df['label']=='collision'].head()"
   ]
  },
  {
   "cell_type": "markdown",
   "metadata": {},
   "source": [
    "Add list label for paginated pages"
   ]
  },
  {
   "cell_type": "code",
   "execution_count": 86,
   "metadata": {},
   "outputs": [
    {
     "name": "stdout",
     "output_type": "stream",
     "text": [
      "There should be no row with 'collision' label\n",
      "---------------------------------------------\n"
     ]
    },
    {
     "data": {
      "text/html": [
       "<div>\n",
       "<style scoped>\n",
       "    .dataframe tbody tr th:only-of-type {\n",
       "        vertical-align: middle;\n",
       "    }\n",
       "\n",
       "    .dataframe tbody tr th {\n",
       "        vertical-align: top;\n",
       "    }\n",
       "\n",
       "    .dataframe thead th {\n",
       "        text-align: right;\n",
       "    }\n",
       "</style>\n",
       "<table border=\"1\" class=\"dataframe\">\n",
       "  <thead>\n",
       "    <tr style=\"text-align: right;\">\n",
       "      <th></th>\n",
       "      <th>url</th>\n",
       "      <th>referer_url</th>\n",
       "      <th>src</th>\n",
       "      <th>shingle_vector</th>\n",
       "      <th>label</th>\n",
       "    </tr>\n",
       "  </thead>\n",
       "  <tbody>\n",
       "  </tbody>\n",
       "</table>\n",
       "</div>"
      ],
      "text/plain": [
       "Empty DataFrame\n",
       "Columns: [url, referer_url, src, shingle_vector, label]\n",
       "Index: []"
      ]
     },
     "execution_count": 86,
     "metadata": {},
     "output_type": "execute_result"
    }
   ],
   "source": [
    "df['label'] = df.apply(lambda x: set_label(x['url'], catalogRegex, x['label'], 'list'), axis=1)\n",
    "print(\"There should be no row with 'collision' label\")\n",
    "print(\"---------------------------------------------\")\n",
    "df[df['label']=='collision'].head()"
   ]
  },
  {
   "cell_type": "markdown",
   "metadata": {},
   "source": [
    "Summary:"
   ]
  },
  {
   "cell_type": "code",
   "execution_count": 87,
   "metadata": {},
   "outputs": [
    {
     "name": "stdout",
     "output_type": "stream",
     "text": [
      "There are 20 row with no label\n",
      "There are 10405 row with product label\n",
      "There are 494 row with list label\n"
     ]
    }
   ],
   "source": [
    "fmt_string = 'There are {} row with {} label'\n",
    "print(fmt_string.format(len(df[df['label'].isnull()]),'no'))\n",
    "print(fmt_string.format(len(df[df['label']=='product']), 'product'))\n",
    "print(fmt_string.format(len(df[df['label']=='list']), 'list'))"
   ]
  },
  {
   "cell_type": "code",
   "execution_count": 90,
   "metadata": {},
   "outputs": [
    {
     "data": {
      "text/html": [
       "<div>\n",
       "<style scoped>\n",
       "    .dataframe tbody tr th:only-of-type {\n",
       "        vertical-align: middle;\n",
       "    }\n",
       "\n",
       "    .dataframe tbody tr th {\n",
       "        vertical-align: top;\n",
       "    }\n",
       "\n",
       "    .dataframe thead th {\n",
       "        text-align: right;\n",
       "    }\n",
       "</style>\n",
       "<table border=\"1\" class=\"dataframe\">\n",
       "  <thead>\n",
       "    <tr style=\"text-align: right;\">\n",
       "      <th></th>\n",
       "      <th>url</th>\n",
       "      <th>referer_url</th>\n",
       "    </tr>\n",
       "  </thead>\n",
       "  <tbody>\n",
       "    <tr>\n",
       "      <th>0</th>\n",
       "      <td>https://blackwells.co.uk/bookshop/basket</td>\n",
       "      <td>https://blackwells.co.uk/bookshop/home</td>\n",
       "    </tr>\n",
       "    <tr>\n",
       "      <th>2</th>\n",
       "      <td>https://blackwells.co.uk/bookshop/home</td>\n",
       "      <td>https://blackwells.co.uk/bookshop/home</td>\n",
       "    </tr>\n",
       "    <tr>\n",
       "      <th>4</th>\n",
       "      <td>https://blackwells.co.uk/bookshop/mapping</td>\n",
       "      <td>https://blackwells.co.uk/bookshop/basket</td>\n",
       "    </tr>\n",
       "    <tr>\n",
       "      <th>5</th>\n",
       "      <td>https://blackwells.co.uk/bookshop/delivery</td>\n",
       "      <td>https://blackwells.co.uk/bookshop/basket</td>\n",
       "    </tr>\n",
       "    <tr>\n",
       "      <th>6</th>\n",
       "      <td>https://blackwells.co.uk/bookshop/editorial/wi...</td>\n",
       "      <td>https://blackwells.co.uk/bookshop/home</td>\n",
       "    </tr>\n",
       "    <tr>\n",
       "      <th>7</th>\n",
       "      <td>https://blackwells.co.uk/bookshop/editorial/co...</td>\n",
       "      <td>https://blackwells.co.uk/bookshop/basket</td>\n",
       "    </tr>\n",
       "    <tr>\n",
       "      <th>8</th>\n",
       "      <td>https://blackwells.co.uk/bookshop/editorial/bu...</td>\n",
       "      <td>https://blackwells.co.uk/bookshop/basket</td>\n",
       "    </tr>\n",
       "    <tr>\n",
       "      <th>9</th>\n",
       "      <td>https://blackwells.co.uk/bookshop/editorial/se...</td>\n",
       "      <td>https://blackwells.co.uk/bookshop/basket</td>\n",
       "    </tr>\n",
       "    <tr>\n",
       "      <th>10</th>\n",
       "      <td>https://blackwells.co.uk/bookshop/about</td>\n",
       "      <td>https://blackwells.co.uk/bookshop/basket</td>\n",
       "    </tr>\n",
       "    <tr>\n",
       "      <th>11</th>\n",
       "      <td>https://blackwells.co.uk/bookshop/readinglists...</td>\n",
       "      <td>https://blackwells.co.uk/bookshop/home</td>\n",
       "    </tr>\n",
       "    <tr>\n",
       "      <th>12</th>\n",
       "      <td>https://blackwells.co.uk/bookshop/editorial/Ki...</td>\n",
       "      <td>https://blackwells.co.uk/bookshop/home</td>\n",
       "    </tr>\n",
       "    <tr>\n",
       "      <th>14</th>\n",
       "      <td>https://blackwells.co.uk/bookshop/mapping/prof...</td>\n",
       "      <td>https://blackwells.co.uk/bookshop/mapping</td>\n",
       "    </tr>\n",
       "    <tr>\n",
       "      <th>16</th>\n",
       "      <td>https://blackwells.co.uk/bookshop/Students</td>\n",
       "      <td>https://blackwells.co.uk/bookshop/basket</td>\n",
       "    </tr>\n",
       "    <tr>\n",
       "      <th>18</th>\n",
       "      <td>https://blackwells.co.uk/bookshop/editorial/sl...</td>\n",
       "      <td>https://blackwells.co.uk/bookshop/editorial/co...</td>\n",
       "    </tr>\n",
       "    <tr>\n",
       "      <th>19</th>\n",
       "      <td>https://blackwells.co.uk/bookshop/business/apply/</td>\n",
       "      <td>https://blackwells.co.uk/bookshop/mapping/prof...</td>\n",
       "    </tr>\n",
       "    <tr>\n",
       "      <th>22</th>\n",
       "      <td>https://blackwells.co.uk/bookshop/wellcomeshop/</td>\n",
       "      <td>https://blackwells.co.uk/bookshop/home</td>\n",
       "    </tr>\n",
       "    <tr>\n",
       "      <th>25</th>\n",
       "      <td>https://blackwells.co.uk/bookshop/business/ter...</td>\n",
       "      <td>https://blackwells.co.uk/bookshop/business/apply/</td>\n",
       "    </tr>\n",
       "    <tr>\n",
       "      <th>33</th>\n",
       "      <td>https://blackwells.co.uk/bookshop/bestsellers</td>\n",
       "      <td>https://blackwells.co.uk/bookshop/home</td>\n",
       "    </tr>\n",
       "    <tr>\n",
       "      <th>39</th>\n",
       "      <td>https://blackwells.co.uk/bookshop/collection/O...</td>\n",
       "      <td>https://blackwells.co.uk/bookshop/Students</td>\n",
       "    </tr>\n",
       "    <tr>\n",
       "      <th>122</th>\n",
       "      <td>https://blackwells.co.uk/bookshop/collection/V...</td>\n",
       "      <td>https://blackwells.co.uk/bookshop/Students</td>\n",
       "    </tr>\n",
       "  </tbody>\n",
       "</table>\n",
       "</div>"
      ],
      "text/plain": [
       "                                                   url  \\\n",
       "0             https://blackwells.co.uk/bookshop/basket   \n",
       "2               https://blackwells.co.uk/bookshop/home   \n",
       "4            https://blackwells.co.uk/bookshop/mapping   \n",
       "5           https://blackwells.co.uk/bookshop/delivery   \n",
       "6    https://blackwells.co.uk/bookshop/editorial/wi...   \n",
       "7    https://blackwells.co.uk/bookshop/editorial/co...   \n",
       "8    https://blackwells.co.uk/bookshop/editorial/bu...   \n",
       "9    https://blackwells.co.uk/bookshop/editorial/se...   \n",
       "10             https://blackwells.co.uk/bookshop/about   \n",
       "11   https://blackwells.co.uk/bookshop/readinglists...   \n",
       "12   https://blackwells.co.uk/bookshop/editorial/Ki...   \n",
       "14   https://blackwells.co.uk/bookshop/mapping/prof...   \n",
       "16          https://blackwells.co.uk/bookshop/Students   \n",
       "18   https://blackwells.co.uk/bookshop/editorial/sl...   \n",
       "19   https://blackwells.co.uk/bookshop/business/apply/   \n",
       "22     https://blackwells.co.uk/bookshop/wellcomeshop/   \n",
       "25   https://blackwells.co.uk/bookshop/business/ter...   \n",
       "33       https://blackwells.co.uk/bookshop/bestsellers   \n",
       "39   https://blackwells.co.uk/bookshop/collection/O...   \n",
       "122  https://blackwells.co.uk/bookshop/collection/V...   \n",
       "\n",
       "                                           referer_url  \n",
       "0               https://blackwells.co.uk/bookshop/home  \n",
       "2               https://blackwells.co.uk/bookshop/home  \n",
       "4             https://blackwells.co.uk/bookshop/basket  \n",
       "5             https://blackwells.co.uk/bookshop/basket  \n",
       "6               https://blackwells.co.uk/bookshop/home  \n",
       "7             https://blackwells.co.uk/bookshop/basket  \n",
       "8             https://blackwells.co.uk/bookshop/basket  \n",
       "9             https://blackwells.co.uk/bookshop/basket  \n",
       "10            https://blackwells.co.uk/bookshop/basket  \n",
       "11              https://blackwells.co.uk/bookshop/home  \n",
       "12              https://blackwells.co.uk/bookshop/home  \n",
       "14           https://blackwells.co.uk/bookshop/mapping  \n",
       "16            https://blackwells.co.uk/bookshop/basket  \n",
       "18   https://blackwells.co.uk/bookshop/editorial/co...  \n",
       "19   https://blackwells.co.uk/bookshop/mapping/prof...  \n",
       "22              https://blackwells.co.uk/bookshop/home  \n",
       "25   https://blackwells.co.uk/bookshop/business/apply/  \n",
       "33              https://blackwells.co.uk/bookshop/home  \n",
       "39          https://blackwells.co.uk/bookshop/Students  \n",
       "122         https://blackwells.co.uk/bookshop/Students  "
      ]
     },
     "execution_count": 90,
     "metadata": {},
     "output_type": "execute_result"
    }
   ],
   "source": [
    "df[df['label'].isnull()][['url', 'referer_url']].head(20)"
   ]
  },
  {
   "cell_type": "markdown",
   "metadata": {},
   "source": [
    "Note that there are some rows which aren't labeled. That is because these pages aren't generated neither by the 'product' template nor the 'list' template."
   ]
  },
  {
   "cell_type": "markdown",
   "metadata": {},
   "source": [
    "## Write dataset to a file"
   ]
  },
  {
   "cell_type": "code",
   "execution_count": 91,
   "metadata": {},
   "outputs": [],
   "source": [
    "df.to_csv(FILEPATH, encoding='utf-8', index=False)"
   ]
  },
  {
   "cell_type": "code",
   "execution_count": 92,
   "metadata": {},
   "outputs": [],
   "source": [
    "test = pd.read_csv(FILEPATH)"
   ]
  },
  {
   "cell_type": "code",
   "execution_count": 93,
   "metadata": {},
   "outputs": [
    {
     "data": {
      "text/html": [
       "<div>\n",
       "<style scoped>\n",
       "    .dataframe tbody tr th:only-of-type {\n",
       "        vertical-align: middle;\n",
       "    }\n",
       "\n",
       "    .dataframe tbody tr th {\n",
       "        vertical-align: top;\n",
       "    }\n",
       "\n",
       "    .dataframe thead th {\n",
       "        text-align: right;\n",
       "    }\n",
       "</style>\n",
       "<table border=\"1\" class=\"dataframe\">\n",
       "  <thead>\n",
       "    <tr style=\"text-align: right;\">\n",
       "      <th></th>\n",
       "      <th>url</th>\n",
       "      <th>referer_url</th>\n",
       "      <th>src</th>\n",
       "      <th>shingle_vector</th>\n",
       "      <th>label</th>\n",
       "    </tr>\n",
       "  </thead>\n",
       "  <tbody>\n",
       "    <tr>\n",
       "      <th>0</th>\n",
       "      <td>https://blackwells.co.uk/bookshop/basket</td>\n",
       "      <td>https://blackwells.co.uk/bookshop/home</td>\n",
       "      <td>\\n\\n\\n        \\n&lt;!DOCTYPE html&gt;\\n&lt;html lang=\"e...</td>\n",
       "      <td>(0, 1, 5, 1, 1, 6, 3, 1)</td>\n",
       "      <td>NaN</td>\n",
       "    </tr>\n",
       "    <tr>\n",
       "      <th>1</th>\n",
       "      <td>https://blackwells.co.uk/bookshop/search/</td>\n",
       "      <td>https://blackwells.co.uk/bookshop/home</td>\n",
       "      <td>\\n\\n\\n        \\n&lt;!DOCTYPE html&gt;\\n&lt;html lang=\"e...</td>\n",
       "      <td>(0, 1, 5, 1, 1, 0, 3, 0)</td>\n",
       "      <td>list</td>\n",
       "    </tr>\n",
       "    <tr>\n",
       "      <th>2</th>\n",
       "      <td>https://blackwells.co.uk/bookshop/home</td>\n",
       "      <td>https://blackwells.co.uk/bookshop/home</td>\n",
       "      <td>\\n\\n\\n        \\n&lt;!DOCTYPE html&gt;\\n&lt;html lang=\"e...</td>\n",
       "      <td>(0, 1, 0, 1, 0, 0, 3, 1)</td>\n",
       "      <td>NaN</td>\n",
       "    </tr>\n",
       "    <tr>\n",
       "      <th>3</th>\n",
       "      <td>https://blackwells.co.uk/bookshop/product/9781...</td>\n",
       "      <td>https://blackwells.co.uk/bookshop/home</td>\n",
       "      <td>\\n\\n\\n        \\n&lt;!DOCTYPE html&gt;\\n&lt;html lang=\"e...</td>\n",
       "      <td>(0, 1, 1, 1, 1, 0, 0, 1)</td>\n",
       "      <td>product</td>\n",
       "    </tr>\n",
       "    <tr>\n",
       "      <th>4</th>\n",
       "      <td>https://blackwells.co.uk/bookshop/mapping</td>\n",
       "      <td>https://blackwells.co.uk/bookshop/basket</td>\n",
       "      <td>\\n\\n\\n\\n\\n\\n&lt;!DOCTYPE html&gt;\\n&lt;html lang=\"en\" c...</td>\n",
       "      <td>(2, 22, 1, 1, 7, 15, 7, 5)</td>\n",
       "      <td>NaN</td>\n",
       "    </tr>\n",
       "  </tbody>\n",
       "</table>\n",
       "</div>"
      ],
      "text/plain": [
       "                                                 url  \\\n",
       "0           https://blackwells.co.uk/bookshop/basket   \n",
       "1          https://blackwells.co.uk/bookshop/search/   \n",
       "2             https://blackwells.co.uk/bookshop/home   \n",
       "3  https://blackwells.co.uk/bookshop/product/9781...   \n",
       "4          https://blackwells.co.uk/bookshop/mapping   \n",
       "\n",
       "                                referer_url  \\\n",
       "0    https://blackwells.co.uk/bookshop/home   \n",
       "1    https://blackwells.co.uk/bookshop/home   \n",
       "2    https://blackwells.co.uk/bookshop/home   \n",
       "3    https://blackwells.co.uk/bookshop/home   \n",
       "4  https://blackwells.co.uk/bookshop/basket   \n",
       "\n",
       "                                                 src  \\\n",
       "0  \\n\\n\\n        \\n<!DOCTYPE html>\\n<html lang=\"e...   \n",
       "1  \\n\\n\\n        \\n<!DOCTYPE html>\\n<html lang=\"e...   \n",
       "2  \\n\\n\\n        \\n<!DOCTYPE html>\\n<html lang=\"e...   \n",
       "3  \\n\\n\\n        \\n<!DOCTYPE html>\\n<html lang=\"e...   \n",
       "4  \\n\\n\\n\\n\\n\\n<!DOCTYPE html>\\n<html lang=\"en\" c...   \n",
       "\n",
       "               shingle_vector    label  \n",
       "0    (0, 1, 5, 1, 1, 6, 3, 1)      NaN  \n",
       "1    (0, 1, 5, 1, 1, 0, 3, 0)     list  \n",
       "2    (0, 1, 0, 1, 0, 0, 3, 1)      NaN  \n",
       "3    (0, 1, 1, 1, 1, 0, 0, 1)  product  \n",
       "4  (2, 22, 1, 1, 7, 15, 7, 5)      NaN  "
      ]
     },
     "execution_count": 93,
     "metadata": {},
     "output_type": "execute_result"
    }
   ],
   "source": [
    "test.head()"
   ]
  },
  {
   "cell_type": "code",
   "execution_count": 94,
   "metadata": {},
   "outputs": [
    {
     "data": {
      "text/plain": [
       "(10919, 5)"
      ]
     },
     "execution_count": 94,
     "metadata": {},
     "output_type": "execute_result"
    }
   ],
   "source": [
    "test.shape"
   ]
  },
  {
   "cell_type": "code",
   "execution_count": 95,
   "metadata": {},
   "outputs": [
    {
     "name": "stdout",
     "output_type": "stream",
     "text": [
      "There are 20 row with no label\n",
      "There are 10405 row with product label\n",
      "There are 494 row with list label\n"
     ]
    }
   ],
   "source": [
    "print(fmt_string.format(len(test[test['label'].isnull()]),'no'))\n",
    "print(fmt_string.format(len(test[test['label']=='product']), 'product'))\n",
    "print(fmt_string.format(len(df[df['label']=='list']), 'list'))"
   ]
  }
 ],
 "metadata": {
  "kernelspec": {
   "display_name": "Python 3",
   "language": "python",
   "name": "python3"
  },
  "language_info": {
   "codemirror_mode": {
    "name": "ipython",
    "version": 3
   },
   "file_extension": ".py",
   "mimetype": "text/x-python",
   "name": "python",
   "nbconvert_exporter": "python",
   "pygments_lexer": "ipython3",
   "version": "3.7.3"
  }
 },
 "nbformat": 4,
 "nbformat_minor": 2
}
