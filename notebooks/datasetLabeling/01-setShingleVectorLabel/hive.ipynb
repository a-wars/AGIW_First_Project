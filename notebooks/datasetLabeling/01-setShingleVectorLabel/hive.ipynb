{
 "cells": [
  {
   "cell_type": "code",
   "execution_count": 1,
   "metadata": {},
   "outputs": [
    {
     "data": {
      "text/plain": [
       "'../../../book_crawler/data/hive/2019-05-12T14-35-06.csv'"
      ]
     },
     "execution_count": 1,
     "metadata": {},
     "output_type": "execute_result"
    }
   ],
   "source": [
    "%matplotlib inline\n",
    "# Importing libraries\n",
    "import matplotlib.pyplot as plt\n",
    "import pandas as pd\n",
    "\n",
    "FILEPATH_PREFIX = '../../../book_crawler/data'\n",
    "SPIDERNAME = 'hive'\n",
    "FILENAME = '2019-05-12T14-35-06.csv'\n",
    "FILEPATH = '{}/{}/{}'.format(FILEPATH_PREFIX, SPIDERNAME, FILENAME)\n",
    "FILEPATH"
   ]
  },
  {
   "cell_type": "code",
   "execution_count": 2,
   "metadata": {},
   "outputs": [],
   "source": [
    "df = pd.read_csv(FILEPATH)"
   ]
  },
  {
   "cell_type": "markdown",
   "metadata": {},
   "source": [
    "## Data analisys\n",
    "Some preliminary analisys of the dataset"
   ]
  },
  {
   "cell_type": "code",
   "execution_count": 3,
   "metadata": {},
   "outputs": [
    {
     "name": "stdout",
     "output_type": "stream",
     "text": [
      "First 5 rows\n",
      "------------\n"
     ]
    },
    {
     "data": {
      "text/html": [
       "<div>\n",
       "<style scoped>\n",
       "    .dataframe tbody tr th:only-of-type {\n",
       "        vertical-align: middle;\n",
       "    }\n",
       "\n",
       "    .dataframe tbody tr th {\n",
       "        vertical-align: top;\n",
       "    }\n",
       "\n",
       "    .dataframe thead th {\n",
       "        text-align: right;\n",
       "    }\n",
       "</style>\n",
       "<table border=\"1\" class=\"dataframe\">\n",
       "  <thead>\n",
       "    <tr style=\"text-align: right;\">\n",
       "      <th></th>\n",
       "      <th>url</th>\n",
       "      <th>referer_url</th>\n",
       "      <th>src</th>\n",
       "    </tr>\n",
       "  </thead>\n",
       "  <tbody>\n",
       "    <tr>\n",
       "      <th>0</th>\n",
       "      <td>https://www.hive.co.uk/</td>\n",
       "      <td>https://www.hive.co.uk/</td>\n",
       "      <td>&lt;!DOCTYPE html&gt;\\r\\n&lt;html lang=\"en-gb\" class=\"d...</td>\n",
       "    </tr>\n",
       "    <tr>\n",
       "      <th>1</th>\n",
       "      <td>https://www.hive.co.uk/books/study-zone</td>\n",
       "      <td>https://www.hive.co.uk/</td>\n",
       "      <td>&lt;!DOCTYPE html&gt;\\r\\n&lt;html lang=\"en-gb\" class=\"d...</td>\n",
       "    </tr>\n",
       "    <tr>\n",
       "      <th>2</th>\n",
       "      <td>https://www.hive.co.uk/search/books?fq=01120-1144</td>\n",
       "      <td>https://www.hive.co.uk/</td>\n",
       "      <td>&lt;!DOCTYPE html&gt;\\r\\n&lt;html lang=\"en-gb\" class=\"d...</td>\n",
       "    </tr>\n",
       "    <tr>\n",
       "      <th>3</th>\n",
       "      <td>https://www.hive.co.uk/books/young-adult</td>\n",
       "      <td>https://www.hive.co.uk/</td>\n",
       "      <td>&lt;!DOCTYPE html&gt;\\r\\n&lt;html lang=\"en-gb\" class=\"d...</td>\n",
       "    </tr>\n",
       "    <tr>\n",
       "      <th>4</th>\n",
       "      <td>https://www.hive.co.uk/books/travel</td>\n",
       "      <td>https://www.hive.co.uk/</td>\n",
       "      <td>&lt;!DOCTYPE html&gt;\\r\\n&lt;html lang=\"en-gb\" class=\"d...</td>\n",
       "    </tr>\n",
       "  </tbody>\n",
       "</table>\n",
       "</div>"
      ],
      "text/plain": [
       "                                                 url              referer_url  \\\n",
       "0                            https://www.hive.co.uk/  https://www.hive.co.uk/   \n",
       "1            https://www.hive.co.uk/books/study-zone  https://www.hive.co.uk/   \n",
       "2  https://www.hive.co.uk/search/books?fq=01120-1144  https://www.hive.co.uk/   \n",
       "3           https://www.hive.co.uk/books/young-adult  https://www.hive.co.uk/   \n",
       "4                https://www.hive.co.uk/books/travel  https://www.hive.co.uk/   \n",
       "\n",
       "                                                 src  \n",
       "0  <!DOCTYPE html>\\r\\n<html lang=\"en-gb\" class=\"d...  \n",
       "1  <!DOCTYPE html>\\r\\n<html lang=\"en-gb\" class=\"d...  \n",
       "2  <!DOCTYPE html>\\r\\n<html lang=\"en-gb\" class=\"d...  \n",
       "3  <!DOCTYPE html>\\r\\n<html lang=\"en-gb\" class=\"d...  \n",
       "4  <!DOCTYPE html>\\r\\n<html lang=\"en-gb\" class=\"d...  "
      ]
     },
     "execution_count": 3,
     "metadata": {},
     "output_type": "execute_result"
    }
   ],
   "source": [
    "print(\"First 5 rows\")\n",
    "print(\"------------\")\n",
    "df.head()"
   ]
  },
  {
   "cell_type": "code",
   "execution_count": 4,
   "metadata": {},
   "outputs": [
    {
     "name": "stdout",
     "output_type": "stream",
     "text": [
      "No. of rows and columns\n",
      "-----------------------\n"
     ]
    },
    {
     "data": {
      "text/plain": [
       "(10824, 3)"
      ]
     },
     "execution_count": 4,
     "metadata": {},
     "output_type": "execute_result"
    }
   ],
   "source": [
    "print(\"No. of rows and columns\")\n",
    "print(\"-----------------------\")\n",
    "df.shape"
   ]
  },
  {
   "cell_type": "code",
   "execution_count": 5,
   "metadata": {},
   "outputs": [
    {
     "name": "stdout",
     "output_type": "stream",
     "text": [
      "Check null values\n",
      "-----------------\n"
     ]
    },
    {
     "data": {
      "text/plain": [
       "False"
      ]
     },
     "execution_count": 5,
     "metadata": {},
     "output_type": "execute_result"
    }
   ],
   "source": [
    "print(\"Check null values\")\n",
    "print(\"-----------------\")\n",
    "df.isnull().any().any()"
   ]
  },
  {
   "cell_type": "code",
   "execution_count": 6,
   "metadata": {},
   "outputs": [
    {
     "name": "stdout",
     "output_type": "stream",
     "text": [
      "Check duplicate values\n",
      "----------------------\n"
     ]
    },
    {
     "data": {
      "text/plain": [
       "False"
      ]
     },
     "execution_count": 6,
     "metadata": {},
     "output_type": "execute_result"
    }
   ],
   "source": [
    "print(\"Check duplicate values\")\n",
    "print(\"----------------------\")\n",
    "len(df['url'].unique()) != df.shape[0]"
   ]
  },
  {
   "cell_type": "code",
   "execution_count": 7,
   "metadata": {},
   "outputs": [
    {
     "name": "stdout",
     "output_type": "stream",
     "text": [
      "DataFrame column types\n",
      "----------------------\n",
      "<class 'pandas.core.frame.DataFrame'>\n",
      "RangeIndex: 10824 entries, 0 to 10823\n",
      "Data columns (total 3 columns):\n",
      "url            10824 non-null object\n",
      "referer_url    10824 non-null object\n",
      "src            10824 non-null object\n",
      "dtypes: object(3)\n",
      "memory usage: 253.8+ KB\n"
     ]
    }
   ],
   "source": [
    "print(\"DataFrame column types\")\n",
    "print(\"----------------------\")\n",
    "df.info()"
   ]
  },
  {
   "cell_type": "code",
   "execution_count": 8,
   "metadata": {},
   "outputs": [
    {
     "name": "stdout",
     "output_type": "stream",
     "text": [
      "Some stats\n",
      "----------------\n"
     ]
    },
    {
     "data": {
      "text/html": [
       "<div>\n",
       "<style scoped>\n",
       "    .dataframe tbody tr th:only-of-type {\n",
       "        vertical-align: middle;\n",
       "    }\n",
       "\n",
       "    .dataframe tbody tr th {\n",
       "        vertical-align: top;\n",
       "    }\n",
       "\n",
       "    .dataframe thead th {\n",
       "        text-align: right;\n",
       "    }\n",
       "</style>\n",
       "<table border=\"1\" class=\"dataframe\">\n",
       "  <thead>\n",
       "    <tr style=\"text-align: right;\">\n",
       "      <th></th>\n",
       "      <th>url</th>\n",
       "      <th>referer_url</th>\n",
       "      <th>src</th>\n",
       "    </tr>\n",
       "  </thead>\n",
       "  <tbody>\n",
       "    <tr>\n",
       "      <th>count</th>\n",
       "      <td>10824</td>\n",
       "      <td>10824</td>\n",
       "      <td>10824</td>\n",
       "    </tr>\n",
       "    <tr>\n",
       "      <th>unique</th>\n",
       "      <td>10824</td>\n",
       "      <td>4363</td>\n",
       "      <td>10801</td>\n",
       "    </tr>\n",
       "    <tr>\n",
       "      <th>top</th>\n",
       "      <td>https://www.hive.co.uk/Search/eBooks/Politics-...</td>\n",
       "      <td>https://www.hive.co.uk/</td>\n",
       "      <td>&lt;!DOCTYPE html&gt;\\r\\n&lt;html lang=\"en-gb\" class=\"d...</td>\n",
       "    </tr>\n",
       "    <tr>\n",
       "      <th>freq</th>\n",
       "      <td>1</td>\n",
       "      <td>18</td>\n",
       "      <td>2</td>\n",
       "    </tr>\n",
       "  </tbody>\n",
       "</table>\n",
       "</div>"
      ],
      "text/plain": [
       "                                                      url  \\\n",
       "count                                               10824   \n",
       "unique                                              10824   \n",
       "top     https://www.hive.co.uk/Search/eBooks/Politics-...   \n",
       "freq                                                    1   \n",
       "\n",
       "                    referer_url  \\\n",
       "count                     10824   \n",
       "unique                     4363   \n",
       "top     https://www.hive.co.uk/   \n",
       "freq                         18   \n",
       "\n",
       "                                                      src  \n",
       "count                                               10824  \n",
       "unique                                              10801  \n",
       "top     <!DOCTYPE html>\\r\\n<html lang=\"en-gb\" class=\"d...  \n",
       "freq                                                    2  "
      ]
     },
     "execution_count": 8,
     "metadata": {},
     "output_type": "execute_result"
    }
   ],
   "source": [
    "print(\"Some stats\")\n",
    "print(\"----------------\")\n",
    "df.describe()"
   ]
  },
  {
   "cell_type": "markdown",
   "metadata": {},
   "source": [
    "## Data cleaning\n",
    "During the crawling phase (using Scrapy), we restrained the crawled pages to be only the web pages matching with `https://www.hive.co.uk/`. Let's check that"
   ]
  },
  {
   "cell_type": "code",
   "execution_count": 18,
   "metadata": {},
   "outputs": [],
   "source": [
    "import re"
   ]
  },
  {
   "cell_type": "code",
   "execution_count": 19,
   "metadata": {},
   "outputs": [],
   "source": [
    "hiveRegex = r'^https\\:\\/\\/www\\.hive\\.co\\.uk\\/'"
   ]
  },
  {
   "cell_type": "code",
   "execution_count": 20,
   "metadata": {},
   "outputs": [],
   "source": [
    "otherDomainsDataFrame = df[- df['url'].str.match(hiveRegex)]"
   ]
  },
  {
   "cell_type": "code",
   "execution_count": 21,
   "metadata": {},
   "outputs": [
    {
     "data": {
      "text/html": [
       "<div>\n",
       "<style scoped>\n",
       "    .dataframe tbody tr th:only-of-type {\n",
       "        vertical-align: middle;\n",
       "    }\n",
       "\n",
       "    .dataframe tbody tr th {\n",
       "        vertical-align: top;\n",
       "    }\n",
       "\n",
       "    .dataframe thead th {\n",
       "        text-align: right;\n",
       "    }\n",
       "</style>\n",
       "<table border=\"1\" class=\"dataframe\">\n",
       "  <thead>\n",
       "    <tr style=\"text-align: right;\">\n",
       "      <th></th>\n",
       "      <th>url</th>\n",
       "      <th>referer_url</th>\n",
       "      <th>src</th>\n",
       "      <th>shingle_vector</th>\n",
       "    </tr>\n",
       "  </thead>\n",
       "  <tbody>\n",
       "  </tbody>\n",
       "</table>\n",
       "</div>"
      ],
      "text/plain": [
       "Empty DataFrame\n",
       "Columns: [url, referer_url, src, shingle_vector]\n",
       "Index: []"
      ]
     },
     "execution_count": 21,
     "metadata": {},
     "output_type": "execute_result"
    }
   ],
   "source": [
    "otherDomainsDataFrame.head()"
   ]
  },
  {
   "cell_type": "markdown",
   "metadata": {},
   "source": [
    "So Scrapy effectively crawled only pages from the `www.hive.co.uk` domain"
   ]
  },
  {
   "cell_type": "markdown",
   "metadata": {},
   "source": [
    "## Add `shingle_vector` label\n",
    "Compute shingle vector for each page of the dataframe"
   ]
  },
  {
   "cell_type": "code",
   "execution_count": 12,
   "metadata": {},
   "outputs": [],
   "source": [
    "#add top level folder to sys.path\n",
    "import sys\n",
    "sys.path.append('../../../')\n",
    "\n",
    "from foxlink_clustering.clustering.shingler import compute_shingle_vector"
   ]
  },
  {
   "cell_type": "code",
   "execution_count": 13,
   "metadata": {},
   "outputs": [],
   "source": [
    "src = df.iloc[0]['src']"
   ]
  },
  {
   "cell_type": "markdown",
   "metadata": {},
   "source": [
    "The default value for window size in Foxlink is 3"
   ]
  },
  {
   "cell_type": "code",
   "execution_count": 14,
   "metadata": {},
   "outputs": [],
   "source": [
    "DEFAULT_WINDOW_SIZE = 3\n",
    "result = compute_shingle_vector(src, DEFAULT_WINDOW_SIZE)"
   ]
  },
  {
   "cell_type": "code",
   "execution_count": 15,
   "metadata": {},
   "outputs": [
    {
     "data": {
      "text/plain": [
       "(0, 1, 2, 0, 0, 2, 1, 4)"
      ]
     },
     "execution_count": 15,
     "metadata": {},
     "output_type": "execute_result"
    }
   ],
   "source": [
    "result"
   ]
  },
  {
   "cell_type": "markdown",
   "metadata": {},
   "source": [
    "Set `shingle_vector` label for each row    "
   ]
  },
  {
   "cell_type": "code",
   "execution_count": 16,
   "metadata": {},
   "outputs": [],
   "source": [
    "df['shingle_vector'] = df.apply(lambda x: compute_shingle_vector(x['src'], DEFAULT_WINDOW_SIZE), axis=1)"
   ]
  },
  {
   "cell_type": "code",
   "execution_count": 17,
   "metadata": {},
   "outputs": [
    {
     "data": {
      "text/html": [
       "<div>\n",
       "<style scoped>\n",
       "    .dataframe tbody tr th:only-of-type {\n",
       "        vertical-align: middle;\n",
       "    }\n",
       "\n",
       "    .dataframe tbody tr th {\n",
       "        vertical-align: top;\n",
       "    }\n",
       "\n",
       "    .dataframe thead th {\n",
       "        text-align: right;\n",
       "    }\n",
       "</style>\n",
       "<table border=\"1\" class=\"dataframe\">\n",
       "  <thead>\n",
       "    <tr style=\"text-align: right;\">\n",
       "      <th></th>\n",
       "      <th>url</th>\n",
       "      <th>referer_url</th>\n",
       "      <th>src</th>\n",
       "      <th>shingle_vector</th>\n",
       "    </tr>\n",
       "  </thead>\n",
       "  <tbody>\n",
       "    <tr>\n",
       "      <th>0</th>\n",
       "      <td>https://www.hive.co.uk/</td>\n",
       "      <td>https://www.hive.co.uk/</td>\n",
       "      <td>&lt;!DOCTYPE html&gt;\\r\\n&lt;html lang=\"en-gb\" class=\"d...</td>\n",
       "      <td>(0, 1, 2, 0, 0, 2, 1, 4)</td>\n",
       "    </tr>\n",
       "    <tr>\n",
       "      <th>1</th>\n",
       "      <td>https://www.hive.co.uk/books/study-zone</td>\n",
       "      <td>https://www.hive.co.uk/</td>\n",
       "      <td>&lt;!DOCTYPE html&gt;\\r\\n&lt;html lang=\"en-gb\" class=\"d...</td>\n",
       "      <td>(0, 1, 2, 0, 0, 2, 1, 4)</td>\n",
       "    </tr>\n",
       "    <tr>\n",
       "      <th>2</th>\n",
       "      <td>https://www.hive.co.uk/search/books?fq=01120-1144</td>\n",
       "      <td>https://www.hive.co.uk/</td>\n",
       "      <td>&lt;!DOCTYPE html&gt;\\r\\n&lt;html lang=\"en-gb\" class=\"d...</td>\n",
       "      <td>(0, 1, 0, 2, 5, 0, 1, 4)</td>\n",
       "    </tr>\n",
       "    <tr>\n",
       "      <th>3</th>\n",
       "      <td>https://www.hive.co.uk/books/young-adult</td>\n",
       "      <td>https://www.hive.co.uk/</td>\n",
       "      <td>&lt;!DOCTYPE html&gt;\\r\\n&lt;html lang=\"en-gb\" class=\"d...</td>\n",
       "      <td>(0, 1, 2, 2, 1, 1, 2, 0)</td>\n",
       "    </tr>\n",
       "    <tr>\n",
       "      <th>4</th>\n",
       "      <td>https://www.hive.co.uk/books/travel</td>\n",
       "      <td>https://www.hive.co.uk/</td>\n",
       "      <td>&lt;!DOCTYPE html&gt;\\r\\n&lt;html lang=\"en-gb\" class=\"d...</td>\n",
       "      <td>(0, 1, 2, 0, 1, 2, 1, 4)</td>\n",
       "    </tr>\n",
       "  </tbody>\n",
       "</table>\n",
       "</div>"
      ],
      "text/plain": [
       "                                                 url              referer_url  \\\n",
       "0                            https://www.hive.co.uk/  https://www.hive.co.uk/   \n",
       "1            https://www.hive.co.uk/books/study-zone  https://www.hive.co.uk/   \n",
       "2  https://www.hive.co.uk/search/books?fq=01120-1144  https://www.hive.co.uk/   \n",
       "3           https://www.hive.co.uk/books/young-adult  https://www.hive.co.uk/   \n",
       "4                https://www.hive.co.uk/books/travel  https://www.hive.co.uk/   \n",
       "\n",
       "                                                 src            shingle_vector  \n",
       "0  <!DOCTYPE html>\\r\\n<html lang=\"en-gb\" class=\"d...  (0, 1, 2, 0, 0, 2, 1, 4)  \n",
       "1  <!DOCTYPE html>\\r\\n<html lang=\"en-gb\" class=\"d...  (0, 1, 2, 0, 0, 2, 1, 4)  \n",
       "2  <!DOCTYPE html>\\r\\n<html lang=\"en-gb\" class=\"d...  (0, 1, 0, 2, 5, 0, 1, 4)  \n",
       "3  <!DOCTYPE html>\\r\\n<html lang=\"en-gb\" class=\"d...  (0, 1, 2, 2, 1, 1, 2, 0)  \n",
       "4  <!DOCTYPE html>\\r\\n<html lang=\"en-gb\" class=\"d...  (0, 1, 2, 0, 1, 2, 1, 4)  "
      ]
     },
     "execution_count": 17,
     "metadata": {},
     "output_type": "execute_result"
    }
   ],
   "source": [
    "df.head()"
   ]
  },
  {
   "cell_type": "markdown",
   "metadata": {},
   "source": [
    "## Write dataset to a file"
   ]
  },
  {
   "cell_type": "code",
   "execution_count": 22,
   "metadata": {},
   "outputs": [],
   "source": [
    "df.to_csv('../../../datasets/hive.csv', encoding='utf-8', index=False)"
   ]
  },
  {
   "cell_type": "code",
   "execution_count": 23,
   "metadata": {},
   "outputs": [],
   "source": [
    "test = pd.read_csv('../../../datasets/hive.csv')"
   ]
  },
  {
   "cell_type": "code",
   "execution_count": 24,
   "metadata": {},
   "outputs": [
    {
     "data": {
      "text/html": [
       "<div>\n",
       "<style scoped>\n",
       "    .dataframe tbody tr th:only-of-type {\n",
       "        vertical-align: middle;\n",
       "    }\n",
       "\n",
       "    .dataframe tbody tr th {\n",
       "        vertical-align: top;\n",
       "    }\n",
       "\n",
       "    .dataframe thead th {\n",
       "        text-align: right;\n",
       "    }\n",
       "</style>\n",
       "<table border=\"1\" class=\"dataframe\">\n",
       "  <thead>\n",
       "    <tr style=\"text-align: right;\">\n",
       "      <th></th>\n",
       "      <th>url</th>\n",
       "      <th>referer_url</th>\n",
       "      <th>src</th>\n",
       "      <th>shingle_vector</th>\n",
       "    </tr>\n",
       "  </thead>\n",
       "  <tbody>\n",
       "    <tr>\n",
       "      <th>0</th>\n",
       "      <td>https://www.hive.co.uk/</td>\n",
       "      <td>https://www.hive.co.uk/</td>\n",
       "      <td>&lt;!DOCTYPE html&gt;\\r\\n&lt;html lang=\"en-gb\" class=\"d...</td>\n",
       "      <td>(0, 1, 2, 0, 0, 2, 1, 4)</td>\n",
       "    </tr>\n",
       "    <tr>\n",
       "      <th>1</th>\n",
       "      <td>https://www.hive.co.uk/books/study-zone</td>\n",
       "      <td>https://www.hive.co.uk/</td>\n",
       "      <td>&lt;!DOCTYPE html&gt;\\r\\n&lt;html lang=\"en-gb\" class=\"d...</td>\n",
       "      <td>(0, 1, 2, 0, 0, 2, 1, 4)</td>\n",
       "    </tr>\n",
       "    <tr>\n",
       "      <th>2</th>\n",
       "      <td>https://www.hive.co.uk/search/books?fq=01120-1144</td>\n",
       "      <td>https://www.hive.co.uk/</td>\n",
       "      <td>&lt;!DOCTYPE html&gt;\\r\\n&lt;html lang=\"en-gb\" class=\"d...</td>\n",
       "      <td>(0, 1, 0, 2, 5, 0, 1, 4)</td>\n",
       "    </tr>\n",
       "    <tr>\n",
       "      <th>3</th>\n",
       "      <td>https://www.hive.co.uk/books/young-adult</td>\n",
       "      <td>https://www.hive.co.uk/</td>\n",
       "      <td>&lt;!DOCTYPE html&gt;\\r\\n&lt;html lang=\"en-gb\" class=\"d...</td>\n",
       "      <td>(0, 1, 2, 2, 1, 1, 2, 0)</td>\n",
       "    </tr>\n",
       "    <tr>\n",
       "      <th>4</th>\n",
       "      <td>https://www.hive.co.uk/books/travel</td>\n",
       "      <td>https://www.hive.co.uk/</td>\n",
       "      <td>&lt;!DOCTYPE html&gt;\\r\\n&lt;html lang=\"en-gb\" class=\"d...</td>\n",
       "      <td>(0, 1, 2, 0, 1, 2, 1, 4)</td>\n",
       "    </tr>\n",
       "  </tbody>\n",
       "</table>\n",
       "</div>"
      ],
      "text/plain": [
       "                                                 url              referer_url  \\\n",
       "0                            https://www.hive.co.uk/  https://www.hive.co.uk/   \n",
       "1            https://www.hive.co.uk/books/study-zone  https://www.hive.co.uk/   \n",
       "2  https://www.hive.co.uk/search/books?fq=01120-1144  https://www.hive.co.uk/   \n",
       "3           https://www.hive.co.uk/books/young-adult  https://www.hive.co.uk/   \n",
       "4                https://www.hive.co.uk/books/travel  https://www.hive.co.uk/   \n",
       "\n",
       "                                                 src            shingle_vector  \n",
       "0  <!DOCTYPE html>\\r\\n<html lang=\"en-gb\" class=\"d...  (0, 1, 2, 0, 0, 2, 1, 4)  \n",
       "1  <!DOCTYPE html>\\r\\n<html lang=\"en-gb\" class=\"d...  (0, 1, 2, 0, 0, 2, 1, 4)  \n",
       "2  <!DOCTYPE html>\\r\\n<html lang=\"en-gb\" class=\"d...  (0, 1, 0, 2, 5, 0, 1, 4)  \n",
       "3  <!DOCTYPE html>\\r\\n<html lang=\"en-gb\" class=\"d...  (0, 1, 2, 2, 1, 1, 2, 0)  \n",
       "4  <!DOCTYPE html>\\r\\n<html lang=\"en-gb\" class=\"d...  (0, 1, 2, 0, 1, 2, 1, 4)  "
      ]
     },
     "execution_count": 24,
     "metadata": {},
     "output_type": "execute_result"
    }
   ],
   "source": [
    "test.head()"
   ]
  },
  {
   "cell_type": "code",
   "execution_count": 25,
   "metadata": {},
   "outputs": [
    {
     "data": {
      "text/plain": [
       "(10824, 4)"
      ]
     },
     "execution_count": 25,
     "metadata": {},
     "output_type": "execute_result"
    }
   ],
   "source": [
    "test.shape"
   ]
  }
 ],
 "metadata": {
  "kernelspec": {
   "display_name": "Python 3",
   "language": "python",
   "name": "python3"
  },
  "language_info": {
   "codemirror_mode": {
    "name": "ipython",
    "version": 3
   },
   "file_extension": ".py",
   "mimetype": "text/x-python",
   "name": "python",
   "nbconvert_exporter": "python",
   "pygments_lexer": "ipython3",
   "version": "3.7.3"
  }
 },
 "nbformat": 4,
 "nbformat_minor": 2
}
