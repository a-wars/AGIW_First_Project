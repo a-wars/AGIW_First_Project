{
 "cells": [
  {
   "cell_type": "code",
   "execution_count": 1,
   "metadata": {},
   "outputs": [
    {
     "data": {
      "text/plain": [
       "'../../../datasets/bookoutlet.csv'"
      ]
     },
     "execution_count": 1,
     "metadata": {},
     "output_type": "execute_result"
    }
   ],
   "source": [
    "%matplotlib inline\n",
    "# Importing libraries\n",
    "import matplotlib.pyplot as plt\n",
    "import pandas as pd\n",
    "\n",
    "FILEPATH_PREFIX = '../../../datasets'\n",
    "FILENAME = 'bookoutlet.csv'\n",
    "FILEPATH = '{}/{}'.format(FILEPATH_PREFIX, FILENAME)\n",
    "FILEPATH"
   ]
  },
  {
   "cell_type": "code",
   "execution_count": 2,
   "metadata": {},
   "outputs": [],
   "source": [
    "df = pd.read_csv(FILEPATH)"
   ]
  },
  {
   "cell_type": "markdown",
   "metadata": {},
   "source": [
    "## Data analisys\n",
    "Some preliminary analisys of the dataset"
   ]
  },
  {
   "cell_type": "code",
   "execution_count": 3,
   "metadata": {},
   "outputs": [
    {
     "name": "stdout",
     "output_type": "stream",
     "text": [
      "First 5 rows\n",
      "------------\n"
     ]
    },
    {
     "data": {
      "text/html": [
       "<div>\n",
       "<style scoped>\n",
       "    .dataframe tbody tr th:only-of-type {\n",
       "        vertical-align: middle;\n",
       "    }\n",
       "\n",
       "    .dataframe tbody tr th {\n",
       "        vertical-align: top;\n",
       "    }\n",
       "\n",
       "    .dataframe thead th {\n",
       "        text-align: right;\n",
       "    }\n",
       "</style>\n",
       "<table border=\"1\" class=\"dataframe\">\n",
       "  <thead>\n",
       "    <tr style=\"text-align: right;\">\n",
       "      <th></th>\n",
       "      <th>url</th>\n",
       "      <th>referer_url</th>\n",
       "      <th>src</th>\n",
       "      <th>shingle_vector</th>\n",
       "    </tr>\n",
       "  </thead>\n",
       "  <tbody>\n",
       "    <tr>\n",
       "      <th>0</th>\n",
       "      <td>https://bookoutlet.com/</td>\n",
       "      <td>https://bookoutlet.com/</td>\n",
       "      <td>&lt;!DOCTYPE html&gt;\\r\\n&lt;html lang=\"en\"&gt;\\r\\n&lt;head&gt;\\...</td>\n",
       "      <td>(0, 3, 1, 4, 0, 1, 3, 0)</td>\n",
       "    </tr>\n",
       "    <tr>\n",
       "      <th>1</th>\n",
       "      <td>https://bookoutlet.com/Store/Sale</td>\n",
       "      <td>https://bookoutlet.com/</td>\n",
       "      <td>&lt;!DOCTYPE html&gt;\\r\\n&lt;html lang=\"en\"&gt;\\r\\n&lt;head&gt;\\...</td>\n",
       "      <td>(0, 3, 1, 0, 0, 1, 3, 0)</td>\n",
       "    </tr>\n",
       "    <tr>\n",
       "      <th>2</th>\n",
       "      <td>https://bookoutlet.com/Store/OtherBrowsing</td>\n",
       "      <td>https://bookoutlet.com/</td>\n",
       "      <td>&lt;!DOCTYPE html&gt;\\r\\n&lt;html lang=\"en\"&gt;\\r\\n&lt;head&gt;\\...</td>\n",
       "      <td>(0, 3, 1, 8, 1, 1, 1, 0)</td>\n",
       "    </tr>\n",
       "    <tr>\n",
       "      <th>3</th>\n",
       "      <td>https://bookoutlet.com/Store/Browse?N=isTopTen...</td>\n",
       "      <td>https://bookoutlet.com/</td>\n",
       "      <td>&lt;!DOCTYPE html&gt;\\r\\n&lt;html lang=\"en\"&gt;\\r\\n&lt;head&gt;\\...</td>\n",
       "      <td>(0, 3, 1, 1, 1, 1, 0, 0)</td>\n",
       "    </tr>\n",
       "    <tr>\n",
       "      <th>4</th>\n",
       "      <td>https://bookoutlet.com/Store/Browse?N=isGiftCe...</td>\n",
       "      <td>https://bookoutlet.com/</td>\n",
       "      <td>&lt;!DOCTYPE html&gt;\\r\\n&lt;html lang=\"en\"&gt;\\r\\n&lt;head&gt;\\...</td>\n",
       "      <td>(0, 3, 1, 1, 1, 1, 0, 0)</td>\n",
       "    </tr>\n",
       "  </tbody>\n",
       "</table>\n",
       "</div>"
      ],
      "text/plain": [
       "                                                 url              referer_url  \\\n",
       "0                            https://bookoutlet.com/  https://bookoutlet.com/   \n",
       "1                  https://bookoutlet.com/Store/Sale  https://bookoutlet.com/   \n",
       "2         https://bookoutlet.com/Store/OtherBrowsing  https://bookoutlet.com/   \n",
       "3  https://bookoutlet.com/Store/Browse?N=isTopTen...  https://bookoutlet.com/   \n",
       "4  https://bookoutlet.com/Store/Browse?N=isGiftCe...  https://bookoutlet.com/   \n",
       "\n",
       "                                                 src            shingle_vector  \n",
       "0  <!DOCTYPE html>\\r\\n<html lang=\"en\">\\r\\n<head>\\...  (0, 3, 1, 4, 0, 1, 3, 0)  \n",
       "1  <!DOCTYPE html>\\r\\n<html lang=\"en\">\\r\\n<head>\\...  (0, 3, 1, 0, 0, 1, 3, 0)  \n",
       "2  <!DOCTYPE html>\\r\\n<html lang=\"en\">\\r\\n<head>\\...  (0, 3, 1, 8, 1, 1, 1, 0)  \n",
       "3  <!DOCTYPE html>\\r\\n<html lang=\"en\">\\r\\n<head>\\...  (0, 3, 1, 1, 1, 1, 0, 0)  \n",
       "4  <!DOCTYPE html>\\r\\n<html lang=\"en\">\\r\\n<head>\\...  (0, 3, 1, 1, 1, 1, 0, 0)  "
      ]
     },
     "execution_count": 3,
     "metadata": {},
     "output_type": "execute_result"
    }
   ],
   "source": [
    "print(\"First 5 rows\")\n",
    "print(\"------------\")\n",
    "df.head()"
   ]
  },
  {
   "cell_type": "code",
   "execution_count": 4,
   "metadata": {},
   "outputs": [
    {
     "name": "stdout",
     "output_type": "stream",
     "text": [
      "No. of rows and columns\n",
      "-----------------------\n"
     ]
    },
    {
     "data": {
      "text/plain": [
       "(16387, 4)"
      ]
     },
     "execution_count": 4,
     "metadata": {},
     "output_type": "execute_result"
    }
   ],
   "source": [
    "print(\"No. of rows and columns\")\n",
    "print(\"-----------------------\")\n",
    "df.shape"
   ]
  },
  {
   "cell_type": "code",
   "execution_count": 5,
   "metadata": {},
   "outputs": [
    {
     "name": "stdout",
     "output_type": "stream",
     "text": [
      "Check null values\n",
      "-----------------\n"
     ]
    },
    {
     "data": {
      "text/plain": [
       "False"
      ]
     },
     "execution_count": 5,
     "metadata": {},
     "output_type": "execute_result"
    }
   ],
   "source": [
    "print(\"Check null values\")\n",
    "print(\"-----------------\")\n",
    "df.isnull().any().any()"
   ]
  },
  {
   "cell_type": "code",
   "execution_count": 6,
   "metadata": {},
   "outputs": [
    {
     "name": "stdout",
     "output_type": "stream",
     "text": [
      "Check duplicate values\n",
      "----------------------\n"
     ]
    },
    {
     "data": {
      "text/plain": [
       "False"
      ]
     },
     "execution_count": 6,
     "metadata": {},
     "output_type": "execute_result"
    }
   ],
   "source": [
    "print(\"Check duplicate values\")\n",
    "print(\"----------------------\")\n",
    "len(df['url'].unique()) != df.shape[0]"
   ]
  },
  {
   "cell_type": "code",
   "execution_count": 7,
   "metadata": {},
   "outputs": [
    {
     "name": "stdout",
     "output_type": "stream",
     "text": [
      "DataFrame column types\n",
      "----------------------\n",
      "<class 'pandas.core.frame.DataFrame'>\n",
      "RangeIndex: 16387 entries, 0 to 16386\n",
      "Data columns (total 4 columns):\n",
      "url               16387 non-null object\n",
      "referer_url       16387 non-null object\n",
      "src               16387 non-null object\n",
      "shingle_vector    16387 non-null object\n",
      "dtypes: object(4)\n",
      "memory usage: 512.2+ KB\n"
     ]
    }
   ],
   "source": [
    "print(\"DataFrame column types\")\n",
    "print(\"----------------------\")\n",
    "df.info()"
   ]
  },
  {
   "cell_type": "code",
   "execution_count": 8,
   "metadata": {},
   "outputs": [
    {
     "name": "stdout",
     "output_type": "stream",
     "text": [
      "Some stats\n",
      "----------------\n"
     ]
    },
    {
     "data": {
      "text/html": [
       "<div>\n",
       "<style scoped>\n",
       "    .dataframe tbody tr th:only-of-type {\n",
       "        vertical-align: middle;\n",
       "    }\n",
       "\n",
       "    .dataframe tbody tr th {\n",
       "        vertical-align: top;\n",
       "    }\n",
       "\n",
       "    .dataframe thead th {\n",
       "        text-align: right;\n",
       "    }\n",
       "</style>\n",
       "<table border=\"1\" class=\"dataframe\">\n",
       "  <thead>\n",
       "    <tr style=\"text-align: right;\">\n",
       "      <th></th>\n",
       "      <th>url</th>\n",
       "      <th>referer_url</th>\n",
       "      <th>src</th>\n",
       "      <th>shingle_vector</th>\n",
       "    </tr>\n",
       "  </thead>\n",
       "  <tbody>\n",
       "    <tr>\n",
       "      <th>count</th>\n",
       "      <td>16387</td>\n",
       "      <td>16387</td>\n",
       "      <td>16387</td>\n",
       "      <td>16387</td>\n",
       "    </tr>\n",
       "    <tr>\n",
       "      <th>unique</th>\n",
       "      <td>16387</td>\n",
       "      <td>8050</td>\n",
       "      <td>16387</td>\n",
       "      <td>11</td>\n",
       "    </tr>\n",
       "    <tr>\n",
       "      <th>top</th>\n",
       "      <td>https://bookoutlet.com/Store/Browse?Na=140870&amp;...</td>\n",
       "      <td>https://bookoutlet.com/Store/Browse?Npb=2279</td>\n",
       "      <td>&lt;!DOCTYPE html&gt;\\r\\n&lt;html lang=\"en\"&gt;\\r\\n&lt;head&gt;\\...</td>\n",
       "      <td>(0, 3, 1, 1, 1, 1, 0, 0)</td>\n",
       "    </tr>\n",
       "    <tr>\n",
       "      <th>freq</th>\n",
       "      <td>1</td>\n",
       "      <td>31</td>\n",
       "      <td>1</td>\n",
       "      <td>6138</td>\n",
       "    </tr>\n",
       "  </tbody>\n",
       "</table>\n",
       "</div>"
      ],
      "text/plain": [
       "                                                      url  \\\n",
       "count                                               16387   \n",
       "unique                                              16387   \n",
       "top     https://bookoutlet.com/Store/Browse?Na=140870&...   \n",
       "freq                                                    1   \n",
       "\n",
       "                                         referer_url  \\\n",
       "count                                          16387   \n",
       "unique                                          8050   \n",
       "top     https://bookoutlet.com/Store/Browse?Npb=2279   \n",
       "freq                                              31   \n",
       "\n",
       "                                                      src  \\\n",
       "count                                               16387   \n",
       "unique                                              16387   \n",
       "top     <!DOCTYPE html>\\r\\n<html lang=\"en\">\\r\\n<head>\\...   \n",
       "freq                                                    1   \n",
       "\n",
       "                  shingle_vector  \n",
       "count                      16387  \n",
       "unique                        11  \n",
       "top     (0, 3, 1, 1, 1, 1, 0, 0)  \n",
       "freq                        6138  "
      ]
     },
     "execution_count": 8,
     "metadata": {},
     "output_type": "execute_result"
    }
   ],
   "source": [
    "print(\"Some stats\")\n",
    "print(\"----------------\")\n",
    "df.describe()"
   ]
  },
  {
   "cell_type": "markdown",
   "metadata": {},
   "source": [
    "## Page labelling\n",
    "Label (possibly) each page with its own template. Let's start with product (books) pages. \n",
    "The following URL links to a page which shows info regarding a book:\n",
    "\n",
    "```\n",
    "https://bookoutlet.com/Store/Details/9781426310492B\n",
    "```\n",
    "\n",
    "So we could infer that each product page has the following url schema:\n",
    "\n",
    "```\n",
    "https://bookoutlet.com/Store/Details/<ISBN-13>\n",
    "```"
   ]
  },
  {
   "cell_type": "code",
   "execution_count": 10,
   "metadata": {},
   "outputs": [
    {
     "name": "stdout",
     "output_type": "stream",
     "text": [
      "Testing article regex:\n",
      "Only the first 6 urls should be matching with the article regex\n",
      "---------------------------------------------------------------\n",
      "<re.Match object; span=(0, 51), match='https://bookoutlet.com/Store/Details/978142631049>\n",
      "<re.Match object; span=(0, 97), match='https://bookoutlet.com/Store/Details/978078933110>\n",
      "<re.Match object; span=(0, 96), match='https://bookoutlet.com/Store/Details/978148147078>\n",
      "<re.Match object; span=(0, 97), match='https://bookoutlet.com/Store/Details/978046505065>\n",
      "<re.Match object; span=(0, 64), match='https://bookoutlet.com/Store/Details/978140130195>\n",
      "<re.Match object; span=(0, 97), match='https://bookoutlet.com/Store/Details/978030682074>\n",
      "None\n",
      "None\n",
      "None\n",
      "None\n",
      "None\n",
      "None\n",
      "None\n",
      "None\n",
      "None\n",
      "None\n",
      "None\n",
      "None\n",
      "None\n",
      "---------------------------------------------------------------\n"
     ]
    }
   ],
   "source": [
    "import re\n",
    "\n",
    "#Urls associated with product pages\n",
    "testStrings1= ['https://bookoutlet.com/Store/Details/9781426310492B',\n",
    "              'https://bookoutlet.com/Store/Details/9780789331106B/1000-football-clubs-teams-stadiums-and-legend',\n",
    "              'https://bookoutlet.com/Store/Details/9781481470780B/little-bigfoot-big-city-the-littlest-bigfoot',\n",
    "              'https://bookoutlet.com/Store/Details/9780465050659B/the-design-of-everyday-things-revised-and-exp',\n",
    "              'https://bookoutlet.com/Store/Details/9781401301958B/jamies-italy',\n",
    "              'https://bookoutlet.com/Store/Details/9780306820748B/devoted-the-story-of-a-fathers-love-for-his-s']\n",
    "\n",
    "#Various urls which aren't product pages\n",
    "testStrings2 = ['https://bookoutlet.com/Store/Browse?N=isGiftCertificate',\n",
    "               'https://bookoutlet.com/Store/Browse?N=isTopTwoHundred&Nq=0',\n",
    "               'https://bookoutlet.com/Store/Browse?N=isTopTwoHundred&Nq=0&size=24&sort=arrival_1&Nc=22',\n",
    "               'https://bookoutlet.com/Store/Social/#Instagram',\n",
    "               'https://bookoutlet.com/Loyalty',\n",
    "               'https://bookoutlet.com/Store/Search?qf=All&q=game+of+thrones',\n",
    "               'https://bookoutlet.com/Store/Search?qf=All&q=',\n",
    "               'https://bookoutlet.com/Store/Browse?Na=176493',\n",
    "               'https://bookoutlet.com/Account/Login',\n",
    "               'https://bookoutlet.com/Store/Browse',\n",
    "               'https://bookoutlet.com/Help/OurProduct',\n",
    "               'https://bookoutlet.com/Cart/Details',\n",
    "               'https://bookoutlet.com/Store/Social/#Reviews']\n",
    "\n",
    "testStrings = testStrings1 + testStrings2\n",
    "\n",
    "productRegex = r'^https\\:\\/\\/bookoutlet\\.com\\/Store\\/Details\\/.+'\n",
    "\n",
    "# simple tests\n",
    "print(\"Testing article regex:\")\n",
    "print(\"Only the first 6 urls should be matching with the article regex\")\n",
    "print(\"---------------------------------------------------------------\")\n",
    "\n",
    "for uri in testStrings:\n",
    "    print(re.match(productRegex, uri))\n",
    "    \n",
    "print('---------------------------------------------------------------')"
   ]
  },
  {
   "cell_type": "markdown",
   "metadata": {},
   "source": [
    "Next we have to label pages which show list of books. We noted that books in bookoutlet.com are grouped by category, so that books which share the same category are listed in the same page in a paginated way. \n",
    "\n",
    "```\n",
    "https://bookoutlet.com/Store/Browse?Nc=5\n",
    "\n",
    "```\n",
    "\n",
    "So urls referring to categories (seems to) have the following schema:\n",
    "\n",
    "```\n",
    "https://bookoutlet.com/Store/Browse<? symbol or / symbol or nothing><something else>\n",
    "```\n",
    "\n",
    "Note that also search results are paginated:\n",
    "\n",
    "```\n",
    "https://bookoutlet.com/Store/Search?qf=All&q=\n",
    "```\n",
    "\n",
    "In that case the url schema follows this pattern:\n",
    "```\n",
    "https://bookoutlet.com/Store/Search?<something else>\n",
    "```"
   ]
  },
  {
   "cell_type": "code",
   "execution_count": 12,
   "metadata": {},
   "outputs": [
    {
     "name": "stdout",
     "output_type": "stream",
     "text": [
      "Testing catalog regex:\n",
      "Only 7 urls should be matching with the bestsellers regex\n",
      "-----------------------------------------------------------\n",
      "None\n",
      "None\n",
      "None\n",
      "None\n",
      "None\n",
      "None\n",
      "<re.Match object; span=(0, 36), match='https://bookoutlet.com/Store/Browse?'>\n",
      "<re.Match object; span=(0, 36), match='https://bookoutlet.com/Store/Browse?'>\n",
      "<re.Match object; span=(0, 36), match='https://bookoutlet.com/Store/Browse?'>\n",
      "None\n",
      "None\n",
      "<re.Match object; span=(0, 36), match='https://bookoutlet.com/Store/Search?'>\n",
      "<re.Match object; span=(0, 36), match='https://bookoutlet.com/Store/Search?'>\n",
      "<re.Match object; span=(0, 36), match='https://bookoutlet.com/Store/Browse?'>\n",
      "None\n",
      "<re.Match object; span=(0, 35), match='https://bookoutlet.com/Store/Browse'>\n",
      "None\n",
      "None\n",
      "None\n",
      "---------------------------------------------------------------\n"
     ]
    }
   ],
   "source": [
    "catalogRegex = r'^https\\:\\/\\/bookoutlet\\.com\\/Store\\/(Browse(\\?|\\/|$)|Search\\?)'\n",
    "\n",
    "print(\"Testing catalog regex:\")\n",
    "print(\"Only 7 urls should be matching with the bestsellers regex\")\n",
    "print(\"-----------------------------------------------------------\")\n",
    "\n",
    "for uri in testStrings:\n",
    "    print(re.match(catalogRegex, uri))\n",
    "print('---------------------------------------------------------------')"
   ]
  },
  {
   "cell_type": "markdown",
   "metadata": {},
   "source": [
    "## Add `label` column\n",
    "Labelling each possible row of the dataframe"
   ]
  },
  {
   "cell_type": "code",
   "execution_count": 13,
   "metadata": {},
   "outputs": [
    {
     "data": {
      "text/html": [
       "<div>\n",
       "<style scoped>\n",
       "    .dataframe tbody tr th:only-of-type {\n",
       "        vertical-align: middle;\n",
       "    }\n",
       "\n",
       "    .dataframe tbody tr th {\n",
       "        vertical-align: top;\n",
       "    }\n",
       "\n",
       "    .dataframe thead th {\n",
       "        text-align: right;\n",
       "    }\n",
       "</style>\n",
       "<table border=\"1\" class=\"dataframe\">\n",
       "  <thead>\n",
       "    <tr style=\"text-align: right;\">\n",
       "      <th></th>\n",
       "      <th>url</th>\n",
       "      <th>referer_url</th>\n",
       "      <th>src</th>\n",
       "      <th>shingle_vector</th>\n",
       "      <th>label</th>\n",
       "    </tr>\n",
       "  </thead>\n",
       "  <tbody>\n",
       "    <tr>\n",
       "      <th>0</th>\n",
       "      <td>https://bookoutlet.com/</td>\n",
       "      <td>https://bookoutlet.com/</td>\n",
       "      <td>&lt;!DOCTYPE html&gt;\\r\\n&lt;html lang=\"en\"&gt;\\r\\n&lt;head&gt;\\...</td>\n",
       "      <td>(0, 3, 1, 4, 0, 1, 3, 0)</td>\n",
       "      <td>None</td>\n",
       "    </tr>\n",
       "    <tr>\n",
       "      <th>1</th>\n",
       "      <td>https://bookoutlet.com/Store/Sale</td>\n",
       "      <td>https://bookoutlet.com/</td>\n",
       "      <td>&lt;!DOCTYPE html&gt;\\r\\n&lt;html lang=\"en\"&gt;\\r\\n&lt;head&gt;\\...</td>\n",
       "      <td>(0, 3, 1, 0, 0, 1, 3, 0)</td>\n",
       "      <td>None</td>\n",
       "    </tr>\n",
       "    <tr>\n",
       "      <th>2</th>\n",
       "      <td>https://bookoutlet.com/Store/OtherBrowsing</td>\n",
       "      <td>https://bookoutlet.com/</td>\n",
       "      <td>&lt;!DOCTYPE html&gt;\\r\\n&lt;html lang=\"en\"&gt;\\r\\n&lt;head&gt;\\...</td>\n",
       "      <td>(0, 3, 1, 8, 1, 1, 1, 0)</td>\n",
       "      <td>None</td>\n",
       "    </tr>\n",
       "    <tr>\n",
       "      <th>3</th>\n",
       "      <td>https://bookoutlet.com/Store/Browse?N=isTopTen...</td>\n",
       "      <td>https://bookoutlet.com/</td>\n",
       "      <td>&lt;!DOCTYPE html&gt;\\r\\n&lt;html lang=\"en\"&gt;\\r\\n&lt;head&gt;\\...</td>\n",
       "      <td>(0, 3, 1, 1, 1, 1, 0, 0)</td>\n",
       "      <td>None</td>\n",
       "    </tr>\n",
       "    <tr>\n",
       "      <th>4</th>\n",
       "      <td>https://bookoutlet.com/Store/Browse?N=isGiftCe...</td>\n",
       "      <td>https://bookoutlet.com/</td>\n",
       "      <td>&lt;!DOCTYPE html&gt;\\r\\n&lt;html lang=\"en\"&gt;\\r\\n&lt;head&gt;\\...</td>\n",
       "      <td>(0, 3, 1, 1, 1, 1, 0, 0)</td>\n",
       "      <td>None</td>\n",
       "    </tr>\n",
       "  </tbody>\n",
       "</table>\n",
       "</div>"
      ],
      "text/plain": [
       "                                                 url              referer_url  \\\n",
       "0                            https://bookoutlet.com/  https://bookoutlet.com/   \n",
       "1                  https://bookoutlet.com/Store/Sale  https://bookoutlet.com/   \n",
       "2         https://bookoutlet.com/Store/OtherBrowsing  https://bookoutlet.com/   \n",
       "3  https://bookoutlet.com/Store/Browse?N=isTopTen...  https://bookoutlet.com/   \n",
       "4  https://bookoutlet.com/Store/Browse?N=isGiftCe...  https://bookoutlet.com/   \n",
       "\n",
       "                                                 src  \\\n",
       "0  <!DOCTYPE html>\\r\\n<html lang=\"en\">\\r\\n<head>\\...   \n",
       "1  <!DOCTYPE html>\\r\\n<html lang=\"en\">\\r\\n<head>\\...   \n",
       "2  <!DOCTYPE html>\\r\\n<html lang=\"en\">\\r\\n<head>\\...   \n",
       "3  <!DOCTYPE html>\\r\\n<html lang=\"en\">\\r\\n<head>\\...   \n",
       "4  <!DOCTYPE html>\\r\\n<html lang=\"en\">\\r\\n<head>\\...   \n",
       "\n",
       "             shingle_vector label  \n",
       "0  (0, 3, 1, 4, 0, 1, 3, 0)  None  \n",
       "1  (0, 3, 1, 0, 0, 1, 3, 0)  None  \n",
       "2  (0, 3, 1, 8, 1, 1, 1, 0)  None  \n",
       "3  (0, 3, 1, 1, 1, 1, 0, 0)  None  \n",
       "4  (0, 3, 1, 1, 1, 1, 0, 0)  None  "
      ]
     },
     "execution_count": 13,
     "metadata": {},
     "output_type": "execute_result"
    }
   ],
   "source": [
    "df['label'] = None\n",
    "df.head()"
   ]
  },
  {
   "cell_type": "code",
   "execution_count": 14,
   "metadata": {},
   "outputs": [],
   "source": [
    "def set_label(url, regex, old_label, new_label):\n",
    "    if re.match(regex, url):\n",
    "        if old_label is None:\n",
    "            return new_label\n",
    "        else:\n",
    "            return 'collision'\n",
    "    else:\n",
    "        return old_label"
   ]
  },
  {
   "cell_type": "markdown",
   "metadata": {},
   "source": [
    "Add product label"
   ]
  },
  {
   "cell_type": "code",
   "execution_count": 15,
   "metadata": {},
   "outputs": [
    {
     "name": "stdout",
     "output_type": "stream",
     "text": [
      "There should be no row with 'collision' label\n",
      "---------------------------------------------\n"
     ]
    },
    {
     "data": {
      "text/html": [
       "<div>\n",
       "<style scoped>\n",
       "    .dataframe tbody tr th:only-of-type {\n",
       "        vertical-align: middle;\n",
       "    }\n",
       "\n",
       "    .dataframe tbody tr th {\n",
       "        vertical-align: top;\n",
       "    }\n",
       "\n",
       "    .dataframe thead th {\n",
       "        text-align: right;\n",
       "    }\n",
       "</style>\n",
       "<table border=\"1\" class=\"dataframe\">\n",
       "  <thead>\n",
       "    <tr style=\"text-align: right;\">\n",
       "      <th></th>\n",
       "      <th>url</th>\n",
       "      <th>referer_url</th>\n",
       "      <th>src</th>\n",
       "      <th>shingle_vector</th>\n",
       "      <th>label</th>\n",
       "    </tr>\n",
       "  </thead>\n",
       "  <tbody>\n",
       "  </tbody>\n",
       "</table>\n",
       "</div>"
      ],
      "text/plain": [
       "Empty DataFrame\n",
       "Columns: [url, referer_url, src, shingle_vector, label]\n",
       "Index: []"
      ]
     },
     "execution_count": 15,
     "metadata": {},
     "output_type": "execute_result"
    }
   ],
   "source": [
    "df['label'] = df.apply(lambda x: set_label(x['url'], productRegex, x['label'], 'product'), axis=1)\n",
    "print(\"There should be no row with 'collision' label\")\n",
    "print(\"---------------------------------------------\")\n",
    "df[df['label']=='collision'].head()"
   ]
  },
  {
   "cell_type": "markdown",
   "metadata": {},
   "source": [
    "Add list label for paginated pages"
   ]
  },
  {
   "cell_type": "code",
   "execution_count": 16,
   "metadata": {},
   "outputs": [
    {
     "name": "stdout",
     "output_type": "stream",
     "text": [
      "There should be no row with 'collision' label\n",
      "---------------------------------------------\n"
     ]
    },
    {
     "data": {
      "text/html": [
       "<div>\n",
       "<style scoped>\n",
       "    .dataframe tbody tr th:only-of-type {\n",
       "        vertical-align: middle;\n",
       "    }\n",
       "\n",
       "    .dataframe tbody tr th {\n",
       "        vertical-align: top;\n",
       "    }\n",
       "\n",
       "    .dataframe thead th {\n",
       "        text-align: right;\n",
       "    }\n",
       "</style>\n",
       "<table border=\"1\" class=\"dataframe\">\n",
       "  <thead>\n",
       "    <tr style=\"text-align: right;\">\n",
       "      <th></th>\n",
       "      <th>url</th>\n",
       "      <th>referer_url</th>\n",
       "      <th>src</th>\n",
       "      <th>shingle_vector</th>\n",
       "      <th>label</th>\n",
       "    </tr>\n",
       "  </thead>\n",
       "  <tbody>\n",
       "  </tbody>\n",
       "</table>\n",
       "</div>"
      ],
      "text/plain": [
       "Empty DataFrame\n",
       "Columns: [url, referer_url, src, shingle_vector, label]\n",
       "Index: []"
      ]
     },
     "execution_count": 16,
     "metadata": {},
     "output_type": "execute_result"
    }
   ],
   "source": [
    "df['label'] = df.apply(lambda x: set_label(x['url'], catalogRegex, x['label'], 'list'), axis=1)\n",
    "print(\"There should be no row with 'collision' label\")\n",
    "print(\"---------------------------------------------\")\n",
    "df[df['label']=='collision'].head()"
   ]
  },
  {
   "cell_type": "markdown",
   "metadata": {},
   "source": [
    "Summary:"
   ]
  },
  {
   "cell_type": "code",
   "execution_count": 17,
   "metadata": {},
   "outputs": [
    {
     "name": "stdout",
     "output_type": "stream",
     "text": [
      "There are 6 row with no label\n",
      "There are 4801 row with product label\n",
      "There are 11580 row with list label\n"
     ]
    }
   ],
   "source": [
    "fmt_string = 'There are {} row with {} label'\n",
    "print(fmt_string.format(len(df[df['label'].isnull()]),'no'))\n",
    "print(fmt_string.format(len(df[df['label']=='product']), 'product'))\n",
    "print(fmt_string.format(len(df[df['label']=='list']), 'list'))"
   ]
  },
  {
   "cell_type": "code",
   "execution_count": 18,
   "metadata": {},
   "outputs": [
    {
     "data": {
      "text/html": [
       "<div>\n",
       "<style scoped>\n",
       "    .dataframe tbody tr th:only-of-type {\n",
       "        vertical-align: middle;\n",
       "    }\n",
       "\n",
       "    .dataframe tbody tr th {\n",
       "        vertical-align: top;\n",
       "    }\n",
       "\n",
       "    .dataframe thead th {\n",
       "        text-align: right;\n",
       "    }\n",
       "</style>\n",
       "<table border=\"1\" class=\"dataframe\">\n",
       "  <thead>\n",
       "    <tr style=\"text-align: right;\">\n",
       "      <th></th>\n",
       "      <th>url</th>\n",
       "      <th>referer_url</th>\n",
       "    </tr>\n",
       "  </thead>\n",
       "  <tbody>\n",
       "    <tr>\n",
       "      <th>0</th>\n",
       "      <td>https://bookoutlet.com/</td>\n",
       "      <td>https://bookoutlet.com/</td>\n",
       "    </tr>\n",
       "    <tr>\n",
       "      <th>1</th>\n",
       "      <td>https://bookoutlet.com/Store/Sale</td>\n",
       "      <td>https://bookoutlet.com/</td>\n",
       "    </tr>\n",
       "    <tr>\n",
       "      <th>2</th>\n",
       "      <td>https://bookoutlet.com/Store/OtherBrowsing</td>\n",
       "      <td>https://bookoutlet.com/</td>\n",
       "    </tr>\n",
       "    <tr>\n",
       "      <th>9</th>\n",
       "      <td>https://bookoutlet.com/Store/Categories</td>\n",
       "      <td>https://bookoutlet.com/</td>\n",
       "    </tr>\n",
       "    <tr>\n",
       "      <th>10</th>\n",
       "      <td>https://bookoutlet.com/Loyalty/ReferAFriend</td>\n",
       "      <td>https://bookoutlet.com/</td>\n",
       "    </tr>\n",
       "    <tr>\n",
       "      <th>17</th>\n",
       "      <td>https://bookoutlet.com/landing/student-discount</td>\n",
       "      <td>https://bookoutlet.com/</td>\n",
       "    </tr>\n",
       "  </tbody>\n",
       "</table>\n",
       "</div>"
      ],
      "text/plain": [
       "                                                url              referer_url\n",
       "0                           https://bookoutlet.com/  https://bookoutlet.com/\n",
       "1                 https://bookoutlet.com/Store/Sale  https://bookoutlet.com/\n",
       "2        https://bookoutlet.com/Store/OtherBrowsing  https://bookoutlet.com/\n",
       "9           https://bookoutlet.com/Store/Categories  https://bookoutlet.com/\n",
       "10      https://bookoutlet.com/Loyalty/ReferAFriend  https://bookoutlet.com/\n",
       "17  https://bookoutlet.com/landing/student-discount  https://bookoutlet.com/"
      ]
     },
     "execution_count": 18,
     "metadata": {},
     "output_type": "execute_result"
    }
   ],
   "source": [
    "df[df['label'].isnull()][['url', 'referer_url']].head(20)"
   ]
  },
  {
   "cell_type": "markdown",
   "metadata": {},
   "source": [
    "Note that there are some rows which aren't labeled. That is because these pages aren't generated neither by the 'product' template nor the 'list' template."
   ]
  },
  {
   "cell_type": "markdown",
   "metadata": {},
   "source": [
    "## Write dataset to a file"
   ]
  },
  {
   "cell_type": "code",
   "execution_count": 20,
   "metadata": {},
   "outputs": [],
   "source": [
    "df.to_csv(FILEPATH, encoding='utf-8', index=False)"
   ]
  },
  {
   "cell_type": "code",
   "execution_count": 21,
   "metadata": {},
   "outputs": [],
   "source": [
    "test = pd.read_csv(FILEPATH)"
   ]
  },
  {
   "cell_type": "code",
   "execution_count": 22,
   "metadata": {},
   "outputs": [
    {
     "data": {
      "text/html": [
       "<div>\n",
       "<style scoped>\n",
       "    .dataframe tbody tr th:only-of-type {\n",
       "        vertical-align: middle;\n",
       "    }\n",
       "\n",
       "    .dataframe tbody tr th {\n",
       "        vertical-align: top;\n",
       "    }\n",
       "\n",
       "    .dataframe thead th {\n",
       "        text-align: right;\n",
       "    }\n",
       "</style>\n",
       "<table border=\"1\" class=\"dataframe\">\n",
       "  <thead>\n",
       "    <tr style=\"text-align: right;\">\n",
       "      <th></th>\n",
       "      <th>url</th>\n",
       "      <th>referer_url</th>\n",
       "      <th>src</th>\n",
       "      <th>shingle_vector</th>\n",
       "      <th>label</th>\n",
       "    </tr>\n",
       "  </thead>\n",
       "  <tbody>\n",
       "    <tr>\n",
       "      <th>0</th>\n",
       "      <td>https://bookoutlet.com/</td>\n",
       "      <td>https://bookoutlet.com/</td>\n",
       "      <td>&lt;!DOCTYPE html&gt;\\r\\n&lt;html lang=\"en\"&gt;\\r\\n&lt;head&gt;\\...</td>\n",
       "      <td>(0, 3, 1, 4, 0, 1, 3, 0)</td>\n",
       "      <td>NaN</td>\n",
       "    </tr>\n",
       "    <tr>\n",
       "      <th>1</th>\n",
       "      <td>https://bookoutlet.com/Store/Sale</td>\n",
       "      <td>https://bookoutlet.com/</td>\n",
       "      <td>&lt;!DOCTYPE html&gt;\\r\\n&lt;html lang=\"en\"&gt;\\r\\n&lt;head&gt;\\...</td>\n",
       "      <td>(0, 3, 1, 0, 0, 1, 3, 0)</td>\n",
       "      <td>NaN</td>\n",
       "    </tr>\n",
       "    <tr>\n",
       "      <th>2</th>\n",
       "      <td>https://bookoutlet.com/Store/OtherBrowsing</td>\n",
       "      <td>https://bookoutlet.com/</td>\n",
       "      <td>&lt;!DOCTYPE html&gt;\\r\\n&lt;html lang=\"en\"&gt;\\r\\n&lt;head&gt;\\...</td>\n",
       "      <td>(0, 3, 1, 8, 1, 1, 1, 0)</td>\n",
       "      <td>NaN</td>\n",
       "    </tr>\n",
       "    <tr>\n",
       "      <th>3</th>\n",
       "      <td>https://bookoutlet.com/Store/Browse?N=isTopTen...</td>\n",
       "      <td>https://bookoutlet.com/</td>\n",
       "      <td>&lt;!DOCTYPE html&gt;\\r\\n&lt;html lang=\"en\"&gt;\\r\\n&lt;head&gt;\\...</td>\n",
       "      <td>(0, 3, 1, 1, 1, 1, 0, 0)</td>\n",
       "      <td>list</td>\n",
       "    </tr>\n",
       "    <tr>\n",
       "      <th>4</th>\n",
       "      <td>https://bookoutlet.com/Store/Browse?N=isGiftCe...</td>\n",
       "      <td>https://bookoutlet.com/</td>\n",
       "      <td>&lt;!DOCTYPE html&gt;\\r\\n&lt;html lang=\"en\"&gt;\\r\\n&lt;head&gt;\\...</td>\n",
       "      <td>(0, 3, 1, 1, 1, 1, 0, 0)</td>\n",
       "      <td>list</td>\n",
       "    </tr>\n",
       "  </tbody>\n",
       "</table>\n",
       "</div>"
      ],
      "text/plain": [
       "                                                 url              referer_url  \\\n",
       "0                            https://bookoutlet.com/  https://bookoutlet.com/   \n",
       "1                  https://bookoutlet.com/Store/Sale  https://bookoutlet.com/   \n",
       "2         https://bookoutlet.com/Store/OtherBrowsing  https://bookoutlet.com/   \n",
       "3  https://bookoutlet.com/Store/Browse?N=isTopTen...  https://bookoutlet.com/   \n",
       "4  https://bookoutlet.com/Store/Browse?N=isGiftCe...  https://bookoutlet.com/   \n",
       "\n",
       "                                                 src  \\\n",
       "0  <!DOCTYPE html>\\r\\n<html lang=\"en\">\\r\\n<head>\\...   \n",
       "1  <!DOCTYPE html>\\r\\n<html lang=\"en\">\\r\\n<head>\\...   \n",
       "2  <!DOCTYPE html>\\r\\n<html lang=\"en\">\\r\\n<head>\\...   \n",
       "3  <!DOCTYPE html>\\r\\n<html lang=\"en\">\\r\\n<head>\\...   \n",
       "4  <!DOCTYPE html>\\r\\n<html lang=\"en\">\\r\\n<head>\\...   \n",
       "\n",
       "             shingle_vector label  \n",
       "0  (0, 3, 1, 4, 0, 1, 3, 0)   NaN  \n",
       "1  (0, 3, 1, 0, 0, 1, 3, 0)   NaN  \n",
       "2  (0, 3, 1, 8, 1, 1, 1, 0)   NaN  \n",
       "3  (0, 3, 1, 1, 1, 1, 0, 0)  list  \n",
       "4  (0, 3, 1, 1, 1, 1, 0, 0)  list  "
      ]
     },
     "execution_count": 22,
     "metadata": {},
     "output_type": "execute_result"
    }
   ],
   "source": [
    "test.head()"
   ]
  },
  {
   "cell_type": "code",
   "execution_count": 23,
   "metadata": {},
   "outputs": [
    {
     "data": {
      "text/plain": [
       "(16387, 5)"
      ]
     },
     "execution_count": 23,
     "metadata": {},
     "output_type": "execute_result"
    }
   ],
   "source": [
    "test.shape"
   ]
  },
  {
   "cell_type": "code",
   "execution_count": 24,
   "metadata": {},
   "outputs": [
    {
     "name": "stdout",
     "output_type": "stream",
     "text": [
      "There are 6 row with no label\n",
      "There are 4801 row with product label\n",
      "There are 11580 row with list label\n"
     ]
    }
   ],
   "source": [
    "print(fmt_string.format(len(test[test['label'].isnull()]),'no'))\n",
    "print(fmt_string.format(len(test[test['label']=='product']), 'product'))\n",
    "print(fmt_string.format(len(df[df['label']=='list']), 'list'))"
   ]
  }
 ],
 "metadata": {
  "kernelspec": {
   "display_name": "Python 3",
   "language": "python",
   "name": "python3"
  },
  "language_info": {
   "codemirror_mode": {
    "name": "ipython",
    "version": 3
   },
   "file_extension": ".py",
   "mimetype": "text/x-python",
   "name": "python",
   "nbconvert_exporter": "python",
   "pygments_lexer": "ipython3",
   "version": "3.7.3"
  }
 },
 "nbformat": 4,
 "nbformat_minor": 2
}
