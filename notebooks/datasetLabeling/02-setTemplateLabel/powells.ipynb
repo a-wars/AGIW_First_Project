{
 "cells": [
  {
   "cell_type": "code",
   "execution_count": 1,
   "metadata": {},
   "outputs": [
    {
     "data": {
      "text/plain": [
       "'../../../datasets/powells.csv'"
      ]
     },
     "execution_count": 1,
     "metadata": {},
     "output_type": "execute_result"
    }
   ],
   "source": [
    "%matplotlib inline\n",
    "# Importing libraries\n",
    "import matplotlib.pyplot as plt\n",
    "import pandas as pd\n",
    "\n",
    "FILEPATH_PREFIX = '../../../datasets'\n",
    "FILENAME = 'powells.csv'\n",
    "FILEPATH = '{}/{}'.format(FILEPATH_PREFIX, FILENAME)\n",
    "FILEPATH"
   ]
  },
  {
   "cell_type": "code",
   "execution_count": 2,
   "metadata": {},
   "outputs": [],
   "source": [
    "df = pd.read_csv(FILEPATH)"
   ]
  },
  {
   "cell_type": "markdown",
   "metadata": {},
   "source": [
    "## Data analisys\n",
    "Some preliminary analisys of the dataset"
   ]
  },
  {
   "cell_type": "code",
   "execution_count": 3,
   "metadata": {},
   "outputs": [
    {
     "name": "stdout",
     "output_type": "stream",
     "text": [
      "First 5 rows\n",
      "------------\n"
     ]
    },
    {
     "data": {
      "text/html": [
       "<div>\n",
       "<style scoped>\n",
       "    .dataframe tbody tr th:only-of-type {\n",
       "        vertical-align: middle;\n",
       "    }\n",
       "\n",
       "    .dataframe tbody tr th {\n",
       "        vertical-align: top;\n",
       "    }\n",
       "\n",
       "    .dataframe thead th {\n",
       "        text-align: right;\n",
       "    }\n",
       "</style>\n",
       "<table border=\"1\" class=\"dataframe\">\n",
       "  <thead>\n",
       "    <tr style=\"text-align: right;\">\n",
       "      <th></th>\n",
       "      <th>url</th>\n",
       "      <th>referer_url</th>\n",
       "      <th>src</th>\n",
       "      <th>shingle_vector</th>\n",
       "    </tr>\n",
       "  </thead>\n",
       "  <tbody>\n",
       "    <tr>\n",
       "      <th>0</th>\n",
       "      <td>https://www.powells.com/blog/author/kristen-ar...</td>\n",
       "      <td>https://www.powells.com/</td>\n",
       "      <td>&lt;!DOCTYPE html PUBLIC \"-//W3C//DTD XHTML 1.0 T...</td>\n",
       "      <td>(7, 2, 1, 8, 3, 10, 0, 5)</td>\n",
       "    </tr>\n",
       "    <tr>\n",
       "      <th>1</th>\n",
       "      <td>https://www.powells.com/blog/category/interviews</td>\n",
       "      <td>https://www.powells.com/</td>\n",
       "      <td>&lt;!DOCTYPE html PUBLIC \"-//W3C//DTD XHTML 1.0 T...</td>\n",
       "      <td>(2, 1, 1, 0, 3, 5, 0, 1)</td>\n",
       "    </tr>\n",
       "    <tr>\n",
       "      <th>2</th>\n",
       "      <td>https://www.powells.com/nonfiction-sale</td>\n",
       "      <td>https://www.powells.com/</td>\n",
       "      <td>&lt;!DOCTYPE html PUBLIC \"-//W3C//DTD XHTML 1.0 T...</td>\n",
       "      <td>(0, 2, 2, 8, 3, 0, 0, 0)</td>\n",
       "    </tr>\n",
       "    <tr>\n",
       "      <th>3</th>\n",
       "      <td>https://www.powells.com/powells-presents</td>\n",
       "      <td>https://www.powells.com/</td>\n",
       "      <td>&lt;!DOCTYPE html PUBLIC \"-//W3C//DTD XHTML 1.0 T...</td>\n",
       "      <td>(0, 2, 2, 8, 1, 1, 0, 0)</td>\n",
       "    </tr>\n",
       "    <tr>\n",
       "      <th>4</th>\n",
       "      <td>https://www.powells.com/locations</td>\n",
       "      <td>https://www.powells.com/</td>\n",
       "      <td>&lt;!DOCTYPE html PUBLIC \"-//W3C//DTD XHTML 1.0 T...</td>\n",
       "      <td>(2, 0, 0, 4, 2, 2, 0, 0)</td>\n",
       "    </tr>\n",
       "  </tbody>\n",
       "</table>\n",
       "</div>"
      ],
      "text/plain": [
       "                                                 url  \\\n",
       "0  https://www.powells.com/blog/author/kristen-ar...   \n",
       "1   https://www.powells.com/blog/category/interviews   \n",
       "2            https://www.powells.com/nonfiction-sale   \n",
       "3           https://www.powells.com/powells-presents   \n",
       "4                  https://www.powells.com/locations   \n",
       "\n",
       "                referer_url  \\\n",
       "0  https://www.powells.com/   \n",
       "1  https://www.powells.com/   \n",
       "2  https://www.powells.com/   \n",
       "3  https://www.powells.com/   \n",
       "4  https://www.powells.com/   \n",
       "\n",
       "                                                 src  \\\n",
       "0  <!DOCTYPE html PUBLIC \"-//W3C//DTD XHTML 1.0 T...   \n",
       "1  <!DOCTYPE html PUBLIC \"-//W3C//DTD XHTML 1.0 T...   \n",
       "2  <!DOCTYPE html PUBLIC \"-//W3C//DTD XHTML 1.0 T...   \n",
       "3  <!DOCTYPE html PUBLIC \"-//W3C//DTD XHTML 1.0 T...   \n",
       "4  <!DOCTYPE html PUBLIC \"-//W3C//DTD XHTML 1.0 T...   \n",
       "\n",
       "              shingle_vector  \n",
       "0  (7, 2, 1, 8, 3, 10, 0, 5)  \n",
       "1   (2, 1, 1, 0, 3, 5, 0, 1)  \n",
       "2   (0, 2, 2, 8, 3, 0, 0, 0)  \n",
       "3   (0, 2, 2, 8, 1, 1, 0, 0)  \n",
       "4   (2, 0, 0, 4, 2, 2, 0, 0)  "
      ]
     },
     "execution_count": 3,
     "metadata": {},
     "output_type": "execute_result"
    }
   ],
   "source": [
    "print(\"First 5 rows\")\n",
    "print(\"------------\")\n",
    "df.head()"
   ]
  },
  {
   "cell_type": "code",
   "execution_count": 4,
   "metadata": {},
   "outputs": [
    {
     "name": "stdout",
     "output_type": "stream",
     "text": [
      "No. of rows and columns\n",
      "-----------------------\n"
     ]
    },
    {
     "data": {
      "text/plain": [
       "(10571, 4)"
      ]
     },
     "execution_count": 4,
     "metadata": {},
     "output_type": "execute_result"
    }
   ],
   "source": [
    "print(\"No. of rows and columns\")\n",
    "print(\"-----------------------\")\n",
    "df.shape"
   ]
  },
  {
   "cell_type": "code",
   "execution_count": 5,
   "metadata": {},
   "outputs": [
    {
     "name": "stdout",
     "output_type": "stream",
     "text": [
      "Check null values\n",
      "-----------------\n"
     ]
    },
    {
     "data": {
      "text/plain": [
       "False"
      ]
     },
     "execution_count": 5,
     "metadata": {},
     "output_type": "execute_result"
    }
   ],
   "source": [
    "print(\"Check null values\")\n",
    "print(\"-----------------\")\n",
    "df.isnull().any().any()"
   ]
  },
  {
   "cell_type": "code",
   "execution_count": 6,
   "metadata": {},
   "outputs": [
    {
     "name": "stdout",
     "output_type": "stream",
     "text": [
      "Check duplicate values\n",
      "----------------------\n"
     ]
    },
    {
     "data": {
      "text/plain": [
       "False"
      ]
     },
     "execution_count": 6,
     "metadata": {},
     "output_type": "execute_result"
    }
   ],
   "source": [
    "print(\"Check duplicate values\")\n",
    "print(\"----------------------\")\n",
    "len(df['url'].unique()) != df.shape[0]"
   ]
  },
  {
   "cell_type": "code",
   "execution_count": 7,
   "metadata": {},
   "outputs": [
    {
     "name": "stdout",
     "output_type": "stream",
     "text": [
      "DataFrame column types\n",
      "----------------------\n",
      "<class 'pandas.core.frame.DataFrame'>\n",
      "RangeIndex: 10571 entries, 0 to 10570\n",
      "Data columns (total 4 columns):\n",
      "url               10571 non-null object\n",
      "referer_url       10571 non-null object\n",
      "src               10571 non-null object\n",
      "shingle_vector    10571 non-null object\n",
      "dtypes: object(4)\n",
      "memory usage: 330.4+ KB\n"
     ]
    }
   ],
   "source": [
    "print(\"DataFrame column types\")\n",
    "print(\"----------------------\")\n",
    "df.info()"
   ]
  },
  {
   "cell_type": "code",
   "execution_count": 8,
   "metadata": {},
   "outputs": [
    {
     "name": "stdout",
     "output_type": "stream",
     "text": [
      "Some stats\n",
      "----------------\n"
     ]
    },
    {
     "data": {
      "text/html": [
       "<div>\n",
       "<style scoped>\n",
       "    .dataframe tbody tr th:only-of-type {\n",
       "        vertical-align: middle;\n",
       "    }\n",
       "\n",
       "    .dataframe tbody tr th {\n",
       "        vertical-align: top;\n",
       "    }\n",
       "\n",
       "    .dataframe thead th {\n",
       "        text-align: right;\n",
       "    }\n",
       "</style>\n",
       "<table border=\"1\" class=\"dataframe\">\n",
       "  <thead>\n",
       "    <tr style=\"text-align: right;\">\n",
       "      <th></th>\n",
       "      <th>url</th>\n",
       "      <th>referer_url</th>\n",
       "      <th>src</th>\n",
       "      <th>shingle_vector</th>\n",
       "    </tr>\n",
       "  </thead>\n",
       "  <tbody>\n",
       "    <tr>\n",
       "      <th>count</th>\n",
       "      <td>10571</td>\n",
       "      <td>10571</td>\n",
       "      <td>10571</td>\n",
       "      <td>10571</td>\n",
       "    </tr>\n",
       "    <tr>\n",
       "      <th>unique</th>\n",
       "      <td>10571</td>\n",
       "      <td>6556</td>\n",
       "      <td>10571</td>\n",
       "      <td>30</td>\n",
       "    </tr>\n",
       "    <tr>\n",
       "      <th>top</th>\n",
       "      <td>https://www.powells.com/searchresults?keyword=...</td>\n",
       "      <td>https://www.powells.com/ProductMoreIsbn?produc...</td>\n",
       "      <td>&lt;!DOCTYPE html PUBLIC \"-//W3C//DTD XHTML 1.0 T...</td>\n",
       "      <td>(7, 3, 3, 0, 0, 0, 0, 0)</td>\n",
       "    </tr>\n",
       "    <tr>\n",
       "      <th>freq</th>\n",
       "      <td>1</td>\n",
       "      <td>28</td>\n",
       "      <td>1</td>\n",
       "      <td>8081</td>\n",
       "    </tr>\n",
       "  </tbody>\n",
       "</table>\n",
       "</div>"
      ],
      "text/plain": [
       "                                                      url  \\\n",
       "count                                               10571   \n",
       "unique                                              10571   \n",
       "top     https://www.powells.com/searchresults?keyword=...   \n",
       "freq                                                    1   \n",
       "\n",
       "                                              referer_url  \\\n",
       "count                                               10571   \n",
       "unique                                               6556   \n",
       "top     https://www.powells.com/ProductMoreIsbn?produc...   \n",
       "freq                                                   28   \n",
       "\n",
       "                                                      src  \\\n",
       "count                                               10571   \n",
       "unique                                              10571   \n",
       "top     <!DOCTYPE html PUBLIC \"-//W3C//DTD XHTML 1.0 T...   \n",
       "freq                                                    1   \n",
       "\n",
       "                  shingle_vector  \n",
       "count                      10571  \n",
       "unique                        30  \n",
       "top     (7, 3, 3, 0, 0, 0, 0, 0)  \n",
       "freq                        8081  "
      ]
     },
     "execution_count": 8,
     "metadata": {},
     "output_type": "execute_result"
    }
   ],
   "source": [
    "print(\"Some stats\")\n",
    "print(\"----------------\")\n",
    "df.describe()"
   ]
  },
  {
   "cell_type": "markdown",
   "metadata": {},
   "source": [
    "## Page labelling\n",
    "Label (possibly) each page with its own template. Let's start with product (books) pages. \n",
    "The following URL links to a page which shows info regarding a book:\n",
    "\n",
    "```\n",
    "https://www.powells.com/book/-9780553805444\n",
    "```\n",
    "\n",
    "So we could infer that each product page has the following url schema:\n",
    "\n",
    "\n",
    "```\n",
    "https://www.powells.com/book/<somethingElse>\n",
    "```\n",
    "\n",
    "Similarly, some gift pages share the same template as book pages\n",
    "\n",
    "```\n",
    "https://www.powells.com/gift/powells-rainbow-mug-1110000285182/18-0\n",
    "```\n",
    "\n",
    "So in that case the schema is like the following:\n",
    "\n",
    "```\n",
    "https://www.powells.com/gift/<somethingElse>\n",
    "```\n",
    "\n"
   ]
  },
  {
   "cell_type": "code",
   "execution_count": 9,
   "metadata": {},
   "outputs": [
    {
     "name": "stdout",
     "output_type": "stream",
     "text": [
      "Testing article regex:\n",
      "Only the first 6 urls should be matching with the article regex\n",
      "---------------------------------------------------------------\n",
      "<re.Match object; span=(0, 43), match='https://www.powells.com/book/-4004117328190'>\n",
      "<re.Match object; span=(0, 67), match='https://www.powells.com/GIFT/powells-rainbow-mug->\n",
      "<re.Match object; span=(0, 80), match='https://www.powells.com/BOOK/read-rise-resist-yel>\n",
      "<re.Match object; span=(0, 43), match='https://www.powells.com/book/-0092657025390'>\n",
      "<re.Match object; span=(0, 67), match='https://www.powells.com/gift/powells-rainbow-mug->\n",
      "<re.Match object; span=(0, 82), match='https://www.powells.com/book/read-rise-resist-blu>\n",
      "None\n",
      "None\n",
      "None\n",
      "None\n",
      "None\n",
      "None\n",
      "None\n",
      "None\n",
      "None\n",
      "None\n",
      "None\n",
      "None\n",
      "None\n",
      "---------------------------------------------------------------\n"
     ]
    }
   ],
   "source": [
    "import re\n",
    "\n",
    "#Urls associated with product pages\n",
    "testStrings1= ['https://www.powells.com/book/-4004117328190',\n",
    "              'https://www.powells.com/GIFT/powells-rainbow-mug-1110000285182/18-0',\n",
    "              'https://www.powells.com/BOOK/read-rise-resist-yellow-blue-mug-1110000260113/18-0',\n",
    "              'https://www.powells.com/book/-0092657025390',\n",
    "              'https://www.powells.com/gift/powells-rainbow-mug-1110000285182/18-0',\n",
    "              'https://www.powells.com/book/read-rise-resist-blue-pink-sticker-1110000258565/18-0']\n",
    "\n",
    "#Various urls which aren't product pages\n",
    "testStrings2 = ['https://www.powells.com/SEARCHRESULTS?keyword=Martin+George+R+R',\n",
    "               'https://www.powells.com/SearchResults?keyword=Martin+George+R+R',\n",
    "               'https://www.powells.com/searchresults?keyword=game+of+thrones',\n",
    "               'https://www.powells.com/used',\n",
    "               'https://www.powells.com/new-arrivals',\n",
    "               'https://www.powells.com/category/childrens-books?category=Children%27s&binding=Trade%20Paperback&mpp=50',\n",
    "               'https://www.powells.com/category/calendars-notebooks-and-gifts/journals-and-notebooks',\n",
    "               'https://www.powells.com/category',\n",
    "               'https://www.powells.com/staff-picks',\n",
    "               'http://www.powells.com/calendar',\n",
    "               'http://www.powells.com/sell-books',\n",
    "               'https://www.powells.com/digital-audio-books',\n",
    "               'http://www.powells.com/calendar']\n",
    "\n",
    "testStrings = testStrings1 + testStrings2\n",
    "\n",
    "productRegex = r'^https\\:\\/\\/www\\.powells\\.com\\/([bB][oO][oO][kK]|[gG][iI][fF][tT])\\/.+'\n",
    "\n",
    "# simple tests\n",
    "print(\"Testing article regex:\")\n",
    "print(\"Only the first 6 urls should be matching with the article regex\")\n",
    "print(\"---------------------------------------------------------------\")\n",
    "\n",
    "for uri in testStrings:\n",
    "    print(re.match(productRegex, uri))\n",
    "    \n",
    "print('---------------------------------------------------------------')"
   ]
  },
  {
   "cell_type": "markdown",
   "metadata": {},
   "source": [
    "Next we have to label pages which show list of books. We noted that books in blackwells.co.uk are grouped by category, so that books which share the same category are listed in the same page in a paginated way. \n",
    "\n",
    "```\n",
    "https://www.powells.com/category/business\n",
    "```\n",
    "\n",
    "So urls referring to categories (seems to) have the following schema:\n",
    "\n",
    "```\n",
    "https://www.powells.com/category/<somethingElse>\n",
    "```\n",
    "\n",
    "Note that also search results are paginated:\n",
    "\n",
    "```\n",
    "https://www.powells.com/searchresults?keyword=game+of+thrones\n",
    "https://www.powells.com/SearchResults?keyword=Martin+George+R+R\n",
    "https://www.powells.com/SEARCHRESULTS?keyword=Martin+George+R+R\n",
    "```\n",
    "\n",
    "In that case the url schema follows this pattern:\n",
    "```\n",
    "https://www.powells.com/searchresults?<somethingElse>\n",
    "```\n",
    "\n",
    "Finally, the following pages show also books in a paginated fashion:\n",
    "\n",
    "```\n",
    "https://www.powells.com/new-arrivals\n",
    "https://www.powells.com/used\n",
    "```"
   ]
  },
  {
   "cell_type": "code",
   "execution_count": 10,
   "metadata": {},
   "outputs": [
    {
     "name": "stdout",
     "output_type": "stream",
     "text": [
      "Testing catalog regex:\n",
      "Only 7 urls should be matching with the bestsellers regex\n",
      "-----------------------------------------------------------\n",
      "None\n",
      "None\n",
      "None\n",
      "None\n",
      "None\n",
      "None\n",
      "<re.Match object; span=(0, 63), match='https://www.powells.com/SEARCHRESULTS?keyword=Mar>\n",
      "<re.Match object; span=(0, 63), match='https://www.powells.com/SearchResults?keyword=Mar>\n",
      "<re.Match object; span=(0, 61), match='https://www.powells.com/searchresults?keyword=gam>\n",
      "<re.Match object; span=(0, 28), match='https://www.powells.com/used'>\n",
      "<re.Match object; span=(0, 36), match='https://www.powells.com/new-arrivals'>\n",
      "<re.Match object; span=(0, 103), match='https://www.powells.com/category/childrens-books?>\n",
      "<re.Match object; span=(0, 85), match='https://www.powells.com/category/calendars-notebo>\n",
      "None\n",
      "None\n",
      "None\n",
      "None\n",
      "None\n",
      "None\n",
      "---------------------------------------------------------------\n"
     ]
    }
   ],
   "source": [
    "catalogRegex = r'^https\\:\\/\\/www\\.powells\\.com\\/([cC][aA][tT][eE][gG][oO][rR][yY]\\/.+|[sS][eE][aA][rR][cC][hH][rR][eE][sS][uU][lL][tT][sS]\\?.+|new\\-arrivals$|used$)'\n",
    "\n",
    "print(\"Testing catalog regex:\")\n",
    "print(\"Only 7 urls should be matching with the bestsellers regex\")\n",
    "print(\"-----------------------------------------------------------\")\n",
    "\n",
    "for uri in testStrings:\n",
    "    print(re.match(catalogRegex, uri))\n",
    "print('---------------------------------------------------------------')"
   ]
  },
  {
   "cell_type": "markdown",
   "metadata": {},
   "source": [
    "## Add `label` column\n",
    "Labelling each possible row of the dataframe"
   ]
  },
  {
   "cell_type": "code",
   "execution_count": 11,
   "metadata": {},
   "outputs": [
    {
     "data": {
      "text/html": [
       "<div>\n",
       "<style scoped>\n",
       "    .dataframe tbody tr th:only-of-type {\n",
       "        vertical-align: middle;\n",
       "    }\n",
       "\n",
       "    .dataframe tbody tr th {\n",
       "        vertical-align: top;\n",
       "    }\n",
       "\n",
       "    .dataframe thead th {\n",
       "        text-align: right;\n",
       "    }\n",
       "</style>\n",
       "<table border=\"1\" class=\"dataframe\">\n",
       "  <thead>\n",
       "    <tr style=\"text-align: right;\">\n",
       "      <th></th>\n",
       "      <th>url</th>\n",
       "      <th>referer_url</th>\n",
       "      <th>src</th>\n",
       "      <th>shingle_vector</th>\n",
       "      <th>label</th>\n",
       "    </tr>\n",
       "  </thead>\n",
       "  <tbody>\n",
       "    <tr>\n",
       "      <th>0</th>\n",
       "      <td>https://www.powells.com/blog/author/kristen-ar...</td>\n",
       "      <td>https://www.powells.com/</td>\n",
       "      <td>&lt;!DOCTYPE html PUBLIC \"-//W3C//DTD XHTML 1.0 T...</td>\n",
       "      <td>(7, 2, 1, 8, 3, 10, 0, 5)</td>\n",
       "      <td>None</td>\n",
       "    </tr>\n",
       "    <tr>\n",
       "      <th>1</th>\n",
       "      <td>https://www.powells.com/blog/category/interviews</td>\n",
       "      <td>https://www.powells.com/</td>\n",
       "      <td>&lt;!DOCTYPE html PUBLIC \"-//W3C//DTD XHTML 1.0 T...</td>\n",
       "      <td>(2, 1, 1, 0, 3, 5, 0, 1)</td>\n",
       "      <td>None</td>\n",
       "    </tr>\n",
       "    <tr>\n",
       "      <th>2</th>\n",
       "      <td>https://www.powells.com/nonfiction-sale</td>\n",
       "      <td>https://www.powells.com/</td>\n",
       "      <td>&lt;!DOCTYPE html PUBLIC \"-//W3C//DTD XHTML 1.0 T...</td>\n",
       "      <td>(0, 2, 2, 8, 3, 0, 0, 0)</td>\n",
       "      <td>None</td>\n",
       "    </tr>\n",
       "    <tr>\n",
       "      <th>3</th>\n",
       "      <td>https://www.powells.com/powells-presents</td>\n",
       "      <td>https://www.powells.com/</td>\n",
       "      <td>&lt;!DOCTYPE html PUBLIC \"-//W3C//DTD XHTML 1.0 T...</td>\n",
       "      <td>(0, 2, 2, 8, 1, 1, 0, 0)</td>\n",
       "      <td>None</td>\n",
       "    </tr>\n",
       "    <tr>\n",
       "      <th>4</th>\n",
       "      <td>https://www.powells.com/locations</td>\n",
       "      <td>https://www.powells.com/</td>\n",
       "      <td>&lt;!DOCTYPE html PUBLIC \"-//W3C//DTD XHTML 1.0 T...</td>\n",
       "      <td>(2, 0, 0, 4, 2, 2, 0, 0)</td>\n",
       "      <td>None</td>\n",
       "    </tr>\n",
       "  </tbody>\n",
       "</table>\n",
       "</div>"
      ],
      "text/plain": [
       "                                                 url  \\\n",
       "0  https://www.powells.com/blog/author/kristen-ar...   \n",
       "1   https://www.powells.com/blog/category/interviews   \n",
       "2            https://www.powells.com/nonfiction-sale   \n",
       "3           https://www.powells.com/powells-presents   \n",
       "4                  https://www.powells.com/locations   \n",
       "\n",
       "                referer_url  \\\n",
       "0  https://www.powells.com/   \n",
       "1  https://www.powells.com/   \n",
       "2  https://www.powells.com/   \n",
       "3  https://www.powells.com/   \n",
       "4  https://www.powells.com/   \n",
       "\n",
       "                                                 src  \\\n",
       "0  <!DOCTYPE html PUBLIC \"-//W3C//DTD XHTML 1.0 T...   \n",
       "1  <!DOCTYPE html PUBLIC \"-//W3C//DTD XHTML 1.0 T...   \n",
       "2  <!DOCTYPE html PUBLIC \"-//W3C//DTD XHTML 1.0 T...   \n",
       "3  <!DOCTYPE html PUBLIC \"-//W3C//DTD XHTML 1.0 T...   \n",
       "4  <!DOCTYPE html PUBLIC \"-//W3C//DTD XHTML 1.0 T...   \n",
       "\n",
       "              shingle_vector label  \n",
       "0  (7, 2, 1, 8, 3, 10, 0, 5)  None  \n",
       "1   (2, 1, 1, 0, 3, 5, 0, 1)  None  \n",
       "2   (0, 2, 2, 8, 3, 0, 0, 0)  None  \n",
       "3   (0, 2, 2, 8, 1, 1, 0, 0)  None  \n",
       "4   (2, 0, 0, 4, 2, 2, 0, 0)  None  "
      ]
     },
     "execution_count": 11,
     "metadata": {},
     "output_type": "execute_result"
    }
   ],
   "source": [
    "df['label'] = None\n",
    "df.head()"
   ]
  },
  {
   "cell_type": "code",
   "execution_count": 12,
   "metadata": {},
   "outputs": [],
   "source": [
    "def set_label(url, regex, old_label, new_label):\n",
    "    if re.match(regex, url):\n",
    "        if old_label is None:\n",
    "            return new_label\n",
    "        else:\n",
    "            return 'collision'\n",
    "    else:\n",
    "        return old_label"
   ]
  },
  {
   "cell_type": "markdown",
   "metadata": {},
   "source": [
    "Add product label"
   ]
  },
  {
   "cell_type": "code",
   "execution_count": 13,
   "metadata": {},
   "outputs": [
    {
     "name": "stdout",
     "output_type": "stream",
     "text": [
      "There should be no row with 'collision' label\n",
      "---------------------------------------------\n"
     ]
    },
    {
     "data": {
      "text/html": [
       "<div>\n",
       "<style scoped>\n",
       "    .dataframe tbody tr th:only-of-type {\n",
       "        vertical-align: middle;\n",
       "    }\n",
       "\n",
       "    .dataframe tbody tr th {\n",
       "        vertical-align: top;\n",
       "    }\n",
       "\n",
       "    .dataframe thead th {\n",
       "        text-align: right;\n",
       "    }\n",
       "</style>\n",
       "<table border=\"1\" class=\"dataframe\">\n",
       "  <thead>\n",
       "    <tr style=\"text-align: right;\">\n",
       "      <th></th>\n",
       "      <th>url</th>\n",
       "      <th>referer_url</th>\n",
       "      <th>src</th>\n",
       "      <th>shingle_vector</th>\n",
       "      <th>label</th>\n",
       "    </tr>\n",
       "  </thead>\n",
       "  <tbody>\n",
       "  </tbody>\n",
       "</table>\n",
       "</div>"
      ],
      "text/plain": [
       "Empty DataFrame\n",
       "Columns: [url, referer_url, src, shingle_vector, label]\n",
       "Index: []"
      ]
     },
     "execution_count": 13,
     "metadata": {},
     "output_type": "execute_result"
    }
   ],
   "source": [
    "df['label'] = df.apply(lambda x: set_label(x['url'], productRegex, x['label'], 'product'), axis=1)\n",
    "print(\"There should be no row with 'collision' label\")\n",
    "print(\"---------------------------------------------\")\n",
    "df[df['label']=='collision'].head()"
   ]
  },
  {
   "cell_type": "markdown",
   "metadata": {},
   "source": [
    "Add list label for paginated pages"
   ]
  },
  {
   "cell_type": "code",
   "execution_count": 14,
   "metadata": {},
   "outputs": [
    {
     "name": "stdout",
     "output_type": "stream",
     "text": [
      "There should be no row with 'collision' label\n",
      "---------------------------------------------\n"
     ]
    },
    {
     "data": {
      "text/html": [
       "<div>\n",
       "<style scoped>\n",
       "    .dataframe tbody tr th:only-of-type {\n",
       "        vertical-align: middle;\n",
       "    }\n",
       "\n",
       "    .dataframe tbody tr th {\n",
       "        vertical-align: top;\n",
       "    }\n",
       "\n",
       "    .dataframe thead th {\n",
       "        text-align: right;\n",
       "    }\n",
       "</style>\n",
       "<table border=\"1\" class=\"dataframe\">\n",
       "  <thead>\n",
       "    <tr style=\"text-align: right;\">\n",
       "      <th></th>\n",
       "      <th>url</th>\n",
       "      <th>referer_url</th>\n",
       "      <th>src</th>\n",
       "      <th>shingle_vector</th>\n",
       "      <th>label</th>\n",
       "    </tr>\n",
       "  </thead>\n",
       "  <tbody>\n",
       "  </tbody>\n",
       "</table>\n",
       "</div>"
      ],
      "text/plain": [
       "Empty DataFrame\n",
       "Columns: [url, referer_url, src, shingle_vector, label]\n",
       "Index: []"
      ]
     },
     "execution_count": 14,
     "metadata": {},
     "output_type": "execute_result"
    }
   ],
   "source": [
    "df['label'] = df.apply(lambda x: set_label(x['url'], catalogRegex, x['label'], 'list'), axis=1)\n",
    "print(\"There should be no row with 'collision' label\")\n",
    "print(\"---------------------------------------------\")\n",
    "df[df['label']=='collision'].head()"
   ]
  },
  {
   "cell_type": "markdown",
   "metadata": {},
   "source": [
    "Summary:"
   ]
  },
  {
   "cell_type": "code",
   "execution_count": 15,
   "metadata": {},
   "outputs": [
    {
     "name": "stdout",
     "output_type": "stream",
     "text": [
      "There are 1609 row with no label\n",
      "There are 417 row with product label\n",
      "There are 8545 row with list label\n"
     ]
    }
   ],
   "source": [
    "fmt_string = 'There are {} row with {} label'\n",
    "print(fmt_string.format(len(df[df['label'].isnull()]),'no'))\n",
    "print(fmt_string.format(len(df[df['label']=='product']), 'product'))\n",
    "print(fmt_string.format(len(df[df['label']=='list']), 'list'))"
   ]
  },
  {
   "cell_type": "code",
   "execution_count": 16,
   "metadata": {},
   "outputs": [
    {
     "data": {
      "text/html": [
       "<div>\n",
       "<style scoped>\n",
       "    .dataframe tbody tr th:only-of-type {\n",
       "        vertical-align: middle;\n",
       "    }\n",
       "\n",
       "    .dataframe tbody tr th {\n",
       "        vertical-align: top;\n",
       "    }\n",
       "\n",
       "    .dataframe thead th {\n",
       "        text-align: right;\n",
       "    }\n",
       "</style>\n",
       "<table border=\"1\" class=\"dataframe\">\n",
       "  <thead>\n",
       "    <tr style=\"text-align: right;\">\n",
       "      <th></th>\n",
       "      <th>url</th>\n",
       "      <th>referer_url</th>\n",
       "    </tr>\n",
       "  </thead>\n",
       "  <tbody>\n",
       "    <tr>\n",
       "      <th>0</th>\n",
       "      <td>https://www.powells.com/blog/author/kristen-arnett</td>\n",
       "      <td>https://www.powells.com/</td>\n",
       "    </tr>\n",
       "    <tr>\n",
       "      <th>1</th>\n",
       "      <td>https://www.powells.com/blog/category/interviews</td>\n",
       "      <td>https://www.powells.com/</td>\n",
       "    </tr>\n",
       "    <tr>\n",
       "      <th>2</th>\n",
       "      <td>https://www.powells.com/nonfiction-sale</td>\n",
       "      <td>https://www.powells.com/</td>\n",
       "    </tr>\n",
       "    <tr>\n",
       "      <th>3</th>\n",
       "      <td>https://www.powells.com/powells-presents</td>\n",
       "      <td>https://www.powells.com/</td>\n",
       "    </tr>\n",
       "    <tr>\n",
       "      <th>4</th>\n",
       "      <td>https://www.powells.com/locations</td>\n",
       "      <td>https://www.powells.com/</td>\n",
       "    </tr>\n",
       "  </tbody>\n",
       "</table>\n",
       "</div>"
      ],
      "text/plain": [
       "                                                  url               referer_url\n",
       "0  https://www.powells.com/blog/author/kristen-arnett  https://www.powells.com/\n",
       "1  https://www.powells.com/blog/category/interviews    https://www.powells.com/\n",
       "2  https://www.powells.com/nonfiction-sale             https://www.powells.com/\n",
       "3  https://www.powells.com/powells-presents            https://www.powells.com/\n",
       "4  https://www.powells.com/locations                   https://www.powells.com/"
      ]
     },
     "execution_count": 16,
     "metadata": {},
     "output_type": "execute_result"
    }
   ],
   "source": [
    "pd.options.display.max_rows=1000\n",
    "pd.set_option('display.max_columns', None)  \n",
    "pd.set_option('display.expand_frame_repr', False)\n",
    "pd.set_option('max_colwidth', -1)\n",
    "df[df['label'].isnull()][['url', 'referer_url']].head()"
   ]
  },
  {
   "cell_type": "code",
   "execution_count": 17,
   "metadata": {},
   "outputs": [],
   "source": [
    "pd.reset_option('^display.', silent=True)"
   ]
  },
  {
   "cell_type": "markdown",
   "metadata": {},
   "source": [
    "Note that there are some rows which aren't labeled. That is because these pages aren't generated neither by the 'product' template nor the 'list' template."
   ]
  },
  {
   "cell_type": "markdown",
   "metadata": {},
   "source": [
    "## Write dataset to a file"
   ]
  },
  {
   "cell_type": "code",
   "execution_count": 18,
   "metadata": {},
   "outputs": [],
   "source": [
    "df.to_csv(FILEPATH, encoding='utf-8', index=False)"
   ]
  },
  {
   "cell_type": "code",
   "execution_count": 19,
   "metadata": {},
   "outputs": [],
   "source": [
    "test = pd.read_csv(FILEPATH)"
   ]
  },
  {
   "cell_type": "code",
   "execution_count": 24,
   "metadata": {},
   "outputs": [
    {
     "data": {
      "text/html": [
       "<div>\n",
       "<style scoped>\n",
       "    .dataframe tbody tr th:only-of-type {\n",
       "        vertical-align: middle;\n",
       "    }\n",
       "\n",
       "    .dataframe tbody tr th {\n",
       "        vertical-align: top;\n",
       "    }\n",
       "\n",
       "    .dataframe thead th {\n",
       "        text-align: right;\n",
       "    }\n",
       "</style>\n",
       "<table border=\"1\" class=\"dataframe\">\n",
       "  <thead>\n",
       "    <tr style=\"text-align: right;\">\n",
       "      <th></th>\n",
       "      <th>url</th>\n",
       "      <th>referer_url</th>\n",
       "      <th>src</th>\n",
       "      <th>shingle_vector</th>\n",
       "      <th>label</th>\n",
       "    </tr>\n",
       "  </thead>\n",
       "  <tbody>\n",
       "    <tr>\n",
       "      <th>0</th>\n",
       "      <td>https://www.powells.com/blog/author/kristen-ar...</td>\n",
       "      <td>https://www.powells.com/</td>\n",
       "      <td>&lt;!DOCTYPE html PUBLIC \"-//W3C//DTD XHTML 1.0 T...</td>\n",
       "      <td>(7, 2, 1, 8, 3, 10, 0, 5)</td>\n",
       "      <td>NaN</td>\n",
       "    </tr>\n",
       "    <tr>\n",
       "      <th>1</th>\n",
       "      <td>https://www.powells.com/blog/category/interviews</td>\n",
       "      <td>https://www.powells.com/</td>\n",
       "      <td>&lt;!DOCTYPE html PUBLIC \"-//W3C//DTD XHTML 1.0 T...</td>\n",
       "      <td>(2, 1, 1, 0, 3, 5, 0, 1)</td>\n",
       "      <td>NaN</td>\n",
       "    </tr>\n",
       "    <tr>\n",
       "      <th>2</th>\n",
       "      <td>https://www.powells.com/nonfiction-sale</td>\n",
       "      <td>https://www.powells.com/</td>\n",
       "      <td>&lt;!DOCTYPE html PUBLIC \"-//W3C//DTD XHTML 1.0 T...</td>\n",
       "      <td>(0, 2, 2, 8, 3, 0, 0, 0)</td>\n",
       "      <td>NaN</td>\n",
       "    </tr>\n",
       "    <tr>\n",
       "      <th>3</th>\n",
       "      <td>https://www.powells.com/powells-presents</td>\n",
       "      <td>https://www.powells.com/</td>\n",
       "      <td>&lt;!DOCTYPE html PUBLIC \"-//W3C//DTD XHTML 1.0 T...</td>\n",
       "      <td>(0, 2, 2, 8, 1, 1, 0, 0)</td>\n",
       "      <td>NaN</td>\n",
       "    </tr>\n",
       "    <tr>\n",
       "      <th>4</th>\n",
       "      <td>https://www.powells.com/locations</td>\n",
       "      <td>https://www.powells.com/</td>\n",
       "      <td>&lt;!DOCTYPE html PUBLIC \"-//W3C//DTD XHTML 1.0 T...</td>\n",
       "      <td>(2, 0, 0, 4, 2, 2, 0, 0)</td>\n",
       "      <td>NaN</td>\n",
       "    </tr>\n",
       "    <tr>\n",
       "      <th>5</th>\n",
       "      <td>https://www.powells.com/post/interviews/powell...</td>\n",
       "      <td>https://www.powells.com/</td>\n",
       "      <td>&lt;!DOCTYPE html PUBLIC \"-//W3C//DTD XHTML 1.0 T...</td>\n",
       "      <td>(0, 1, 0, 0, 2, 3, 0, 1)</td>\n",
       "      <td>NaN</td>\n",
       "    </tr>\n",
       "    <tr>\n",
       "      <th>6</th>\n",
       "      <td>https://www.powells.com/little-golden-books-sale</td>\n",
       "      <td>https://www.powells.com/</td>\n",
       "      <td>&lt;!DOCTYPE html PUBLIC \"-//W3C//DTD XHTML 1.0 T...</td>\n",
       "      <td>(0, 2, 2, 4, 2, 0, 0, 0)</td>\n",
       "      <td>NaN</td>\n",
       "    </tr>\n",
       "    <tr>\n",
       "      <th>7</th>\n",
       "      <td>https://www.powells.com/sell-books-stores</td>\n",
       "      <td>https://www.powells.com/</td>\n",
       "      <td>&lt;!DOCTYPE html PUBLIC \"-//W3C//DTD XHTML 1.0 T...</td>\n",
       "      <td>(2, 2, 1, 3, 2, 10, 0, 0)</td>\n",
       "      <td>NaN</td>\n",
       "    </tr>\n",
       "    <tr>\n",
       "      <th>8</th>\n",
       "      <td>https://www.powells.com/blog</td>\n",
       "      <td>https://www.powells.com/</td>\n",
       "      <td>&lt;!DOCTYPE html PUBLIC \"-//W3C//DTD XHTML 1.0 T...</td>\n",
       "      <td>(2, 1, 1, 0, 3, 3, 0, 4)</td>\n",
       "      <td>NaN</td>\n",
       "    </tr>\n",
       "    <tr>\n",
       "      <th>9</th>\n",
       "      <td>https://www.powells.com/nature-sale</td>\n",
       "      <td>https://www.powells.com/</td>\n",
       "      <td>&lt;!DOCTYPE html PUBLIC \"-//W3C//DTD XHTML 1.0 T...</td>\n",
       "      <td>(0, 2, 2, 8, 3, 0, 0, 0)</td>\n",
       "      <td>NaN</td>\n",
       "    </tr>\n",
       "    <tr>\n",
       "      <th>10</th>\n",
       "      <td>https://www.powells.com/book/how-to-be-a-cat-9...</td>\n",
       "      <td>https://www.powells.com/</td>\n",
       "      <td>&lt;!DOCTYPE html PUBLIC \"-//W3C//DTD XHTML 1.0 T...</td>\n",
       "      <td>(2, 2, 0, 0, 3, 0, 0, 0)</td>\n",
       "      <td>product</td>\n",
       "    </tr>\n",
       "    <tr>\n",
       "      <th>11</th>\n",
       "      <td>https://www.powells.com/info/terms-of-use</td>\n",
       "      <td>https://www.powells.com/</td>\n",
       "      <td>&lt;!DOCTYPE html PUBLIC \"-//W3C//DTD XHTML 1.0 T...</td>\n",
       "      <td>(2, 1, 1, 3, 2, 5, 0, 0)</td>\n",
       "      <td>NaN</td>\n",
       "    </tr>\n",
       "    <tr>\n",
       "      <th>12</th>\n",
       "      <td>https://www.powells.com/info/sitemap</td>\n",
       "      <td>https://www.powells.com/</td>\n",
       "      <td>&lt;!DOCTYPE html PUBLIC \"-//W3C//DTD XHTML 1.0 T...</td>\n",
       "      <td>(2, 3, 2, 6, 3, 9, 0, 5)</td>\n",
       "      <td>NaN</td>\n",
       "    </tr>\n",
       "    <tr>\n",
       "      <th>13</th>\n",
       "      <td>https://www.powells.com/book/mostly-dead-thing...</td>\n",
       "      <td>https://www.powells.com/</td>\n",
       "      <td>&lt;!DOCTYPE html PUBLIC \"-//W3C//DTD XHTML 1.0 T...</td>\n",
       "      <td>(2, 2, 0, 0, 3, 0, 0, 0)</td>\n",
       "      <td>product</td>\n",
       "    </tr>\n",
       "    <tr>\n",
       "      <th>14</th>\n",
       "      <td>https://www.powells.com/book/disappearing-eart...</td>\n",
       "      <td>https://www.powells.com/</td>\n",
       "      <td>&lt;!DOCTYPE html PUBLIC \"-//W3C//DTD XHTML 1.0 T...</td>\n",
       "      <td>(2, 2, 0, 0, 3, 0, 0, 0)</td>\n",
       "      <td>product</td>\n",
       "    </tr>\n",
       "    <tr>\n",
       "      <th>15</th>\n",
       "      <td>https://www.powells.com/blog/category/beyond-t...</td>\n",
       "      <td>https://www.powells.com/blog/author/kristen-ar...</td>\n",
       "      <td>&lt;!DOCTYPE html PUBLIC \"-//W3C//DTD XHTML 1.0 T...</td>\n",
       "      <td>(13, 3, 1, 3, 3, 4, 0, 4)</td>\n",
       "      <td>NaN</td>\n",
       "    </tr>\n",
       "    <tr>\n",
       "      <th>16</th>\n",
       "      <td>https://www.powells.com/login?returnurl=%2fpos...</td>\n",
       "      <td>https://www.powells.com/post/interviews/powell...</td>\n",
       "      <td>&lt;!DOCTYPE html PUBLIC \"-//W3C//DTD XHTML 1.0 T...</td>\n",
       "      <td>(2, 2, 2, 0, 2, 9, 0, 0)</td>\n",
       "      <td>NaN</td>\n",
       "    </tr>\n",
       "    <tr>\n",
       "      <th>17</th>\n",
       "      <td>https://www.powells.com/login?returnurl=%2finf...</td>\n",
       "      <td>https://www.powells.com/info/terms-of-use</td>\n",
       "      <td>&lt;!DOCTYPE html PUBLIC \"-//W3C//DTD XHTML 1.0 T...</td>\n",
       "      <td>(2, 2, 2, 0, 2, 9, 0, 0)</td>\n",
       "      <td>NaN</td>\n",
       "    </tr>\n",
       "    <tr>\n",
       "      <th>18</th>\n",
       "      <td>https://www.powells.com/login?returnurl=%2flit...</td>\n",
       "      <td>https://www.powells.com/little-golden-books-sale</td>\n",
       "      <td>&lt;!DOCTYPE html PUBLIC \"-//W3C//DTD XHTML 1.0 T...</td>\n",
       "      <td>(2, 2, 2, 0, 2, 9, 0, 0)</td>\n",
       "      <td>NaN</td>\n",
       "    </tr>\n",
       "    <tr>\n",
       "      <th>19</th>\n",
       "      <td>https://www.powells.com/info/shipping/</td>\n",
       "      <td>https://www.powells.com/info/sitemap</td>\n",
       "      <td>&lt;!DOCTYPE html PUBLIC \"-//W3C//DTD XHTML 1.0 T...</td>\n",
       "      <td>(5, 3, 0, 0, 0, 1, 0, 4)</td>\n",
       "      <td>NaN</td>\n",
       "    </tr>\n",
       "  </tbody>\n",
       "</table>\n",
       "</div>"
      ],
      "text/plain": [
       "                                                  url  \\\n",
       "0   https://www.powells.com/blog/author/kristen-ar...   \n",
       "1    https://www.powells.com/blog/category/interviews   \n",
       "2             https://www.powells.com/nonfiction-sale   \n",
       "3            https://www.powells.com/powells-presents   \n",
       "4                   https://www.powells.com/locations   \n",
       "5   https://www.powells.com/post/interviews/powell...   \n",
       "6    https://www.powells.com/little-golden-books-sale   \n",
       "7           https://www.powells.com/sell-books-stores   \n",
       "8                        https://www.powells.com/blog   \n",
       "9                 https://www.powells.com/nature-sale   \n",
       "10  https://www.powells.com/book/how-to-be-a-cat-9...   \n",
       "11          https://www.powells.com/info/terms-of-use   \n",
       "12               https://www.powells.com/info/sitemap   \n",
       "13  https://www.powells.com/book/mostly-dead-thing...   \n",
       "14  https://www.powells.com/book/disappearing-eart...   \n",
       "15  https://www.powells.com/blog/category/beyond-t...   \n",
       "16  https://www.powells.com/login?returnurl=%2fpos...   \n",
       "17  https://www.powells.com/login?returnurl=%2finf...   \n",
       "18  https://www.powells.com/login?returnurl=%2flit...   \n",
       "19             https://www.powells.com/info/shipping/   \n",
       "\n",
       "                                          referer_url  \\\n",
       "0                            https://www.powells.com/   \n",
       "1                            https://www.powells.com/   \n",
       "2                            https://www.powells.com/   \n",
       "3                            https://www.powells.com/   \n",
       "4                            https://www.powells.com/   \n",
       "5                            https://www.powells.com/   \n",
       "6                            https://www.powells.com/   \n",
       "7                            https://www.powells.com/   \n",
       "8                            https://www.powells.com/   \n",
       "9                            https://www.powells.com/   \n",
       "10                           https://www.powells.com/   \n",
       "11                           https://www.powells.com/   \n",
       "12                           https://www.powells.com/   \n",
       "13                           https://www.powells.com/   \n",
       "14                           https://www.powells.com/   \n",
       "15  https://www.powells.com/blog/author/kristen-ar...   \n",
       "16  https://www.powells.com/post/interviews/powell...   \n",
       "17          https://www.powells.com/info/terms-of-use   \n",
       "18   https://www.powells.com/little-golden-books-sale   \n",
       "19               https://www.powells.com/info/sitemap   \n",
       "\n",
       "                                                  src  \\\n",
       "0   <!DOCTYPE html PUBLIC \"-//W3C//DTD XHTML 1.0 T...   \n",
       "1   <!DOCTYPE html PUBLIC \"-//W3C//DTD XHTML 1.0 T...   \n",
       "2   <!DOCTYPE html PUBLIC \"-//W3C//DTD XHTML 1.0 T...   \n",
       "3   <!DOCTYPE html PUBLIC \"-//W3C//DTD XHTML 1.0 T...   \n",
       "4   <!DOCTYPE html PUBLIC \"-//W3C//DTD XHTML 1.0 T...   \n",
       "5   <!DOCTYPE html PUBLIC \"-//W3C//DTD XHTML 1.0 T...   \n",
       "6   <!DOCTYPE html PUBLIC \"-//W3C//DTD XHTML 1.0 T...   \n",
       "7   <!DOCTYPE html PUBLIC \"-//W3C//DTD XHTML 1.0 T...   \n",
       "8   <!DOCTYPE html PUBLIC \"-//W3C//DTD XHTML 1.0 T...   \n",
       "9   <!DOCTYPE html PUBLIC \"-//W3C//DTD XHTML 1.0 T...   \n",
       "10  <!DOCTYPE html PUBLIC \"-//W3C//DTD XHTML 1.0 T...   \n",
       "11  <!DOCTYPE html PUBLIC \"-//W3C//DTD XHTML 1.0 T...   \n",
       "12  <!DOCTYPE html PUBLIC \"-//W3C//DTD XHTML 1.0 T...   \n",
       "13  <!DOCTYPE html PUBLIC \"-//W3C//DTD XHTML 1.0 T...   \n",
       "14  <!DOCTYPE html PUBLIC \"-//W3C//DTD XHTML 1.0 T...   \n",
       "15  <!DOCTYPE html PUBLIC \"-//W3C//DTD XHTML 1.0 T...   \n",
       "16  <!DOCTYPE html PUBLIC \"-//W3C//DTD XHTML 1.0 T...   \n",
       "17  <!DOCTYPE html PUBLIC \"-//W3C//DTD XHTML 1.0 T...   \n",
       "18  <!DOCTYPE html PUBLIC \"-//W3C//DTD XHTML 1.0 T...   \n",
       "19  <!DOCTYPE html PUBLIC \"-//W3C//DTD XHTML 1.0 T...   \n",
       "\n",
       "               shingle_vector    label  \n",
       "0   (7, 2, 1, 8, 3, 10, 0, 5)      NaN  \n",
       "1    (2, 1, 1, 0, 3, 5, 0, 1)      NaN  \n",
       "2    (0, 2, 2, 8, 3, 0, 0, 0)      NaN  \n",
       "3    (0, 2, 2, 8, 1, 1, 0, 0)      NaN  \n",
       "4    (2, 0, 0, 4, 2, 2, 0, 0)      NaN  \n",
       "5    (0, 1, 0, 0, 2, 3, 0, 1)      NaN  \n",
       "6    (0, 2, 2, 4, 2, 0, 0, 0)      NaN  \n",
       "7   (2, 2, 1, 3, 2, 10, 0, 0)      NaN  \n",
       "8    (2, 1, 1, 0, 3, 3, 0, 4)      NaN  \n",
       "9    (0, 2, 2, 8, 3, 0, 0, 0)      NaN  \n",
       "10   (2, 2, 0, 0, 3, 0, 0, 0)  product  \n",
       "11   (2, 1, 1, 3, 2, 5, 0, 0)      NaN  \n",
       "12   (2, 3, 2, 6, 3, 9, 0, 5)      NaN  \n",
       "13   (2, 2, 0, 0, 3, 0, 0, 0)  product  \n",
       "14   (2, 2, 0, 0, 3, 0, 0, 0)  product  \n",
       "15  (13, 3, 1, 3, 3, 4, 0, 4)      NaN  \n",
       "16   (2, 2, 2, 0, 2, 9, 0, 0)      NaN  \n",
       "17   (2, 2, 2, 0, 2, 9, 0, 0)      NaN  \n",
       "18   (2, 2, 2, 0, 2, 9, 0, 0)      NaN  \n",
       "19   (5, 3, 0, 0, 0, 1, 0, 4)      NaN  "
      ]
     },
     "execution_count": 24,
     "metadata": {},
     "output_type": "execute_result"
    }
   ],
   "source": [
    "test.head(20)"
   ]
  },
  {
   "cell_type": "code",
   "execution_count": 21,
   "metadata": {},
   "outputs": [
    {
     "data": {
      "text/plain": [
       "(10571, 5)"
      ]
     },
     "execution_count": 21,
     "metadata": {},
     "output_type": "execute_result"
    }
   ],
   "source": [
    "test.shape"
   ]
  },
  {
   "cell_type": "code",
   "execution_count": 22,
   "metadata": {},
   "outputs": [
    {
     "name": "stdout",
     "output_type": "stream",
     "text": [
      "There are 1609 row with no label\n",
      "There are 417 row with product label\n",
      "There are 8545 row with list label\n"
     ]
    }
   ],
   "source": [
    "print(fmt_string.format(len(test[test['label'].isnull()]),'no'))\n",
    "print(fmt_string.format(len(test[test['label']=='product']), 'product'))\n",
    "print(fmt_string.format(len(df[df['label']=='list']), 'list'))"
   ]
  }
 ],
 "metadata": {
  "kernelspec": {
   "display_name": "Python 3",
   "language": "python",
   "name": "python3"
  },
  "language_info": {
   "codemirror_mode": {
    "name": "ipython",
    "version": 3
   },
   "file_extension": ".py",
   "mimetype": "text/x-python",
   "name": "python",
   "nbconvert_exporter": "python",
   "pygments_lexer": "ipython3",
   "version": "3.7.3"
  }
 },
 "nbformat": 4,
 "nbformat_minor": 2
}
